{
 "cells": [
  {
   "cell_type": "markdown",
   "metadata": {
    "colab_type": "text",
    "id": "iIdr3vpuJHI7"
   },
   "source": [
    "## Data Analysis using Python  Tutorial\n"
   ]
  },
  {
   "cell_type": "code",
   "execution_count": 1,
   "metadata": {
    "colab": {
     "base_uri": "https://localhost:8080/",
     "height": 34
    },
    "colab_type": "code",
    "executionInfo": {
     "elapsed": 2220,
     "status": "ok",
     "timestamp": 1598287420987,
     "user": {
      "displayName": "Kṛṣṇa solutions",
      "photoUrl": "",
      "userId": "14911029245911425813"
     },
     "user_tz": -330
    },
    "id": "udYbFYaHWgzs",
    "outputId": "99ab0245-5f6d-4609-854c-81ca5c751d33"
   },
   "outputs": [
    {
     "data": {
      "text/plain": [
       "[1, 6, 9, 3, 5]"
      ]
     },
     "execution_count": 1,
     "metadata": {},
     "output_type": "execute_result"
    }
   ],
   "source": [
    "a = [5,3,9,6,1]\n",
    "a[::-1]"
   ]
  },
  {
   "cell_type": "code",
   "execution_count": 14,
   "metadata": {
    "colab": {},
    "colab_type": "code",
    "executionInfo": {
     "elapsed": 1041,
     "status": "ok",
     "timestamp": 1598670703603,
     "user": {
      "displayName": "Kṛṣṇa solutions",
      "photoUrl": "",
      "userId": "14911029245911425813"
     },
     "user_tz": -330
    },
    "id": "lhq38LHvBoIu"
   },
   "outputs": [],
   "source": [
    "import numpy as np\n",
    "arr = np.random.random(size=(10,3))"
   ]
  },
  {
   "cell_type": "code",
   "execution_count": 15,
   "metadata": {
    "colab": {
     "base_uri": "https://localhost:8080/",
     "height": 185
    },
    "colab_type": "code",
    "executionInfo": {
     "elapsed": 678,
     "status": "ok",
     "timestamp": 1598670707879,
     "user": {
      "displayName": "Kṛṣṇa solutions",
      "photoUrl": "",
      "userId": "14911029245911425813"
     },
     "user_tz": -330
    },
    "id": "YL5qkyiGBoQm",
    "outputId": "13cbb757-7e40-40a0-9184-572ee172f2d8"
   },
   "outputs": [
    {
     "data": {
      "text/plain": [
       "array([[0.97603576, 0.40922479, 0.08732647],\n",
       "       [0.65866139, 0.10776251, 0.04694555],\n",
       "       [0.13415553, 0.69997787, 0.6662398 ],\n",
       "       [0.2579104 , 0.38271485, 0.73562905],\n",
       "       [0.40054361, 0.1392642 , 0.83845587],\n",
       "       [0.21849824, 0.9986705 , 0.78758302],\n",
       "       [0.56058566, 0.3310663 , 0.82800632],\n",
       "       [0.65288927, 0.38430428, 0.38729348],\n",
       "       [0.67375008, 0.39079781, 0.72210726],\n",
       "       [0.44688456, 0.48512925, 0.57088644]])"
      ]
     },
     "execution_count": 15,
     "metadata": {
      "tags": []
     },
     "output_type": "execute_result"
    }
   ],
   "source": [
    "arr\n",
    "\n",
    "#sum of all the elements by row wise in an array"
   ]
  },
  {
   "cell_type": "code",
   "execution_count": 16,
   "metadata": {
    "colab": {
     "base_uri": "https://localhost:8080/",
     "height": 34
    },
    "colab_type": "code",
    "executionInfo": {
     "elapsed": 1037,
     "status": "ok",
     "timestamp": 1598670841449,
     "user": {
      "displayName": "Kṛṣṇa solutions",
      "photoUrl": "",
      "userId": "14911029245911425813"
     },
     "user_tz": -330
    },
    "id": "lQW5aDBlBoXD",
    "outputId": "f5995689-97c8-4491-ff72-a63da79949d8"
   },
   "outputs": [
    {
     "data": {
      "text/plain": [
       "array([4.9799145 , 4.32891235, 5.67047326])"
      ]
     },
     "execution_count": 16,
     "metadata": {
      "tags": []
     },
     "output_type": "execute_result"
    }
   ],
   "source": [
    "arr.sum(axis=0)"
   ]
  },
  {
   "cell_type": "code",
   "execution_count": 17,
   "metadata": {
    "colab": {
     "base_uri": "https://localhost:8080/",
     "height": 50
    },
    "colab_type": "code",
    "executionInfo": {
     "elapsed": 1039,
     "status": "ok",
     "timestamp": 1598670858505,
     "user": {
      "displayName": "Kṛṣṇa solutions",
      "photoUrl": "",
      "userId": "14911029245911425813"
     },
     "user_tz": -330
    },
    "id": "aHaFtiyIBocr",
    "outputId": "f2e7b66a-538c-425d-b439-97194576c2b6"
   },
   "outputs": [
    {
     "data": {
      "text/plain": [
       "array([1.47258702, 0.81336945, 1.50037321, 1.37625429, 1.37826368,\n",
       "       2.00475176, 1.71965828, 1.42448704, 1.78665514, 1.50290025])"
      ]
     },
     "execution_count": 17,
     "metadata": {
      "tags": []
     },
     "output_type": "execute_result"
    }
   ],
   "source": [
    "arr.sum(axis=1)"
   ]
  },
  {
   "cell_type": "code",
   "execution_count": null,
   "metadata": {
    "colab": {},
    "colab_type": "code",
    "id": "7RJdbsdwBog7"
   },
   "outputs": [],
   "source": [
    "#axis = 0: columns, down/vertical\n",
    "#axis = 1: row wise and horizontal"
   ]
  },
  {
   "cell_type": "code",
   "execution_count": null,
   "metadata": {
    "colab": {},
    "colab_type": "code",
    "id": "58IEtbFiBobD"
   },
   "outputs": [],
   "source": [
    "#how to install pandas?\n",
    "!pip install pandas #!convert a cell to cmd"
   ]
  },
  {
   "cell_type": "code",
   "execution_count": 19,
   "metadata": {
    "colab": {},
    "colab_type": "code",
    "executionInfo": {
     "elapsed": 1076,
     "status": "ok",
     "timestamp": 1598671538772,
     "user": {
      "displayName": "Kṛṣṇa solutions",
      "photoUrl": "",
      "userId": "14911029245911425813"
     },
     "user_tz": -330
    },
    "id": "N7RldVjdBoOz"
   },
   "outputs": [],
   "source": [
    "import pandas as pd\n"
   ]
  },
  {
   "cell_type": "code",
   "execution_count": 23,
   "metadata": {
    "colab": {
     "base_uri": "https://localhost:8080/",
     "height": 185
    },
    "colab_type": "code",
    "executionInfo": {
     "elapsed": 1045,
     "status": "ok",
     "timestamp": 1598671872354,
     "user": {
      "displayName": "Kṛṣṇa solutions",
      "photoUrl": "",
      "userId": "14911029245911425813"
     },
     "user_tz": -330
    },
    "id": "FHgYn8gJREPv",
    "outputId": "50785159-de71-45a8-9d65-0df7a870fa5e"
   },
   "outputs": [
    {
     "data": {
      "text/plain": [
       "array([[0.40922479],\n",
       "       [0.10776251],\n",
       "       [0.69997787],\n",
       "       [0.38271485],\n",
       "       [0.1392642 ],\n",
       "       [0.9986705 ],\n",
       "       [0.3310663 ],\n",
       "       [0.38430428],\n",
       "       [0.39079781],\n",
       "       [0.48512925]])"
      ]
     },
     "execution_count": 23,
     "metadata": {
      "tags": []
     },
     "output_type": "execute_result"
    }
   ],
   "source": [
    "arr[:,1:2]"
   ]
  },
  {
   "cell_type": "code",
   "execution_count": 21,
   "metadata": {
    "colab": {
     "base_uri": "https://localhost:8080/",
     "height": 343
    },
    "colab_type": "code",
    "executionInfo": {
     "elapsed": 999,
     "status": "ok",
     "timestamp": 1598671803207,
     "user": {
      "displayName": "Kṛṣṇa solutions",
      "photoUrl": "",
      "userId": "14911029245911425813"
     },
     "user_tz": -330
    },
    "id": "DVpp3ofPBoL5",
    "outputId": "ccbe366b-be1d-4e11-c53a-61b0cd2a12ee"
   },
   "outputs": [
    {
     "data": {
      "text/html": [
       "<div>\n",
       "<style scoped>\n",
       "    .dataframe tbody tr th:only-of-type {\n",
       "        vertical-align: middle;\n",
       "    }\n",
       "\n",
       "    .dataframe tbody tr th {\n",
       "        vertical-align: top;\n",
       "    }\n",
       "\n",
       "    .dataframe thead th {\n",
       "        text-align: right;\n",
       "    }\n",
       "</style>\n",
       "<table border=\"1\" class=\"dataframe\">\n",
       "  <thead>\n",
       "    <tr style=\"text-align: right;\">\n",
       "      <th></th>\n",
       "      <th>Monday</th>\n",
       "      <th>Tuesday</th>\n",
       "      <th>Wednesday</th>\n",
       "    </tr>\n",
       "  </thead>\n",
       "  <tbody>\n",
       "    <tr>\n",
       "      <th>0</th>\n",
       "      <td>0.976036</td>\n",
       "      <td>0.409225</td>\n",
       "      <td>0.087326</td>\n",
       "    </tr>\n",
       "    <tr>\n",
       "      <th>1</th>\n",
       "      <td>0.658661</td>\n",
       "      <td>0.107763</td>\n",
       "      <td>0.046946</td>\n",
       "    </tr>\n",
       "    <tr>\n",
       "      <th>2</th>\n",
       "      <td>0.134156</td>\n",
       "      <td>0.699978</td>\n",
       "      <td>0.666240</td>\n",
       "    </tr>\n",
       "    <tr>\n",
       "      <th>3</th>\n",
       "      <td>0.257910</td>\n",
       "      <td>0.382715</td>\n",
       "      <td>0.735629</td>\n",
       "    </tr>\n",
       "    <tr>\n",
       "      <th>4</th>\n",
       "      <td>0.400544</td>\n",
       "      <td>0.139264</td>\n",
       "      <td>0.838456</td>\n",
       "    </tr>\n",
       "    <tr>\n",
       "      <th>5</th>\n",
       "      <td>0.218498</td>\n",
       "      <td>0.998671</td>\n",
       "      <td>0.787583</td>\n",
       "    </tr>\n",
       "    <tr>\n",
       "      <th>6</th>\n",
       "      <td>0.560586</td>\n",
       "      <td>0.331066</td>\n",
       "      <td>0.828006</td>\n",
       "    </tr>\n",
       "    <tr>\n",
       "      <th>7</th>\n",
       "      <td>0.652889</td>\n",
       "      <td>0.384304</td>\n",
       "      <td>0.387293</td>\n",
       "    </tr>\n",
       "    <tr>\n",
       "      <th>8</th>\n",
       "      <td>0.673750</td>\n",
       "      <td>0.390798</td>\n",
       "      <td>0.722107</td>\n",
       "    </tr>\n",
       "    <tr>\n",
       "      <th>9</th>\n",
       "      <td>0.446885</td>\n",
       "      <td>0.485129</td>\n",
       "      <td>0.570886</td>\n",
       "    </tr>\n",
       "  </tbody>\n",
       "</table>\n",
       "</div>"
      ],
      "text/plain": [
       "     Monday   Tuesday  Wednesday\n",
       "0  0.976036  0.409225   0.087326\n",
       "1  0.658661  0.107763   0.046946\n",
       "2  0.134156  0.699978   0.666240\n",
       "3  0.257910  0.382715   0.735629\n",
       "4  0.400544  0.139264   0.838456\n",
       "5  0.218498  0.998671   0.787583\n",
       "6  0.560586  0.331066   0.828006\n",
       "7  0.652889  0.384304   0.387293\n",
       "8  0.673750  0.390798   0.722107\n",
       "9  0.446885  0.485129   0.570886"
      ]
     },
     "execution_count": 21,
     "metadata": {
      "tags": []
     },
     "output_type": "execute_result"
    }
   ],
   "source": [
    "df_arr = pd.DataFrame(arr, columns=['Monday', 'Tuesday', 'Wednesday'])\n",
    "df_arr "
   ]
  },
  {
   "cell_type": "code",
   "execution_count": 37,
   "metadata": {
    "colab": {
     "base_uri": "https://localhost:8080/",
     "height": 34
    },
    "colab_type": "code",
    "executionInfo": {
     "elapsed": 1090,
     "status": "ok",
     "timestamp": 1598672246503,
     "user": {
      "displayName": "Kṛṣṇa solutions",
      "photoUrl": "",
      "userId": "14911029245911425813"
     },
     "user_tz": -330
    },
    "id": "ERkfRTs0RSHf",
    "outputId": "50952143-7673-4c29-d9f8-d7c163b56bce"
   },
   "outputs": [
    {
     "data": {
      "text/plain": [
       "4.3289123472084885"
      ]
     },
     "execution_count": 37,
     "metadata": {
      "tags": []
     },
     "output_type": "execute_result"
    }
   ],
   "source": [
    "tuesday_values = df_arr['Tuesday'].values\n",
    "tuesday_values.sum(axis=0)"
   ]
  },
  {
   "cell_type": "code",
   "execution_count": 3,
   "metadata": {
    "colab": {},
    "colab_type": "code",
    "executionInfo": {
     "elapsed": 985,
     "status": "ok",
     "timestamp": 1598667488630,
     "user": {
      "displayName": "Kṛṣṇa solutions",
      "photoUrl": "",
      "userId": "14911029245911425813"
     },
     "user_tz": -330
    },
    "id": "XDVEuujh_ZIi"
   },
   "outputs": [],
   "source": [
    "import numpy as np\n",
    "arr = np.random.random(size=(10,3))"
   ]
  },
  {
   "cell_type": "code",
   "execution_count": 10,
   "metadata": {
    "colab": {
     "base_uri": "https://localhost:8080/",
     "height": 34
    },
    "colab_type": "code",
    "executionInfo": {
     "elapsed": 793,
     "status": "ok",
     "timestamp": 1598667652619,
     "user": {
      "displayName": "Kṛṣṇa solutions",
      "photoUrl": "",
      "userId": "14911029245911425813"
     },
     "user_tz": -330
    },
    "id": "pExfjAdrA8RY",
    "outputId": "36bc760f-2256-4293-b762-c18c4a71c2cc"
   },
   "outputs": [
    {
     "data": {
      "text/plain": [
       "array([5.14524187, 4.63909879, 4.85194298])"
      ]
     },
     "execution_count": 10,
     "metadata": {
      "tags": []
     },
     "output_type": "execute_result"
    }
   ],
   "source": [
    "arr.sum(axis=0)"
   ]
  },
  {
   "cell_type": "code",
   "execution_count": 11,
   "metadata": {
    "colab": {
     "base_uri": "https://localhost:8080/",
     "height": 50
    },
    "colab_type": "code",
    "executionInfo": {
     "elapsed": 1017,
     "status": "ok",
     "timestamp": 1598667674087,
     "user": {
      "displayName": "Kṛṣṇa solutions",
      "photoUrl": "",
      "userId": "14911029245911425813"
     },
     "user_tz": -330
    },
    "id": "VXNSOkQLBLvC",
    "outputId": "9afe2bfd-5a64-4b12-9534-6ca3e7f7954f"
   },
   "outputs": [
    {
     "data": {
      "text/plain": [
       "array([0.54605246, 1.53197062, 1.02597757, 1.08113465, 1.93368219,\n",
       "       1.8011318 , 1.88731077, 1.78408701, 1.26512247, 1.77981409])"
      ]
     },
     "execution_count": 11,
     "metadata": {
      "tags": []
     },
     "output_type": "execute_result"
    }
   ],
   "source": [
    "arr.sum(axis=1)"
   ]
  },
  {
   "cell_type": "code",
   "execution_count": 8,
   "metadata": {
    "colab": {},
    "colab_type": "code",
    "executionInfo": {
     "elapsed": 999,
     "status": "ok",
     "timestamp": 1598667587914,
     "user": {
      "displayName": "Kṛṣṇa solutions",
      "photoUrl": "",
      "userId": "14911029245911425813"
     },
     "user_tz": -330
    },
    "id": "JwSG4m22Agp5"
   },
   "outputs": [],
   "source": [
    "\n",
    "df = pd.DataFrame(arr, columns=['A','B','C'])"
   ]
  },
  {
   "cell_type": "code",
   "execution_count": 9,
   "metadata": {
    "colab": {
     "base_uri": "https://localhost:8080/",
     "height": 343
    },
    "colab_type": "code",
    "executionInfo": {
     "elapsed": 992,
     "status": "ok",
     "timestamp": 1598667591249,
     "user": {
      "displayName": "Kṛṣṇa solutions",
      "photoUrl": "",
      "userId": "14911029245911425813"
     },
     "user_tz": -330
    },
    "id": "5Vr7-_U2As6G",
    "outputId": "16b57d03-1a76-4eed-fe85-a058890932bd"
   },
   "outputs": [
    {
     "data": {
      "text/html": [
       "<div>\n",
       "<style scoped>\n",
       "    .dataframe tbody tr th:only-of-type {\n",
       "        vertical-align: middle;\n",
       "    }\n",
       "\n",
       "    .dataframe tbody tr th {\n",
       "        vertical-align: top;\n",
       "    }\n",
       "\n",
       "    .dataframe thead th {\n",
       "        text-align: right;\n",
       "    }\n",
       "</style>\n",
       "<table border=\"1\" class=\"dataframe\">\n",
       "  <thead>\n",
       "    <tr style=\"text-align: right;\">\n",
       "      <th></th>\n",
       "      <th>A</th>\n",
       "      <th>B</th>\n",
       "      <th>C</th>\n",
       "    </tr>\n",
       "  </thead>\n",
       "  <tbody>\n",
       "    <tr>\n",
       "      <th>0</th>\n",
       "      <td>0.314811</td>\n",
       "      <td>0.036505</td>\n",
       "      <td>0.194737</td>\n",
       "    </tr>\n",
       "    <tr>\n",
       "      <th>1</th>\n",
       "      <td>0.315971</td>\n",
       "      <td>0.999452</td>\n",
       "      <td>0.216547</td>\n",
       "    </tr>\n",
       "    <tr>\n",
       "      <th>2</th>\n",
       "      <td>0.523854</td>\n",
       "      <td>0.140284</td>\n",
       "      <td>0.361839</td>\n",
       "    </tr>\n",
       "    <tr>\n",
       "      <th>3</th>\n",
       "      <td>0.460315</td>\n",
       "      <td>0.492169</td>\n",
       "      <td>0.128651</td>\n",
       "    </tr>\n",
       "    <tr>\n",
       "      <th>4</th>\n",
       "      <td>0.917689</td>\n",
       "      <td>0.963358</td>\n",
       "      <td>0.052634</td>\n",
       "    </tr>\n",
       "    <tr>\n",
       "      <th>5</th>\n",
       "      <td>0.896111</td>\n",
       "      <td>0.268972</td>\n",
       "      <td>0.636049</td>\n",
       "    </tr>\n",
       "    <tr>\n",
       "      <th>6</th>\n",
       "      <td>0.092714</td>\n",
       "      <td>0.847530</td>\n",
       "      <td>0.947067</td>\n",
       "    </tr>\n",
       "    <tr>\n",
       "      <th>7</th>\n",
       "      <td>0.606878</td>\n",
       "      <td>0.337042</td>\n",
       "      <td>0.840167</td>\n",
       "    </tr>\n",
       "    <tr>\n",
       "      <th>8</th>\n",
       "      <td>0.460808</td>\n",
       "      <td>0.247502</td>\n",
       "      <td>0.556813</td>\n",
       "    </tr>\n",
       "    <tr>\n",
       "      <th>9</th>\n",
       "      <td>0.556091</td>\n",
       "      <td>0.306285</td>\n",
       "      <td>0.917439</td>\n",
       "    </tr>\n",
       "  </tbody>\n",
       "</table>\n",
       "</div>"
      ],
      "text/plain": [
       "          A         B         C\n",
       "0  0.314811  0.036505  0.194737\n",
       "1  0.315971  0.999452  0.216547\n",
       "2  0.523854  0.140284  0.361839\n",
       "3  0.460315  0.492169  0.128651\n",
       "4  0.917689  0.963358  0.052634\n",
       "5  0.896111  0.268972  0.636049\n",
       "6  0.092714  0.847530  0.947067\n",
       "7  0.606878  0.337042  0.840167\n",
       "8  0.460808  0.247502  0.556813\n",
       "9  0.556091  0.306285  0.917439"
      ]
     },
     "execution_count": 9,
     "metadata": {
      "tags": []
     },
     "output_type": "execute_result"
    }
   ],
   "source": [
    "df"
   ]
  },
  {
   "cell_type": "code",
   "execution_count": 12,
   "metadata": {
    "colab": {
     "base_uri": "https://localhost:8080/",
     "height": 84
    },
    "colab_type": "code",
    "executionInfo": {
     "elapsed": 1023,
     "status": "ok",
     "timestamp": 1598667756146,
     "user": {
      "displayName": "Kṛṣṇa solutions",
      "photoUrl": "",
      "userId": "14911029245911425813"
     },
     "user_tz": -330
    },
    "id": "qFAONRjhBXSA",
    "outputId": "bedc3e39-0e3c-4425-c883-bbddf99c443c"
   },
   "outputs": [
    {
     "data": {
      "text/plain": [
       "A    5.145242\n",
       "B    4.639099\n",
       "C    4.851943\n",
       "dtype: float64"
      ]
     },
     "execution_count": 12,
     "metadata": {
      "tags": []
     },
     "output_type": "execute_result"
    }
   ],
   "source": [
    "df.sum(axis=0)"
   ]
  },
  {
   "cell_type": "code",
   "execution_count": 13,
   "metadata": {
    "colab": {
     "base_uri": "https://localhost:8080/",
     "height": 202
    },
    "colab_type": "code",
    "executionInfo": {
     "elapsed": 1024,
     "status": "ok",
     "timestamp": 1598667768980,
     "user": {
      "displayName": "Kṛṣṇa solutions",
      "photoUrl": "",
      "userId": "14911029245911425813"
     },
     "user_tz": -330
    },
    "id": "QeNlnQ1ZBiTF",
    "outputId": "4de9c1b8-61d3-45f8-cd8f-d9882b955b52"
   },
   "outputs": [
    {
     "data": {
      "text/plain": [
       "0    0.546052\n",
       "1    1.531971\n",
       "2    1.025978\n",
       "3    1.081135\n",
       "4    1.933682\n",
       "5    1.801132\n",
       "6    1.887311\n",
       "7    1.784087\n",
       "8    1.265122\n",
       "9    1.779814\n",
       "dtype: float64"
      ]
     },
     "execution_count": 13,
     "metadata": {
      "tags": []
     },
     "output_type": "execute_result"
    }
   ],
   "source": [
    "df.sum(axis=1)"
   ]
  },
  {
   "cell_type": "markdown",
   "metadata": {
    "colab_type": "text",
    "collapsed": true,
    "id": "SzSbQJ1CJHJB"
   },
   "source": [
    "### Pandas\n",
    "\n",
    "Pandas is a Python library. It contains high-level data structures and manipulation tools designed to make data analysis fast and easy in Python. Pandas is built on top of NumPy and makes it easy to use in NumPy-centric applications.\n"
   ]
  },
  {
   "cell_type": "code",
   "execution_count": null,
   "metadata": {
    "colab": {},
    "colab_type": "code",
    "id": "AMWxA-V0XKQu"
   },
   "outputs": [],
   "source": []
  },
  {
   "cell_type": "code",
   "execution_count": 2,
   "metadata": {
    "colab": {
     "base_uri": "https://localhost:8080/",
     "height": 121
    },
    "colab_type": "code",
    "executionInfo": {
     "elapsed": 31222,
     "status": "ok",
     "timestamp": 1598673844435,
     "user": {
      "displayName": "Kṛṣṇa solutions",
      "photoUrl": "",
      "userId": "14911029245911425813"
     },
     "user_tz": -330
    },
    "id": "qSJSvy0vYnA6",
    "outputId": "ee303081-170a-43a4-bbcf-7c49d79274dc"
   },
   "outputs": [
    {
     "ename": "ModuleNotFoundError",
     "evalue": "No module named 'google'",
     "output_type": "error",
     "traceback": [
      "\u001b[1;31m---------------------------------------------------------------------------\u001b[0m",
      "\u001b[1;31mModuleNotFoundError\u001b[0m                       Traceback (most recent call last)",
      "\u001b[1;32m<ipython-input-2-d5df0069828e>\u001b[0m in \u001b[0;36m<module>\u001b[1;34m\u001b[0m\n\u001b[1;32m----> 1\u001b[1;33m \u001b[1;32mfrom\u001b[0m \u001b[0mgoogle\u001b[0m\u001b[1;33m.\u001b[0m\u001b[0mcolab\u001b[0m \u001b[1;32mimport\u001b[0m \u001b[0mdrive\u001b[0m\u001b[1;33m\u001b[0m\u001b[1;33m\u001b[0m\u001b[0m\n\u001b[0m\u001b[0;32m      2\u001b[0m \u001b[0mdrive\u001b[0m\u001b[1;33m.\u001b[0m\u001b[0mmount\u001b[0m\u001b[1;33m(\u001b[0m\u001b[1;34m'/content/drive'\u001b[0m\u001b[1;33m)\u001b[0m\u001b[1;33m\u001b[0m\u001b[1;33m\u001b[0m\u001b[0m\n",
      "\u001b[1;31mModuleNotFoundError\u001b[0m: No module named 'google'"
     ]
    }
   ],
   "source": [
    "from google.colab import drive\n",
    "drive.mount('/content/drive')"
   ]
  },
  {
   "cell_type": "code",
   "execution_count": 42,
   "metadata": {
    "colab": {},
    "colab_type": "code",
    "executionInfo": {
     "elapsed": 1000,
     "status": "ok",
     "timestamp": 1598673945142,
     "user": {
      "displayName": "Kṛṣṇa solutions",
      "photoUrl": "",
      "userId": "14911029245911425813"
     },
     "user_tz": -330
    },
    "id": "YEZlC72cY8DI"
   },
   "outputs": [],
   "source": [
    "import os\n",
    "os.listdir()\n",
    "os.chdir('sample_data')"
   ]
  },
  {
   "cell_type": "code",
   "execution_count": 44,
   "metadata": {
    "colab": {
     "base_uri": "https://localhost:8080/",
     "height": 35
    },
    "colab_type": "code",
    "executionInfo": {
     "elapsed": 1219,
     "status": "ok",
     "timestamp": 1598673995804,
     "user": {
      "displayName": "Kṛṣṇa solutions",
      "photoUrl": "",
      "userId": "14911029245911425813"
     },
     "user_tz": -330
    },
    "id": "TiM5lbDrZI-a",
    "outputId": "08af4cbd-c3c9-41cc-c16a-c0bdcd20d8dd"
   },
   "outputs": [
    {
     "data": {
      "application/vnd.google.colaboratory.intrinsic+json": {
       "type": "string"
      },
      "text/plain": [
       "'/content/sample_data'"
      ]
     },
     "execution_count": 44,
     "metadata": {
      "tags": []
     },
     "output_type": "execute_result"
    }
   ],
   "source": [
    "os.getcwd()\n",
    "\n"
   ]
  },
  {
   "cell_type": "code",
   "execution_count": 48,
   "metadata": {
    "colab": {
     "base_uri": "https://localhost:8080/",
     "height": 215
    },
    "colab_type": "code",
    "executionInfo": {
     "elapsed": 1013,
     "status": "ok",
     "timestamp": 1598674173015,
     "user": {
      "displayName": "Kṛṣṇa solutions",
      "photoUrl": "",
      "userId": "14911029245911425813"
     },
     "user_tz": -330
    },
    "id": "eIvnK1ZoJHJE",
    "outputId": "c125de89-9175-4a5b-ed34-fa7020324972"
   },
   "outputs": [
    {
     "data": {
      "text/html": [
       "<div>\n",
       "<style scoped>\n",
       "    .dataframe tbody tr th:only-of-type {\n",
       "        vertical-align: middle;\n",
       "    }\n",
       "\n",
       "    .dataframe tbody tr th {\n",
       "        vertical-align: top;\n",
       "    }\n",
       "\n",
       "    .dataframe thead th {\n",
       "        text-align: right;\n",
       "    }\n",
       "</style>\n",
       "<table border=\"1\" class=\"dataframe\">\n",
       "  <thead>\n",
       "    <tr style=\"text-align: right;\">\n",
       "      <th></th>\n",
       "      <th>longitude</th>\n",
       "      <th>latitude</th>\n",
       "      <th>housing_median_age</th>\n",
       "      <th>total_rooms</th>\n",
       "      <th>total_bedrooms</th>\n",
       "      <th>population</th>\n",
       "      <th>households</th>\n",
       "      <th>median_income</th>\n",
       "      <th>median_house_value</th>\n",
       "    </tr>\n",
       "  </thead>\n",
       "  <tbody>\n",
       "    <tr>\n",
       "      <th>0</th>\n",
       "      <td>-114.31</td>\n",
       "      <td>34.19</td>\n",
       "      <td>15.0</td>\n",
       "      <td>5612.0</td>\n",
       "      <td>1283.0</td>\n",
       "      <td>1015.0</td>\n",
       "      <td>472.0</td>\n",
       "      <td>1.4936</td>\n",
       "      <td>66900.0</td>\n",
       "    </tr>\n",
       "    <tr>\n",
       "      <th>1</th>\n",
       "      <td>-114.47</td>\n",
       "      <td>34.40</td>\n",
       "      <td>19.0</td>\n",
       "      <td>7650.0</td>\n",
       "      <td>1901.0</td>\n",
       "      <td>1129.0</td>\n",
       "      <td>463.0</td>\n",
       "      <td>1.8200</td>\n",
       "      <td>80100.0</td>\n",
       "    </tr>\n",
       "    <tr>\n",
       "      <th>2</th>\n",
       "      <td>-114.56</td>\n",
       "      <td>33.69</td>\n",
       "      <td>17.0</td>\n",
       "      <td>720.0</td>\n",
       "      <td>174.0</td>\n",
       "      <td>333.0</td>\n",
       "      <td>117.0</td>\n",
       "      <td>1.6509</td>\n",
       "      <td>85700.0</td>\n",
       "    </tr>\n",
       "    <tr>\n",
       "      <th>3</th>\n",
       "      <td>-114.57</td>\n",
       "      <td>33.64</td>\n",
       "      <td>14.0</td>\n",
       "      <td>1501.0</td>\n",
       "      <td>337.0</td>\n",
       "      <td>515.0</td>\n",
       "      <td>226.0</td>\n",
       "      <td>3.1917</td>\n",
       "      <td>73400.0</td>\n",
       "    </tr>\n",
       "    <tr>\n",
       "      <th>4</th>\n",
       "      <td>-114.57</td>\n",
       "      <td>33.57</td>\n",
       "      <td>20.0</td>\n",
       "      <td>1454.0</td>\n",
       "      <td>326.0</td>\n",
       "      <td>624.0</td>\n",
       "      <td>262.0</td>\n",
       "      <td>1.9250</td>\n",
       "      <td>65500.0</td>\n",
       "    </tr>\n",
       "  </tbody>\n",
       "</table>\n",
       "</div>"
      ],
      "text/plain": [
       "   longitude  latitude  ...  median_income  median_house_value\n",
       "0    -114.31     34.19  ...         1.4936             66900.0\n",
       "1    -114.47     34.40  ...         1.8200             80100.0\n",
       "2    -114.56     33.69  ...         1.6509             85700.0\n",
       "3    -114.57     33.64  ...         3.1917             73400.0\n",
       "4    -114.57     33.57  ...         1.9250             65500.0\n",
       "\n",
       "[5 rows x 9 columns]"
      ]
     },
     "execution_count": 48,
     "metadata": {
      "tags": []
     },
     "output_type": "execute_result"
    }
   ],
   "source": [
    "import pandas as pd #importing library\n",
    "import numpy as np\n",
    "import matplotlib.pyplot as plt #plotting or chart\n",
    "%matplotlib inline \n",
    "matches = pd.read_csv('/content/sample_data/california_housing_train.csv', encoding='ISO-8859-1') #Uni-decode error\n",
    "matches.head()\n",
    "\n",
    "#"
   ]
  },
  {
   "cell_type": "code",
   "execution_count": null,
   "metadata": {
    "colab": {},
    "colab_type": "code",
    "id": "Z5cshNGnJHJi",
    "outputId": "15339346-1362-4556-8038-3050af43dd35"
   },
   "outputs": [
    {
     "data": {
      "text/plain": [
       "<matplotlib.axes._subplots.AxesSubplot at 0x108d44b70>"
      ]
     },
     "execution_count": 64,
     "metadata": {
      "tags": []
     },
     "output_type": "execute_result"
    },
    {
     "data": {
      "image/png": "[encoded data removed]",
      "text/plain": [
       "<matplotlib.figure.Figure at 0x108d65f98>"
      ]
     },
     "metadata": {
      "tags": []
     },
     "output_type": "display_data"
    }
   ],
   "source": [
    "pd.merge(matches[['team1', 'team2']].stack().reset_index().groupby(0).count().reset_index().rename(columns = {0: 'Team', 'level_0': 'Matches Played'}),\n",
    "         matches['winner'].value_counts().reset_index().rename(columns={'index': 'Team', 'winner': 'Matches Won'}), \n",
    "         on = 'Team').plot(x = 'Team', y = ['Matches Played', 'Matches Won'],kind = 'bar')\n"
   ]
  },
  {
   "cell_type": "markdown",
   "metadata": {
    "colab_type": "text",
    "id": "Coet0zHFJHJ0"
   },
   "source": [
    "### Pandas Data Structures: Series (1d) and Dataframe(multi-d)\n",
    "### Series\n",
    "#### One-dimensional ndarray with axis labels\n",
    "\n",
    "https://pandas.pydata.org/pandas-docs/stable/generated/pandas.Series.html"
   ]
  },
  {
   "cell_type": "code",
   "execution_count": 4,
   "metadata": {},
   "outputs": [],
   "source": [
    "import pandas as pd"
   ]
  },
  {
   "cell_type": "code",
   "execution_count": 5,
   "metadata": {
    "colab": {
     "base_uri": "https://localhost:8080/",
     "height": 118
    },
    "colab_type": "code",
    "executionInfo": {
     "elapsed": 1140,
     "status": "ok",
     "timestamp": 1598674533228,
     "user": {
      "displayName": "Kṛṣṇa solutions",
      "photoUrl": "",
      "userId": "14911029245911425813"
     },
     "user_tz": -330
    },
    "id": "QY1wALEvJHJ2",
    "outputId": "c52c161a-105a-46cf-cb3e-4c60e287f211"
   },
   "outputs": [
    {
     "data": {
      "text/plain": [
       "0    4\n",
       "1    2\n",
       "2    7\n",
       "3    9\n",
       "4    5\n",
       "dtype: int64"
      ]
     },
     "execution_count": 5,
     "metadata": {},
     "output_type": "execute_result"
    }
   ],
   "source": [
    "l = [4,2,7,9,5]\n",
    "s = pd.Series(l)\n",
    "s"
   ]
  },
  {
   "cell_type": "code",
   "execution_count": 6,
   "metadata": {
    "colab": {},
    "colab_type": "code",
    "executionInfo": {
     "elapsed": 999,
     "status": "ok",
     "timestamp": 1598674631890,
     "user": {
      "displayName": "Kṛṣṇa solutions",
      "photoUrl": "",
      "userId": "14911029245911425813"
     },
     "user_tz": -330
    },
    "id": "vPWn1Fvcbq-g"
   },
   "outputs": [],
   "source": [
    "student_names = ['a', 'b', 'c', 'd', 'e']"
   ]
  },
  {
   "cell_type": "code",
   "execution_count": 9,
   "metadata": {
    "colab": {
     "base_uri": "https://localhost:8080/",
     "height": 118
    },
    "colab_type": "code",
    "executionInfo": {
     "elapsed": 1936,
     "status": "ok",
     "timestamp": 1598674646515,
     "user": {
      "displayName": "Kṛṣṇa solutions",
      "photoUrl": "",
      "userId": "14911029245911425813"
     },
     "user_tz": -330
    },
    "id": "w_wTkFlAJHKG",
    "outputId": "2b137dfd-2033-4585-cdfa-4288c7793fba"
   },
   "outputs": [
    {
     "data": {
      "text/plain": [
       "e    4\n",
       "f    2\n",
       "g    7\n",
       "h    9\n",
       "i    5\n",
       "dtype: int64"
      ]
     },
     "execution_count": 9,
     "metadata": {},
     "output_type": "execute_result"
    }
   ],
   "source": [
    "s = pd.Series(l, index=student_names)\n",
    "s1=pd.Series(l,['e','f','g','h','i'])\n",
    "s1"
   ]
  },
  {
   "cell_type": "markdown",
   "metadata": {
    "colab_type": "text",
    "id": "nGT3n2nkJHKO"
   },
   "source": [
    "### Series from a Dictionary"
   ]
  },
  {
   "cell_type": "code",
   "execution_count": 10,
   "metadata": {
    "colab": {
     "base_uri": "https://localhost:8080/",
     "height": 151
    },
    "colab_type": "code",
    "executionInfo": {
     "elapsed": 1149,
     "status": "ok",
     "timestamp": 1598674944461,
     "user": {
      "displayName": "Kṛṣṇa solutions",
      "photoUrl": "",
      "userId": "14911029245911425813"
     },
     "user_tz": -330
    },
    "id": "jke7PLc8JHKP",
    "outputId": "ab3b3a7f-f623-458c-8b1a-2bc50d01d360"
   },
   "outputs": [
    {
     "data": {
      "text/plain": [
       "Empl_No           E_12345\n",
       "Name                  ABC\n",
       "DOB            31/12/1995\n",
       "Join_date      01/01/2015\n",
       "Title        Data Analyst\n",
       "Salary             100000\n",
       "Manager               XYZ\n",
       "dtype: object"
      ]
     },
     "execution_count": 10,
     "metadata": {},
     "output_type": "execute_result"
    }
   ],
   "source": [
    "employee = {'Empl_No': 'E_12345','Name': 'ABC', 'DOB': '31/12/1995','Join_date': '01/01/2015', \n",
    "            'Title': 'Data Analyst', 'Salary': '100000', 'Manager': 'XYZ'}\n",
    "s = pd.Series(employee)\n",
    "a=pd.Series(employee)\n",
    "a"
   ]
  },
  {
   "cell_type": "code",
   "execution_count": 13,
   "metadata": {
    "colab": {
     "base_uri": "https://localhost:8080/",
     "height": 151
    },
    "colab_type": "code",
    "executionInfo": {
     "elapsed": 1112,
     "status": "ok",
     "timestamp": 1598674960012,
     "user": {
      "displayName": "Kṛṣṇa solutions",
      "photoUrl": "",
      "userId": "14911029245911425813"
     },
     "user_tz": -330
    },
    "id": "rX8X8KhqJHKY",
    "outputId": "e9b034d6-6666-481c-d763-2fe6ee06680f"
   },
   "outputs": [
    {
     "data": {
      "text/plain": [
       "match_id_1     SRH\n",
       "match_id_2     KKR\n",
       "match_id_3    KXIP\n",
       "match_id_4     RCB\n",
       "match_id_5      MI\n",
       "match_id_6     KKR\n",
       "match_id_7     RCB\n",
       "dtype: object"
      ]
     },
     "execution_count": 13,
     "metadata": {},
     "output_type": "execute_result"
    }
   ],
   "source": [
    "ipl = {'match_id_1': 'SRH', 'match_id_2': 'KKR', 'match_id_3': 'KXIP', 'match_id_4': 'RCB', \n",
    "       'match_id_5': 'MI', 'match_id_6': 'KKR', 'match_id_7': 'RCB'}\n",
    "ipl = pd.Series(ipl)\n",
    "ip2=pd.Series(ipl)\n",
    "ip2"
   ]
  },
  {
   "cell_type": "markdown",
   "metadata": {
    "colab_type": "text",
    "id": "79Px1W3aJHKe"
   },
   "source": [
    "### Dataframe\n",
    "\n",
    "#### A DataFrame represents a tabular data structure containing an ordered collection of columns, each of which can be a different value type (numeric, string, boolean, etc.). The DataFrame has both a row and column index.\n",
    "\n",
    "http://pandas.pydata.org/pandas-docs/stable/generated/pandas.DataFrame.html"
   ]
  },
  {
   "cell_type": "code",
   "execution_count": 15,
   "metadata": {},
   "outputs": [],
   "source": [
    "import numpy as np"
   ]
  },
  {
   "cell_type": "code",
   "execution_count": null,
   "metadata": {},
   "outputs": [],
   "source": []
  },
  {
   "cell_type": "code",
   "execution_count": 18,
   "metadata": {
    "colab": {},
    "colab_type": "code",
    "id": "nJCsph1gJHKi",
    "outputId": "1b04e8f6-c3c0-4d71-d5b2-8b51e18d1805"
   },
   "outputs": [
    {
     "data": {
      "text/html": [
       "<div>\n",
       "<style scoped>\n",
       "    .dataframe tbody tr th:only-of-type {\n",
       "        vertical-align: middle;\n",
       "    }\n",
       "\n",
       "    .dataframe tbody tr th {\n",
       "        vertical-align: top;\n",
       "    }\n",
       "\n",
       "    .dataframe thead th {\n",
       "        text-align: right;\n",
       "    }\n",
       "</style>\n",
       "<table border=\"1\" class=\"dataframe\">\n",
       "  <thead>\n",
       "    <tr style=\"text-align: right;\">\n",
       "      <th></th>\n",
       "      <th>0</th>\n",
       "      <th>1</th>\n",
       "      <th>2</th>\n",
       "      <th>3</th>\n",
       "      <th>4</th>\n",
       "    </tr>\n",
       "  </thead>\n",
       "  <tbody>\n",
       "    <tr>\n",
       "      <th>0</th>\n",
       "      <td>0.093116</td>\n",
       "      <td>0.962401</td>\n",
       "      <td>0.636091</td>\n",
       "      <td>-1.584384</td>\n",
       "      <td>0.260782</td>\n",
       "    </tr>\n",
       "    <tr>\n",
       "      <th>1</th>\n",
       "      <td>1.273901</td>\n",
       "      <td>0.910477</td>\n",
       "      <td>3.048962</td>\n",
       "      <td>0.792687</td>\n",
       "      <td>-0.032653</td>\n",
       "    </tr>\n",
       "    <tr>\n",
       "      <th>2</th>\n",
       "      <td>0.467387</td>\n",
       "      <td>0.066490</td>\n",
       "      <td>0.335790</td>\n",
       "      <td>0.430525</td>\n",
       "      <td>0.097719</td>\n",
       "    </tr>\n",
       "    <tr>\n",
       "      <th>3</th>\n",
       "      <td>-0.328134</td>\n",
       "      <td>0.441954</td>\n",
       "      <td>0.181526</td>\n",
       "      <td>0.958115</td>\n",
       "      <td>-0.409658</td>\n",
       "    </tr>\n",
       "    <tr>\n",
       "      <th>4</th>\n",
       "      <td>0.442137</td>\n",
       "      <td>-0.201796</td>\n",
       "      <td>0.258780</td>\n",
       "      <td>-1.625974</td>\n",
       "      <td>-0.914055</td>\n",
       "    </tr>\n",
       "    <tr>\n",
       "      <th>5</th>\n",
       "      <td>-1.466919</td>\n",
       "      <td>-0.236184</td>\n",
       "      <td>-3.109839</td>\n",
       "      <td>2.276439</td>\n",
       "      <td>0.368047</td>\n",
       "    </tr>\n",
       "    <tr>\n",
       "      <th>6</th>\n",
       "      <td>-0.689846</td>\n",
       "      <td>-2.549320</td>\n",
       "      <td>-1.015706</td>\n",
       "      <td>-0.981246</td>\n",
       "      <td>1.053245</td>\n",
       "    </tr>\n",
       "    <tr>\n",
       "      <th>7</th>\n",
       "      <td>1.215989</td>\n",
       "      <td>-0.507426</td>\n",
       "      <td>-0.943447</td>\n",
       "      <td>-0.252176</td>\n",
       "      <td>-0.423790</td>\n",
       "    </tr>\n",
       "    <tr>\n",
       "      <th>8</th>\n",
       "      <td>-0.364320</td>\n",
       "      <td>-0.448109</td>\n",
       "      <td>-0.344576</td>\n",
       "      <td>0.515363</td>\n",
       "      <td>-0.726411</td>\n",
       "    </tr>\n",
       "    <tr>\n",
       "      <th>9</th>\n",
       "      <td>-0.468773</td>\n",
       "      <td>-1.171229</td>\n",
       "      <td>-0.152651</td>\n",
       "      <td>0.871645</td>\n",
       "      <td>0.160231</td>\n",
       "    </tr>\n",
       "  </tbody>\n",
       "</table>\n",
       "</div>"
      ],
      "text/plain": [
       "          0         1         2         3         4\n",
       "0  0.093116  0.962401  0.636091 -1.584384  0.260782\n",
       "1  1.273901  0.910477  3.048962  0.792687 -0.032653\n",
       "2  0.467387  0.066490  0.335790  0.430525  0.097719\n",
       "3 -0.328134  0.441954  0.181526  0.958115 -0.409658\n",
       "4  0.442137 -0.201796  0.258780 -1.625974 -0.914055\n",
       "5 -1.466919 -0.236184 -3.109839  2.276439  0.368047\n",
       "6 -0.689846 -2.549320 -1.015706 -0.981246  1.053245\n",
       "7  1.215989 -0.507426 -0.943447 -0.252176 -0.423790\n",
       "8 -0.364320 -0.448109 -0.344576  0.515363 -0.726411\n",
       "9 -0.468773 -1.171229 -0.152651  0.871645  0.160231"
      ]
     },
     "execution_count": 18,
     "metadata": {},
     "output_type": "execute_result"
    }
   ],
   "source": [
    "df = pd.DataFrame(np.random.randn(10, 5))\n",
    "df #top 5 rows"
   ]
  },
  {
   "cell_type": "code",
   "execution_count": 19,
   "metadata": {
    "colab": {},
    "colab_type": "code",
    "id": "ccEyBfTiJHK5",
    "outputId": "0a88b6f2-bf8a-4bff-fe30-2d2417646e99"
   },
   "outputs": [
    {
     "data": {
      "text/html": [
       "<div>\n",
       "<style scoped>\n",
       "    .dataframe tbody tr th:only-of-type {\n",
       "        vertical-align: middle;\n",
       "    }\n",
       "\n",
       "    .dataframe tbody tr th {\n",
       "        vertical-align: top;\n",
       "    }\n",
       "\n",
       "    .dataframe thead th {\n",
       "        text-align: right;\n",
       "    }\n",
       "</style>\n",
       "<table border=\"1\" class=\"dataframe\">\n",
       "  <thead>\n",
       "    <tr style=\"text-align: right;\">\n",
       "      <th></th>\n",
       "      <th>a</th>\n",
       "      <th>b</th>\n",
       "      <th>c</th>\n",
       "      <th>d</th>\n",
       "      <th>e</th>\n",
       "    </tr>\n",
       "  </thead>\n",
       "  <tbody>\n",
       "    <tr>\n",
       "      <th>0</th>\n",
       "      <td>0.639082</td>\n",
       "      <td>0.802886</td>\n",
       "      <td>2.381813</td>\n",
       "      <td>-0.153262</td>\n",
       "      <td>0.964691</td>\n",
       "    </tr>\n",
       "    <tr>\n",
       "      <th>1</th>\n",
       "      <td>1.669028</td>\n",
       "      <td>0.625969</td>\n",
       "      <td>-0.744456</td>\n",
       "      <td>2.207385</td>\n",
       "      <td>-0.570919</td>\n",
       "    </tr>\n",
       "    <tr>\n",
       "      <th>2</th>\n",
       "      <td>0.792312</td>\n",
       "      <td>-0.781995</td>\n",
       "      <td>-0.665205</td>\n",
       "      <td>1.396725</td>\n",
       "      <td>-0.118698</td>\n",
       "    </tr>\n",
       "    <tr>\n",
       "      <th>3</th>\n",
       "      <td>0.026112</td>\n",
       "      <td>-0.143941</td>\n",
       "      <td>-1.100836</td>\n",
       "      <td>1.330434</td>\n",
       "      <td>-0.829580</td>\n",
       "    </tr>\n",
       "    <tr>\n",
       "      <th>4</th>\n",
       "      <td>0.588045</td>\n",
       "      <td>-0.509839</td>\n",
       "      <td>-0.251090</td>\n",
       "      <td>1.125443</td>\n",
       "      <td>-0.885756</td>\n",
       "    </tr>\n",
       "  </tbody>\n",
       "</table>\n",
       "</div>"
      ],
      "text/plain": [
       "          a         b         c         d         e\n",
       "0  0.639082  0.802886  2.381813 -0.153262  0.964691\n",
       "1  1.669028  0.625969 -0.744456  2.207385 -0.570919\n",
       "2  0.792312 -0.781995 -0.665205  1.396725 -0.118698\n",
       "3  0.026112 -0.143941 -1.100836  1.330434 -0.829580\n",
       "4  0.588045 -0.509839 -0.251090  1.125443 -0.885756"
      ]
     },
     "execution_count": 19,
     "metadata": {},
     "output_type": "execute_result"
    }
   ],
   "source": [
    "#Specify column names and index\n",
    "df = pd.DataFrame(np.random.randn(10, 5), columns=['a', 'b', 'c', 'd', 'e'])\n",
    "df.head()"
   ]
  },
  {
   "cell_type": "code",
   "execution_count": 21,
   "metadata": {
    "colab": {
     "base_uri": "https://localhost:8080/",
     "height": 343
    },
    "colab_type": "code",
    "executionInfo": {
     "elapsed": 1500,
     "status": "ok",
     "timestamp": 1598675501702,
     "user": {
      "displayName": "Kṛṣṇa solutions",
      "photoUrl": "",
      "userId": "14911029245911425813"
     },
     "user_tz": -330
    },
    "id": "o7s0dzP4JHK-",
    "outputId": "78e1c923-6fd1-43b2-91e2-42d183954f38"
   },
   "outputs": [
    {
     "data": {
      "text/html": [
       "<div>\n",
       "<style scoped>\n",
       "    .dataframe tbody tr th:only-of-type {\n",
       "        vertical-align: middle;\n",
       "    }\n",
       "\n",
       "    .dataframe tbody tr th {\n",
       "        vertical-align: top;\n",
       "    }\n",
       "\n",
       "    .dataframe thead th {\n",
       "        text-align: right;\n",
       "    }\n",
       "</style>\n",
       "<table border=\"1\" class=\"dataframe\">\n",
       "  <thead>\n",
       "    <tr style=\"text-align: right;\">\n",
       "      <th></th>\n",
       "      <th>a</th>\n",
       "      <th>b</th>\n",
       "      <th>c</th>\n",
       "      <th>d</th>\n",
       "      <th>e</th>\n",
       "    </tr>\n",
       "  </thead>\n",
       "  <tbody>\n",
       "    <tr>\n",
       "      <th>Q</th>\n",
       "      <td>0.536631</td>\n",
       "      <td>0.512674</td>\n",
       "      <td>0.924288</td>\n",
       "      <td>0.609029</td>\n",
       "      <td>0.404537</td>\n",
       "    </tr>\n",
       "    <tr>\n",
       "      <th>R</th>\n",
       "      <td>0.959676</td>\n",
       "      <td>0.651349</td>\n",
       "      <td>-0.797130</td>\n",
       "      <td>0.110649</td>\n",
       "      <td>0.559505</td>\n",
       "    </tr>\n",
       "    <tr>\n",
       "      <th>S</th>\n",
       "      <td>0.509285</td>\n",
       "      <td>0.441296</td>\n",
       "      <td>0.282480</td>\n",
       "      <td>0.168100</td>\n",
       "      <td>1.159902</td>\n",
       "    </tr>\n",
       "    <tr>\n",
       "      <th>T</th>\n",
       "      <td>-1.253514</td>\n",
       "      <td>-0.338789</td>\n",
       "      <td>-0.486924</td>\n",
       "      <td>0.271723</td>\n",
       "      <td>1.964972</td>\n",
       "    </tr>\n",
       "    <tr>\n",
       "      <th>U</th>\n",
       "      <td>-0.785287</td>\n",
       "      <td>0.232852</td>\n",
       "      <td>0.576208</td>\n",
       "      <td>0.459917</td>\n",
       "      <td>2.812133</td>\n",
       "    </tr>\n",
       "    <tr>\n",
       "      <th>V</th>\n",
       "      <td>1.208187</td>\n",
       "      <td>-0.435501</td>\n",
       "      <td>0.402506</td>\n",
       "      <td>-0.767513</td>\n",
       "      <td>0.079173</td>\n",
       "    </tr>\n",
       "    <tr>\n",
       "      <th>W</th>\n",
       "      <td>-0.815070</td>\n",
       "      <td>-0.659114</td>\n",
       "      <td>0.600239</td>\n",
       "      <td>0.223272</td>\n",
       "      <td>-0.720129</td>\n",
       "    </tr>\n",
       "    <tr>\n",
       "      <th>X</th>\n",
       "      <td>1.303607</td>\n",
       "      <td>0.200312</td>\n",
       "      <td>0.406433</td>\n",
       "      <td>-0.470145</td>\n",
       "      <td>0.287363</td>\n",
       "    </tr>\n",
       "    <tr>\n",
       "      <th>Y</th>\n",
       "      <td>-0.839689</td>\n",
       "      <td>-1.382544</td>\n",
       "      <td>-0.829782</td>\n",
       "      <td>0.093516</td>\n",
       "      <td>2.153650</td>\n",
       "    </tr>\n",
       "    <tr>\n",
       "      <th>Z</th>\n",
       "      <td>-0.601627</td>\n",
       "      <td>-1.145879</td>\n",
       "      <td>-0.046564</td>\n",
       "      <td>0.620325</td>\n",
       "      <td>0.238668</td>\n",
       "    </tr>\n",
       "  </tbody>\n",
       "</table>\n",
       "</div>"
      ],
      "text/plain": [
       "          a         b         c         d         e\n",
       "Q  0.536631  0.512674  0.924288  0.609029  0.404537\n",
       "R  0.959676  0.651349 -0.797130  0.110649  0.559505\n",
       "S  0.509285  0.441296  0.282480  0.168100  1.159902\n",
       "T -1.253514 -0.338789 -0.486924  0.271723  1.964972\n",
       "U -0.785287  0.232852  0.576208  0.459917  2.812133\n",
       "V  1.208187 -0.435501  0.402506 -0.767513  0.079173\n",
       "W -0.815070 -0.659114  0.600239  0.223272 -0.720129\n",
       "X  1.303607  0.200312  0.406433 -0.470145  0.287363\n",
       "Y -0.839689 -1.382544 -0.829782  0.093516  2.153650\n",
       "Z -0.601627 -1.145879 -0.046564  0.620325  0.238668"
      ]
     },
     "execution_count": 21,
     "metadata": {},
     "output_type": "execute_result"
    }
   ],
   "source": [
    "df = pd.DataFrame(np.random.randn(10, 5), columns=['a', 'b', 'c', 'd', 'e'], index = list('QRSTUVWXYZ'))\n",
    "df"
   ]
  },
  {
   "cell_type": "markdown",
   "metadata": {
    "colab_type": "text",
    "id": "OX6xMfIUJHLG"
   },
   "source": [
    "### Create dataframe from a dictionary"
   ]
  },
  {
   "cell_type": "code",
   "execution_count": 24,
   "metadata": {},
   "outputs": [
    {
     "data": {
      "text/html": [
       "<div>\n",
       "<style scoped>\n",
       "    .dataframe tbody tr th:only-of-type {\n",
       "        vertical-align: middle;\n",
       "    }\n",
       "\n",
       "    .dataframe tbody tr th {\n",
       "        vertical-align: top;\n",
       "    }\n",
       "\n",
       "    .dataframe thead th {\n",
       "        text-align: right;\n",
       "    }\n",
       "</style>\n",
       "<table border=\"1\" class=\"dataframe\">\n",
       "  <thead>\n",
       "    <tr style=\"text-align: right;\">\n",
       "      <th></th>\n",
       "      <th>2016</th>\n",
       "      <th>2017</th>\n",
       "    </tr>\n",
       "  </thead>\n",
       "  <tbody>\n",
       "    <tr>\n",
       "      <th>a</th>\n",
       "      <td>SRH</td>\n",
       "      <td>NaN</td>\n",
       "    </tr>\n",
       "    <tr>\n",
       "      <th>b</th>\n",
       "      <td>KKR</td>\n",
       "      <td>efg</td>\n",
       "    </tr>\n",
       "    <tr>\n",
       "      <th>e</th>\n",
       "      <td>NaN</td>\n",
       "      <td>abc</td>\n",
       "    </tr>\n",
       "  </tbody>\n",
       "</table>\n",
       "</div>"
      ],
      "text/plain": [
       "  2016 2017\n",
       "a  SRH  NaN\n",
       "b  KKR  efg\n",
       "e  NaN  abc"
      ]
     },
     "execution_count": 24,
     "metadata": {},
     "output_type": "execute_result"
    }
   ],
   "source": [
    "ipl_season1={2016:{'a':'SRH','b':'KKR'},\n",
    "           2017:{'e':'abc','b':'efg'}}\n",
    "ipl_season1=pd.DataFrame(ipl_season1)\n",
    "ipl_season1"
   ]
  },
  {
   "cell_type": "code",
   "execution_count": 23,
   "metadata": {
    "colab": {
     "base_uri": "https://localhost:8080/",
     "height": 254
    },
    "colab_type": "code",
    "executionInfo": {
     "elapsed": 1057,
     "status": "ok",
     "timestamp": 1598675335259,
     "user": {
      "displayName": "Kṛṣṇa solutions",
      "photoUrl": "",
      "userId": "14911029245911425813"
     },
     "user_tz": -330
    },
    "id": "BIwHxZL6JHLH",
    "outputId": "42904c7c-945b-4dcf-ba5b-2899c607028a"
   },
   "outputs": [
    {
     "data": {
      "text/html": [
       "<div>\n",
       "<style scoped>\n",
       "    .dataframe tbody tr th:only-of-type {\n",
       "        vertical-align: middle;\n",
       "    }\n",
       "\n",
       "    .dataframe tbody tr th {\n",
       "        vertical-align: top;\n",
       "    }\n",
       "\n",
       "    .dataframe thead th {\n",
       "        text-align: right;\n",
       "    }\n",
       "</style>\n",
       "<table border=\"1\" class=\"dataframe\">\n",
       "  <thead>\n",
       "    <tr style=\"text-align: right;\">\n",
       "      <th></th>\n",
       "      <th>2016</th>\n",
       "      <th>2017</th>\n",
       "    </tr>\n",
       "  </thead>\n",
       "  <tbody>\n",
       "    <tr>\n",
       "      <th>match_id_1</th>\n",
       "      <td>SRH</td>\n",
       "      <td>KKR</td>\n",
       "    </tr>\n",
       "    <tr>\n",
       "      <th>match_id_2</th>\n",
       "      <td>KKR</td>\n",
       "      <td>MI</td>\n",
       "    </tr>\n",
       "    <tr>\n",
       "      <th>match_id_3</th>\n",
       "      <td>KXIP</td>\n",
       "      <td>KXIP</td>\n",
       "    </tr>\n",
       "    <tr>\n",
       "      <th>match_id_4</th>\n",
       "      <td>RCB</td>\n",
       "      <td>DD</td>\n",
       "    </tr>\n",
       "    <tr>\n",
       "      <th>match_id_5</th>\n",
       "      <td>MI</td>\n",
       "      <td>RCB</td>\n",
       "    </tr>\n",
       "    <tr>\n",
       "      <th>match_id_6</th>\n",
       "      <td>KKR</td>\n",
       "      <td>NaN</td>\n",
       "    </tr>\n",
       "    <tr>\n",
       "      <th>match_id_7</th>\n",
       "      <td>RCB</td>\n",
       "      <td>NaN</td>\n",
       "    </tr>\n",
       "  </tbody>\n",
       "</table>\n",
       "</div>"
      ],
      "text/plain": [
       "            2016  2017\n",
       "match_id_1   SRH   KKR\n",
       "match_id_2   KKR    MI\n",
       "match_id_3  KXIP  KXIP\n",
       "match_id_4   RCB    DD\n",
       "match_id_5    MI   RCB\n",
       "match_id_6   KKR   NaN\n",
       "match_id_7   RCB   NaN"
      ]
     },
     "execution_count": 23,
     "metadata": {},
     "output_type": "execute_result"
    }
   ],
   "source": [
    "ipl_season = {2016 : {'match_id_1': 'SRH', 'match_id_2': 'KKR', 'match_id_3': 'KXIP', 'match_id_4': 'RCB', \n",
    "                      'match_id_5': 'MI', 'match_id_6': 'KKR', 'match_id_7': 'RCB'},\n",
    "              2017 : {'match_id_1': 'KKR', 'match_id_2': 'MI', 'match_id_3': 'KXIP', 'match_id_4': 'DD', \n",
    "                      'match_id_5': 'RCB'}} #key and value pair, keys are always unique #nested dictionary\n",
    "ipl_season = pd.DataFrame(ipl_season)\n",
    "ipl_season"
   ]
  },
  {
   "cell_type": "markdown",
   "metadata": {
    "colab_type": "text",
    "id": "JxnRIlByJHLN"
   },
   "source": [
    "### Viewing the data\n",
    "\n",
    "https://pandas.pydata.org/pandas-docs/stable/generated/pandas.DataFrame.head.html"
   ]
  },
  {
   "cell_type": "code",
   "execution_count": 29,
   "metadata": {
    "colab": {
     "base_uri": "https://localhost:8080/",
     "height": 136
    },
    "colab_type": "code",
    "executionInfo": {
     "elapsed": 1274,
     "status": "ok",
     "timestamp": 1598675510652,
     "user": {
      "displayName": "Kṛṣṇa solutions",
      "photoUrl": "",
      "userId": "14911029245911425813"
     },
     "user_tz": -330
    },
    "id": "I5n1aTXQJHLO",
    "outputId": "f25efcf0-f515-45fb-8649-e85de4026908"
   },
   "outputs": [
    {
     "name": "stdout",
     "output_type": "stream",
     "text": [
      "          a         b         c         d         e\n",
      "Q  0.536631  0.512674  0.924288  0.609029  0.404537\n",
      "R  0.959676  0.651349 -0.797130  0.110649  0.559505\n",
      "S  0.509285  0.441296  0.282480  0.168100  1.159902\n",
      "T -1.253514 -0.338789 -0.486924  0.271723  1.964972\n",
      "U -0.785287  0.232852  0.576208  0.459917  2.812133\n",
      "V  1.208187 -0.435501  0.402506 -0.767513  0.079173\n",
      "W -0.815070 -0.659114  0.600239  0.223272 -0.720129\n",
      "X  1.303607  0.200312  0.406433 -0.470145  0.287363\n",
      "Y -0.839689 -1.382544 -0.829782  0.093516  2.153650\n",
      "Z -0.601627 -1.145879 -0.046564  0.620325  0.238668\n"
     ]
    },
    {
     "data": {
      "text/html": [
       "<div>\n",
       "<style scoped>\n",
       "    .dataframe tbody tr th:only-of-type {\n",
       "        vertical-align: middle;\n",
       "    }\n",
       "\n",
       "    .dataframe tbody tr th {\n",
       "        vertical-align: top;\n",
       "    }\n",
       "\n",
       "    .dataframe thead th {\n",
       "        text-align: right;\n",
       "    }\n",
       "</style>\n",
       "<table border=\"1\" class=\"dataframe\">\n",
       "  <thead>\n",
       "    <tr style=\"text-align: right;\">\n",
       "      <th></th>\n",
       "      <th>a</th>\n",
       "      <th>b</th>\n",
       "      <th>c</th>\n",
       "      <th>d</th>\n",
       "      <th>e</th>\n",
       "    </tr>\n",
       "  </thead>\n",
       "  <tbody>\n",
       "    <tr>\n",
       "      <th>X</th>\n",
       "      <td>1.303607</td>\n",
       "      <td>0.200312</td>\n",
       "      <td>0.406433</td>\n",
       "      <td>-0.470145</td>\n",
       "      <td>0.287363</td>\n",
       "    </tr>\n",
       "    <tr>\n",
       "      <th>Y</th>\n",
       "      <td>-0.839689</td>\n",
       "      <td>-1.382544</td>\n",
       "      <td>-0.829782</td>\n",
       "      <td>0.093516</td>\n",
       "      <td>2.153650</td>\n",
       "    </tr>\n",
       "    <tr>\n",
       "      <th>Z</th>\n",
       "      <td>-0.601627</td>\n",
       "      <td>-1.145879</td>\n",
       "      <td>-0.046564</td>\n",
       "      <td>0.620325</td>\n",
       "      <td>0.238668</td>\n",
       "    </tr>\n",
       "  </tbody>\n",
       "</table>\n",
       "</div>"
      ],
      "text/plain": [
       "          a         b         c         d         e\n",
       "X  1.303607  0.200312  0.406433 -0.470145  0.287363\n",
       "Y -0.839689 -1.382544 -0.829782  0.093516  2.153650\n",
       "Z -0.601627 -1.145879 -0.046564  0.620325  0.238668"
      ]
     },
     "execution_count": 29,
     "metadata": {},
     "output_type": "execute_result"
    }
   ],
   "source": [
    "print(df.head(10)) #top rows, default value is 5\n",
    "df.tail(3) #bottom rows #n=5"
   ]
  },
  {
   "cell_type": "code",
   "execution_count": 33,
   "metadata": {
    "colab": {
     "base_uri": "https://localhost:8080/",
     "height": 34
    },
    "colab_type": "code",
    "executionInfo": {
     "elapsed": 967,
     "status": "ok",
     "timestamp": 1598675512630,
     "user": {
      "displayName": "Kṛṣṇa solutions",
      "photoUrl": "",
      "userId": "14911029245911425813"
     },
     "user_tz": -330
    },
    "id": "uOqbJISKJHLU",
    "outputId": "7ed1a8f8-bfe4-4076-fc9b-72ee6bbad7c5"
   },
   "outputs": [
    {
     "data": {
      "text/plain": [
       "Index(['Q', 'R', 'S', 'T', 'U', 'V', 'W', 'X', 'Y', 'Z'], dtype='object')"
      ]
     },
     "execution_count": 33,
     "metadata": {},
     "output_type": "execute_result"
    }
   ],
   "source": [
    "df.index"
   ]
  },
  {
   "cell_type": "code",
   "execution_count": 34,
   "metadata": {
    "colab": {
     "base_uri": "https://localhost:8080/",
     "height": 34
    },
    "colab_type": "code",
    "executionInfo": {
     "elapsed": 1004,
     "status": "ok",
     "timestamp": 1598675520941,
     "user": {
      "displayName": "Kṛṣṇa solutions",
      "photoUrl": "",
      "userId": "14911029245911425813"
     },
     "user_tz": -330
    },
    "id": "0w9MpcZAJHLY",
    "outputId": "5248b7a6-0292-47d8-f7fd-c53c1793c335"
   },
   "outputs": [
    {
     "data": {
      "text/plain": [
       "Index(['a', 'b', 'c', 'd', 'e'], dtype='object')"
      ]
     },
     "execution_count": 34,
     "metadata": {},
     "output_type": "execute_result"
    }
   ],
   "source": [
    "df.columns"
   ]
  },
  {
   "cell_type": "code",
   "execution_count": 35,
   "metadata": {
    "colab": {
     "base_uri": "https://localhost:8080/",
     "height": 34
    },
    "colab_type": "code",
    "executionInfo": {
     "elapsed": 962,
     "status": "ok",
     "timestamp": 1598675525677,
     "user": {
      "displayName": "Kṛṣṇa solutions",
      "photoUrl": "",
      "userId": "14911029245911425813"
     },
     "user_tz": -330
    },
    "id": "TewS3HFeJHLd",
    "outputId": "54453655-aaf8-45f8-f6a3-f023a944dec8"
   },
   "outputs": [
    {
     "data": {
      "text/plain": [
       "(10, 5)"
      ]
     },
     "execution_count": 35,
     "metadata": {},
     "output_type": "execute_result"
    }
   ],
   "source": [
    "df.shape"
   ]
  },
  {
   "cell_type": "code",
   "execution_count": null,
   "metadata": {},
   "outputs": [],
   "source": []
  },
  {
   "cell_type": "markdown",
   "metadata": {
    "colab_type": "text",
    "id": "muudWjYaJHLh"
   },
   "source": [
    "#### Rename columns"
   ]
  },
  {
   "cell_type": "code",
   "execution_count": 69,
   "metadata": {
    "colab": {
     "base_uri": "https://localhost:8080/",
     "height": 195
    },
    "colab_type": "code",
    "executionInfo": {
     "elapsed": 998,
     "status": "ok",
     "timestamp": 1598675553304,
     "user": {
      "displayName": "Kṛṣṇa solutions",
      "photoUrl": "",
      "userId": "14911029245911425813"
     },
     "user_tz": -330
    },
    "id": "3wZ76m7PJHLi",
    "outputId": "adc04b30-9f6a-4210-873c-3eed8ca9b3d5"
   },
   "outputs": [
    {
     "data": {
      "text/html": [
       "<div>\n",
       "<style scoped>\n",
       "    .dataframe tbody tr th:only-of-type {\n",
       "        vertical-align: middle;\n",
       "    }\n",
       "\n",
       "    .dataframe tbody tr th {\n",
       "        vertical-align: top;\n",
       "    }\n",
       "\n",
       "    .dataframe thead th {\n",
       "        text-align: right;\n",
       "    }\n",
       "</style>\n",
       "<table border=\"1\" class=\"dataframe\">\n",
       "  <thead>\n",
       "    <tr style=\"text-align: right;\">\n",
       "      <th></th>\n",
       "      <th>mac</th>\n",
       "      <th>blueberry</th>\n",
       "      <th>carrot</th>\n",
       "      <th>drumsticks</th>\n",
       "      <th>pineapple</th>\n",
       "    </tr>\n",
       "  </thead>\n",
       "  <tbody>\n",
       "    <tr>\n",
       "      <th>Q</th>\n",
       "      <td>1.683142</td>\n",
       "      <td>3.115853</td>\n",
       "      <td>1.603774</td>\n",
       "      <td>-0.663354</td>\n",
       "      <td>0.699774</td>\n",
       "    </tr>\n",
       "    <tr>\n",
       "      <th>R</th>\n",
       "      <td>0.055646</td>\n",
       "      <td>-0.164952</td>\n",
       "      <td>-1.064399</td>\n",
       "      <td>-0.237354</td>\n",
       "      <td>1.105835</td>\n",
       "    </tr>\n",
       "    <tr>\n",
       "      <th>S</th>\n",
       "      <td>-0.260566</td>\n",
       "      <td>0.041856</td>\n",
       "      <td>-0.372492</td>\n",
       "      <td>0.005391</td>\n",
       "      <td>-1.304709</td>\n",
       "    </tr>\n",
       "    <tr>\n",
       "      <th>T</th>\n",
       "      <td>-0.866910</td>\n",
       "      <td>-2.665149</td>\n",
       "      <td>0.920143</td>\n",
       "      <td>-0.581580</td>\n",
       "      <td>-0.631933</td>\n",
       "    </tr>\n",
       "    <tr>\n",
       "      <th>U</th>\n",
       "      <td>-2.333456</td>\n",
       "      <td>-0.817266</td>\n",
       "      <td>0.559472</td>\n",
       "      <td>-1.016841</td>\n",
       "      <td>-0.586964</td>\n",
       "    </tr>\n",
       "  </tbody>\n",
       "</table>\n",
       "</div>"
      ],
      "text/plain": [
       "        mac  blueberry    carrot  drumsticks  pineapple\n",
       "Q  1.683142   3.115853  1.603774   -0.663354   0.699774\n",
       "R  0.055646  -0.164952 -1.064399   -0.237354   1.105835\n",
       "S -0.260566   0.041856 -0.372492    0.005391  -1.304709\n",
       "T -0.866910  -2.665149  0.920143   -0.581580  -0.631933\n",
       "U -2.333456  -0.817266  0.559472   -1.016841  -0.586964"
      ]
     },
     "execution_count": 69,
     "metadata": {
      "tags": []
     },
     "output_type": "execute_result"
    }
   ],
   "source": [
    "df.columns = ['mac', 'blueberry', 'carrot', 'drumsticks', 'pineapple']\n",
    "df.head()"
   ]
  },
  {
   "cell_type": "code",
   "execution_count": 36,
   "metadata": {
    "colab": {
     "base_uri": "https://localhost:8080/",
     "height": 34
    },
    "colab_type": "code",
    "executionInfo": {
     "elapsed": 1076,
     "status": "ok",
     "timestamp": 1598675572095,
     "user": {
      "displayName": "Kṛṣṇa solutions",
      "photoUrl": "",
      "userId": "14911029245911425813"
     },
     "user_tz": -330
    },
    "id": "dfBKN3m3JHLo",
    "outputId": "131abef4-389d-4807-b721-a7123ba4ec81"
   },
   "outputs": [
    {
     "data": {
      "text/plain": [
       "Index(['A', 'B', 'C', 'D', 'E', 'F', 'G', 'H', 'I', 'J'], dtype='object')"
      ]
     },
     "execution_count": 36,
     "metadata": {},
     "output_type": "execute_result"
    }
   ],
   "source": [
    "df.index = list('ABCDEFGHIJ')\n",
    "df.index"
   ]
  },
  {
   "cell_type": "code",
   "execution_count": 37,
   "metadata": {
    "colab": {
     "base_uri": "https://localhost:8080/",
     "height": 284
    },
    "colab_type": "code",
    "executionInfo": {
     "elapsed": 980,
     "status": "ok",
     "timestamp": 1598675593388,
     "user": {
      "displayName": "Kṛṣṇa solutions",
      "photoUrl": "",
      "userId": "14911029245911425813"
     },
     "user_tz": -330
    },
    "id": "K8a7_FWSJHLs",
    "outputId": "fe6143f5-45fa-41ee-c5ac-f43494880051"
   },
   "outputs": [
    {
     "data": {
      "text/html": [
       "<div>\n",
       "<style scoped>\n",
       "    .dataframe tbody tr th:only-of-type {\n",
       "        vertical-align: middle;\n",
       "    }\n",
       "\n",
       "    .dataframe tbody tr th {\n",
       "        vertical-align: top;\n",
       "    }\n",
       "\n",
       "    .dataframe thead th {\n",
       "        text-align: right;\n",
       "    }\n",
       "</style>\n",
       "<table border=\"1\" class=\"dataframe\">\n",
       "  <thead>\n",
       "    <tr style=\"text-align: right;\">\n",
       "      <th></th>\n",
       "      <th>a</th>\n",
       "      <th>b</th>\n",
       "      <th>c</th>\n",
       "      <th>d</th>\n",
       "      <th>e</th>\n",
       "    </tr>\n",
       "  </thead>\n",
       "  <tbody>\n",
       "    <tr>\n",
       "      <th>count</th>\n",
       "      <td>10.000000</td>\n",
       "      <td>10.000000</td>\n",
       "      <td>10.000000</td>\n",
       "      <td>10.000000</td>\n",
       "      <td>10.000000</td>\n",
       "    </tr>\n",
       "    <tr>\n",
       "      <th>mean</th>\n",
       "      <td>0.022220</td>\n",
       "      <td>-0.192334</td>\n",
       "      <td>0.103175</td>\n",
       "      <td>0.131887</td>\n",
       "      <td>0.893977</td>\n",
       "    </tr>\n",
       "    <tr>\n",
       "      <th>std</th>\n",
       "      <td>0.974214</td>\n",
       "      <td>0.712553</td>\n",
       "      <td>0.615573</td>\n",
       "      <td>0.444265</td>\n",
       "      <td>1.100602</td>\n",
       "    </tr>\n",
       "    <tr>\n",
       "      <th>min</th>\n",
       "      <td>-1.253514</td>\n",
       "      <td>-1.382544</td>\n",
       "      <td>-0.829782</td>\n",
       "      <td>-0.767513</td>\n",
       "      <td>-0.720129</td>\n",
       "    </tr>\n",
       "    <tr>\n",
       "      <th>25%</th>\n",
       "      <td>-0.807624</td>\n",
       "      <td>-0.603211</td>\n",
       "      <td>-0.376834</td>\n",
       "      <td>0.097799</td>\n",
       "      <td>0.250842</td>\n",
       "    </tr>\n",
       "    <tr>\n",
       "      <th>50%</th>\n",
       "      <td>-0.046171</td>\n",
       "      <td>-0.069238</td>\n",
       "      <td>0.342493</td>\n",
       "      <td>0.195686</td>\n",
       "      <td>0.482021</td>\n",
       "    </tr>\n",
       "    <tr>\n",
       "      <th>75%</th>\n",
       "      <td>0.853915</td>\n",
       "      <td>0.389185</td>\n",
       "      <td>0.533764</td>\n",
       "      <td>0.412869</td>\n",
       "      <td>1.763704</td>\n",
       "    </tr>\n",
       "    <tr>\n",
       "      <th>max</th>\n",
       "      <td>1.303607</td>\n",
       "      <td>0.651349</td>\n",
       "      <td>0.924288</td>\n",
       "      <td>0.620325</td>\n",
       "      <td>2.812133</td>\n",
       "    </tr>\n",
       "  </tbody>\n",
       "</table>\n",
       "</div>"
      ],
      "text/plain": [
       "               a          b          c          d          e\n",
       "count  10.000000  10.000000  10.000000  10.000000  10.000000\n",
       "mean    0.022220  -0.192334   0.103175   0.131887   0.893977\n",
       "std     0.974214   0.712553   0.615573   0.444265   1.100602\n",
       "min    -1.253514  -1.382544  -0.829782  -0.767513  -0.720129\n",
       "25%    -0.807624  -0.603211  -0.376834   0.097799   0.250842\n",
       "50%    -0.046171  -0.069238   0.342493   0.195686   0.482021\n",
       "75%     0.853915   0.389185   0.533764   0.412869   1.763704\n",
       "max     1.303607   0.651349   0.924288   0.620325   2.812133"
      ]
     },
     "execution_count": 37,
     "metadata": {},
     "output_type": "execute_result"
    }
   ],
   "source": [
    "df.describe()"
   ]
  },
  {
   "cell_type": "code",
   "execution_count": null,
   "metadata": {
    "colab": {},
    "colab_type": "code",
    "id": "lAWbZqYqJHLx",
    "outputId": "7aa67d4d-4fe8-4c89-aaf1-b603d91b79cb"
   },
   "outputs": [
    {
     "data": {
      "text/html": [
       "<div>\n",
       "<table border=\"1\" class=\"dataframe\">\n",
       "  <thead>\n",
       "    <tr style=\"text-align: right;\">\n",
       "      <th></th>\n",
       "      <th>numbers</th>\n",
       "    </tr>\n",
       "  </thead>\n",
       "  <tbody>\n",
       "    <tr>\n",
       "      <th>count</th>\n",
       "      <td>6.000000</td>\n",
       "    </tr>\n",
       "    <tr>\n",
       "      <th>mean</th>\n",
       "      <td>9.000000</td>\n",
       "    </tr>\n",
       "    <tr>\n",
       "      <th>std</th>\n",
       "      <td>3.741657</td>\n",
       "    </tr>\n",
       "    <tr>\n",
       "      <th>min</th>\n",
       "      <td>4.000000</td>\n",
       "    </tr>\n",
       "    <tr>\n",
       "      <th>25%</th>\n",
       "      <td>6.500000</td>\n",
       "    </tr>\n",
       "    <tr>\n",
       "      <th>50%</th>\n",
       "      <td>9.000000</td>\n",
       "    </tr>\n",
       "    <tr>\n",
       "      <th>75%</th>\n",
       "      <td>11.500000</td>\n",
       "    </tr>\n",
       "    <tr>\n",
       "      <th>max</th>\n",
       "      <td>14.000000</td>\n",
       "    </tr>\n",
       "  </tbody>\n",
       "</table>\n",
       "</div>"
      ],
      "text/plain": [
       "         numbers\n",
       "count   6.000000\n",
       "mean    9.000000\n",
       "std     3.741657\n",
       "min     4.000000\n",
       "25%     6.500000\n",
       "50%     9.000000\n",
       "75%    11.500000\n",
       "max    14.000000"
      ]
     },
     "execution_count": 19,
     "metadata": {
      "tags": []
     },
     "output_type": "execute_result"
    }
   ],
   "source": [
    "data = pd.DataFrame({'numbers':[4,6,8,10,12,14]})\n",
    "data.describe()"
   ]
  },
  {
   "cell_type": "code",
   "execution_count": null,
   "metadata": {
    "colab": {},
    "colab_type": "code",
    "id": "cjwceEtSJHL2",
    "outputId": "269d1cfb-dfdf-4706-ee16-9a54aac9e6dd"
   },
   "outputs": [
    {
     "data": {
      "text/plain": [
       "11.5"
      ]
     },
     "execution_count": 20,
     "metadata": {
      "tags": []
     },
     "output_type": "execute_result"
    }
   ],
   "source": [
    "#percentile : i + (j - i) * fraction\n",
    "4 + (14-4)*(3/4)"
   ]
  },
  {
   "cell_type": "markdown",
   "metadata": {
    "colab_type": "text",
    "id": "YpwaRlQAJHL6"
   },
   "source": [
    "#### Transpose"
   ]
  },
  {
   "cell_type": "code",
   "execution_count": 76,
   "metadata": {
    "colab": {
     "base_uri": "https://localhost:8080/",
     "height": 195
    },
    "colab_type": "code",
    "executionInfo": {
     "elapsed": 1089,
     "status": "ok",
     "timestamp": 1598675853020,
     "user": {
      "displayName": "Kṛṣṇa solutions",
      "photoUrl": "",
      "userId": "14911029245911425813"
     },
     "user_tz": -330
    },
    "id": "-uCGYcEBJHL7",
    "outputId": "8d1b5a77-fa60-4029-aaa7-4e93e26a61e0"
   },
   "outputs": [
    {
     "data": {
      "text/html": [
       "<div>\n",
       "<style scoped>\n",
       "    .dataframe tbody tr th:only-of-type {\n",
       "        vertical-align: middle;\n",
       "    }\n",
       "\n",
       "    .dataframe tbody tr th {\n",
       "        vertical-align: top;\n",
       "    }\n",
       "\n",
       "    .dataframe thead th {\n",
       "        text-align: right;\n",
       "    }\n",
       "</style>\n",
       "<table border=\"1\" class=\"dataframe\">\n",
       "  <thead>\n",
       "    <tr style=\"text-align: right;\">\n",
       "      <th></th>\n",
       "      <th>A</th>\n",
       "      <th>B</th>\n",
       "      <th>C</th>\n",
       "      <th>D</th>\n",
       "      <th>E</th>\n",
       "      <th>F</th>\n",
       "      <th>G</th>\n",
       "      <th>H</th>\n",
       "      <th>I</th>\n",
       "      <th>J</th>\n",
       "    </tr>\n",
       "  </thead>\n",
       "  <tbody>\n",
       "    <tr>\n",
       "      <th>mac</th>\n",
       "      <td>1.683142</td>\n",
       "      <td>0.055646</td>\n",
       "      <td>-0.260566</td>\n",
       "      <td>-0.866910</td>\n",
       "      <td>-2.333456</td>\n",
       "      <td>1.042735</td>\n",
       "      <td>0.330514</td>\n",
       "      <td>-2.371541</td>\n",
       "      <td>0.013905</td>\n",
       "      <td>-0.286871</td>\n",
       "    </tr>\n",
       "    <tr>\n",
       "      <th>blueberry</th>\n",
       "      <td>3.115853</td>\n",
       "      <td>-0.164952</td>\n",
       "      <td>0.041856</td>\n",
       "      <td>-2.665149</td>\n",
       "      <td>-0.817266</td>\n",
       "      <td>1.251146</td>\n",
       "      <td>-0.597486</td>\n",
       "      <td>-0.080849</td>\n",
       "      <td>-1.097280</td>\n",
       "      <td>0.778981</td>\n",
       "    </tr>\n",
       "    <tr>\n",
       "      <th>carrot</th>\n",
       "      <td>1.603774</td>\n",
       "      <td>-1.064399</td>\n",
       "      <td>-0.372492</td>\n",
       "      <td>0.920143</td>\n",
       "      <td>0.559472</td>\n",
       "      <td>0.820865</td>\n",
       "      <td>0.787604</td>\n",
       "      <td>-0.110929</td>\n",
       "      <td>-0.755249</td>\n",
       "      <td>-0.489460</td>\n",
       "    </tr>\n",
       "    <tr>\n",
       "      <th>drumsticks</th>\n",
       "      <td>-0.663354</td>\n",
       "      <td>-0.237354</td>\n",
       "      <td>0.005391</td>\n",
       "      <td>-0.581580</td>\n",
       "      <td>-1.016841</td>\n",
       "      <td>0.165708</td>\n",
       "      <td>1.253248</td>\n",
       "      <td>0.587715</td>\n",
       "      <td>-0.003102</td>\n",
       "      <td>0.393215</td>\n",
       "    </tr>\n",
       "    <tr>\n",
       "      <th>pineapple</th>\n",
       "      <td>0.699774</td>\n",
       "      <td>1.105835</td>\n",
       "      <td>-1.304709</td>\n",
       "      <td>-0.631933</td>\n",
       "      <td>-0.586964</td>\n",
       "      <td>1.192854</td>\n",
       "      <td>-2.552544</td>\n",
       "      <td>0.912630</td>\n",
       "      <td>0.980798</td>\n",
       "      <td>-0.141220</td>\n",
       "    </tr>\n",
       "  </tbody>\n",
       "</table>\n",
       "</div>"
      ],
      "text/plain": [
       "                   A         B         C  ...         H         I         J\n",
       "mac         1.683142  0.055646 -0.260566  ... -2.371541  0.013905 -0.286871\n",
       "blueberry   3.115853 -0.164952  0.041856  ... -0.080849 -1.097280  0.778981\n",
       "carrot      1.603774 -1.064399 -0.372492  ... -0.110929 -0.755249 -0.489460\n",
       "drumsticks -0.663354 -0.237354  0.005391  ...  0.587715 -0.003102  0.393215\n",
       "pineapple   0.699774  1.105835 -1.304709  ...  0.912630  0.980798 -0.141220\n",
       "\n",
       "[5 rows x 10 columns]"
      ]
     },
     "execution_count": 76,
     "metadata": {
      "tags": []
     },
     "output_type": "execute_result"
    }
   ],
   "source": [
    "df.T #assignment is needed"
   ]
  },
  {
   "cell_type": "code",
   "execution_count": 77,
   "metadata": {
    "colab": {
     "base_uri": "https://localhost:8080/",
     "height": 195
    },
    "colab_type": "code",
    "executionInfo": {
     "elapsed": 997,
     "status": "ok",
     "timestamp": 1598675863001,
     "user": {
      "displayName": "Kṛṣṇa solutions",
      "photoUrl": "",
      "userId": "14911029245911425813"
     },
     "user_tz": -330
    },
    "id": "d9kdwEGwJHL-",
    "outputId": "da3eda2d-1ff2-4b13-8f05-f69c3b8b9cb6"
   },
   "outputs": [
    {
     "data": {
      "text/html": [
       "<div>\n",
       "<style scoped>\n",
       "    .dataframe tbody tr th:only-of-type {\n",
       "        vertical-align: middle;\n",
       "    }\n",
       "\n",
       "    .dataframe tbody tr th {\n",
       "        vertical-align: top;\n",
       "    }\n",
       "\n",
       "    .dataframe thead th {\n",
       "        text-align: right;\n",
       "    }\n",
       "</style>\n",
       "<table border=\"1\" class=\"dataframe\">\n",
       "  <thead>\n",
       "    <tr style=\"text-align: right;\">\n",
       "      <th></th>\n",
       "      <th>A</th>\n",
       "      <th>B</th>\n",
       "      <th>C</th>\n",
       "      <th>D</th>\n",
       "      <th>E</th>\n",
       "      <th>F</th>\n",
       "      <th>G</th>\n",
       "      <th>H</th>\n",
       "      <th>I</th>\n",
       "      <th>J</th>\n",
       "    </tr>\n",
       "  </thead>\n",
       "  <tbody>\n",
       "    <tr>\n",
       "      <th>mac</th>\n",
       "      <td>1.683142</td>\n",
       "      <td>0.055646</td>\n",
       "      <td>-0.260566</td>\n",
       "      <td>-0.866910</td>\n",
       "      <td>-2.333456</td>\n",
       "      <td>1.042735</td>\n",
       "      <td>0.330514</td>\n",
       "      <td>-2.371541</td>\n",
       "      <td>0.013905</td>\n",
       "      <td>-0.286871</td>\n",
       "    </tr>\n",
       "    <tr>\n",
       "      <th>blueberry</th>\n",
       "      <td>3.115853</td>\n",
       "      <td>-0.164952</td>\n",
       "      <td>0.041856</td>\n",
       "      <td>-2.665149</td>\n",
       "      <td>-0.817266</td>\n",
       "      <td>1.251146</td>\n",
       "      <td>-0.597486</td>\n",
       "      <td>-0.080849</td>\n",
       "      <td>-1.097280</td>\n",
       "      <td>0.778981</td>\n",
       "    </tr>\n",
       "    <tr>\n",
       "      <th>carrot</th>\n",
       "      <td>1.603774</td>\n",
       "      <td>-1.064399</td>\n",
       "      <td>-0.372492</td>\n",
       "      <td>0.920143</td>\n",
       "      <td>0.559472</td>\n",
       "      <td>0.820865</td>\n",
       "      <td>0.787604</td>\n",
       "      <td>-0.110929</td>\n",
       "      <td>-0.755249</td>\n",
       "      <td>-0.489460</td>\n",
       "    </tr>\n",
       "    <tr>\n",
       "      <th>drumsticks</th>\n",
       "      <td>-0.663354</td>\n",
       "      <td>-0.237354</td>\n",
       "      <td>0.005391</td>\n",
       "      <td>-0.581580</td>\n",
       "      <td>-1.016841</td>\n",
       "      <td>0.165708</td>\n",
       "      <td>1.253248</td>\n",
       "      <td>0.587715</td>\n",
       "      <td>-0.003102</td>\n",
       "      <td>0.393215</td>\n",
       "    </tr>\n",
       "    <tr>\n",
       "      <th>pineapple</th>\n",
       "      <td>0.699774</td>\n",
       "      <td>1.105835</td>\n",
       "      <td>-1.304709</td>\n",
       "      <td>-0.631933</td>\n",
       "      <td>-0.586964</td>\n",
       "      <td>1.192854</td>\n",
       "      <td>-2.552544</td>\n",
       "      <td>0.912630</td>\n",
       "      <td>0.980798</td>\n",
       "      <td>-0.141220</td>\n",
       "    </tr>\n",
       "  </tbody>\n",
       "</table>\n",
       "</div>"
      ],
      "text/plain": [
       "                   A         B         C  ...         H         I         J\n",
       "mac         1.683142  0.055646 -0.260566  ... -2.371541  0.013905 -0.286871\n",
       "blueberry   3.115853 -0.164952  0.041856  ... -0.080849 -1.097280  0.778981\n",
       "carrot      1.603774 -1.064399 -0.372492  ... -0.110929 -0.755249 -0.489460\n",
       "drumsticks -0.663354 -0.237354  0.005391  ...  0.587715 -0.003102  0.393215\n",
       "pineapple   0.699774  1.105835 -1.304709  ...  0.912630  0.980798 -0.141220\n",
       "\n",
       "[5 rows x 10 columns]"
      ]
     },
     "execution_count": 77,
     "metadata": {
      "tags": []
     },
     "output_type": "execute_result"
    }
   ],
   "source": [
    "df2 = df.T\n",
    "df2"
   ]
  },
  {
   "cell_type": "code",
   "execution_count": null,
   "metadata": {
    "colab": {},
    "colab_type": "code",
    "id": "0yIB2Z-FJHMD",
    "outputId": "b8834e51-b7ee-4c47-b680-3ec78697bd71"
   },
   "outputs": [
    {
     "data": {
      "text/plain": [
       "<matplotlib.axes._subplots.AxesSubplot at 0x10ab9cd30>"
      ]
     },
     "execution_count": 23,
     "metadata": {
      "tags": []
     },
     "output_type": "execute_result"
    },
    {
     "data": {
      "image/png": "[encoded data removed]",
      "text/plain": [
       "<matplotlib.figure.Figure at 0x10a0e0588>"
      ]
     },
     "metadata": {
      "tags": []
     },
     "output_type": "display_data"
    }
   ],
   "source": [
    "%matplotlib inline\n",
    "df.T.plot()"
   ]
  },
  {
   "cell_type": "code",
   "execution_count": 40,
   "metadata": {
    "colab": {},
    "colab_type": "code",
    "id": "JWgkFBuYJHMK",
    "outputId": "0124c842-fe80-4d35-cea4-c05161cffee8"
   },
   "outputs": [
    {
     "data": {
      "text/plain": [
       "<matplotlib.axes._subplots.AxesSubplot at 0x2c693b13850>"
      ]
     },
     "execution_count": 40,
     "metadata": {},
     "output_type": "execute_result"
    },
    {
     "data": {
      "image/png": "[encoded data removed]",
      "text/plain": [
       "<Figure size 432x288 with 1 Axes>"
      ]
     },
     "metadata": {
      "needs_background": "light"
     },
     "output_type": "display_data"
    }
   ],
   "source": [
    "index = ['Alphabet', 'Apple', 'Microsoft', 'Amazon', 'PayPal']\n",
    "df = pd.DataFrame({'2015': [275.28,144.99,78.95,179.27,59.39],'2016': [225.28,134.99,95.95,201.27,67.39],'2017': [234.28,154.99,71.95,196.27,54.39]},index=index)\n",
    "df\n",
    "df.plot()"
   ]
  },
  {
   "cell_type": "code",
   "execution_count": null,
   "metadata": {
    "colab": {},
    "colab_type": "code",
    "id": "Yi7yu2k_JHMO",
    "outputId": "a23782d1-f7d4-4401-aaca-f07688626f4c"
   },
   "outputs": [
    {
     "data": {
      "text/plain": [
       "<matplotlib.axes._subplots.AxesSubplot at 0x10ad41828>"
      ]
     },
     "execution_count": 25,
     "metadata": {
      "tags": []
     },
     "output_type": "execute_result"
    },
    {
     "data": {
      "image/png": "[encoded data removed]",
      "text/plain": [
       "<matplotlib.figure.Figure at 0x10ad1c898>"
      ]
     },
     "metadata": {
      "tags": []
     },
     "output_type": "display_data"
    }
   ],
   "source": [
    "df.T.plot()"
   ]
  },
  {
   "cell_type": "markdown",
   "metadata": {
    "colab_type": "text",
    "id": "dGfTdRVdJHMU"
   },
   "source": [
    "### Indexing and Selecting Data"
   ]
  },
  {
   "cell_type": "markdown",
   "metadata": {
    "colab_type": "text",
    "id": "H31Bp9diJHMW"
   },
   "source": [
    "#### Select a column"
   ]
  },
  {
   "cell_type": "code",
   "execution_count": 45,
   "metadata": {
    "colab": {
     "base_uri": "https://localhost:8080/",
     "height": 202
    },
    "colab_type": "code",
    "executionInfo": {
     "elapsed": 1046,
     "status": "ok",
     "timestamp": 1598675988460,
     "user": {
      "displayName": "Kṛṣṇa solutions",
      "photoUrl": "",
      "userId": "14911029245911425813"
     },
     "user_tz": -330
    },
    "id": "hQgifuGEJHMX",
    "outputId": "a851feeb-f0ba-4a2c-a04a-939d530d2276"
   },
   "outputs": [
    {
     "data": {
      "text/plain": [
       "Q    0.621798\n",
       "R   -0.979595\n",
       "S    0.207756\n",
       "T   -0.402802\n",
       "U   -0.044114\n",
       "V   -0.193968\n",
       "W   -0.498612\n",
       "X    0.018566\n",
       "Y    0.951346\n",
       "Z   -0.329679\n",
       "Name: e, dtype: float64"
      ]
     },
     "execution_count": 45,
     "metadata": {},
     "output_type": "execute_result"
    }
   ],
   "source": [
    "df = pd.DataFrame(np.random.randn(10, 5), columns=['a', 'b', 'c', 'd', 'e'], index = list('QRSTUVWXYZ'))\n",
    "df['e']"
   ]
  },
  {
   "cell_type": "code",
   "execution_count": null,
   "metadata": {
    "colab": {},
    "colab_type": "code",
    "id": "Go-AZHKGJHMa",
    "outputId": "00378e51-34a9-425a-9f30-4c7c3106769f"
   },
   "outputs": [
    {
     "data": {
      "text/html": [
       "<div>\n",
       "<table border=\"1\" class=\"dataframe\">\n",
       "  <thead>\n",
       "    <tr style=\"text-align: right;\">\n",
       "      <th></th>\n",
       "      <th>match_id</th>\n",
       "      <th>inning</th>\n",
       "      <th>batting_team</th>\n",
       "      <th>bowling_team</th>\n",
       "      <th>over</th>\n",
       "      <th>ball</th>\n",
       "      <th>batsman</th>\n",
       "      <th>non_striker</th>\n",
       "      <th>bowler</th>\n",
       "      <th>is_super_over</th>\n",
       "      <th>...</th>\n",
       "      <th>bye_runs</th>\n",
       "      <th>legbye_runs</th>\n",
       "      <th>noball_runs</th>\n",
       "      <th>penalty_runs</th>\n",
       "      <th>batsman_runs</th>\n",
       "      <th>extra_runs</th>\n",
       "      <th>total_runs</th>\n",
       "      <th>player_dismissed</th>\n",
       "      <th>dismissal_kind</th>\n",
       "      <th>fielder</th>\n",
       "    </tr>\n",
       "  </thead>\n",
       "  <tbody>\n",
       "    <tr>\n",
       "      <th>0</th>\n",
       "      <td>1</td>\n",
       "      <td>1</td>\n",
       "      <td>Kolkata Knight Riders</td>\n",
       "      <td>Royal Challengers Bangalore</td>\n",
       "      <td>1</td>\n",
       "      <td>1</td>\n",
       "      <td>SC Ganguly</td>\n",
       "      <td>BB McCullum</td>\n",
       "      <td>P Kumar</td>\n",
       "      <td>0</td>\n",
       "      <td>...</td>\n",
       "      <td>0</td>\n",
       "      <td>1</td>\n",
       "      <td>0</td>\n",
       "      <td>0</td>\n",
       "      <td>0</td>\n",
       "      <td>1</td>\n",
       "      <td>1</td>\n",
       "      <td>NaN</td>\n",
       "      <td>NaN</td>\n",
       "      <td>NaN</td>\n",
       "    </tr>\n",
       "    <tr>\n",
       "      <th>1</th>\n",
       "      <td>1</td>\n",
       "      <td>1</td>\n",
       "      <td>Kolkata Knight Riders</td>\n",
       "      <td>Royal Challengers Bangalore</td>\n",
       "      <td>1</td>\n",
       "      <td>2</td>\n",
       "      <td>BB McCullum</td>\n",
       "      <td>SC Ganguly</td>\n",
       "      <td>P Kumar</td>\n",
       "      <td>0</td>\n",
       "      <td>...</td>\n",
       "      <td>0</td>\n",
       "      <td>0</td>\n",
       "      <td>0</td>\n",
       "      <td>0</td>\n",
       "      <td>0</td>\n",
       "      <td>0</td>\n",
       "      <td>0</td>\n",
       "      <td>NaN</td>\n",
       "      <td>NaN</td>\n",
       "      <td>NaN</td>\n",
       "    </tr>\n",
       "    <tr>\n",
       "      <th>2</th>\n",
       "      <td>1</td>\n",
       "      <td>1</td>\n",
       "      <td>Kolkata Knight Riders</td>\n",
       "      <td>Royal Challengers Bangalore</td>\n",
       "      <td>1</td>\n",
       "      <td>3</td>\n",
       "      <td>BB McCullum</td>\n",
       "      <td>SC Ganguly</td>\n",
       "      <td>P Kumar</td>\n",
       "      <td>0</td>\n",
       "      <td>...</td>\n",
       "      <td>0</td>\n",
       "      <td>0</td>\n",
       "      <td>0</td>\n",
       "      <td>0</td>\n",
       "      <td>0</td>\n",
       "      <td>1</td>\n",
       "      <td>1</td>\n",
       "      <td>NaN</td>\n",
       "      <td>NaN</td>\n",
       "      <td>NaN</td>\n",
       "    </tr>\n",
       "    <tr>\n",
       "      <th>3</th>\n",
       "      <td>1</td>\n",
       "      <td>1</td>\n",
       "      <td>Kolkata Knight Riders</td>\n",
       "      <td>Royal Challengers Bangalore</td>\n",
       "      <td>1</td>\n",
       "      <td>4</td>\n",
       "      <td>BB McCullum</td>\n",
       "      <td>SC Ganguly</td>\n",
       "      <td>P Kumar</td>\n",
       "      <td>0</td>\n",
       "      <td>...</td>\n",
       "      <td>0</td>\n",
       "      <td>0</td>\n",
       "      <td>0</td>\n",
       "      <td>0</td>\n",
       "      <td>0</td>\n",
       "      <td>0</td>\n",
       "      <td>0</td>\n",
       "      <td>NaN</td>\n",
       "      <td>NaN</td>\n",
       "      <td>NaN</td>\n",
       "    </tr>\n",
       "    <tr>\n",
       "      <th>4</th>\n",
       "      <td>1</td>\n",
       "      <td>1</td>\n",
       "      <td>Kolkata Knight Riders</td>\n",
       "      <td>Royal Challengers Bangalore</td>\n",
       "      <td>1</td>\n",
       "      <td>5</td>\n",
       "      <td>BB McCullum</td>\n",
       "      <td>SC Ganguly</td>\n",
       "      <td>P Kumar</td>\n",
       "      <td>0</td>\n",
       "      <td>...</td>\n",
       "      <td>0</td>\n",
       "      <td>0</td>\n",
       "      <td>0</td>\n",
       "      <td>0</td>\n",
       "      <td>0</td>\n",
       "      <td>0</td>\n",
       "      <td>0</td>\n",
       "      <td>NaN</td>\n",
       "      <td>NaN</td>\n",
       "      <td>NaN</td>\n",
       "    </tr>\n",
       "  </tbody>\n",
       "</table>\n",
       "<p>5 rows × 21 columns</p>\n",
       "</div>"
      ],
      "text/plain": [
       "   match_id  inning           batting_team                 bowling_team  over  \\\n",
       "0         1       1  Kolkata Knight Riders  Royal Challengers Bangalore     1   \n",
       "1         1       1  Kolkata Knight Riders  Royal Challengers Bangalore     1   \n",
       "2         1       1  Kolkata Knight Riders  Royal Challengers Bangalore     1   \n",
       "3         1       1  Kolkata Knight Riders  Royal Challengers Bangalore     1   \n",
       "4         1       1  Kolkata Knight Riders  Royal Challengers Bangalore     1   \n",
       "\n",
       "   ball      batsman  non_striker   bowler  is_super_over   ...    bye_runs  \\\n",
       "0     1   SC Ganguly  BB McCullum  P Kumar              0   ...           0   \n",
       "1     2  BB McCullum   SC Ganguly  P Kumar              0   ...           0   \n",
       "2     3  BB McCullum   SC Ganguly  P Kumar              0   ...           0   \n",
       "3     4  BB McCullum   SC Ganguly  P Kumar              0   ...           0   \n",
       "4     5  BB McCullum   SC Ganguly  P Kumar              0   ...           0   \n",
       "\n",
       "   legbye_runs  noball_runs  penalty_runs  batsman_runs  extra_runs  \\\n",
       "0            1            0             0             0           1   \n",
       "1            0            0             0             0           0   \n",
       "2            0            0             0             0           1   \n",
       "3            0            0             0             0           0   \n",
       "4            0            0             0             0           0   \n",
       "\n",
       "   total_runs  player_dismissed dismissal_kind fielder  \n",
       "0           1               NaN            NaN     NaN  \n",
       "1           0               NaN            NaN     NaN  \n",
       "2           1               NaN            NaN     NaN  \n",
       "3           0               NaN            NaN     NaN  \n",
       "4           0               NaN            NaN     NaN  \n",
       "\n",
       "[5 rows x 21 columns]"
      ]
     },
     "execution_count": 27,
     "metadata": {
      "tags": []
     },
     "output_type": "execute_result"
    }
   ],
   "source": [
    "deliveries = pd.read_csv('ipl/deliveries.csv') #<path> \n",
    "deliveries.head()"
   ]
  },
  {
   "cell_type": "markdown",
   "metadata": {
    "colab_type": "text",
    "id": "79wZVF6vJHMd"
   },
   "source": [
    "#### Select multiple columns"
   ]
  },
  {
   "cell_type": "code",
   "execution_count": 80,
   "metadata": {
    "colab": {},
    "colab_type": "code",
    "executionInfo": {
     "elapsed": 929,
     "status": "ok",
     "timestamp": 1598675995053,
     "user": {
      "displayName": "Kṛṣṇa solutions",
      "photoUrl": "",
      "userId": "14911029245911425813"
     },
     "user_tz": -330
    },
    "id": "LVNyZyvJJHMe"
   },
   "outputs": [],
   "source": [
    "df_small = df[['b', 'd', 'e']] #assignment is needed"
   ]
  },
  {
   "cell_type": "code",
   "execution_count": 81,
   "metadata": {
    "colab": {
     "base_uri": "https://localhost:8080/",
     "height": 195
    },
    "colab_type": "code",
    "executionInfo": {
     "elapsed": 1047,
     "status": "ok",
     "timestamp": 1598676009798,
     "user": {
      "displayName": "Kṛṣṇa solutions",
      "photoUrl": "",
      "userId": "14911029245911425813"
     },
     "user_tz": -330
    },
    "id": "lP4GIGaWg9zj",
    "outputId": "c9d61630-40d0-4b26-b508-a60d9593daf9"
   },
   "outputs": [
    {
     "data": {
      "text/html": [
       "<div>\n",
       "<style scoped>\n",
       "    .dataframe tbody tr th:only-of-type {\n",
       "        vertical-align: middle;\n",
       "    }\n",
       "\n",
       "    .dataframe tbody tr th {\n",
       "        vertical-align: top;\n",
       "    }\n",
       "\n",
       "    .dataframe thead th {\n",
       "        text-align: right;\n",
       "    }\n",
       "</style>\n",
       "<table border=\"1\" class=\"dataframe\">\n",
       "  <thead>\n",
       "    <tr style=\"text-align: right;\">\n",
       "      <th></th>\n",
       "      <th>b</th>\n",
       "      <th>d</th>\n",
       "      <th>e</th>\n",
       "    </tr>\n",
       "  </thead>\n",
       "  <tbody>\n",
       "    <tr>\n",
       "      <th>Q</th>\n",
       "      <td>2.151729</td>\n",
       "      <td>0.418804</td>\n",
       "      <td>-0.560885</td>\n",
       "    </tr>\n",
       "    <tr>\n",
       "      <th>R</th>\n",
       "      <td>0.727071</td>\n",
       "      <td>1.699795</td>\n",
       "      <td>-0.455542</td>\n",
       "    </tr>\n",
       "    <tr>\n",
       "      <th>S</th>\n",
       "      <td>0.726674</td>\n",
       "      <td>-1.254950</td>\n",
       "      <td>0.766502</td>\n",
       "    </tr>\n",
       "    <tr>\n",
       "      <th>T</th>\n",
       "      <td>0.661078</td>\n",
       "      <td>0.146485</td>\n",
       "      <td>-2.253599</td>\n",
       "    </tr>\n",
       "    <tr>\n",
       "      <th>U</th>\n",
       "      <td>-1.008517</td>\n",
       "      <td>0.340553</td>\n",
       "      <td>0.899812</td>\n",
       "    </tr>\n",
       "  </tbody>\n",
       "</table>\n",
       "</div>"
      ],
      "text/plain": [
       "          b         d         e\n",
       "Q  2.151729  0.418804 -0.560885\n",
       "R  0.727071  1.699795 -0.455542\n",
       "S  0.726674 -1.254950  0.766502\n",
       "T  0.661078  0.146485 -2.253599\n",
       "U -1.008517  0.340553  0.899812"
      ]
     },
     "execution_count": 81,
     "metadata": {
      "tags": []
     },
     "output_type": "execute_result"
    }
   ],
   "source": [
    "df_small.head()"
   ]
  },
  {
   "cell_type": "markdown",
   "metadata": {
    "colab_type": "text",
    "id": "XEjTrvpzJHMi"
   },
   "source": [
    "#### Selecting a slice"
   ]
  },
  {
   "cell_type": "code",
   "execution_count": 41,
   "metadata": {
    "colab": {
     "base_uri": "https://localhost:8080/",
     "height": 343
    },
    "colab_type": "code",
    "executionInfo": {
     "elapsed": 990,
     "status": "ok",
     "timestamp": 1598676523682,
     "user": {
      "displayName": "Kṛṣṇa solutions",
      "photoUrl": "",
      "userId": "14911029245911425813"
     },
     "user_tz": -330
    },
    "id": "_bAO3Fy2JHMj",
    "outputId": "dd3365bc-0dc2-4b1f-91d5-a7cde1002512"
   },
   "outputs": [
    {
     "data": {
      "text/html": [
       "<div>\n",
       "<style scoped>\n",
       "    .dataframe tbody tr th:only-of-type {\n",
       "        vertical-align: middle;\n",
       "    }\n",
       "\n",
       "    .dataframe tbody tr th {\n",
       "        vertical-align: top;\n",
       "    }\n",
       "\n",
       "    .dataframe thead th {\n",
       "        text-align: right;\n",
       "    }\n",
       "</style>\n",
       "<table border=\"1\" class=\"dataframe\">\n",
       "  <thead>\n",
       "    <tr style=\"text-align: right;\">\n",
       "      <th></th>\n",
       "      <th>2015</th>\n",
       "      <th>2016</th>\n",
       "      <th>2017</th>\n",
       "    </tr>\n",
       "  </thead>\n",
       "  <tbody>\n",
       "    <tr>\n",
       "      <th>PayPal</th>\n",
       "      <td>59.39</td>\n",
       "      <td>67.39</td>\n",
       "      <td>54.39</td>\n",
       "    </tr>\n",
       "    <tr>\n",
       "      <th>Amazon</th>\n",
       "      <td>179.27</td>\n",
       "      <td>201.27</td>\n",
       "      <td>196.27</td>\n",
       "    </tr>\n",
       "    <tr>\n",
       "      <th>Microsoft</th>\n",
       "      <td>78.95</td>\n",
       "      <td>95.95</td>\n",
       "      <td>71.95</td>\n",
       "    </tr>\n",
       "    <tr>\n",
       "      <th>Apple</th>\n",
       "      <td>144.99</td>\n",
       "      <td>134.99</td>\n",
       "      <td>154.99</td>\n",
       "    </tr>\n",
       "    <tr>\n",
       "      <th>Alphabet</th>\n",
       "      <td>275.28</td>\n",
       "      <td>225.28</td>\n",
       "      <td>234.28</td>\n",
       "    </tr>\n",
       "  </tbody>\n",
       "</table>\n",
       "</div>"
      ],
      "text/plain": [
       "             2015    2016    2017\n",
       "PayPal      59.39   67.39   54.39\n",
       "Amazon     179.27  201.27  196.27\n",
       "Microsoft   78.95   95.95   71.95\n",
       "Apple      144.99  134.99  154.99\n",
       "Alphabet   275.28  225.28  234.28"
      ]
     },
     "execution_count": 41,
     "metadata": {},
     "output_type": "execute_result"
    }
   ],
   "source": [
    "df[-10:] #[0:9]\n",
    "df[::-1] #reverse"
   ]
  },
  {
   "cell_type": "code",
   "execution_count": 42,
   "metadata": {
    "colab": {
     "base_uri": "https://localhost:8080/",
     "height": 343
    },
    "colab_type": "code",
    "executionInfo": {
     "elapsed": 2233,
     "status": "ok",
     "timestamp": 1598676532645,
     "user": {
      "displayName": "Kṛṣṇa solutions",
      "photoUrl": "",
      "userId": "14911029245911425813"
     },
     "user_tz": -330
    },
    "id": "f6bALIXCi-EO",
    "outputId": "e031a676-1720-4c7f-cfb7-0c21bb84e1b2"
   },
   "outputs": [
    {
     "data": {
      "text/html": [
       "<div>\n",
       "<style scoped>\n",
       "    .dataframe tbody tr th:only-of-type {\n",
       "        vertical-align: middle;\n",
       "    }\n",
       "\n",
       "    .dataframe tbody tr th {\n",
       "        vertical-align: top;\n",
       "    }\n",
       "\n",
       "    .dataframe thead th {\n",
       "        text-align: right;\n",
       "    }\n",
       "</style>\n",
       "<table border=\"1\" class=\"dataframe\">\n",
       "  <thead>\n",
       "    <tr style=\"text-align: right;\">\n",
       "      <th></th>\n",
       "      <th>2015</th>\n",
       "      <th>2016</th>\n",
       "      <th>2017</th>\n",
       "    </tr>\n",
       "  </thead>\n",
       "  <tbody>\n",
       "    <tr>\n",
       "      <th>Alphabet</th>\n",
       "      <td>275.28</td>\n",
       "      <td>225.28</td>\n",
       "      <td>234.28</td>\n",
       "    </tr>\n",
       "    <tr>\n",
       "      <th>Apple</th>\n",
       "      <td>144.99</td>\n",
       "      <td>134.99</td>\n",
       "      <td>154.99</td>\n",
       "    </tr>\n",
       "    <tr>\n",
       "      <th>Microsoft</th>\n",
       "      <td>78.95</td>\n",
       "      <td>95.95</td>\n",
       "      <td>71.95</td>\n",
       "    </tr>\n",
       "    <tr>\n",
       "      <th>Amazon</th>\n",
       "      <td>179.27</td>\n",
       "      <td>201.27</td>\n",
       "      <td>196.27</td>\n",
       "    </tr>\n",
       "    <tr>\n",
       "      <th>PayPal</th>\n",
       "      <td>59.39</td>\n",
       "      <td>67.39</td>\n",
       "      <td>54.39</td>\n",
       "    </tr>\n",
       "  </tbody>\n",
       "</table>\n",
       "</div>"
      ],
      "text/plain": [
       "             2015    2016    2017\n",
       "Alphabet   275.28  225.28  234.28\n",
       "Apple      144.99  134.99  154.99\n",
       "Microsoft   78.95   95.95   71.95\n",
       "Amazon     179.27  201.27  196.27\n",
       "PayPal      59.39   67.39   54.39"
      ]
     },
     "execution_count": 42,
     "metadata": {},
     "output_type": "execute_result"
    }
   ],
   "source": [
    "df"
   ]
  },
  {
   "cell_type": "code",
   "execution_count": 48,
   "metadata": {
    "colab": {
     "base_uri": "https://localhost:8080/",
     "height": 34
    },
    "colab_type": "code",
    "executionInfo": {
     "elapsed": 1122,
     "status": "ok",
     "timestamp": 1598676730647,
     "user": {
      "displayName": "Kṛṣṇa solutions",
      "photoUrl": "",
      "userId": "14911029245911425813"
     },
     "user_tz": -330
    },
    "id": "yTdKy5nvJHMp",
    "outputId": "cc08b039-810a-472b-e732-63aa36e0cdb1"
   },
   "outputs": [
    {
     "data": {
      "text/plain": [
       "Index(['a', 'b', 'c', 'd', 'e'], dtype='object')"
      ]
     },
     "execution_count": 48,
     "metadata": {},
     "output_type": "execute_result"
    }
   ],
   "source": [
    "#pick the columns and the values for b and d\n",
    "\n",
    "df[['a','c']]\n",
    "\n",
    "df.columns"
   ]
  },
  {
   "cell_type": "markdown",
   "metadata": {
    "colab_type": "text",
    "id": "jcJSZhTNJHMs"
   },
   "source": [
    "### Selection by Label : loc\n",
    "\n",
    "https://pandas.pydata.org/pandas-docs/stable/indexing.html#indexing-label"
   ]
  },
  {
   "cell_type": "code",
   "execution_count": 52,
   "metadata": {
    "colab": {
     "base_uri": "https://localhost:8080/",
     "height": 343
    },
    "colab_type": "code",
    "executionInfo": {
     "elapsed": 1320,
     "status": "ok",
     "timestamp": 1598676175303,
     "user": {
      "displayName": "Kṛṣṇa solutions",
      "photoUrl": "",
      "userId": "14911029245911425813"
     },
     "user_tz": -330
    },
    "id": "pRaWI8gWJHMt",
    "outputId": "2e26259c-b765-47b7-e8a7-a051bc5e2179"
   },
   "outputs": [
    {
     "data": {
      "text/html": [
       "<div>\n",
       "<style scoped>\n",
       "    .dataframe tbody tr th:only-of-type {\n",
       "        vertical-align: middle;\n",
       "    }\n",
       "\n",
       "    .dataframe tbody tr th {\n",
       "        vertical-align: top;\n",
       "    }\n",
       "\n",
       "    .dataframe thead th {\n",
       "        text-align: right;\n",
       "    }\n",
       "</style>\n",
       "<table border=\"1\" class=\"dataframe\">\n",
       "  <thead>\n",
       "    <tr style=\"text-align: right;\">\n",
       "      <th></th>\n",
       "      <th>a</th>\n",
       "      <th>c</th>\n",
       "    </tr>\n",
       "  </thead>\n",
       "  <tbody>\n",
       "    <tr>\n",
       "      <th>Q</th>\n",
       "      <td>-0.310602</td>\n",
       "      <td>0.635194</td>\n",
       "    </tr>\n",
       "    <tr>\n",
       "      <th>R</th>\n",
       "      <td>-0.590128</td>\n",
       "      <td>1.045416</td>\n",
       "    </tr>\n",
       "    <tr>\n",
       "      <th>S</th>\n",
       "      <td>0.296937</td>\n",
       "      <td>0.261797</td>\n",
       "    </tr>\n",
       "    <tr>\n",
       "      <th>T</th>\n",
       "      <td>0.594923</td>\n",
       "      <td>-0.522803</td>\n",
       "    </tr>\n",
       "    <tr>\n",
       "      <th>U</th>\n",
       "      <td>1.902437</td>\n",
       "      <td>-2.188969</td>\n",
       "    </tr>\n",
       "    <tr>\n",
       "      <th>V</th>\n",
       "      <td>1.206916</td>\n",
       "      <td>0.421565</td>\n",
       "    </tr>\n",
       "    <tr>\n",
       "      <th>W</th>\n",
       "      <td>1.170057</td>\n",
       "      <td>-1.652487</td>\n",
       "    </tr>\n",
       "    <tr>\n",
       "      <th>X</th>\n",
       "      <td>0.899282</td>\n",
       "      <td>-0.204541</td>\n",
       "    </tr>\n",
       "    <tr>\n",
       "      <th>Y</th>\n",
       "      <td>0.164858</td>\n",
       "      <td>-1.929808</td>\n",
       "    </tr>\n",
       "    <tr>\n",
       "      <th>Z</th>\n",
       "      <td>-1.708047</td>\n",
       "      <td>0.539365</td>\n",
       "    </tr>\n",
       "  </tbody>\n",
       "</table>\n",
       "</div>"
      ],
      "text/plain": [
       "          a         c\n",
       "Q -0.310602  0.635194\n",
       "R -0.590128  1.045416\n",
       "S  0.296937  0.261797\n",
       "T  0.594923 -0.522803\n",
       "U  1.902437 -2.188969\n",
       "V  1.206916  0.421565\n",
       "W  1.170057 -1.652487\n",
       "X  0.899282 -0.204541\n",
       "Y  0.164858 -1.929808\n",
       "Z -1.708047  0.539365"
      ]
     },
     "execution_count": 52,
     "metadata": {},
     "output_type": "execute_result"
    }
   ],
   "source": [
    "df.loc[:, ['a','c']]#.head() #(10,5) (row, column)\n",
    "\n",
    "\n",
    "\n"
   ]
  },
  {
   "cell_type": "code",
   "execution_count": 53,
   "metadata": {},
   "outputs": [
    {
     "data": {
      "text/html": [
       "<div>\n",
       "<style scoped>\n",
       "    .dataframe tbody tr th:only-of-type {\n",
       "        vertical-align: middle;\n",
       "    }\n",
       "\n",
       "    .dataframe tbody tr th {\n",
       "        vertical-align: top;\n",
       "    }\n",
       "\n",
       "    .dataframe thead th {\n",
       "        text-align: right;\n",
       "    }\n",
       "</style>\n",
       "<table border=\"1\" class=\"dataframe\">\n",
       "  <thead>\n",
       "    <tr style=\"text-align: right;\">\n",
       "      <th></th>\n",
       "      <th>a</th>\n",
       "      <th>b</th>\n",
       "      <th>c</th>\n",
       "      <th>d</th>\n",
       "      <th>e</th>\n",
       "    </tr>\n",
       "  </thead>\n",
       "  <tbody>\n",
       "    <tr>\n",
       "      <th>T</th>\n",
       "      <td>0.594923</td>\n",
       "      <td>2.145141</td>\n",
       "      <td>-0.522803</td>\n",
       "      <td>-0.146370</td>\n",
       "      <td>-0.402802</td>\n",
       "    </tr>\n",
       "    <tr>\n",
       "      <th>U</th>\n",
       "      <td>1.902437</td>\n",
       "      <td>0.459150</td>\n",
       "      <td>-2.188969</td>\n",
       "      <td>-0.531368</td>\n",
       "      <td>-0.044114</td>\n",
       "    </tr>\n",
       "    <tr>\n",
       "      <th>V</th>\n",
       "      <td>1.206916</td>\n",
       "      <td>1.600247</td>\n",
       "      <td>0.421565</td>\n",
       "      <td>0.346060</td>\n",
       "      <td>-0.193968</td>\n",
       "    </tr>\n",
       "    <tr>\n",
       "      <th>W</th>\n",
       "      <td>1.170057</td>\n",
       "      <td>-0.042579</td>\n",
       "      <td>-1.652487</td>\n",
       "      <td>0.152449</td>\n",
       "      <td>-0.498612</td>\n",
       "    </tr>\n",
       "    <tr>\n",
       "      <th>X</th>\n",
       "      <td>0.899282</td>\n",
       "      <td>0.807163</td>\n",
       "      <td>-0.204541</td>\n",
       "      <td>1.009453</td>\n",
       "      <td>0.018566</td>\n",
       "    </tr>\n",
       "    <tr>\n",
       "      <th>Y</th>\n",
       "      <td>0.164858</td>\n",
       "      <td>-0.103893</td>\n",
       "      <td>-1.929808</td>\n",
       "      <td>-3.928579</td>\n",
       "      <td>0.951346</td>\n",
       "    </tr>\n",
       "    <tr>\n",
       "      <th>Z</th>\n",
       "      <td>-1.708047</td>\n",
       "      <td>-0.636027</td>\n",
       "      <td>0.539365</td>\n",
       "      <td>-0.456701</td>\n",
       "      <td>-0.329679</td>\n",
       "    </tr>\n",
       "  </tbody>\n",
       "</table>\n",
       "</div>"
      ],
      "text/plain": [
       "          a         b         c         d         e\n",
       "T  0.594923  2.145141 -0.522803 -0.146370 -0.402802\n",
       "U  1.902437  0.459150 -2.188969 -0.531368 -0.044114\n",
       "V  1.206916  1.600247  0.421565  0.346060 -0.193968\n",
       "W  1.170057 -0.042579 -1.652487  0.152449 -0.498612\n",
       "X  0.899282  0.807163 -0.204541  1.009453  0.018566\n",
       "Y  0.164858 -0.103893 -1.929808 -3.928579  0.951346\n",
       "Z -1.708047 -0.636027  0.539365 -0.456701 -0.329679"
      ]
     },
     "execution_count": 53,
     "metadata": {},
     "output_type": "execute_result"
    }
   ],
   "source": [
    "df.loc['T':'Z','a':'e']"
   ]
  },
  {
   "cell_type": "code",
   "execution_count": 83,
   "metadata": {
    "colab": {
     "base_uri": "https://localhost:8080/",
     "height": 254
    },
    "colab_type": "code",
    "executionInfo": {
     "elapsed": 2155,
     "status": "ok",
     "timestamp": 1598676194459,
     "user": {
      "displayName": "Kṛṣṇa solutions",
      "photoUrl": "",
      "userId": "14911029245911425813"
     },
     "user_tz": -330
    },
    "id": "kzNcRv3mJHMx",
    "outputId": "f5de620a-3c70-4a0d-ecff-b65ee86d70be"
   },
   "outputs": [
    {
     "data": {
      "text/html": [
       "<div>\n",
       "<style scoped>\n",
       "    .dataframe tbody tr th:only-of-type {\n",
       "        vertical-align: middle;\n",
       "    }\n",
       "\n",
       "    .dataframe tbody tr th {\n",
       "        vertical-align: top;\n",
       "    }\n",
       "\n",
       "    .dataframe thead th {\n",
       "        text-align: right;\n",
       "    }\n",
       "</style>\n",
       "<table border=\"1\" class=\"dataframe\">\n",
       "  <thead>\n",
       "    <tr style=\"text-align: right;\">\n",
       "      <th></th>\n",
       "      <th>c</th>\n",
       "      <th>d</th>\n",
       "      <th>e</th>\n",
       "    </tr>\n",
       "  </thead>\n",
       "  <tbody>\n",
       "    <tr>\n",
       "      <th>T</th>\n",
       "      <td>-0.938354</td>\n",
       "      <td>0.146485</td>\n",
       "      <td>-2.253599</td>\n",
       "    </tr>\n",
       "    <tr>\n",
       "      <th>U</th>\n",
       "      <td>-0.755774</td>\n",
       "      <td>0.340553</td>\n",
       "      <td>0.899812</td>\n",
       "    </tr>\n",
       "    <tr>\n",
       "      <th>V</th>\n",
       "      <td>-0.494837</td>\n",
       "      <td>-1.064003</td>\n",
       "      <td>-0.214117</td>\n",
       "    </tr>\n",
       "    <tr>\n",
       "      <th>W</th>\n",
       "      <td>-1.239412</td>\n",
       "      <td>1.598210</td>\n",
       "      <td>-0.074590</td>\n",
       "    </tr>\n",
       "    <tr>\n",
       "      <th>X</th>\n",
       "      <td>1.106004</td>\n",
       "      <td>-0.394318</td>\n",
       "      <td>0.742621</td>\n",
       "    </tr>\n",
       "    <tr>\n",
       "      <th>Y</th>\n",
       "      <td>0.676554</td>\n",
       "      <td>-0.298422</td>\n",
       "      <td>-0.889595</td>\n",
       "    </tr>\n",
       "    <tr>\n",
       "      <th>Z</th>\n",
       "      <td>-1.035677</td>\n",
       "      <td>-1.203297</td>\n",
       "      <td>0.576823</td>\n",
       "    </tr>\n",
       "  </tbody>\n",
       "</table>\n",
       "</div>"
      ],
      "text/plain": [
       "          c         d         e\n",
       "T -0.938354  0.146485 -2.253599\n",
       "U -0.755774  0.340553  0.899812\n",
       "V -0.494837 -1.064003 -0.214117\n",
       "W -1.239412  1.598210 -0.074590\n",
       "X  1.106004 -0.394318  0.742621\n",
       "Y  0.676554 -0.298422 -0.889595\n",
       "Z -1.035677 -1.203297  0.576823"
      ]
     },
     "execution_count": 83,
     "metadata": {
      "tags": []
     },
     "output_type": "execute_result"
    }
   ],
   "source": [
    "df.loc['T': 'Z', 'c':'e'] # :slice"
   ]
  },
  {
   "cell_type": "code",
   "execution_count": 56,
   "metadata": {
    "colab": {},
    "colab_type": "code",
    "id": "LYlluO61JHM1",
    "outputId": "d55b033e-cbfd-4288-be46-fdeb7a210ae4"
   },
   "outputs": [
    {
     "data": {
      "text/html": [
       "<div>\n",
       "<style scoped>\n",
       "    .dataframe tbody tr th:only-of-type {\n",
       "        vertical-align: middle;\n",
       "    }\n",
       "\n",
       "    .dataframe tbody tr th {\n",
       "        vertical-align: top;\n",
       "    }\n",
       "\n",
       "    .dataframe thead th {\n",
       "        text-align: right;\n",
       "    }\n",
       "</style>\n",
       "<table border=\"1\" class=\"dataframe\">\n",
       "  <thead>\n",
       "    <tr style=\"text-align: right;\">\n",
       "      <th></th>\n",
       "      <th>a</th>\n",
       "      <th>b</th>\n",
       "    </tr>\n",
       "  </thead>\n",
       "  <tbody>\n",
       "    <tr>\n",
       "      <th>T</th>\n",
       "      <td>0.594923</td>\n",
       "      <td>2.145141</td>\n",
       "    </tr>\n",
       "    <tr>\n",
       "      <th>U</th>\n",
       "      <td>1.902437</td>\n",
       "      <td>0.459150</td>\n",
       "    </tr>\n",
       "    <tr>\n",
       "      <th>V</th>\n",
       "      <td>1.206916</td>\n",
       "      <td>1.600247</td>\n",
       "    </tr>\n",
       "    <tr>\n",
       "      <th>W</th>\n",
       "      <td>1.170057</td>\n",
       "      <td>-0.042579</td>\n",
       "    </tr>\n",
       "    <tr>\n",
       "      <th>X</th>\n",
       "      <td>0.899282</td>\n",
       "      <td>0.807163</td>\n",
       "    </tr>\n",
       "    <tr>\n",
       "      <th>Y</th>\n",
       "      <td>0.164858</td>\n",
       "      <td>-0.103893</td>\n",
       "    </tr>\n",
       "  </tbody>\n",
       "</table>\n",
       "</div>"
      ],
      "text/plain": [
       "          a         b\n",
       "T  0.594923  2.145141\n",
       "U  1.902437  0.459150\n",
       "V  1.206916  1.600247\n",
       "W  1.170057 -0.042579\n",
       "X  0.899282  0.807163\n",
       "Y  0.164858 -0.103893"
      ]
     },
     "execution_count": 56,
     "metadata": {},
     "output_type": "execute_result"
    }
   ],
   "source": [
    "df.loc['T': 'Y', 'a':'b']"
   ]
  },
  {
   "cell_type": "markdown",
   "metadata": {
    "colab_type": "text",
    "id": "nia5OMzSJHM5"
   },
   "source": [
    "### Selection by Position: iloc\n",
    "\n",
    "http://pandas.pydata.org/pandas-docs/version/0.17.0/indexing.html#indexing-integer"
   ]
  },
  {
   "cell_type": "code",
   "execution_count": 57,
   "metadata": {
    "colab": {},
    "colab_type": "code",
    "id": "KRCHQPM8JHM6",
    "outputId": "636cd2f0-c27e-45b5-d7e7-84e4537a3ac4"
   },
   "outputs": [
    {
     "data": {
      "text/html": [
       "<div>\n",
       "<style scoped>\n",
       "    .dataframe tbody tr th:only-of-type {\n",
       "        vertical-align: middle;\n",
       "    }\n",
       "\n",
       "    .dataframe tbody tr th {\n",
       "        vertical-align: top;\n",
       "    }\n",
       "\n",
       "    .dataframe thead th {\n",
       "        text-align: right;\n",
       "    }\n",
       "</style>\n",
       "<table border=\"1\" class=\"dataframe\">\n",
       "  <thead>\n",
       "    <tr style=\"text-align: right;\">\n",
       "      <th></th>\n",
       "      <th>a</th>\n",
       "      <th>b</th>\n",
       "    </tr>\n",
       "  </thead>\n",
       "  <tbody>\n",
       "    <tr>\n",
       "      <th>Q</th>\n",
       "      <td>-0.310602</td>\n",
       "      <td>1.192258</td>\n",
       "    </tr>\n",
       "    <tr>\n",
       "      <th>R</th>\n",
       "      <td>-0.590128</td>\n",
       "      <td>-0.059118</td>\n",
       "    </tr>\n",
       "  </tbody>\n",
       "</table>\n",
       "</div>"
      ],
      "text/plain": [
       "          a         b\n",
       "Q -0.310602  1.192258\n",
       "R -0.590128 -0.059118"
      ]
     },
     "execution_count": 57,
     "metadata": {},
     "output_type": "execute_result"
    }
   ],
   "source": [
    "df.iloc[:2, :2] #index based slice, upper - bound is not included"
   ]
  },
  {
   "cell_type": "code",
   "execution_count": 59,
   "metadata": {
    "colab": {},
    "colab_type": "code",
    "id": "b-i8ioymJHM-",
    "outputId": "db43aa18-3dfb-4535-8008-7f6184a13015"
   },
   "outputs": [
    {
     "data": {
      "text/plain": [
       "0.2617966311697145"
      ]
     },
     "execution_count": 59,
     "metadata": {},
     "output_type": "execute_result"
    }
   ],
   "source": [
    "df.iloc[2, 2]"
   ]
  },
  {
   "cell_type": "code",
   "execution_count": null,
   "metadata": {
    "colab": {},
    "colab_type": "code",
    "id": "cc4YgSSSJHNC",
    "outputId": "b135962a-0322-4ee4-9773-1f49e067ce28"
   },
   "outputs": [
    {
     "data": {
      "text/html": [
       "<div>\n",
       "<table border=\"1\" class=\"dataframe\">\n",
       "  <thead>\n",
       "    <tr style=\"text-align: right;\">\n",
       "      <th></th>\n",
       "      <th>a</th>\n",
       "      <th>c</th>\n",
       "      <th>e</th>\n",
       "    </tr>\n",
       "  </thead>\n",
       "  <tbody>\n",
       "    <tr>\n",
       "      <th>R</th>\n",
       "      <td>1.642972</td>\n",
       "      <td>0.028143</td>\n",
       "      <td>-0.586007</td>\n",
       "    </tr>\n",
       "    <tr>\n",
       "      <th>T</th>\n",
       "      <td>-1.066675</td>\n",
       "      <td>0.409278</td>\n",
       "      <td>0.164675</td>\n",
       "    </tr>\n",
       "    <tr>\n",
       "      <th>V</th>\n",
       "      <td>0.021754</td>\n",
       "      <td>0.775907</td>\n",
       "      <td>1.278766</td>\n",
       "    </tr>\n",
       "  </tbody>\n",
       "</table>\n",
       "</div>"
      ],
      "text/plain": [
       "          a         c         e\n",
       "R  1.642972  0.028143 -0.586007\n",
       "T -1.066675  0.409278  0.164675\n",
       "V  0.021754  0.775907  1.278766"
      ]
     },
     "execution_count": 36,
     "metadata": {
      "tags": []
     },
     "output_type": "execute_result"
    }
   ],
   "source": [
    "df.iloc[[1,3,5], [0,2,4]] #1:3"
   ]
  },
  {
   "cell_type": "code",
   "execution_count": 63,
   "metadata": {
    "colab": {
     "base_uri": "https://localhost:8080/",
     "height": 296
    },
    "colab_type": "code",
    "executionInfo": {
     "elapsed": 1819,
     "status": "error",
     "timestamp": 1598676480608,
     "user": {
      "displayName": "Kṛṣṇa solutions",
      "photoUrl": "",
      "userId": "14911029245911425813"
     },
     "user_tz": -330
    },
    "id": "H3tZ2ZBlJHNG",
    "outputId": "542368c2-acd7-4cc8-ac33-5cc15ca889e7"
   },
   "outputs": [],
   "source": [
    "#df.loc[df.id == 'e', 'val2'] = 100\n",
    "#df.loc[df=='e','val2']=100"
   ]
  },
  {
   "cell_type": "code",
   "execution_count": null,
   "metadata": {
    "colab": {},
    "colab_type": "code",
    "id": "UgqSBZBdiFYx"
   },
   "outputs": [],
   "source": []
  },
  {
   "cell_type": "markdown",
   "metadata": {
    "colab_type": "text",
    "id": "MbjePsoXJHNL"
   },
   "source": [
    "### Boolean Indexing"
   ]
  },
  {
   "cell_type": "code",
   "execution_count": 64,
   "metadata": {
    "colab": {},
    "colab_type": "code",
    "id": "DmFyq5AhJHNM",
    "outputId": "bffcba45-42b1-4cbb-9778-d92b4bbd9ec5"
   },
   "outputs": [
    {
     "data": {
      "text/html": [
       "<div>\n",
       "<style scoped>\n",
       "    .dataframe tbody tr th:only-of-type {\n",
       "        vertical-align: middle;\n",
       "    }\n",
       "\n",
       "    .dataframe tbody tr th {\n",
       "        vertical-align: top;\n",
       "    }\n",
       "\n",
       "    .dataframe thead th {\n",
       "        text-align: right;\n",
       "    }\n",
       "</style>\n",
       "<table border=\"1\" class=\"dataframe\">\n",
       "  <thead>\n",
       "    <tr style=\"text-align: right;\">\n",
       "      <th></th>\n",
       "      <th>id</th>\n",
       "      <th>val</th>\n",
       "    </tr>\n",
       "  </thead>\n",
       "  <tbody>\n",
       "    <tr>\n",
       "      <th>0</th>\n",
       "      <td>a</td>\n",
       "      <td>4</td>\n",
       "    </tr>\n",
       "    <tr>\n",
       "      <th>1</th>\n",
       "      <td>b</td>\n",
       "      <td>2</td>\n",
       "    </tr>\n",
       "    <tr>\n",
       "      <th>2</th>\n",
       "      <td>c</td>\n",
       "      <td>7</td>\n",
       "    </tr>\n",
       "    <tr>\n",
       "      <th>3</th>\n",
       "      <td>d</td>\n",
       "      <td>9</td>\n",
       "    </tr>\n",
       "    <tr>\n",
       "      <th>4</th>\n",
       "      <td>e</td>\n",
       "      <td>5</td>\n",
       "    </tr>\n",
       "  </tbody>\n",
       "</table>\n",
       "</div>"
      ],
      "text/plain": [
       "  id  val\n",
       "0  a    4\n",
       "1  b    2\n",
       "2  c    7\n",
       "3  d    9\n",
       "4  e    5"
      ]
     },
     "execution_count": 64,
     "metadata": {},
     "output_type": "execute_result"
    }
   ],
   "source": [
    "df = pd.DataFrame({'id': ['a', 'b', 'c', 'd', 'e'],'val':[4,2,7,9,5]})\n",
    "df \n",
    "#select rows where id is equal to a or val > 5"
   ]
  },
  {
   "cell_type": "code",
   "execution_count": 65,
   "metadata": {
    "colab": {},
    "colab_type": "code",
    "id": "ujn6jNmoJHNQ",
    "outputId": "65ddee47-f851-4b44-b2dc-1ef58427801e"
   },
   "outputs": [
    {
     "data": {
      "text/html": [
       "<div>\n",
       "<style scoped>\n",
       "    .dataframe tbody tr th:only-of-type {\n",
       "        vertical-align: middle;\n",
       "    }\n",
       "\n",
       "    .dataframe tbody tr th {\n",
       "        vertical-align: top;\n",
       "    }\n",
       "\n",
       "    .dataframe thead th {\n",
       "        text-align: right;\n",
       "    }\n",
       "</style>\n",
       "<table border=\"1\" class=\"dataframe\">\n",
       "  <thead>\n",
       "    <tr style=\"text-align: right;\">\n",
       "      <th></th>\n",
       "      <th>id</th>\n",
       "      <th>val</th>\n",
       "    </tr>\n",
       "  </thead>\n",
       "  <tbody>\n",
       "    <tr>\n",
       "      <th>2</th>\n",
       "      <td>c</td>\n",
       "      <td>7</td>\n",
       "    </tr>\n",
       "    <tr>\n",
       "      <th>3</th>\n",
       "      <td>d</td>\n",
       "      <td>9</td>\n",
       "    </tr>\n",
       "  </tbody>\n",
       "</table>\n",
       "</div>"
      ],
      "text/plain": [
       "  id  val\n",
       "2  c    7\n",
       "3  d    9"
      ]
     },
     "execution_count": 65,
     "metadata": {},
     "output_type": "execute_result"
    }
   ],
   "source": [
    "df[df.val > 5]"
   ]
  },
  {
   "cell_type": "code",
   "execution_count": 71,
   "metadata": {
    "colab": {},
    "colab_type": "code",
    "id": "-kzWQvggJHNa",
    "outputId": "575fe702-5da5-428f-c1c2-6ba606c6dbcb"
   },
   "outputs": [
    {
     "data": {
      "text/html": [
       "<div>\n",
       "<style scoped>\n",
       "    .dataframe tbody tr th:only-of-type {\n",
       "        vertical-align: middle;\n",
       "    }\n",
       "\n",
       "    .dataframe tbody tr th {\n",
       "        vertical-align: top;\n",
       "    }\n",
       "\n",
       "    .dataframe thead th {\n",
       "        text-align: right;\n",
       "    }\n",
       "</style>\n",
       "<table border=\"1\" class=\"dataframe\">\n",
       "  <thead>\n",
       "    <tr style=\"text-align: right;\">\n",
       "      <th></th>\n",
       "      <th>id</th>\n",
       "      <th>val</th>\n",
       "    </tr>\n",
       "  </thead>\n",
       "  <tbody>\n",
       "    <tr>\n",
       "      <th>3</th>\n",
       "      <td>d</td>\n",
       "      <td>9</td>\n",
       "    </tr>\n",
       "    <tr>\n",
       "      <th>4</th>\n",
       "      <td>e</td>\n",
       "      <td>5</td>\n",
       "    </tr>\n",
       "  </tbody>\n",
       "</table>\n",
       "</div>"
      ],
      "text/plain": [
       "  id  val\n",
       "3  d    9\n",
       "4  e    5"
      ]
     },
     "execution_count": 71,
     "metadata": {},
     "output_type": "execute_result"
    }
   ],
   "source": [
    "#Multiple Conditions\n",
    "\n",
    "df[(df.val > 4)&(df.id != 'c')] \n",
    "#df[(df.val>5) | (df.id=='a')] #bitwise operators | or operator, & and operator. You cannot use and or"
   ]
  },
  {
   "cell_type": "markdown",
   "metadata": {
    "colab_type": "text",
    "id": "KxcI3Zh1JHNr"
   },
   "source": [
    "### isin()"
   ]
  },
  {
   "cell_type": "code",
   "execution_count": 76,
   "metadata": {
    "colab": {},
    "colab_type": "code",
    "id": "aWu24_FcJHNr",
    "outputId": "0dc5d1da-ce97-4fa8-c461-95609a9faf89"
   },
   "outputs": [
    {
     "data": {
      "text/html": [
       "<div>\n",
       "<style scoped>\n",
       "    .dataframe tbody tr th:only-of-type {\n",
       "        vertical-align: middle;\n",
       "    }\n",
       "\n",
       "    .dataframe tbody tr th {\n",
       "        vertical-align: top;\n",
       "    }\n",
       "\n",
       "    .dataframe thead th {\n",
       "        text-align: right;\n",
       "    }\n",
       "</style>\n",
       "<table border=\"1\" class=\"dataframe\">\n",
       "  <thead>\n",
       "    <tr style=\"text-align: right;\">\n",
       "      <th></th>\n",
       "      <th>id</th>\n",
       "      <th>val</th>\n",
       "    </tr>\n",
       "  </thead>\n",
       "  <tbody>\n",
       "    <tr>\n",
       "      <th>0</th>\n",
       "      <td>a</td>\n",
       "      <td>4</td>\n",
       "    </tr>\n",
       "    <tr>\n",
       "      <th>3</th>\n",
       "      <td>d</td>\n",
       "      <td>9</td>\n",
       "    </tr>\n",
       "    <tr>\n",
       "      <th>4</th>\n",
       "      <td>e</td>\n",
       "      <td>5</td>\n",
       "    </tr>\n",
       "  </tbody>\n",
       "</table>\n",
       "</div>"
      ],
      "text/plain": [
       "  id  val\n",
       "0  a    4\n",
       "3  d    9\n",
       "4  e    5"
      ]
     },
     "execution_count": 76,
     "metadata": {},
     "output_type": "execute_result"
    }
   ],
   "source": [
    "#select only the rows from the dataframe with id in the list\n",
    "l = ['a', 'd', 'e']\n",
    "df[df.id.isin(l)]"
   ]
  },
  {
   "cell_type": "code",
   "execution_count": 77,
   "metadata": {
    "colab": {},
    "colab_type": "code",
    "id": "hjevPtLrJHNx",
    "outputId": "54b0c6b9-86c7-42a5-de28-f823c19ef40f"
   },
   "outputs": [
    {
     "ename": "FileNotFoundError",
     "evalue": "[Errno 2] File ipl/deliveries.csv does not exist: 'ipl/deliveries.csv'",
     "output_type": "error",
     "traceback": [
      "\u001b[1;31m---------------------------------------------------------------------------\u001b[0m",
      "\u001b[1;31mFileNotFoundError\u001b[0m                         Traceback (most recent call last)",
      "\u001b[1;32m<ipython-input-77-f285df002b04>\u001b[0m in \u001b[0;36m<module>\u001b[1;34m\u001b[0m\n\u001b[1;32m----> 1\u001b[1;33m \u001b[0mdeliveries\u001b[0m \u001b[1;33m=\u001b[0m \u001b[0mpd\u001b[0m\u001b[1;33m.\u001b[0m\u001b[0mread_csv\u001b[0m\u001b[1;33m(\u001b[0m\u001b[1;34m'ipl/deliveries.csv'\u001b[0m\u001b[1;33m)\u001b[0m\u001b[1;33m\u001b[0m\u001b[1;33m\u001b[0m\u001b[0m\n\u001b[0m\u001b[0;32m      2\u001b[0m \u001b[0mdeliveries\u001b[0m\u001b[1;33m.\u001b[0m\u001b[0mhead\u001b[0m\u001b[1;33m(\u001b[0m\u001b[1;33m)\u001b[0m\u001b[1;33m\u001b[0m\u001b[1;33m\u001b[0m\u001b[0m\n",
      "\u001b[1;32m~\\anaconda3\\lib\\site-packages\\pandas\\io\\parsers.py\u001b[0m in \u001b[0;36mparser_f\u001b[1;34m(filepath_or_buffer, sep, delimiter, header, names, index_col, usecols, squeeze, prefix, mangle_dupe_cols, dtype, engine, converters, true_values, false_values, skipinitialspace, skiprows, skipfooter, nrows, na_values, keep_default_na, na_filter, verbose, skip_blank_lines, parse_dates, infer_datetime_format, keep_date_col, date_parser, dayfirst, cache_dates, iterator, chunksize, compression, thousands, decimal, lineterminator, quotechar, quoting, doublequote, escapechar, comment, encoding, dialect, error_bad_lines, warn_bad_lines, delim_whitespace, low_memory, memory_map, float_precision)\u001b[0m\n\u001b[0;32m    674\u001b[0m         )\n\u001b[0;32m    675\u001b[0m \u001b[1;33m\u001b[0m\u001b[0m\n\u001b[1;32m--> 676\u001b[1;33m         \u001b[1;32mreturn\u001b[0m \u001b[0m_read\u001b[0m\u001b[1;33m(\u001b[0m\u001b[0mfilepath_or_buffer\u001b[0m\u001b[1;33m,\u001b[0m \u001b[0mkwds\u001b[0m\u001b[1;33m)\u001b[0m\u001b[1;33m\u001b[0m\u001b[1;33m\u001b[0m\u001b[0m\n\u001b[0m\u001b[0;32m    677\u001b[0m \u001b[1;33m\u001b[0m\u001b[0m\n\u001b[0;32m    678\u001b[0m     \u001b[0mparser_f\u001b[0m\u001b[1;33m.\u001b[0m\u001b[0m__name__\u001b[0m \u001b[1;33m=\u001b[0m \u001b[0mname\u001b[0m\u001b[1;33m\u001b[0m\u001b[1;33m\u001b[0m\u001b[0m\n",
      "\u001b[1;32m~\\anaconda3\\lib\\site-packages\\pandas\\io\\parsers.py\u001b[0m in \u001b[0;36m_read\u001b[1;34m(filepath_or_buffer, kwds)\u001b[0m\n\u001b[0;32m    446\u001b[0m \u001b[1;33m\u001b[0m\u001b[0m\n\u001b[0;32m    447\u001b[0m     \u001b[1;31m# Create the parser.\u001b[0m\u001b[1;33m\u001b[0m\u001b[1;33m\u001b[0m\u001b[1;33m\u001b[0m\u001b[0m\n\u001b[1;32m--> 448\u001b[1;33m     \u001b[0mparser\u001b[0m \u001b[1;33m=\u001b[0m \u001b[0mTextFileReader\u001b[0m\u001b[1;33m(\u001b[0m\u001b[0mfp_or_buf\u001b[0m\u001b[1;33m,\u001b[0m \u001b[1;33m**\u001b[0m\u001b[0mkwds\u001b[0m\u001b[1;33m)\u001b[0m\u001b[1;33m\u001b[0m\u001b[1;33m\u001b[0m\u001b[0m\n\u001b[0m\u001b[0;32m    449\u001b[0m \u001b[1;33m\u001b[0m\u001b[0m\n\u001b[0;32m    450\u001b[0m     \u001b[1;32mif\u001b[0m \u001b[0mchunksize\u001b[0m \u001b[1;32mor\u001b[0m \u001b[0miterator\u001b[0m\u001b[1;33m:\u001b[0m\u001b[1;33m\u001b[0m\u001b[1;33m\u001b[0m\u001b[0m\n",
      "\u001b[1;32m~\\anaconda3\\lib\\site-packages\\pandas\\io\\parsers.py\u001b[0m in \u001b[0;36m__init__\u001b[1;34m(self, f, engine, **kwds)\u001b[0m\n\u001b[0;32m    878\u001b[0m             \u001b[0mself\u001b[0m\u001b[1;33m.\u001b[0m\u001b[0moptions\u001b[0m\u001b[1;33m[\u001b[0m\u001b[1;34m\"has_index_names\"\u001b[0m\u001b[1;33m]\u001b[0m \u001b[1;33m=\u001b[0m \u001b[0mkwds\u001b[0m\u001b[1;33m[\u001b[0m\u001b[1;34m\"has_index_names\"\u001b[0m\u001b[1;33m]\u001b[0m\u001b[1;33m\u001b[0m\u001b[1;33m\u001b[0m\u001b[0m\n\u001b[0;32m    879\u001b[0m \u001b[1;33m\u001b[0m\u001b[0m\n\u001b[1;32m--> 880\u001b[1;33m         \u001b[0mself\u001b[0m\u001b[1;33m.\u001b[0m\u001b[0m_make_engine\u001b[0m\u001b[1;33m(\u001b[0m\u001b[0mself\u001b[0m\u001b[1;33m.\u001b[0m\u001b[0mengine\u001b[0m\u001b[1;33m)\u001b[0m\u001b[1;33m\u001b[0m\u001b[1;33m\u001b[0m\u001b[0m\n\u001b[0m\u001b[0;32m    881\u001b[0m \u001b[1;33m\u001b[0m\u001b[0m\n\u001b[0;32m    882\u001b[0m     \u001b[1;32mdef\u001b[0m \u001b[0mclose\u001b[0m\u001b[1;33m(\u001b[0m\u001b[0mself\u001b[0m\u001b[1;33m)\u001b[0m\u001b[1;33m:\u001b[0m\u001b[1;33m\u001b[0m\u001b[1;33m\u001b[0m\u001b[0m\n",
      "\u001b[1;32m~\\anaconda3\\lib\\site-packages\\pandas\\io\\parsers.py\u001b[0m in \u001b[0;36m_make_engine\u001b[1;34m(self, engine)\u001b[0m\n\u001b[0;32m   1112\u001b[0m     \u001b[1;32mdef\u001b[0m \u001b[0m_make_engine\u001b[0m\u001b[1;33m(\u001b[0m\u001b[0mself\u001b[0m\u001b[1;33m,\u001b[0m \u001b[0mengine\u001b[0m\u001b[1;33m=\u001b[0m\u001b[1;34m\"c\"\u001b[0m\u001b[1;33m)\u001b[0m\u001b[1;33m:\u001b[0m\u001b[1;33m\u001b[0m\u001b[1;33m\u001b[0m\u001b[0m\n\u001b[0;32m   1113\u001b[0m         \u001b[1;32mif\u001b[0m \u001b[0mengine\u001b[0m \u001b[1;33m==\u001b[0m \u001b[1;34m\"c\"\u001b[0m\u001b[1;33m:\u001b[0m\u001b[1;33m\u001b[0m\u001b[1;33m\u001b[0m\u001b[0m\n\u001b[1;32m-> 1114\u001b[1;33m             \u001b[0mself\u001b[0m\u001b[1;33m.\u001b[0m\u001b[0m_engine\u001b[0m \u001b[1;33m=\u001b[0m \u001b[0mCParserWrapper\u001b[0m\u001b[1;33m(\u001b[0m\u001b[0mself\u001b[0m\u001b[1;33m.\u001b[0m\u001b[0mf\u001b[0m\u001b[1;33m,\u001b[0m \u001b[1;33m**\u001b[0m\u001b[0mself\u001b[0m\u001b[1;33m.\u001b[0m\u001b[0moptions\u001b[0m\u001b[1;33m)\u001b[0m\u001b[1;33m\u001b[0m\u001b[1;33m\u001b[0m\u001b[0m\n\u001b[0m\u001b[0;32m   1115\u001b[0m         \u001b[1;32melse\u001b[0m\u001b[1;33m:\u001b[0m\u001b[1;33m\u001b[0m\u001b[1;33m\u001b[0m\u001b[0m\n\u001b[0;32m   1116\u001b[0m             \u001b[1;32mif\u001b[0m \u001b[0mengine\u001b[0m \u001b[1;33m==\u001b[0m \u001b[1;34m\"python\"\u001b[0m\u001b[1;33m:\u001b[0m\u001b[1;33m\u001b[0m\u001b[1;33m\u001b[0m\u001b[0m\n",
      "\u001b[1;32m~\\anaconda3\\lib\\site-packages\\pandas\\io\\parsers.py\u001b[0m in \u001b[0;36m__init__\u001b[1;34m(self, src, **kwds)\u001b[0m\n\u001b[0;32m   1889\u001b[0m         \u001b[0mkwds\u001b[0m\u001b[1;33m[\u001b[0m\u001b[1;34m\"usecols\"\u001b[0m\u001b[1;33m]\u001b[0m \u001b[1;33m=\u001b[0m \u001b[0mself\u001b[0m\u001b[1;33m.\u001b[0m\u001b[0musecols\u001b[0m\u001b[1;33m\u001b[0m\u001b[1;33m\u001b[0m\u001b[0m\n\u001b[0;32m   1890\u001b[0m \u001b[1;33m\u001b[0m\u001b[0m\n\u001b[1;32m-> 1891\u001b[1;33m         \u001b[0mself\u001b[0m\u001b[1;33m.\u001b[0m\u001b[0m_reader\u001b[0m \u001b[1;33m=\u001b[0m \u001b[0mparsers\u001b[0m\u001b[1;33m.\u001b[0m\u001b[0mTextReader\u001b[0m\u001b[1;33m(\u001b[0m\u001b[0msrc\u001b[0m\u001b[1;33m,\u001b[0m \u001b[1;33m**\u001b[0m\u001b[0mkwds\u001b[0m\u001b[1;33m)\u001b[0m\u001b[1;33m\u001b[0m\u001b[1;33m\u001b[0m\u001b[0m\n\u001b[0m\u001b[0;32m   1892\u001b[0m         \u001b[0mself\u001b[0m\u001b[1;33m.\u001b[0m\u001b[0munnamed_cols\u001b[0m \u001b[1;33m=\u001b[0m \u001b[0mself\u001b[0m\u001b[1;33m.\u001b[0m\u001b[0m_reader\u001b[0m\u001b[1;33m.\u001b[0m\u001b[0munnamed_cols\u001b[0m\u001b[1;33m\u001b[0m\u001b[1;33m\u001b[0m\u001b[0m\n\u001b[0;32m   1893\u001b[0m \u001b[1;33m\u001b[0m\u001b[0m\n",
      "\u001b[1;32mpandas\\_libs\\parsers.pyx\u001b[0m in \u001b[0;36mpandas._libs.parsers.TextReader.__cinit__\u001b[1;34m()\u001b[0m\n",
      "\u001b[1;32mpandas\\_libs\\parsers.pyx\u001b[0m in \u001b[0;36mpandas._libs.parsers.TextReader._setup_parser_source\u001b[1;34m()\u001b[0m\n",
      "\u001b[1;31mFileNotFoundError\u001b[0m: [Errno 2] File ipl/deliveries.csv does not exist: 'ipl/deliveries.csv'"
     ]
    }
   ],
   "source": [
    "deliveries = pd.read_csv('ipl/deliveries.csv')\n",
    "deliveries.head()"
   ]
  },
  {
   "cell_type": "code",
   "execution_count": 78,
   "metadata": {
    "colab": {},
    "colab_type": "code",
    "id": "Z4G6TIxnJHN6",
    "outputId": "adb0975b-b4cd-48a8-f709-c5f07a08846b"
   },
   "outputs": [
    {
     "ename": "NameError",
     "evalue": "name 'deliveries' is not defined",
     "output_type": "error",
     "traceback": [
      "\u001b[1;31m---------------------------------------------------------------------------\u001b[0m",
      "\u001b[1;31mNameError\u001b[0m                                 Traceback (most recent call last)",
      "\u001b[1;32m<ipython-input-78-981375423512>\u001b[0m in \u001b[0;36m<module>\u001b[1;34m\u001b[0m\n\u001b[0;32m      3\u001b[0m \u001b[1;33m\u001b[0m\u001b[0m\n\u001b[0;32m      4\u001b[0m \u001b[0mkey_batsmen\u001b[0m\u001b[1;33m=\u001b[0m\u001b[1;33m[\u001b[0m\u001b[1;34m'MS Dhoni'\u001b[0m\u001b[1;33m,\u001b[0m\u001b[1;34m'V Kohli'\u001b[0m\u001b[1;33m,\u001b[0m\u001b[1;34m'R Sharma'\u001b[0m\u001b[1;33m]\u001b[0m\u001b[1;33m\u001b[0m\u001b[1;33m\u001b[0m\u001b[0m\n\u001b[1;32m----> 5\u001b[1;33m \u001b[0mdeliveries\u001b[0m\u001b[1;33m[\u001b[0m\u001b[0mdeliveries\u001b[0m\u001b[1;33m.\u001b[0m\u001b[0mbatsmen\u001b[0m\u001b[1;33m.\u001b[0m\u001b[0misin\u001b[0m\u001b[1;33m(\u001b[0m\u001b[0mkey_batsmen\u001b[0m\u001b[1;33m)\u001b[0m\u001b[1;33m]\u001b[0m\u001b[1;33m.\u001b[0m\u001b[0mhead\u001b[0m\u001b[1;33m(\u001b[0m\u001b[1;33m)\u001b[0m\u001b[1;33m\u001b[0m\u001b[1;33m\u001b[0m\u001b[0m\n\u001b[0m",
      "\u001b[1;31mNameError\u001b[0m: name 'deliveries' is not defined"
     ]
    }
   ],
   "source": [
    "#key_batsmen = ['MS Dhoni', 'V Kohli', 'R Sharma']\n",
    "#deliveries[deliveries.batsman.isin(key_batsmen)].head()\n",
    "\n",
    "key_batsmen=['MS Dhoni','V Kohli','R Sharma']\n",
    "deliveries[deliveries.batsmen.isin(key_batsmen)].head()"
   ]
  },
  {
   "cell_type": "markdown",
   "metadata": {
    "colab_type": "text",
    "id": "Zw3Y2teVJHON"
   },
   "source": [
    "### Handling Missing Data\n",
    "\n",
    "https://pandas.pydata.org/pandas-docs/stable/generated/pandas.DataFrame.dropna.html\n"
   ]
  },
  {
   "cell_type": "code",
   "execution_count": 79,
   "metadata": {
    "colab": {},
    "colab_type": "code",
    "id": "yVRhu6VpJHOS",
    "outputId": "5590beba-1aaa-4a5a-8344-5dc5b4af2800"
   },
   "outputs": [
    {
     "data": {
      "text/html": [
       "<div>\n",
       "<style scoped>\n",
       "    .dataframe tbody tr th:only-of-type {\n",
       "        vertical-align: middle;\n",
       "    }\n",
       "\n",
       "    .dataframe tbody tr th {\n",
       "        vertical-align: top;\n",
       "    }\n",
       "\n",
       "    .dataframe thead th {\n",
       "        text-align: right;\n",
       "    }\n",
       "</style>\n",
       "<table border=\"1\" class=\"dataframe\">\n",
       "  <thead>\n",
       "    <tr style=\"text-align: right;\">\n",
       "      <th></th>\n",
       "      <th>id</th>\n",
       "      <th>val1</th>\n",
       "      <th>val2</th>\n",
       "    </tr>\n",
       "  </thead>\n",
       "  <tbody>\n",
       "    <tr>\n",
       "      <th>0</th>\n",
       "      <td>a</td>\n",
       "      <td>4.0</td>\n",
       "      <td>8.0</td>\n",
       "    </tr>\n",
       "    <tr>\n",
       "      <th>1</th>\n",
       "      <td>b</td>\n",
       "      <td>NaN</td>\n",
       "      <td>3.0</td>\n",
       "    </tr>\n",
       "    <tr>\n",
       "      <th>2</th>\n",
       "      <td>NaN</td>\n",
       "      <td>7.0</td>\n",
       "      <td>NaN</td>\n",
       "    </tr>\n",
       "    <tr>\n",
       "      <th>3</th>\n",
       "      <td>d</td>\n",
       "      <td>9.0</td>\n",
       "      <td>4.0</td>\n",
       "    </tr>\n",
       "    <tr>\n",
       "      <th>4</th>\n",
       "      <td>e</td>\n",
       "      <td>5.0</td>\n",
       "      <td>NaN</td>\n",
       "    </tr>\n",
       "  </tbody>\n",
       "</table>\n",
       "</div>"
      ],
      "text/plain": [
       "    id  val1  val2\n",
       "0    a   4.0   8.0\n",
       "1    b   NaN   3.0\n",
       "2  NaN   7.0   NaN\n",
       "3    d   9.0   4.0\n",
       "4    e   5.0   NaN"
      ]
     },
     "execution_count": 79,
     "metadata": {},
     "output_type": "execute_result"
    }
   ],
   "source": [
    "df = pd.DataFrame({'id': ['a', 'b', np.nan, 'd', 'e'],'val1':[4,np.nan,7,9,5], 'val2': [8,3,np.nan, 4,np.nan]})\n",
    "df#.isnull() # not a number"
   ]
  },
  {
   "cell_type": "code",
   "execution_count": 87,
   "metadata": {},
   "outputs": [],
   "source": [
    "#df.dropna(axis=1)"
   ]
  },
  {
   "cell_type": "code",
   "execution_count": 88,
   "metadata": {
    "colab": {},
    "colab_type": "code",
    "id": "z9vM1l7qJHOg",
    "outputId": "4d5125d1-72c4-4f61-f364-33cad3ac198b"
   },
   "outputs": [
    {
     "data": {
      "text/html": [
       "<div>\n",
       "<style scoped>\n",
       "    .dataframe tbody tr th:only-of-type {\n",
       "        vertical-align: middle;\n",
       "    }\n",
       "\n",
       "    .dataframe tbody tr th {\n",
       "        vertical-align: top;\n",
       "    }\n",
       "\n",
       "    .dataframe thead th {\n",
       "        text-align: right;\n",
       "    }\n",
       "</style>\n",
       "<table border=\"1\" class=\"dataframe\">\n",
       "  <thead>\n",
       "    <tr style=\"text-align: right;\">\n",
       "      <th></th>\n",
       "      <th>id</th>\n",
       "      <th>val1</th>\n",
       "      <th>val2</th>\n",
       "    </tr>\n",
       "  </thead>\n",
       "  <tbody>\n",
       "    <tr>\n",
       "      <th>0</th>\n",
       "      <td>a</td>\n",
       "      <td>4.0</td>\n",
       "      <td>8.0</td>\n",
       "    </tr>\n",
       "    <tr>\n",
       "      <th>3</th>\n",
       "      <td>d</td>\n",
       "      <td>9.0</td>\n",
       "      <td>4.0</td>\n",
       "    </tr>\n",
       "  </tbody>\n",
       "</table>\n",
       "</div>"
      ],
      "text/plain": [
       "  id  val1  val2\n",
       "0  a   4.0   8.0\n",
       "3  d   9.0   4.0"
      ]
     },
     "execution_count": 88,
     "metadata": {},
     "output_type": "execute_result"
    }
   ],
   "source": [
    "df.dropna(axis =0) #default axis 0, use axis = 1 to drop column"
   ]
  },
  {
   "cell_type": "markdown",
   "metadata": {
    "colab_type": "text",
    "id": "AVBfhuQKJHOj"
   },
   "source": [
    "#### fillna(method = {‘backfill’, ‘bfill’, ‘pad’, ‘ffill’, None})\n",
    "\n",
    "https://pandas.pydata.org/pandas-docs/stable/generated/pandas.DataFrame.fillna.html"
   ]
  },
  {
   "cell_type": "code",
   "execution_count": null,
   "metadata": {
    "colab": {},
    "colab_type": "code",
    "id": "swudzeN1JHOk",
    "outputId": "37c57266-c3f5-4dbc-e9e7-a8b83270ace6"
   },
   "outputs": [
    {
     "data": {
      "text/html": [
       "<div>\n",
       "<table border=\"1\" class=\"dataframe\">\n",
       "  <thead>\n",
       "    <tr style=\"text-align: right;\">\n",
       "      <th></th>\n",
       "      <th>id</th>\n",
       "      <th>val1</th>\n",
       "      <th>val2</th>\n",
       "    </tr>\n",
       "  </thead>\n",
       "  <tbody>\n",
       "    <tr>\n",
       "      <th>0</th>\n",
       "      <td>a</td>\n",
       "      <td>4.0</td>\n",
       "      <td>8.0</td>\n",
       "    </tr>\n",
       "    <tr>\n",
       "      <th>1</th>\n",
       "      <td>b</td>\n",
       "      <td>0.0</td>\n",
       "      <td>3.0</td>\n",
       "    </tr>\n",
       "    <tr>\n",
       "      <th>2</th>\n",
       "      <td>0</td>\n",
       "      <td>7.0</td>\n",
       "      <td>0.0</td>\n",
       "    </tr>\n",
       "    <tr>\n",
       "      <th>3</th>\n",
       "      <td>d</td>\n",
       "      <td>9.0</td>\n",
       "      <td>4.0</td>\n",
       "    </tr>\n",
       "    <tr>\n",
       "      <th>4</th>\n",
       "      <td>e</td>\n",
       "      <td>5.0</td>\n",
       "      <td>0.0</td>\n",
       "    </tr>\n",
       "  </tbody>\n",
       "</table>\n",
       "</div>"
      ],
      "text/plain": [
       "  id  val1  val2\n",
       "0  a   4.0   8.0\n",
       "1  b   0.0   3.0\n",
       "2  0   7.0   0.0\n",
       "3  d   9.0   4.0\n",
       "4  e   5.0   0.0"
      ]
     },
     "execution_count": 45,
     "metadata": {
      "tags": []
     },
     "output_type": "execute_result"
    }
   ],
   "source": [
    "df.fillna(0) #assignment needed"
   ]
  },
  {
   "cell_type": "code",
   "execution_count": null,
   "metadata": {
    "colab": {},
    "colab_type": "code",
    "id": "sXnXLmCLJHOp",
    "outputId": "830eb2ae-6288-4b24-c169-387b8dfb3d07"
   },
   "outputs": [
    {
     "data": {
      "text/html": [
       "<div>\n",
       "<table border=\"1\" class=\"dataframe\">\n",
       "  <thead>\n",
       "    <tr style=\"text-align: right;\">\n",
       "      <th></th>\n",
       "      <th>id</th>\n",
       "      <th>val1</th>\n",
       "      <th>val2</th>\n",
       "    </tr>\n",
       "  </thead>\n",
       "  <tbody>\n",
       "    <tr>\n",
       "      <th>0</th>\n",
       "      <td>a</td>\n",
       "      <td>4</td>\n",
       "      <td>8</td>\n",
       "    </tr>\n",
       "    <tr>\n",
       "      <th>1</th>\n",
       "      <td>b</td>\n",
       "      <td>duh</td>\n",
       "      <td>3</td>\n",
       "    </tr>\n",
       "    <tr>\n",
       "      <th>2</th>\n",
       "      <td>duh</td>\n",
       "      <td>7</td>\n",
       "      <td>duh</td>\n",
       "    </tr>\n",
       "    <tr>\n",
       "      <th>3</th>\n",
       "      <td>d</td>\n",
       "      <td>9</td>\n",
       "      <td>4</td>\n",
       "    </tr>\n",
       "    <tr>\n",
       "      <th>4</th>\n",
       "      <td>e</td>\n",
       "      <td>5</td>\n",
       "      <td>duh</td>\n",
       "    </tr>\n",
       "  </tbody>\n",
       "</table>\n",
       "</div>"
      ],
      "text/plain": [
       "    id val1 val2\n",
       "0    a    4    8\n",
       "1    b  duh    3\n",
       "2  duh    7  duh\n",
       "3    d    9    4\n",
       "4    e    5  duh"
      ]
     },
     "execution_count": 46,
     "metadata": {
      "tags": []
     },
     "output_type": "execute_result"
    }
   ],
   "source": [
    "df.fillna('duh') #can even fillna by a string"
   ]
  },
  {
   "cell_type": "code",
   "execution_count": null,
   "metadata": {
    "colab": {},
    "colab_type": "code",
    "id": "XUYoq-zEJHOw",
    "outputId": "9c349c74-dc2c-4e0d-8939-b3730b98bd1e"
   },
   "outputs": [
    {
     "data": {
      "text/html": [
       "<div>\n",
       "<table border=\"1\" class=\"dataframe\">\n",
       "  <thead>\n",
       "    <tr style=\"text-align: right;\">\n",
       "      <th></th>\n",
       "      <th>id</th>\n",
       "      <th>val1</th>\n",
       "      <th>val2</th>\n",
       "    </tr>\n",
       "  </thead>\n",
       "  <tbody>\n",
       "    <tr>\n",
       "      <th>0</th>\n",
       "      <td>a</td>\n",
       "      <td>4.0</td>\n",
       "      <td>8.0</td>\n",
       "    </tr>\n",
       "    <tr>\n",
       "      <th>1</th>\n",
       "      <td>b</td>\n",
       "      <td>7.0</td>\n",
       "      <td>3.0</td>\n",
       "    </tr>\n",
       "    <tr>\n",
       "      <th>2</th>\n",
       "      <td>d</td>\n",
       "      <td>7.0</td>\n",
       "      <td>4.0</td>\n",
       "    </tr>\n",
       "    <tr>\n",
       "      <th>3</th>\n",
       "      <td>d</td>\n",
       "      <td>9.0</td>\n",
       "      <td>4.0</td>\n",
       "    </tr>\n",
       "    <tr>\n",
       "      <th>4</th>\n",
       "      <td>e</td>\n",
       "      <td>5.0</td>\n",
       "      <td>NaN</td>\n",
       "    </tr>\n",
       "  </tbody>\n",
       "</table>\n",
       "</div>"
      ],
      "text/plain": [
       "  id  val1  val2\n",
       "0  a   4.0   8.0\n",
       "1  b   7.0   3.0\n",
       "2  d   7.0   4.0\n",
       "3  d   9.0   4.0\n",
       "4  e   5.0   NaN"
      ]
     },
     "execution_count": 47,
     "metadata": {
      "tags": []
     },
     "output_type": "execute_result"
    }
   ],
   "source": [
    "df.fillna(method = 'bfill')"
   ]
  },
  {
   "cell_type": "code",
   "execution_count": null,
   "metadata": {
    "colab": {},
    "colab_type": "code",
    "id": "D7VztdPmJHO2",
    "outputId": "281c967f-b3e6-43c7-93a1-d86fa19ef612"
   },
   "outputs": [
    {
     "data": {
      "text/html": [
       "<div>\n",
       "<table border=\"1\" class=\"dataframe\">\n",
       "  <thead>\n",
       "    <tr style=\"text-align: right;\">\n",
       "      <th></th>\n",
       "      <th>id</th>\n",
       "      <th>val1</th>\n",
       "      <th>val2</th>\n",
       "    </tr>\n",
       "  </thead>\n",
       "  <tbody>\n",
       "    <tr>\n",
       "      <th>0</th>\n",
       "      <td>a</td>\n",
       "      <td>4.0</td>\n",
       "      <td>8.0</td>\n",
       "    </tr>\n",
       "    <tr>\n",
       "      <th>1</th>\n",
       "      <td>b</td>\n",
       "      <td>4.0</td>\n",
       "      <td>3.0</td>\n",
       "    </tr>\n",
       "    <tr>\n",
       "      <th>2</th>\n",
       "      <td>b</td>\n",
       "      <td>7.0</td>\n",
       "      <td>3.0</td>\n",
       "    </tr>\n",
       "    <tr>\n",
       "      <th>3</th>\n",
       "      <td>d</td>\n",
       "      <td>9.0</td>\n",
       "      <td>4.0</td>\n",
       "    </tr>\n",
       "    <tr>\n",
       "      <th>4</th>\n",
       "      <td>e</td>\n",
       "      <td>5.0</td>\n",
       "      <td>4.0</td>\n",
       "    </tr>\n",
       "  </tbody>\n",
       "</table>\n",
       "</div>"
      ],
      "text/plain": [
       "  id  val1  val2\n",
       "0  a   4.0   8.0\n",
       "1  b   4.0   3.0\n",
       "2  b   7.0   3.0\n",
       "3  d   9.0   4.0\n",
       "4  e   5.0   4.0"
      ]
     },
     "execution_count": 48,
     "metadata": {
      "tags": []
     },
     "output_type": "execute_result"
    }
   ],
   "source": [
    "df.fillna(method = 'ffill')"
   ]
  },
  {
   "cell_type": "code",
   "execution_count": null,
   "metadata": {
    "colab": {},
    "colab_type": "code",
    "id": "HtspUHB9JHO6",
    "outputId": "70f5d9c4-0afb-4d24-d23b-6ffbd39a36d1"
   },
   "outputs": [
    {
     "data": {
      "text/html": [
       "<div>\n",
       "<table border=\"1\" class=\"dataframe\">\n",
       "  <thead>\n",
       "    <tr style=\"text-align: right;\">\n",
       "      <th></th>\n",
       "      <th>id</th>\n",
       "      <th>val1</th>\n",
       "      <th>val2</th>\n",
       "    </tr>\n",
       "  </thead>\n",
       "  <tbody>\n",
       "    <tr>\n",
       "      <th>0</th>\n",
       "      <td>a</td>\n",
       "      <td>4.0</td>\n",
       "      <td>8.0</td>\n",
       "    </tr>\n",
       "    <tr>\n",
       "      <th>1</th>\n",
       "      <td>b</td>\n",
       "      <td>4.0</td>\n",
       "      <td>3.0</td>\n",
       "    </tr>\n",
       "    <tr>\n",
       "      <th>2</th>\n",
       "      <td>b</td>\n",
       "      <td>7.0</td>\n",
       "      <td>3.0</td>\n",
       "    </tr>\n",
       "    <tr>\n",
       "      <th>3</th>\n",
       "      <td>d</td>\n",
       "      <td>9.0</td>\n",
       "      <td>4.0</td>\n",
       "    </tr>\n",
       "    <tr>\n",
       "      <th>4</th>\n",
       "      <td>e</td>\n",
       "      <td>5.0</td>\n",
       "      <td>4.0</td>\n",
       "    </tr>\n",
       "  </tbody>\n",
       "</table>\n",
       "</div>"
      ],
      "text/plain": [
       "  id  val1  val2\n",
       "0  a   4.0   8.0\n",
       "1  b   4.0   3.0\n",
       "2  b   7.0   3.0\n",
       "3  d   9.0   4.0\n",
       "4  e   5.0   4.0"
      ]
     },
     "execution_count": 49,
     "metadata": {
      "tags": []
     },
     "output_type": "execute_result"
    }
   ],
   "source": [
    "df.ffill()"
   ]
  },
  {
   "cell_type": "markdown",
   "metadata": {
    "colab_type": "text",
    "collapsed": true,
    "id": "0A9f9gdsJHPE"
   },
   "source": [
    "### Filling  with pandas object"
   ]
  },
  {
   "cell_type": "code",
   "execution_count": 90,
   "metadata": {
    "colab": {},
    "colab_type": "code",
    "id": "3Uf6aT24JHPF",
    "outputId": "6fdb2a26-010a-4caa-ff28-d9d4fb853664"
   },
   "outputs": [
    {
     "data": {
      "text/html": [
       "<div>\n",
       "<style scoped>\n",
       "    .dataframe tbody tr th:only-of-type {\n",
       "        vertical-align: middle;\n",
       "    }\n",
       "\n",
       "    .dataframe tbody tr th {\n",
       "        vertical-align: top;\n",
       "    }\n",
       "\n",
       "    .dataframe thead th {\n",
       "        text-align: right;\n",
       "    }\n",
       "</style>\n",
       "<table border=\"1\" class=\"dataframe\">\n",
       "  <thead>\n",
       "    <tr style=\"text-align: right;\">\n",
       "      <th></th>\n",
       "      <th>id</th>\n",
       "      <th>val1</th>\n",
       "      <th>val2</th>\n",
       "    </tr>\n",
       "  </thead>\n",
       "  <tbody>\n",
       "    <tr>\n",
       "      <th>0</th>\n",
       "      <td>a</td>\n",
       "      <td>4.00</td>\n",
       "      <td>8.0</td>\n",
       "    </tr>\n",
       "    <tr>\n",
       "      <th>1</th>\n",
       "      <td>b</td>\n",
       "      <td>6.25</td>\n",
       "      <td>3.0</td>\n",
       "    </tr>\n",
       "    <tr>\n",
       "      <th>2</th>\n",
       "      <td>NaN</td>\n",
       "      <td>7.00</td>\n",
       "      <td>5.0</td>\n",
       "    </tr>\n",
       "    <tr>\n",
       "      <th>3</th>\n",
       "      <td>d</td>\n",
       "      <td>9.00</td>\n",
       "      <td>4.0</td>\n",
       "    </tr>\n",
       "    <tr>\n",
       "      <th>4</th>\n",
       "      <td>e</td>\n",
       "      <td>5.00</td>\n",
       "      <td>5.0</td>\n",
       "    </tr>\n",
       "  </tbody>\n",
       "</table>\n",
       "</div>"
      ],
      "text/plain": [
       "    id  val1  val2\n",
       "0    a  4.00   8.0\n",
       "1    b  6.25   3.0\n",
       "2  NaN  7.00   5.0\n",
       "3    d  9.00   4.0\n",
       "4    e  5.00   5.0"
      ]
     },
     "execution_count": 90,
     "metadata": {},
     "output_type": "execute_result"
    }
   ],
   "source": [
    "#fill the na values by the mean of the column\n",
    "df.fillna(df.mean())"
   ]
  },
  {
   "cell_type": "code",
   "execution_count": 94,
   "metadata": {
    "colab": {},
    "colab_type": "code",
    "id": "F5SUIcdFJHPO",
    "outputId": "bac8d872-0afe-4e05-a54c-28a5f8cf2125"
   },
   "outputs": [
    {
     "data": {
      "text/plain": [
       "0    4.0\n",
       "1    6.0\n",
       "2    7.0\n",
       "3    9.0\n",
       "4    5.0\n",
       "Name: val1, dtype: float64"
      ]
     },
     "execution_count": 94,
     "metadata": {},
     "output_type": "execute_result"
    }
   ],
   "source": [
    "#Fill NAs by another series\n",
    "df['val3'] = pd.Series([9,6,3,8,1])\n",
    "df.val1 = df.val1.fillna(df.val3) #series which is another column in the same df\n",
    "df.val1.fillna(df.val3)"
   ]
  },
  {
   "cell_type": "code",
   "execution_count": null,
   "metadata": {
    "colab": {},
    "colab_type": "code",
    "id": "gmQDCvQrJHPT",
    "outputId": "ed7ba8aa-3fb3-484b-a63a-e3dcf06bc358"
   },
   "outputs": [
    {
     "data": {
      "text/html": [
       "<div>\n",
       "<table border=\"1\" class=\"dataframe\">\n",
       "  <thead>\n",
       "    <tr style=\"text-align: right;\">\n",
       "      <th></th>\n",
       "      <th>id</th>\n",
       "      <th>val1</th>\n",
       "      <th>val2</th>\n",
       "      <th>val3</th>\n",
       "    </tr>\n",
       "  </thead>\n",
       "  <tbody>\n",
       "    <tr>\n",
       "      <th>0</th>\n",
       "      <td>a</td>\n",
       "      <td>4.0</td>\n",
       "      <td>8.0</td>\n",
       "      <td>9</td>\n",
       "    </tr>\n",
       "    <tr>\n",
       "      <th>1</th>\n",
       "      <td>b</td>\n",
       "      <td>6.0</td>\n",
       "      <td>3.0</td>\n",
       "      <td>6</td>\n",
       "    </tr>\n",
       "    <tr>\n",
       "      <th>2</th>\n",
       "      <td>45</td>\n",
       "      <td>7.0</td>\n",
       "      <td>45.0</td>\n",
       "      <td>3</td>\n",
       "    </tr>\n",
       "    <tr>\n",
       "      <th>3</th>\n",
       "      <td>d</td>\n",
       "      <td>9.0</td>\n",
       "      <td>4.0</td>\n",
       "      <td>8</td>\n",
       "    </tr>\n",
       "    <tr>\n",
       "      <th>4</th>\n",
       "      <td>e</td>\n",
       "      <td>5.0</td>\n",
       "      <td>234.0</td>\n",
       "      <td>1</td>\n",
       "    </tr>\n",
       "  </tbody>\n",
       "</table>\n",
       "</div>"
      ],
      "text/plain": [
       "   id  val1   val2  val3\n",
       "0   a   4.0    8.0     9\n",
       "1   b   6.0    3.0     6\n",
       "2  45   7.0   45.0     3\n",
       "3   d   9.0    4.0     8\n",
       "4   e   5.0  234.0     1"
      ]
     },
     "execution_count": 52,
     "metadata": {
      "tags": []
     },
     "output_type": "execute_result"
    }
   ],
   "source": [
    "s = pd.Series([100,321,45,87,234, 3]) \n",
    "df.val1 = df.val1.fillna(s) #s does not have to be a part of the df\n",
    "df.val2 = df.val2.fillna(s)\n",
    "df.id = df.id.fillna(s)\n",
    "df"
   ]
  },
  {
   "cell_type": "code",
   "execution_count": null,
   "metadata": {
    "colab": {},
    "colab_type": "code",
    "id": "TZWT52WKJHPY",
    "outputId": "a2290868-81b2-4eda-b1a8-ba62302893d7"
   },
   "outputs": [
    {
     "data": {
      "text/html": [
       "<div>\n",
       "<table border=\"1\" class=\"dataframe\">\n",
       "  <thead>\n",
       "    <tr style=\"text-align: right;\">\n",
       "      <th></th>\n",
       "      <th>id</th>\n",
       "      <th>val1</th>\n",
       "    </tr>\n",
       "  </thead>\n",
       "  <tbody>\n",
       "    <tr>\n",
       "      <th>0</th>\n",
       "      <td>a</td>\n",
       "      <td>5.0</td>\n",
       "    </tr>\n",
       "    <tr>\n",
       "      <th>1</th>\n",
       "      <td>b</td>\n",
       "      <td>10.0</td>\n",
       "    </tr>\n",
       "    <tr>\n",
       "      <th>2</th>\n",
       "      <td>c</td>\n",
       "      <td>15.0</td>\n",
       "    </tr>\n",
       "    <tr>\n",
       "      <th>3</th>\n",
       "      <td>NaN</td>\n",
       "      <td>20.0</td>\n",
       "    </tr>\n",
       "    <tr>\n",
       "      <th>4</th>\n",
       "      <td>e</td>\n",
       "      <td>25.0</td>\n",
       "    </tr>\n",
       "    <tr>\n",
       "      <th>5</th>\n",
       "      <td>f</td>\n",
       "      <td>30.0</td>\n",
       "    </tr>\n",
       "  </tbody>\n",
       "</table>\n",
       "</div>"
      ],
      "text/plain": [
       "    id  val1\n",
       "0    a   5.0\n",
       "1    b  10.0\n",
       "2    c  15.0\n",
       "3  NaN  20.0\n",
       "4    e  25.0\n",
       "5    f  30.0"
      ]
     },
     "execution_count": 53,
     "metadata": {
      "tags": []
     },
     "output_type": "execute_result"
    }
   ],
   "source": [
    "#interpolation\n",
    "df = pd.DataFrame({'id': ['a', 'b', 'c', np.nan, 'e', 'f'],'val1':[5,np.nan,15,20,np.nan, 30]})\n",
    "df.interpolate()"
   ]
  },
  {
   "cell_type": "markdown",
   "metadata": {
    "colab_type": "text",
    "id": "ApqO9K8lJHPg"
   },
   "source": [
    "### Replace values in a dataframe\n",
    "https://pandas.pydata.org/pandas-docs/stable/generated/pandas.DataFrame.replace.html"
   ]
  },
  {
   "cell_type": "code",
   "execution_count": 96,
   "metadata": {
    "colab": {},
    "colab_type": "code",
    "id": "vBdm-2T_JHPg",
    "outputId": "843f5129-a857-472d-bd17-7be48b401dff"
   },
   "outputs": [
    {
     "data": {
      "text/html": [
       "<div>\n",
       "<style scoped>\n",
       "    .dataframe tbody tr th:only-of-type {\n",
       "        vertical-align: middle;\n",
       "    }\n",
       "\n",
       "    .dataframe tbody tr th {\n",
       "        vertical-align: top;\n",
       "    }\n",
       "\n",
       "    .dataframe thead th {\n",
       "        text-align: right;\n",
       "    }\n",
       "</style>\n",
       "<table border=\"1\" class=\"dataframe\">\n",
       "  <thead>\n",
       "    <tr style=\"text-align: right;\">\n",
       "      <th></th>\n",
       "      <th>id</th>\n",
       "      <th>val1</th>\n",
       "    </tr>\n",
       "  </thead>\n",
       "  <tbody>\n",
       "    <tr>\n",
       "      <th>0</th>\n",
       "      <td>a</td>\n",
       "      <td>10</td>\n",
       "    </tr>\n",
       "    <tr>\n",
       "      <th>1</th>\n",
       "      <td>b</td>\n",
       "      <td>8</td>\n",
       "    </tr>\n",
       "    <tr>\n",
       "      <th>2</th>\n",
       "      <td>c</td>\n",
       "      <td>30</td>\n",
       "    </tr>\n",
       "    <tr>\n",
       "      <th>3</th>\n",
       "      <td>d</td>\n",
       "      <td>40</td>\n",
       "    </tr>\n",
       "    <tr>\n",
       "      <th>4</th>\n",
       "      <td>e</td>\n",
       "      <td>23</td>\n",
       "    </tr>\n",
       "  </tbody>\n",
       "</table>\n",
       "</div>"
      ],
      "text/plain": [
       "  id  val1\n",
       "0  a    10\n",
       "1  b     8\n",
       "2  c    30\n",
       "3  d    40\n",
       "4  e    23"
      ]
     },
     "execution_count": 96,
     "metadata": {},
     "output_type": "execute_result"
    }
   ],
   "source": [
    "df = pd.DataFrame({'id': ['a', 'b', 'c', 'd', 'e'],'val1':[10,8,30,40,23]})\n",
    "df#['id']"
   ]
  },
  {
   "cell_type": "code",
   "execution_count": 98,
   "metadata": {
    "colab": {},
    "colab_type": "code",
    "id": "JdASHR75JHPj"
   },
   "outputs": [
    {
     "data": {
      "text/html": [
       "<div>\n",
       "<style scoped>\n",
       "    .dataframe tbody tr th:only-of-type {\n",
       "        vertical-align: middle;\n",
       "    }\n",
       "\n",
       "    .dataframe tbody tr th {\n",
       "        vertical-align: top;\n",
       "    }\n",
       "\n",
       "    .dataframe thead th {\n",
       "        text-align: right;\n",
       "    }\n",
       "</style>\n",
       "<table border=\"1\" class=\"dataframe\">\n",
       "  <thead>\n",
       "    <tr style=\"text-align: right;\">\n",
       "      <th></th>\n",
       "      <th>id</th>\n",
       "      <th>val1</th>\n",
       "    </tr>\n",
       "  </thead>\n",
       "  <tbody>\n",
       "    <tr>\n",
       "      <th>0</th>\n",
       "      <td>a</td>\n",
       "      <td>200</td>\n",
       "    </tr>\n",
       "    <tr>\n",
       "      <th>1</th>\n",
       "      <td>b</td>\n",
       "      <td>8</td>\n",
       "    </tr>\n",
       "    <tr>\n",
       "      <th>2</th>\n",
       "      <td>c</td>\n",
       "      <td>200</td>\n",
       "    </tr>\n",
       "    <tr>\n",
       "      <th>3</th>\n",
       "      <td>d</td>\n",
       "      <td>40</td>\n",
       "    </tr>\n",
       "    <tr>\n",
       "      <th>4</th>\n",
       "      <td>e</td>\n",
       "      <td>23</td>\n",
       "    </tr>\n",
       "  </tbody>\n",
       "</table>\n",
       "</div>"
      ],
      "text/plain": [
       "  id  val1\n",
       "0  a   200\n",
       "1  b     8\n",
       "2  c   200\n",
       "3  d    40\n",
       "4  e    23"
      ]
     },
     "execution_count": 98,
     "metadata": {},
     "output_type": "execute_result"
    }
   ],
   "source": [
    "df.replace([10,30], 200, inplace = True)\n",
    "df"
   ]
  },
  {
   "cell_type": "code",
   "execution_count": 99,
   "metadata": {
    "colab": {},
    "colab_type": "code",
    "id": "tll7N8ZGJHPn",
    "outputId": "a0d1f78e-d836-4889-ae6a-9d942acfe252"
   },
   "outputs": [
    {
     "data": {
      "text/html": [
       "<div>\n",
       "<style scoped>\n",
       "    .dataframe tbody tr th:only-of-type {\n",
       "        vertical-align: middle;\n",
       "    }\n",
       "\n",
       "    .dataframe tbody tr th {\n",
       "        vertical-align: top;\n",
       "    }\n",
       "\n",
       "    .dataframe thead th {\n",
       "        text-align: right;\n",
       "    }\n",
       "</style>\n",
       "<table border=\"1\" class=\"dataframe\">\n",
       "  <thead>\n",
       "    <tr style=\"text-align: right;\">\n",
       "      <th></th>\n",
       "      <th>id</th>\n",
       "      <th>val1</th>\n",
       "    </tr>\n",
       "  </thead>\n",
       "  <tbody>\n",
       "    <tr>\n",
       "      <th>0</th>\n",
       "      <td>a_b</td>\n",
       "      <td>200</td>\n",
       "    </tr>\n",
       "    <tr>\n",
       "      <th>1</th>\n",
       "      <td>a_b</td>\n",
       "      <td>8</td>\n",
       "    </tr>\n",
       "    <tr>\n",
       "      <th>2</th>\n",
       "      <td>c</td>\n",
       "      <td>200</td>\n",
       "    </tr>\n",
       "    <tr>\n",
       "      <th>3</th>\n",
       "      <td>d</td>\n",
       "      <td>40</td>\n",
       "    </tr>\n",
       "    <tr>\n",
       "      <th>4</th>\n",
       "      <td>e</td>\n",
       "      <td>23</td>\n",
       "    </tr>\n",
       "  </tbody>\n",
       "</table>\n",
       "</div>"
      ],
      "text/plain": [
       "    id  val1\n",
       "0  a_b   200\n",
       "1  a_b     8\n",
       "2    c   200\n",
       "3    d    40\n",
       "4    e    23"
      ]
     },
     "execution_count": 99,
     "metadata": {},
     "output_type": "execute_result"
    }
   ],
   "source": [
    "df.replace(['a', 'b'], 'a_b')"
   ]
  },
  {
   "cell_type": "code",
   "execution_count": null,
   "metadata": {
    "colab": {},
    "colab_type": "code",
    "id": "BGzQ7EtsJHPr",
    "outputId": "f9fccf9d-283d-478f-b7da-71a73e9287aa"
   },
   "outputs": [
    {
     "data": {
      "text/html": [
       "<div>\n",
       "<table border=\"1\" class=\"dataframe\">\n",
       "  <thead>\n",
       "    <tr style=\"text-align: right;\">\n",
       "      <th></th>\n",
       "      <th>id</th>\n",
       "      <th>val1</th>\n",
       "    </tr>\n",
       "  </thead>\n",
       "  <tbody>\n",
       "    <tr>\n",
       "      <th>0</th>\n",
       "      <td>atoz</td>\n",
       "      <td>200</td>\n",
       "    </tr>\n",
       "    <tr>\n",
       "      <th>1</th>\n",
       "      <td>btoz</td>\n",
       "      <td>8</td>\n",
       "    </tr>\n",
       "    <tr>\n",
       "      <th>2</th>\n",
       "      <td>c</td>\n",
       "      <td>30</td>\n",
       "    </tr>\n",
       "    <tr>\n",
       "      <th>3</th>\n",
       "      <td>d</td>\n",
       "      <td>40</td>\n",
       "    </tr>\n",
       "    <tr>\n",
       "      <th>4</th>\n",
       "      <td>e</td>\n",
       "      <td>23</td>\n",
       "    </tr>\n",
       "  </tbody>\n",
       "</table>\n",
       "</div>"
      ],
      "text/plain": [
       "     id  val1\n",
       "0  atoz   200\n",
       "1  btoz     8\n",
       "2     c    30\n",
       "3     d    40\n",
       "4     e    23"
      ]
     },
     "execution_count": 57,
     "metadata": {
      "tags": []
     },
     "output_type": "execute_result"
    }
   ],
   "source": [
    "df.replace({'a': 'atoz', 'b': 'btoz'})"
   ]
  },
  {
   "cell_type": "code",
   "execution_count": 101,
   "metadata": {
    "colab": {},
    "colab_type": "code",
    "id": "i73vh6nTJHPx",
    "outputId": "1257ab32-cc6d-4ab7-9b53-cd174d9d4156"
   },
   "outputs": [
    {
     "data": {
      "text/html": [
       "<div>\n",
       "<style scoped>\n",
       "    .dataframe tbody tr th:only-of-type {\n",
       "        vertical-align: middle;\n",
       "    }\n",
       "\n",
       "    .dataframe tbody tr th {\n",
       "        vertical-align: top;\n",
       "    }\n",
       "\n",
       "    .dataframe thead th {\n",
       "        text-align: right;\n",
       "    }\n",
       "</style>\n",
       "<table border=\"1\" class=\"dataframe\">\n",
       "  <thead>\n",
       "    <tr style=\"text-align: right;\">\n",
       "      <th></th>\n",
       "      <th>id</th>\n",
       "      <th>val1</th>\n",
       "    </tr>\n",
       "  </thead>\n",
       "  <tbody>\n",
       "    <tr>\n",
       "      <th>0</th>\n",
       "      <td>abc</td>\n",
       "      <td>200</td>\n",
       "    </tr>\n",
       "    <tr>\n",
       "      <th>1</th>\n",
       "      <td>bcd</td>\n",
       "      <td>8</td>\n",
       "    </tr>\n",
       "    <tr>\n",
       "      <th>2</th>\n",
       "      <td>cde</td>\n",
       "      <td>200</td>\n",
       "    </tr>\n",
       "    <tr>\n",
       "      <th>3</th>\n",
       "      <td>def</td>\n",
       "      <td>40</td>\n",
       "    </tr>\n",
       "    <tr>\n",
       "      <th>4</th>\n",
       "      <td>efg</td>\n",
       "      <td>23</td>\n",
       "    </tr>\n",
       "  </tbody>\n",
       "</table>\n",
       "</div>"
      ],
      "text/plain": [
       "    id  val1\n",
       "0  abc   200\n",
       "1  bcd     8\n",
       "2  cde   200\n",
       "3  def    40\n",
       "4  efg    23"
      ]
     },
     "execution_count": 101,
     "metadata": {},
     "output_type": "execute_result"
    }
   ],
   "source": [
    "d = {'a': 'abc', 'b': 'bcd', 'c': 'cde', 'd': 'def','e':'efg'}\n",
    "df.replace(d)"
   ]
  },
  {
   "cell_type": "markdown",
   "metadata": {
    "colab_type": "text",
    "id": "N6BUBB_eJHP0"
   },
   "source": [
    "#### pd.Series.map\n",
    "https://pandas.pydata.org/pandas-docs/stable/generated/pandas.Series.map.html"
   ]
  },
  {
   "cell_type": "code",
   "execution_count": 102,
   "metadata": {
    "colab": {},
    "colab_type": "code",
    "id": "3SXkSlVBJHP1",
    "outputId": "9da2beee-e745-4d35-cfee-fedfe3130f5f"
   },
   "outputs": [
    {
     "data": {
      "text/html": [
       "<div>\n",
       "<style scoped>\n",
       "    .dataframe tbody tr th:only-of-type {\n",
       "        vertical-align: middle;\n",
       "    }\n",
       "\n",
       "    .dataframe tbody tr th {\n",
       "        vertical-align: top;\n",
       "    }\n",
       "\n",
       "    .dataframe thead th {\n",
       "        text-align: right;\n",
       "    }\n",
       "</style>\n",
       "<table border=\"1\" class=\"dataframe\">\n",
       "  <thead>\n",
       "    <tr style=\"text-align: right;\">\n",
       "      <th></th>\n",
       "      <th>id</th>\n",
       "      <th>val1</th>\n",
       "    </tr>\n",
       "  </thead>\n",
       "  <tbody>\n",
       "    <tr>\n",
       "      <th>0</th>\n",
       "      <td>abc</td>\n",
       "      <td>200</td>\n",
       "    </tr>\n",
       "    <tr>\n",
       "      <th>1</th>\n",
       "      <td>bcd</td>\n",
       "      <td>8</td>\n",
       "    </tr>\n",
       "    <tr>\n",
       "      <th>2</th>\n",
       "      <td>cde</td>\n",
       "      <td>200</td>\n",
       "    </tr>\n",
       "    <tr>\n",
       "      <th>3</th>\n",
       "      <td>def</td>\n",
       "      <td>40</td>\n",
       "    </tr>\n",
       "    <tr>\n",
       "      <th>4</th>\n",
       "      <td>efg</td>\n",
       "      <td>23</td>\n",
       "    </tr>\n",
       "  </tbody>\n",
       "</table>\n",
       "</div>"
      ],
      "text/plain": [
       "    id  val1\n",
       "0  abc   200\n",
       "1  bcd     8\n",
       "2  cde   200\n",
       "3  def    40\n",
       "4  efg    23"
      ]
     },
     "execution_count": 102,
     "metadata": {},
     "output_type": "execute_result"
    }
   ],
   "source": [
    "df.id = df.id.map(d)\n",
    "df"
   ]
  },
  {
   "cell_type": "markdown",
   "metadata": {
    "colab_type": "text",
    "id": "RTYn1PaHJHP6"
   },
   "source": [
    "### Different scenarios in Data Analysis:"
   ]
  },
  {
   "cell_type": "code",
   "execution_count": null,
   "metadata": {
    "colab": {},
    "colab_type": "code",
    "id": "jS5EubzuJHP6"
   },
   "outputs": [],
   "source": [
    "#Missing data"
   ]
  },
  {
   "cell_type": "code",
   "execution_count": 105,
   "metadata": {
    "colab": {},
    "colab_type": "code",
    "id": "ErQnQYMZJHP9",
    "outputId": "f2aa5fac-3609-4ca0-c91a-2a7fbd45fbba"
   },
   "outputs": [
    {
     "data": {
      "text/html": [
       "<div>\n",
       "<style scoped>\n",
       "    .dataframe tbody tr th:only-of-type {\n",
       "        vertical-align: middle;\n",
       "    }\n",
       "\n",
       "    .dataframe tbody tr th {\n",
       "        vertical-align: top;\n",
       "    }\n",
       "\n",
       "    .dataframe thead th {\n",
       "        text-align: right;\n",
       "    }\n",
       "</style>\n",
       "<table border=\"1\" class=\"dataframe\">\n",
       "  <thead>\n",
       "    <tr style=\"text-align: right;\">\n",
       "      <th></th>\n",
       "      <th>Player</th>\n",
       "    </tr>\n",
       "  </thead>\n",
       "  <tbody>\n",
       "    <tr>\n",
       "      <th>0</th>\n",
       "      <td>Duminy (c)</td>\n",
       "    </tr>\n",
       "    <tr>\n",
       "      <th>2</th>\n",
       "      <td>Sharma (c)</td>\n",
       "    </tr>\n",
       "    <tr>\n",
       "      <th>5</th>\n",
       "      <td>Kohli (c)</td>\n",
       "    </tr>\n",
       "  </tbody>\n",
       "</table>\n",
       "</div>"
      ],
      "text/plain": [
       "       Player\n",
       "0  Duminy (c)\n",
       "2  Sharma (c)\n",
       "5   Kohli (c)"
      ]
     },
     "execution_count": 105,
     "metadata": {},
     "output_type": "execute_result"
    }
   ],
   "source": [
    "#String Manipulation: values in the form of a string\n",
    "df = pd.DataFrame({'Player': ['Duminy (c)', 'Morkel', 'Sharma (c)', 'Bravo', 'Malinga', 'Kohli (c)', 'Dhoni']})\n",
    "df\n",
    "df[df.Player.str.contains('(c)')]\n",
    "#df[df.player.str.contains('(c)')]"
   ]
  },
  {
   "cell_type": "code",
   "execution_count": 108,
   "metadata": {
    "colab": {},
    "colab_type": "code",
    "id": "nLDGRZYBJHQD",
    "outputId": "9f9928ce-056f-4ffb-bad2-59e759a19d42"
   },
   "outputs": [
    {
     "data": {
      "text/html": [
       "<div>\n",
       "<style scoped>\n",
       "    .dataframe tbody tr th:only-of-type {\n",
       "        vertical-align: middle;\n",
       "    }\n",
       "\n",
       "    .dataframe tbody tr th {\n",
       "        vertical-align: top;\n",
       "    }\n",
       "\n",
       "    .dataframe thead th {\n",
       "        text-align: right;\n",
       "    }\n",
       "</style>\n",
       "<table border=\"1\" class=\"dataframe\">\n",
       "  <thead>\n",
       "    <tr style=\"text-align: right;\">\n",
       "      <th></th>\n",
       "      <th>Movie</th>\n",
       "    </tr>\n",
       "  </thead>\n",
       "  <tbody>\n",
       "    <tr>\n",
       "      <th>0</th>\n",
       "      <td>Toy Story (1995)</td>\n",
       "    </tr>\n",
       "    <tr>\n",
       "      <th>1</th>\n",
       "      <td>Golden Eye (1995)</td>\n",
       "    </tr>\n",
       "    <tr>\n",
       "      <th>2</th>\n",
       "      <td>Four Rooms (1995)</td>\n",
       "    </tr>\n",
       "    <tr>\n",
       "      <th>3</th>\n",
       "      <td>Get Shorty (1995)</td>\n",
       "    </tr>\n",
       "    <tr>\n",
       "      <th>4</th>\n",
       "      <td>Copy cat (1995)</td>\n",
       "    </tr>\n",
       "  </tbody>\n",
       "</table>\n",
       "</div>"
      ],
      "text/plain": [
       "               Movie\n",
       "0   Toy Story (1995)\n",
       "1  Golden Eye (1995)\n",
       "2  Four Rooms (1995)\n",
       "3  Get Shorty (1995)\n",
       "4    Copy cat (1995)"
      ]
     },
     "execution_count": 108,
     "metadata": {},
     "output_type": "execute_result"
    }
   ],
   "source": [
    "#Messy Data: multiple values in each cell\n",
    "    \n",
    "df = pd.DataFrame({'Movie':['Toy Story (1995)', 'Golden Eye (1995)', 'Four Rooms (1995)', 'Get Shorty (1995)', 'Copy cat (1995)']})\n",
    "df"
   ]
  },
  {
   "cell_type": "code",
   "execution_count": 113,
   "metadata": {
    "colab": {},
    "colab_type": "code",
    "id": "kd0y1sb-JHQF",
    "outputId": "012a0f9f-5bd0-44e8-a920-a155f0f0946b"
   },
   "outputs": [
    {
     "data": {
      "text/html": [
       "<div>\n",
       "<style scoped>\n",
       "    .dataframe tbody tr th:only-of-type {\n",
       "        vertical-align: middle;\n",
       "    }\n",
       "\n",
       "    .dataframe tbody tr th {\n",
       "        vertical-align: top;\n",
       "    }\n",
       "\n",
       "    .dataframe thead th {\n",
       "        text-align: right;\n",
       "    }\n",
       "</style>\n",
       "<table border=\"1\" class=\"dataframe\">\n",
       "  <thead>\n",
       "    <tr style=\"text-align: right;\">\n",
       "      <th></th>\n",
       "      <th>Movie</th>\n",
       "      <th>Title</th>\n",
       "      <th>Year</th>\n",
       "      <th>Mov</th>\n",
       "      <th>Yr1</th>\n",
       "      <th>Name</th>\n",
       "    </tr>\n",
       "  </thead>\n",
       "  <tbody>\n",
       "    <tr>\n",
       "      <th>0</th>\n",
       "      <td>Toy Story (1995)</td>\n",
       "      <td>Toy Story</td>\n",
       "      <td>1995</td>\n",
       "      <td>Toy Story (1995)</td>\n",
       "      <td>1995</td>\n",
       "      <td>Toy Story</td>\n",
       "    </tr>\n",
       "    <tr>\n",
       "      <th>1</th>\n",
       "      <td>Golden Eye (1995)</td>\n",
       "      <td>Golden Eye</td>\n",
       "      <td>1995</td>\n",
       "      <td>Golden Eye (1995)</td>\n",
       "      <td>1995</td>\n",
       "      <td>Golden Eye</td>\n",
       "    </tr>\n",
       "    <tr>\n",
       "      <th>2</th>\n",
       "      <td>Four Rooms (1995)</td>\n",
       "      <td>Four Rooms</td>\n",
       "      <td>1995</td>\n",
       "      <td>Four Rooms (1995)</td>\n",
       "      <td>1995</td>\n",
       "      <td>Four Rooms</td>\n",
       "    </tr>\n",
       "    <tr>\n",
       "      <th>3</th>\n",
       "      <td>Get Shorty (1995)</td>\n",
       "      <td>Get Shorty</td>\n",
       "      <td>1995</td>\n",
       "      <td>Get Shorty (1995)</td>\n",
       "      <td>1995</td>\n",
       "      <td>Get Shorty</td>\n",
       "    </tr>\n",
       "    <tr>\n",
       "      <th>4</th>\n",
       "      <td>Copy cat (1995)</td>\n",
       "      <td>Copy cat</td>\n",
       "      <td>1995</td>\n",
       "      <td>Copy cat (1995)</td>\n",
       "      <td>1995</td>\n",
       "      <td>Copy cat</td>\n",
       "    </tr>\n",
       "  </tbody>\n",
       "</table>\n",
       "</div>"
      ],
      "text/plain": [
       "               Movie        Title  Year                Mov   Yr1         Name\n",
       "0   Toy Story (1995)   Toy Story   1995   Toy Story (1995)  1995   Toy Story \n",
       "1  Golden Eye (1995)  Golden Eye   1995  Golden Eye (1995)  1995  Golden Eye \n",
       "2  Four Rooms (1995)  Four Rooms   1995  Four Rooms (1995)  1995  Four Rooms \n",
       "3  Get Shorty (1995)  Get Shorty   1995  Get Shorty (1995)  1995  Get Shorty \n",
       "4    Copy cat (1995)    Copy cat   1995    Copy cat (1995)  1995    Copy cat "
      ]
     },
     "execution_count": 113,
     "metadata": {},
     "output_type": "execute_result"
    }
   ],
   "source": [
    "df['Movie'] = df['Movie'].astype(str)\n",
    "df['Title'] = df.Movie.str.extract('([A-Za-z ]+)', expand = False)\n",
    "df['Year'] = df.Movie.str.extract('(\\d+)', expand = False)\n",
    "df\n",
    "\n",
    "df['Mov']=df['Movie'].astype(str)\n",
    "df['Yr1']=df.Movie.str.extract('(\\d+)',expand=False)\n",
    "df['Name']=df.Movie.str.extract('([A-Za-z ]+)',expand=False)\n",
    "df"
   ]
  },
  {
   "cell_type": "code",
   "execution_count": null,
   "metadata": {
    "colab": {},
    "colab_type": "code",
    "id": "nfOoagLxJHQI"
   },
   "outputs": [],
   "source": [
    "#Time Series data: stock, any data with datetime column"
   ]
  },
  {
   "cell_type": "code",
   "execution_count": null,
   "metadata": {
    "colab": {},
    "colab_type": "code",
    "id": "XfJy3GyhJHQM"
   },
   "outputs": [],
   "source": [
    "#Encoding"
   ]
  },
  {
   "cell_type": "markdown",
   "metadata": {
    "colab_type": "text",
    "id": "tomzNiUKJHQQ"
   },
   "source": [
    "### Reindex,  set_index and reset_index()\n",
    "\n",
    "https://pandas.pydata.org/pandas-docs/stable/generated/pandas.DataFrame.reindex.html"
   ]
  },
  {
   "cell_type": "code",
   "execution_count": 114,
   "metadata": {
    "colab": {},
    "colab_type": "code",
    "id": "CLv9uAeuJHQR",
    "outputId": "a9248c70-661d-4e9e-9cf2-1255beac2998"
   },
   "outputs": [
    {
     "data": {
      "text/html": [
       "<div>\n",
       "<style scoped>\n",
       "    .dataframe tbody tr th:only-of-type {\n",
       "        vertical-align: middle;\n",
       "    }\n",
       "\n",
       "    .dataframe tbody tr th {\n",
       "        vertical-align: top;\n",
       "    }\n",
       "\n",
       "    .dataframe thead th {\n",
       "        text-align: right;\n",
       "    }\n",
       "</style>\n",
       "<table border=\"1\" class=\"dataframe\">\n",
       "  <thead>\n",
       "    <tr style=\"text-align: right;\">\n",
       "      <th></th>\n",
       "      <th>stock_price</th>\n",
       "    </tr>\n",
       "  </thead>\n",
       "  <tbody>\n",
       "    <tr>\n",
       "      <th>Alphabet</th>\n",
       "      <td>1004.28</td>\n",
       "    </tr>\n",
       "    <tr>\n",
       "      <th>Apple</th>\n",
       "      <td>154.99</td>\n",
       "    </tr>\n",
       "    <tr>\n",
       "      <th>Microsoft</th>\n",
       "      <td>71.95</td>\n",
       "    </tr>\n",
       "    <tr>\n",
       "      <th>Amazon</th>\n",
       "      <td>1010.27</td>\n",
       "    </tr>\n",
       "    <tr>\n",
       "      <th>PayPal</th>\n",
       "      <td>54.39</td>\n",
       "    </tr>\n",
       "  </tbody>\n",
       "</table>\n",
       "</div>"
      ],
      "text/plain": [
       "           stock_price\n",
       "Alphabet       1004.28\n",
       "Apple           154.99\n",
       "Microsoft        71.95\n",
       "Amazon         1010.27\n",
       "PayPal           54.39"
      ]
     },
     "execution_count": 114,
     "metadata": {},
     "output_type": "execute_result"
    }
   ],
   "source": [
    "index = ['Alphabet', 'Apple', 'Microsoft', 'Amazon', 'PayPal']\n",
    "df = pd.DataFrame({'stock_price': [1004.28,154.99,71.95,1010.27,54.39]},index=index)\n",
    "df"
   ]
  },
  {
   "cell_type": "code",
   "execution_count": 116,
   "metadata": {
    "colab": {},
    "colab_type": "code",
    "id": "Bqu6NFlaJHQX",
    "outputId": "d57b0bf7-f569-4dad-c8ed-8af25677e5d9"
   },
   "outputs": [
    {
     "data": {
      "text/html": [
       "<div>\n",
       "<style scoped>\n",
       "    .dataframe tbody tr th:only-of-type {\n",
       "        vertical-align: middle;\n",
       "    }\n",
       "\n",
       "    .dataframe tbody tr th {\n",
       "        vertical-align: top;\n",
       "    }\n",
       "\n",
       "    .dataframe thead th {\n",
       "        text-align: right;\n",
       "    }\n",
       "</style>\n",
       "<table border=\"1\" class=\"dataframe\">\n",
       "  <thead>\n",
       "    <tr style=\"text-align: right;\">\n",
       "      <th></th>\n",
       "      <th>stock_price</th>\n",
       "    </tr>\n",
       "  </thead>\n",
       "  <tbody>\n",
       "    <tr>\n",
       "      <th>Alphabet</th>\n",
       "      <td>1004.28</td>\n",
       "    </tr>\n",
       "    <tr>\n",
       "      <th>Apple</th>\n",
       "      <td>154.99</td>\n",
       "    </tr>\n",
       "    <tr>\n",
       "      <th>Amazon</th>\n",
       "      <td>1010.27</td>\n",
       "    </tr>\n",
       "    <tr>\n",
       "      <th>Linkedin</th>\n",
       "      <td>NaN</td>\n",
       "    </tr>\n",
       "    <tr>\n",
       "      <th>Visa</th>\n",
       "      <td>NaN</td>\n",
       "    </tr>\n",
       "  </tbody>\n",
       "</table>\n",
       "</div>"
      ],
      "text/plain": [
       "          stock_price\n",
       "Alphabet      1004.28\n",
       "Apple          154.99\n",
       "Amazon        1010.27\n",
       "Linkedin          NaN\n",
       "Visa              NaN"
      ]
     },
     "execution_count": 116,
     "metadata": {},
     "output_type": "execute_result"
    }
   ],
   "source": [
    "new_index = ['Alphabet', 'Apple', 'Amazon','Linkedin', 'Visa']\n",
    "df = df.reindex(new_index)\n",
    "df"
   ]
  },
  {
   "cell_type": "markdown",
   "metadata": {
    "colab_type": "text",
    "id": "ytPWEaN3JHQa"
   },
   "source": [
    "### set_index\n",
    "https://pandas.pydata.org/pandas-docs/stable/generated/pandas.DataFrame.set_index.html\n",
    "\n",
    "https://pandas.pydata.org/pandas-docs/stable/advanced.html"
   ]
  },
  {
   "cell_type": "code",
   "execution_count": 1,
   "metadata": {
    "colab": {},
    "colab_type": "code",
    "id": "8954w352JHQa",
    "outputId": "a522e3f9-9b3f-4b03-caf1-9c016f7af58a"
   },
   "outputs": [
    {
     "ename": "NameError",
     "evalue": "name 'pd' is not defined",
     "output_type": "error",
     "traceback": [
      "\u001b[1;31m---------------------------------------------------------------------------\u001b[0m",
      "\u001b[1;31mNameError\u001b[0m                                 Traceback (most recent call last)",
      "\u001b[1;32m<ipython-input-1-aad126721c15>\u001b[0m in \u001b[0;36m<module>\u001b[1;34m\u001b[0m\n\u001b[1;32m----> 1\u001b[1;33m df = pd.DataFrame({'Stock_price': [1004.28,154.99,71.95,1010.27,54.39], 'Year': ['2016','2017','2016','2017','2017'],\n\u001b[0m\u001b[0;32m      2\u001b[0m                    'Company':['Alphabet', 'Alphabet', 'Microsoft', 'Amazon', 'Amazon']})\n\u001b[0;32m      3\u001b[0m \u001b[0mdf\u001b[0m\u001b[1;33m\u001b[0m\u001b[1;33m\u001b[0m\u001b[0m\n",
      "\u001b[1;31mNameError\u001b[0m: name 'pd' is not defined"
     ]
    }
   ],
   "source": [
    "df = pd.DataFrame({'Stock_price': [1004.28,154.99,71.95,1010.27,54.39], 'Year': ['2016','2017','2016','2017','2017'],\n",
    "                   'Company':['Alphabet', 'Alphabet', 'Microsoft', 'Amazon', 'Amazon']})\n",
    "df"
   ]
  },
  {
   "cell_type": "code",
   "execution_count": 2,
   "metadata": {
    "colab": {},
    "colab_type": "code",
    "id": "HBbsP9ncJHQd",
    "outputId": "3ecd8f1d-8bbe-4f3b-8799-df47b9e734ca"
   },
   "outputs": [
    {
     "ename": "NameError",
     "evalue": "name 'df' is not defined",
     "output_type": "error",
     "traceback": [
      "\u001b[1;31m---------------------------------------------------------------------------\u001b[0m",
      "\u001b[1;31mNameError\u001b[0m                                 Traceback (most recent call last)",
      "\u001b[1;32m<ipython-input-2-c89d5885f0fb>\u001b[0m in \u001b[0;36m<module>\u001b[1;34m\u001b[0m\n\u001b[0;32m      1\u001b[0m \u001b[1;31m# df.set_index('Company')\u001b[0m\u001b[1;33m\u001b[0m\u001b[1;33m\u001b[0m\u001b[1;33m\u001b[0m\u001b[0m\n\u001b[0;32m      2\u001b[0m \u001b[1;31m# df.set_index(['Company', 'Year']) #multi-index dataframe\u001b[0m\u001b[1;33m\u001b[0m\u001b[1;33m\u001b[0m\u001b[1;33m\u001b[0m\u001b[0m\n\u001b[1;32m----> 3\u001b[1;33m \u001b[0mdf\u001b[0m\u001b[1;33m.\u001b[0m\u001b[0mset_index\u001b[0m\u001b[1;33m(\u001b[0m\u001b[1;34m'Company'\u001b[0m\u001b[1;33m,\u001b[0m\u001b[1;34m'Year'\u001b[0m\u001b[1;33m)\u001b[0m\u001b[1;33m\u001b[0m\u001b[1;33m\u001b[0m\u001b[0m\n\u001b[0m",
      "\u001b[1;31mNameError\u001b[0m: name 'df' is not defined"
     ]
    }
   ],
   "source": [
    "# df.set_index('Company')\n",
    "# df.set_index(['Company', 'Year']) #multi-index dataframe\n",
    "df.set_index('Company','Year')"
   ]
  },
  {
   "cell_type": "code",
   "execution_count": 130,
   "metadata": {
    "colab": {},
    "colab_type": "code",
    "id": "UYJqETSvJHQj",
    "outputId": "404501b5-4660-4390-8d68-7450fe4d3ba8"
   },
   "outputs": [
    {
     "data": {
      "text/html": [
       "<div>\n",
       "<style scoped>\n",
       "    .dataframe tbody tr th:only-of-type {\n",
       "        vertical-align: middle;\n",
       "    }\n",
       "\n",
       "    .dataframe tbody tr th {\n",
       "        vertical-align: top;\n",
       "    }\n",
       "\n",
       "    .dataframe thead th {\n",
       "        text-align: right;\n",
       "    }\n",
       "</style>\n",
       "<table border=\"1\" class=\"dataframe\">\n",
       "  <thead>\n",
       "    <tr style=\"text-align: right;\">\n",
       "      <th></th>\n",
       "      <th>date</th>\n",
       "      <th>val</th>\n",
       "    </tr>\n",
       "  </thead>\n",
       "  <tbody>\n",
       "    <tr>\n",
       "      <th>0</th>\n",
       "      <td>12:00:00 01/01/2000</td>\n",
       "      <td>93</td>\n",
       "    </tr>\n",
       "    <tr>\n",
       "      <th>1</th>\n",
       "      <td>12:00:00 01/01/2001</td>\n",
       "      <td>61</td>\n",
       "    </tr>\n",
       "    <tr>\n",
       "      <th>2</th>\n",
       "      <td>12:00:00 01/01/2002</td>\n",
       "      <td>30</td>\n",
       "    </tr>\n",
       "    <tr>\n",
       "      <th>3</th>\n",
       "      <td>15:00:00 01/01/2000</td>\n",
       "      <td>54</td>\n",
       "    </tr>\n",
       "    <tr>\n",
       "      <th>4</th>\n",
       "      <td>15:00:00 01/01/2001</td>\n",
       "      <td>12</td>\n",
       "    </tr>\n",
       "    <tr>\n",
       "      <th>5</th>\n",
       "      <td>15:00:00 01/01/2002</td>\n",
       "      <td>87</td>\n",
       "    </tr>\n",
       "  </tbody>\n",
       "</table>\n",
       "</div>"
      ],
      "text/plain": [
       "                  date  val\n",
       "0  12:00:00 01/01/2000   93\n",
       "1  12:00:00 01/01/2001   61\n",
       "2  12:00:00 01/01/2002   30\n",
       "3  15:00:00 01/01/2000   54\n",
       "4  15:00:00 01/01/2001   12\n",
       "5  15:00:00 01/01/2002   87"
      ]
     },
     "execution_count": 130,
     "metadata": {},
     "output_type": "execute_result"
    }
   ],
   "source": [
    "time_series = pd.DataFrame({'date': ['12:00:00 01/01/2000', '12:00:00 01/01/2001' ,'12:00:00 01/01/2002' ,'15:00:00 01/01/2000', '15:00:00 01/01/2001','15:00:00 01/01/2002'],\n",
    "                          'val': [93,61,30,54,12,87]})\n",
    "time_series"
   ]
  },
  {
   "cell_type": "code",
   "execution_count": 131,
   "metadata": {
    "colab": {},
    "colab_type": "code",
    "id": "H3H1PAW9JHQn",
    "outputId": "f32693f7-45f6-4e85-9a33-d3f678368911"
   },
   "outputs": [
    {
     "data": {
      "text/html": [
       "<div>\n",
       "<style scoped>\n",
       "    .dataframe tbody tr th:only-of-type {\n",
       "        vertical-align: middle;\n",
       "    }\n",
       "\n",
       "    .dataframe tbody tr th {\n",
       "        vertical-align: top;\n",
       "    }\n",
       "\n",
       "    .dataframe thead th {\n",
       "        text-align: right;\n",
       "    }\n",
       "</style>\n",
       "<table border=\"1\" class=\"dataframe\">\n",
       "  <thead>\n",
       "    <tr style=\"text-align: right;\">\n",
       "      <th></th>\n",
       "      <th>val</th>\n",
       "    </tr>\n",
       "    <tr>\n",
       "      <th>date</th>\n",
       "      <th></th>\n",
       "    </tr>\n",
       "  </thead>\n",
       "  <tbody>\n",
       "    <tr>\n",
       "      <th>12:00:00 01/01/2000</th>\n",
       "      <td>93</td>\n",
       "    </tr>\n",
       "    <tr>\n",
       "      <th>12:00:00 01/01/2001</th>\n",
       "      <td>61</td>\n",
       "    </tr>\n",
       "    <tr>\n",
       "      <th>12:00:00 01/01/2002</th>\n",
       "      <td>30</td>\n",
       "    </tr>\n",
       "    <tr>\n",
       "      <th>15:00:00 01/01/2000</th>\n",
       "      <td>54</td>\n",
       "    </tr>\n",
       "    <tr>\n",
       "      <th>15:00:00 01/01/2001</th>\n",
       "      <td>12</td>\n",
       "    </tr>\n",
       "    <tr>\n",
       "      <th>15:00:00 01/01/2002</th>\n",
       "      <td>87</td>\n",
       "    </tr>\n",
       "  </tbody>\n",
       "</table>\n",
       "</div>"
      ],
      "text/plain": [
       "                     val\n",
       "date                    \n",
       "12:00:00 01/01/2000   93\n",
       "12:00:00 01/01/2001   61\n",
       "12:00:00 01/01/2002   30\n",
       "15:00:00 01/01/2000   54\n",
       "15:00:00 01/01/2001   12\n",
       "15:00:00 01/01/2002   87"
      ]
     },
     "execution_count": 131,
     "metadata": {},
     "output_type": "execute_result"
    }
   ],
   "source": [
    "time_series.set_index('date',inplace = True)#assign the result to df or use inplace = True\n",
    "time_series"
   ]
  },
  {
   "cell_type": "markdown",
   "metadata": {
    "colab_type": "text",
    "id": "P2hBAxciJHQr"
   },
   "source": [
    "### reset_index()\n",
    "https://pandas.pydata.org/pandas-docs/stable/generated/pandas.DataFrame.reset_index.html"
   ]
  },
  {
   "cell_type": "code",
   "execution_count": 132,
   "metadata": {
    "colab": {},
    "colab_type": "code",
    "id": "P8yNJ674JHQr",
    "outputId": "719a440e-221b-4a07-f987-d06268139dca"
   },
   "outputs": [
    {
     "data": {
      "text/html": [
       "<div>\n",
       "<style scoped>\n",
       "    .dataframe tbody tr th:only-of-type {\n",
       "        vertical-align: middle;\n",
       "    }\n",
       "\n",
       "    .dataframe tbody tr th {\n",
       "        vertical-align: top;\n",
       "    }\n",
       "\n",
       "    .dataframe thead th {\n",
       "        text-align: right;\n",
       "    }\n",
       "</style>\n",
       "<table border=\"1\" class=\"dataframe\">\n",
       "  <thead>\n",
       "    <tr style=\"text-align: right;\">\n",
       "      <th></th>\n",
       "      <th>date</th>\n",
       "      <th>val</th>\n",
       "    </tr>\n",
       "  </thead>\n",
       "  <tbody>\n",
       "    <tr>\n",
       "      <th>0</th>\n",
       "      <td>12:00:00 01/01/2000</td>\n",
       "      <td>93</td>\n",
       "    </tr>\n",
       "    <tr>\n",
       "      <th>1</th>\n",
       "      <td>12:00:00 01/01/2001</td>\n",
       "      <td>61</td>\n",
       "    </tr>\n",
       "    <tr>\n",
       "      <th>2</th>\n",
       "      <td>12:00:00 01/01/2002</td>\n",
       "      <td>30</td>\n",
       "    </tr>\n",
       "    <tr>\n",
       "      <th>3</th>\n",
       "      <td>15:00:00 01/01/2000</td>\n",
       "      <td>54</td>\n",
       "    </tr>\n",
       "    <tr>\n",
       "      <th>4</th>\n",
       "      <td>15:00:00 01/01/2001</td>\n",
       "      <td>12</td>\n",
       "    </tr>\n",
       "    <tr>\n",
       "      <th>5</th>\n",
       "      <td>15:00:00 01/01/2002</td>\n",
       "      <td>87</td>\n",
       "    </tr>\n",
       "  </tbody>\n",
       "</table>\n",
       "</div>"
      ],
      "text/plain": [
       "                  date  val\n",
       "0  12:00:00 01/01/2000   93\n",
       "1  12:00:00 01/01/2001   61\n",
       "2  12:00:00 01/01/2002   30\n",
       "3  15:00:00 01/01/2000   54\n",
       "4  15:00:00 01/01/2001   12\n",
       "5  15:00:00 01/01/2002   87"
      ]
     },
     "execution_count": 132,
     "metadata": {},
     "output_type": "execute_result"
    }
   ],
   "source": [
    "time_series.reset_index()"
   ]
  },
  {
   "cell_type": "markdown",
   "metadata": {
    "colab_type": "text",
    "collapsed": true,
    "id": "zaV5mzzjJHQw"
   },
   "source": [
    "## Operations"
   ]
  },
  {
   "cell_type": "code",
   "execution_count": 133,
   "metadata": {
    "colab": {},
    "colab_type": "code",
    "id": "PRMAO-POJHQy",
    "outputId": "45c70607-45b2-4cbd-b2e2-e0f0b79a17cb"
   },
   "outputs": [
    {
     "data": {
      "text/html": [
       "<div>\n",
       "<style scoped>\n",
       "    .dataframe tbody tr th:only-of-type {\n",
       "        vertical-align: middle;\n",
       "    }\n",
       "\n",
       "    .dataframe tbody tr th {\n",
       "        vertical-align: top;\n",
       "    }\n",
       "\n",
       "    .dataframe thead th {\n",
       "        text-align: right;\n",
       "    }\n",
       "</style>\n",
       "<table border=\"1\" class=\"dataframe\">\n",
       "  <thead>\n",
       "    <tr style=\"text-align: right;\">\n",
       "      <th></th>\n",
       "      <th>col1</th>\n",
       "      <th>col2</th>\n",
       "    </tr>\n",
       "  </thead>\n",
       "  <tbody>\n",
       "    <tr>\n",
       "      <th>a</th>\n",
       "      <td>0.641197</td>\n",
       "      <td>-0.449242</td>\n",
       "    </tr>\n",
       "    <tr>\n",
       "      <th>b</th>\n",
       "      <td>1.837772</td>\n",
       "      <td>0.261547</td>\n",
       "    </tr>\n",
       "    <tr>\n",
       "      <th>c</th>\n",
       "      <td>0.013022</td>\n",
       "      <td>0.845497</td>\n",
       "    </tr>\n",
       "    <tr>\n",
       "      <th>d</th>\n",
       "      <td>-0.479412</td>\n",
       "      <td>-0.479657</td>\n",
       "    </tr>\n",
       "    <tr>\n",
       "      <th>e</th>\n",
       "      <td>-0.133261</td>\n",
       "      <td>-0.633625</td>\n",
       "    </tr>\n",
       "  </tbody>\n",
       "</table>\n",
       "</div>"
      ],
      "text/plain": [
       "       col1      col2\n",
       "a  0.641197 -0.449242\n",
       "b  1.837772  0.261547\n",
       "c  0.013022  0.845497\n",
       "d -0.479412 -0.479657\n",
       "e -0.133261 -0.633625"
      ]
     },
     "execution_count": 133,
     "metadata": {},
     "output_type": "execute_result"
    }
   ],
   "source": [
    "df = pd.DataFrame(np.random.randn(5,2), index = ['a','b','c','d','e'], columns = ['col1', 'col2'])\n",
    "df"
   ]
  },
  {
   "cell_type": "code",
   "execution_count": 135,
   "metadata": {
    "colab": {},
    "colab_type": "code",
    "id": "tET-l4EQJHQ2",
    "outputId": "c00e5a68-cfd7-47d7-a7a1-343e3f5855f9"
   },
   "outputs": [
    {
     "data": {
      "text/plain": [
       "a    0.095978\n",
       "b    1.049660\n",
       "c    0.429259\n",
       "d   -0.479534\n",
       "e   -0.383443\n",
       "dtype: float64"
      ]
     },
     "execution_count": 135,
     "metadata": {},
     "output_type": "execute_result"
    }
   ],
   "source": [
    "#df.mean()\n",
    "df.mean(1) #axis = 1"
   ]
  },
  {
   "cell_type": "code",
   "execution_count": 137,
   "metadata": {
    "colab": {},
    "colab_type": "code",
    "id": "cwgeLcyaJHQ5",
    "outputId": "7bf8493d-ab17-498a-9afe-652bf254de6e"
   },
   "outputs": [
    {
     "data": {
      "text/plain": [
       "a    0.191955\n",
       "b    2.099320\n",
       "c    0.858519\n",
       "d   -0.959069\n",
       "e   -0.766886\n",
       "dtype: float64"
      ]
     },
     "execution_count": 137,
     "metadata": {},
     "output_type": "execute_result"
    }
   ],
   "source": [
    "df.sum()\n",
    "df.sum(1)"
   ]
  },
  {
   "cell_type": "code",
   "execution_count": 138,
   "metadata": {
    "colab": {},
    "colab_type": "code",
    "id": "mWRwuyKXJHQ7",
    "outputId": "ed787ad2-3c31-4549-f76d-ba4d7bd6c399"
   },
   "outputs": [
    {
     "data": {
      "text/plain": [
       "a    0.641197\n",
       "b    1.837772\n",
       "c    0.845497\n",
       "d   -0.479412\n",
       "e   -0.133261\n",
       "dtype: float64"
      ]
     },
     "execution_count": 138,
     "metadata": {},
     "output_type": "execute_result"
    }
   ],
   "source": [
    "df.max(1)"
   ]
  },
  {
   "cell_type": "markdown",
   "metadata": {
    "colab_type": "text",
    "id": "JnEle1_HJHQ9"
   },
   "source": [
    "### Add row to the dataframe"
   ]
  },
  {
   "cell_type": "code",
   "execution_count": 140,
   "metadata": {
    "colab": {},
    "colab_type": "code",
    "id": "L-SCf6UOJHQ-",
    "outputId": "8ce809f3-f3d3-4934-c90a-0c8e7cdfcc6b"
   },
   "outputs": [
    {
     "data": {
      "text/html": [
       "<div>\n",
       "<style scoped>\n",
       "    .dataframe tbody tr th:only-of-type {\n",
       "        vertical-align: middle;\n",
       "    }\n",
       "\n",
       "    .dataframe tbody tr th {\n",
       "        vertical-align: top;\n",
       "    }\n",
       "\n",
       "    .dataframe thead th {\n",
       "        text-align: right;\n",
       "    }\n",
       "</style>\n",
       "<table border=\"1\" class=\"dataframe\">\n",
       "  <thead>\n",
       "    <tr style=\"text-align: right;\">\n",
       "      <th></th>\n",
       "      <th>col1</th>\n",
       "      <th>col2</th>\n",
       "    </tr>\n",
       "  </thead>\n",
       "  <tbody>\n",
       "    <tr>\n",
       "      <th>a</th>\n",
       "      <td>0.641197</td>\n",
       "      <td>-0.449242</td>\n",
       "    </tr>\n",
       "    <tr>\n",
       "      <th>b</th>\n",
       "      <td>1.837772</td>\n",
       "      <td>0.261547</td>\n",
       "    </tr>\n",
       "    <tr>\n",
       "      <th>c</th>\n",
       "      <td>0.013022</td>\n",
       "      <td>0.845497</td>\n",
       "    </tr>\n",
       "    <tr>\n",
       "      <th>d</th>\n",
       "      <td>-0.479412</td>\n",
       "      <td>-0.479657</td>\n",
       "    </tr>\n",
       "    <tr>\n",
       "      <th>e</th>\n",
       "      <td>-0.133261</td>\n",
       "      <td>-0.633625</td>\n",
       "    </tr>\n",
       "    <tr>\n",
       "      <th>mean</th>\n",
       "      <td>0.375864</td>\n",
       "      <td>-0.091096</td>\n",
       "    </tr>\n",
       "  </tbody>\n",
       "</table>\n",
       "</div>"
      ],
      "text/plain": [
       "          col1      col2\n",
       "a     0.641197 -0.449242\n",
       "b     1.837772  0.261547\n",
       "c     0.013022  0.845497\n",
       "d    -0.479412 -0.479657\n",
       "e    -0.133261 -0.633625\n",
       "mean  0.375864 -0.091096"
      ]
     },
     "execution_count": 140,
     "metadata": {},
     "output_type": "execute_result"
    }
   ],
   "source": [
    "df.loc['mean'] = df.mean()\n",
    "df"
   ]
  },
  {
   "cell_type": "markdown",
   "metadata": {
    "colab_type": "text",
    "id": "ZqfkTEbqJHRE"
   },
   "source": [
    "### Add column to the dataframe"
   ]
  },
  {
   "cell_type": "code",
   "execution_count": 141,
   "metadata": {
    "colab": {},
    "colab_type": "code",
    "id": "7bJ6UOecJHRE",
    "outputId": "79970638-c868-4b9a-8a24-444d4518bc98"
   },
   "outputs": [
    {
     "data": {
      "text/html": [
       "<div>\n",
       "<style scoped>\n",
       "    .dataframe tbody tr th:only-of-type {\n",
       "        vertical-align: middle;\n",
       "    }\n",
       "\n",
       "    .dataframe tbody tr th {\n",
       "        vertical-align: top;\n",
       "    }\n",
       "\n",
       "    .dataframe thead th {\n",
       "        text-align: right;\n",
       "    }\n",
       "</style>\n",
       "<table border=\"1\" class=\"dataframe\">\n",
       "  <thead>\n",
       "    <tr style=\"text-align: right;\">\n",
       "      <th></th>\n",
       "      <th>col1</th>\n",
       "      <th>col2</th>\n",
       "      <th>mean</th>\n",
       "    </tr>\n",
       "  </thead>\n",
       "  <tbody>\n",
       "    <tr>\n",
       "      <th>a</th>\n",
       "      <td>0.641197</td>\n",
       "      <td>-0.449242</td>\n",
       "      <td>0.095978</td>\n",
       "    </tr>\n",
       "    <tr>\n",
       "      <th>b</th>\n",
       "      <td>1.837772</td>\n",
       "      <td>0.261547</td>\n",
       "      <td>1.049660</td>\n",
       "    </tr>\n",
       "    <tr>\n",
       "      <th>c</th>\n",
       "      <td>0.013022</td>\n",
       "      <td>0.845497</td>\n",
       "      <td>0.429259</td>\n",
       "    </tr>\n",
       "    <tr>\n",
       "      <th>d</th>\n",
       "      <td>-0.479412</td>\n",
       "      <td>-0.479657</td>\n",
       "      <td>-0.479534</td>\n",
       "    </tr>\n",
       "    <tr>\n",
       "      <th>e</th>\n",
       "      <td>-0.133261</td>\n",
       "      <td>-0.633625</td>\n",
       "      <td>-0.383443</td>\n",
       "    </tr>\n",
       "    <tr>\n",
       "      <th>mean</th>\n",
       "      <td>0.375864</td>\n",
       "      <td>-0.091096</td>\n",
       "      <td>0.142384</td>\n",
       "    </tr>\n",
       "  </tbody>\n",
       "</table>\n",
       "</div>"
      ],
      "text/plain": [
       "          col1      col2      mean\n",
       "a     0.641197 -0.449242  0.095978\n",
       "b     1.837772  0.261547  1.049660\n",
       "c     0.013022  0.845497  0.429259\n",
       "d    -0.479412 -0.479657 -0.479534\n",
       "e    -0.133261 -0.633625 -0.383443\n",
       "mean  0.375864 -0.091096  0.142384"
      ]
     },
     "execution_count": 141,
     "metadata": {},
     "output_type": "execute_result"
    }
   ],
   "source": [
    "df['mean'] = df.mean(1)\n",
    "df"
   ]
  },
  {
   "cell_type": "markdown",
   "metadata": {
    "colab_type": "text",
    "id": "GIsUTtxQJHRH"
   },
   "source": [
    "### Apply functions to dataframe\n",
    "https://pandas.pydata.org/pandas-docs/stable/generated/pandas.DataFrame.apply.html"
   ]
  },
  {
   "cell_type": "code",
   "execution_count": null,
   "metadata": {
    "colab": {},
    "colab_type": "code",
    "id": "84nKz5jyJHRI",
    "outputId": "96b0571c-7278-4280-ca9f-fb1a3f123058"
   },
   "outputs": [
    {
     "data": {
      "text/plain": [
       "col1    0.010946\n",
       "col2   -0.621016\n",
       "mean   -0.305035\n",
       "dtype: float64"
      ]
     },
     "execution_count": 232,
     "metadata": {
      "tags": []
     },
     "output_type": "execute_result"
    }
   ],
   "source": [
    "#sum, mean, max, min, first, last, count, size\n",
    "df.apply(np.mean)"
   ]
  },
  {
   "cell_type": "code",
   "execution_count": null,
   "metadata": {
    "colab": {},
    "colab_type": "code",
    "id": "GEHZEts9JHRM",
    "outputId": "8493cfc9-105f-4d7b-9eb1-2f6f55b23ea5"
   },
   "outputs": [
    {
     "data": {
      "text/html": [
       "<div>\n",
       "<table border=\"1\" class=\"dataframe\">\n",
       "  <thead>\n",
       "    <tr style=\"text-align: right;\">\n",
       "      <th></th>\n",
       "      <th>celcius</th>\n",
       "    </tr>\n",
       "  </thead>\n",
       "  <tbody>\n",
       "    <tr>\n",
       "      <th>0</th>\n",
       "      <td>35</td>\n",
       "    </tr>\n",
       "    <tr>\n",
       "      <th>1</th>\n",
       "      <td>42</td>\n",
       "    </tr>\n",
       "    <tr>\n",
       "      <th>2</th>\n",
       "      <td>24</td>\n",
       "    </tr>\n",
       "    <tr>\n",
       "      <th>3</th>\n",
       "      <td>15</td>\n",
       "    </tr>\n",
       "    <tr>\n",
       "      <th>4</th>\n",
       "      <td>0</td>\n",
       "    </tr>\n",
       "  </tbody>\n",
       "</table>\n",
       "</div>"
      ],
      "text/plain": [
       "   celcius\n",
       "0       35\n",
       "1       42\n",
       "2       24\n",
       "3       15\n",
       "4        0"
      ]
     },
     "execution_count": 233,
     "metadata": {
      "tags": []
     },
     "output_type": "execute_result"
    }
   ],
   "source": [
    "#Apply custom function\n",
    "\n",
    "df = pd.DataFrame({'celcius': [35,42,24,15,0]})\n",
    "df"
   ]
  },
  {
   "cell_type": "code",
   "execution_count": null,
   "metadata": {
    "colab": {},
    "colab_type": "code",
    "id": "bIM8mk0_JHRO",
    "outputId": "1a2ff36a-c8df-4667-c124-5d9e1fe0a603"
   },
   "outputs": [
    {
     "data": {
      "text/html": [
       "<div>\n",
       "<table border=\"1\" class=\"dataframe\">\n",
       "  <thead>\n",
       "    <tr style=\"text-align: right;\">\n",
       "      <th></th>\n",
       "      <th>celcius</th>\n",
       "      <th>farenheit</th>\n",
       "    </tr>\n",
       "  </thead>\n",
       "  <tbody>\n",
       "    <tr>\n",
       "      <th>0</th>\n",
       "      <td>35</td>\n",
       "      <td>95.0</td>\n",
       "    </tr>\n",
       "    <tr>\n",
       "      <th>1</th>\n",
       "      <td>42</td>\n",
       "      <td>107.6</td>\n",
       "    </tr>\n",
       "    <tr>\n",
       "      <th>2</th>\n",
       "      <td>24</td>\n",
       "      <td>75.2</td>\n",
       "    </tr>\n",
       "    <tr>\n",
       "      <th>3</th>\n",
       "      <td>15</td>\n",
       "      <td>59.0</td>\n",
       "    </tr>\n",
       "    <tr>\n",
       "      <th>4</th>\n",
       "      <td>0</td>\n",
       "      <td>32.0</td>\n",
       "    </tr>\n",
       "  </tbody>\n",
       "</table>\n",
       "</div>"
      ],
      "text/plain": [
       "   celcius  farenheit\n",
       "0       35       95.0\n",
       "1       42      107.6\n",
       "2       24       75.2\n",
       "3       15       59.0\n",
       "4        0       32.0"
      ]
     },
     "execution_count": 105,
     "metadata": {
      "tags": []
     },
     "output_type": "execute_result"
    }
   ],
   "source": [
    "def temp_converter(t):\n",
    "    return ((t*9/5)+32)\n",
    "\n",
    "df['farenheit'] = df.celcius.apply(temp_converter)\n",
    "df"
   ]
  },
  {
   "cell_type": "code",
   "execution_count": null,
   "metadata": {
    "colab": {},
    "colab_type": "code",
    "id": "0To4sQ2qJHRR",
    "outputId": "54565ade-b381-4b65-89e5-98789249c293"
   },
   "outputs": [
    {
     "data": {
      "text/html": [
       "<div>\n",
       "<table border=\"1\" class=\"dataframe\">\n",
       "  <thead>\n",
       "    <tr style=\"text-align: right;\">\n",
       "      <th></th>\n",
       "      <th>blah</th>\n",
       "      <th>celcius</th>\n",
       "      <th>new_farenheit</th>\n",
       "    </tr>\n",
       "  </thead>\n",
       "  <tbody>\n",
       "    <tr>\n",
       "      <th>0</th>\n",
       "      <td>100</td>\n",
       "      <td>35.0</td>\n",
       "      <td>95.0</td>\n",
       "    </tr>\n",
       "    <tr>\n",
       "      <th>1</th>\n",
       "      <td>100</td>\n",
       "      <td>NaN</td>\n",
       "      <td>NaN</td>\n",
       "    </tr>\n",
       "    <tr>\n",
       "      <th>2</th>\n",
       "      <td>100</td>\n",
       "      <td>24.0</td>\n",
       "      <td>75.2</td>\n",
       "    </tr>\n",
       "    <tr>\n",
       "      <th>3</th>\n",
       "      <td>100</td>\n",
       "      <td>15.0</td>\n",
       "      <td>59.0</td>\n",
       "    </tr>\n",
       "    <tr>\n",
       "      <th>4</th>\n",
       "      <td>100</td>\n",
       "      <td>0.0</td>\n",
       "      <td>32.0</td>\n",
       "    </tr>\n",
       "  </tbody>\n",
       "</table>\n",
       "</div>"
      ],
      "text/plain": [
       "   blah  celcius  new_farenheit\n",
       "0   100     35.0           95.0\n",
       "1   100      NaN            NaN\n",
       "2   100     24.0           75.2\n",
       "3   100     15.0           59.0\n",
       "4   100      0.0           32.0"
      ]
     },
     "execution_count": 237,
     "metadata": {
      "tags": []
     },
     "output_type": "execute_result"
    }
   ],
   "source": [
    "#Anonymous function: lambda \n",
    "df = pd.DataFrame({'celcius': [35,np.nan,24,15,0], 'blah': [100,100,100,100,100]})\n",
    "df['new_farenheit'] = df.celcius.apply(lambda x: (x*9/5)+32)\n",
    "df"
   ]
  },
  {
   "cell_type": "markdown",
   "metadata": {
    "colab_type": "text",
    "id": "YlUJy89KJHRU"
   },
   "source": [
    "### pandas.Series.value_counts(): Returns object containing counts of unique values\n",
    "https://pandas.pydata.org/pandas-docs/stable/generated/pandas.Series.value_counts.html"
   ]
  },
  {
   "cell_type": "code",
   "execution_count": null,
   "metadata": {
    "colab": {},
    "colab_type": "code",
    "id": "Dh-BX_ZoJHRU",
    "outputId": "64f8d776-c03c-4d2f-cb9d-a139d37290b7"
   },
   "outputs": [
    {
     "data": {
      "text/html": [
       "<div>\n",
       "<table border=\"1\" class=\"dataframe\">\n",
       "  <thead>\n",
       "    <tr style=\"text-align: right;\">\n",
       "      <th></th>\n",
       "      <th>fruits</th>\n",
       "    </tr>\n",
       "  </thead>\n",
       "  <tbody>\n",
       "    <tr>\n",
       "      <th>0</th>\n",
       "      <td>Pear</td>\n",
       "    </tr>\n",
       "    <tr>\n",
       "      <th>1</th>\n",
       "      <td>Mango</td>\n",
       "    </tr>\n",
       "    <tr>\n",
       "      <th>2</th>\n",
       "      <td>Pear</td>\n",
       "    </tr>\n",
       "    <tr>\n",
       "      <th>3</th>\n",
       "      <td>Mango</td>\n",
       "    </tr>\n",
       "    <tr>\n",
       "      <th>4</th>\n",
       "      <td>Orange</td>\n",
       "    </tr>\n",
       "    <tr>\n",
       "      <th>5</th>\n",
       "      <td>Mango</td>\n",
       "    </tr>\n",
       "    <tr>\n",
       "      <th>6</th>\n",
       "      <td>Apple</td>\n",
       "    </tr>\n",
       "    <tr>\n",
       "      <th>7</th>\n",
       "      <td>Mango</td>\n",
       "    </tr>\n",
       "    <tr>\n",
       "      <th>8</th>\n",
       "      <td>Pear</td>\n",
       "    </tr>\n",
       "    <tr>\n",
       "      <th>9</th>\n",
       "      <td>Apple</td>\n",
       "    </tr>\n",
       "    <tr>\n",
       "      <th>10</th>\n",
       "      <td>Orange</td>\n",
       "    </tr>\n",
       "    <tr>\n",
       "      <th>11</th>\n",
       "      <td>Apple</td>\n",
       "    </tr>\n",
       "    <tr>\n",
       "      <th>12</th>\n",
       "      <td>Mango</td>\n",
       "    </tr>\n",
       "    <tr>\n",
       "      <th>13</th>\n",
       "      <td>Mango</td>\n",
       "    </tr>\n",
       "    <tr>\n",
       "      <th>14</th>\n",
       "      <td>Apple</td>\n",
       "    </tr>\n",
       "    <tr>\n",
       "      <th>15</th>\n",
       "      <td>Orange</td>\n",
       "    </tr>\n",
       "    <tr>\n",
       "      <th>16</th>\n",
       "      <td>Apple</td>\n",
       "    </tr>\n",
       "    <tr>\n",
       "      <th>17</th>\n",
       "      <td>Orange</td>\n",
       "    </tr>\n",
       "    <tr>\n",
       "      <th>18</th>\n",
       "      <td>Mango</td>\n",
       "    </tr>\n",
       "    <tr>\n",
       "      <th>19</th>\n",
       "      <td>Banana</td>\n",
       "    </tr>\n",
       "    <tr>\n",
       "      <th>20</th>\n",
       "      <td>Pear</td>\n",
       "    </tr>\n",
       "    <tr>\n",
       "      <th>21</th>\n",
       "      <td>Mango</td>\n",
       "    </tr>\n",
       "  </tbody>\n",
       "</table>\n",
       "</div>"
      ],
      "text/plain": [
       "    fruits\n",
       "0     Pear\n",
       "1    Mango\n",
       "2     Pear\n",
       "3    Mango\n",
       "4   Orange\n",
       "5    Mango\n",
       "6    Apple\n",
       "7    Mango\n",
       "8     Pear\n",
       "9    Apple\n",
       "10  Orange\n",
       "11   Apple\n",
       "12   Mango\n",
       "13   Mango\n",
       "14   Apple\n",
       "15  Orange\n",
       "16   Apple\n",
       "17  Orange\n",
       "18   Mango\n",
       "19  Banana\n",
       "20    Pear\n",
       "21   Mango"
      ]
     },
     "execution_count": 239,
     "metadata": {
      "tags": []
     },
     "output_type": "execute_result"
    }
   ],
   "source": [
    "df = pd.DataFrame({'fruits': ['Pear','Mango','Pear','Mango','Orange','Mango','Apple','Mango','Pear','Apple','Orange','Apple','Mango','Mango','Apple','Orange','Apple', 'Orange','Mango', 'Banana', 'Pear', 'Mango']})\n",
    "df"
   ]
  },
  {
   "cell_type": "code",
   "execution_count": null,
   "metadata": {
    "colab": {},
    "colab_type": "code",
    "id": "dv_hXCjMJHRW",
    "outputId": "1dbac033-a2a0-492c-c450-ababff7ea2ce"
   },
   "outputs": [
    {
     "data": {
      "text/plain": [
       "Mango     8\n",
       "Apple     5\n",
       "Orange    4\n",
       "Pear      4\n",
       "Banana    1\n",
       "Name: fruits, dtype: int64"
      ]
     },
     "execution_count": 247,
     "metadata": {
      "tags": []
     },
     "output_type": "execute_result"
    }
   ],
   "source": [
    "df.fruits.value_counts() #works only on the series"
   ]
  },
  {
   "cell_type": "code",
   "execution_count": null,
   "metadata": {
    "colab": {},
    "colab_type": "code",
    "id": "cIMH-9sZJHRZ",
    "outputId": "a12bf855-535a-4065-862a-070d2fde11d8"
   },
   "outputs": [
    {
     "data": {
      "text/plain": [
       "V Kohli       3237\n",
       "SK Raina      3059\n",
       "G Gambhir     3028\n",
       "RG Sharma     2996\n",
       "RV Uthappa    2721\n",
       "Name: batsman, dtype: int64"
      ]
     },
     "execution_count": 258,
     "metadata": {
      "tags": []
     },
     "output_type": "execute_result"
    }
   ],
   "source": [
    "deliveries.head()\n",
    "deliveries.batsman.value_counts().head()"
   ]
  },
  {
   "cell_type": "markdown",
   "metadata": {
    "colab_type": "text",
    "id": "MyIyvbe7JHRc"
   },
   "source": [
    "## Groupby: Split-Apply-Combine\n",
    "http://pandas.pydata.org/pandas-docs/stable/groupby.html"
   ]
  },
  {
   "cell_type": "code",
   "execution_count": null,
   "metadata": {
    "colab": {},
    "colab_type": "code",
    "id": "HzZ_mA66JHRc",
    "outputId": "bc2fc113-b3a7-4037-9656-8ebe2cafa008"
   },
   "outputs": [
    {
     "data": {
      "text/html": [
       "<div>\n",
       "<table border=\"1\" class=\"dataframe\">\n",
       "  <thead>\n",
       "    <tr style=\"text-align: right;\">\n",
       "      <th></th>\n",
       "      <th>char</th>\n",
       "      <th>num</th>\n",
       "    </tr>\n",
       "  </thead>\n",
       "  <tbody>\n",
       "    <tr>\n",
       "      <th>0</th>\n",
       "      <td>a</td>\n",
       "      <td>1</td>\n",
       "    </tr>\n",
       "    <tr>\n",
       "      <th>1</th>\n",
       "      <td>a</td>\n",
       "      <td>0</td>\n",
       "    </tr>\n",
       "    <tr>\n",
       "      <th>2</th>\n",
       "      <td>a</td>\n",
       "      <td>1</td>\n",
       "    </tr>\n",
       "    <tr>\n",
       "      <th>3</th>\n",
       "      <td>b</td>\n",
       "      <td>1</td>\n",
       "    </tr>\n",
       "    <tr>\n",
       "      <th>4</th>\n",
       "      <td>b</td>\n",
       "      <td>5</td>\n",
       "    </tr>\n",
       "    <tr>\n",
       "      <th>5</th>\n",
       "      <td>c</td>\n",
       "      <td>3</td>\n",
       "    </tr>\n",
       "    <tr>\n",
       "      <th>6</th>\n",
       "      <td>c</td>\n",
       "      <td>9</td>\n",
       "    </tr>\n",
       "    <tr>\n",
       "      <th>7</th>\n",
       "      <td>d</td>\n",
       "      <td>6</td>\n",
       "    </tr>\n",
       "    <tr>\n",
       "      <th>8</th>\n",
       "      <td>d</td>\n",
       "      <td>4</td>\n",
       "    </tr>\n",
       "    <tr>\n",
       "      <th>9</th>\n",
       "      <td>d</td>\n",
       "      <td>1</td>\n",
       "    </tr>\n",
       "    <tr>\n",
       "      <th>10</th>\n",
       "      <td>e</td>\n",
       "      <td>15</td>\n",
       "    </tr>\n",
       "  </tbody>\n",
       "</table>\n",
       "</div>"
      ],
      "text/plain": [
       "   char  num\n",
       "0     a    1\n",
       "1     a    0\n",
       "2     a    1\n",
       "3     b    1\n",
       "4     b    5\n",
       "5     c    3\n",
       "6     c    9\n",
       "7     d    6\n",
       "8     d    4\n",
       "9     d    1\n",
       "10    e   15"
      ]
     },
     "execution_count": 262,
     "metadata": {
      "tags": []
     },
     "output_type": "execute_result"
    }
   ],
   "source": [
    "df = pd.DataFrame({'char': pd.Series(['a', 'a', 'a', 'b', 'b', 'c', 'c', 'd', 'd', 'd', 'e']) ,\n",
    "                   'num': [1,0,1,1, 5,3,9,6,4,1, 15]})\n",
    "df"
   ]
  },
  {
   "cell_type": "code",
   "execution_count": null,
   "metadata": {
    "colab": {},
    "colab_type": "code",
    "id": "4bfsvAxIJHRe",
    "outputId": "974c8936-2889-4bf3-dcad-94053718b274"
   },
   "outputs": [
    {
     "data": {
      "text/html": [
       "<div>\n",
       "<table border=\"1\" class=\"dataframe\">\n",
       "  <thead>\n",
       "    <tr style=\"text-align: right;\">\n",
       "      <th></th>\n",
       "      <th>num</th>\n",
       "    </tr>\n",
       "    <tr>\n",
       "      <th>char</th>\n",
       "      <th></th>\n",
       "    </tr>\n",
       "  </thead>\n",
       "  <tbody>\n",
       "    <tr>\n",
       "      <th>a</th>\n",
       "      <td>2</td>\n",
       "    </tr>\n",
       "    <tr>\n",
       "      <th>b</th>\n",
       "      <td>6</td>\n",
       "    </tr>\n",
       "    <tr>\n",
       "      <th>c</th>\n",
       "      <td>12</td>\n",
       "    </tr>\n",
       "    <tr>\n",
       "      <th>d</th>\n",
       "      <td>11</td>\n",
       "    </tr>\n",
       "    <tr>\n",
       "      <th>e</th>\n",
       "      <td>15</td>\n",
       "    </tr>\n",
       "  </tbody>\n",
       "</table>\n",
       "</div>"
      ],
      "text/plain": [
       "      num\n",
       "char     \n",
       "a       2\n",
       "b       6\n",
       "c      12\n",
       "d      11\n",
       "e      15"
      ]
     },
     "execution_count": 272,
     "metadata": {
      "tags": []
     },
     "output_type": "execute_result"
    }
   ],
   "source": [
    "#Find the sum of num for each char\n",
    "grp = df.groupby('char').sum()"
   ]
  },
  {
   "cell_type": "code",
   "execution_count": null,
   "metadata": {
    "colab": {},
    "colab_type": "code",
    "id": "84s2_DroJHRj",
    "outputId": "944fc1ef-b0a6-4ffc-ac83-48aaeaf4c285"
   },
   "outputs": [
    {
     "data": {
      "text/html": [
       "<div>\n",
       "<table border=\"1\" class=\"dataframe\">\n",
       "  <thead>\n",
       "    <tr style=\"text-align: right;\">\n",
       "      <th></th>\n",
       "      <th>char</th>\n",
       "      <th>num</th>\n",
       "    </tr>\n",
       "  </thead>\n",
       "  <tbody>\n",
       "    <tr>\n",
       "      <th>0</th>\n",
       "      <td>a</td>\n",
       "      <td>2</td>\n",
       "    </tr>\n",
       "    <tr>\n",
       "      <th>1</th>\n",
       "      <td>b</td>\n",
       "      <td>6</td>\n",
       "    </tr>\n",
       "    <tr>\n",
       "      <th>2</th>\n",
       "      <td>c</td>\n",
       "      <td>12</td>\n",
       "    </tr>\n",
       "    <tr>\n",
       "      <th>3</th>\n",
       "      <td>d</td>\n",
       "      <td>11</td>\n",
       "    </tr>\n",
       "    <tr>\n",
       "      <th>4</th>\n",
       "      <td>e</td>\n",
       "      <td>15</td>\n",
       "    </tr>\n",
       "  </tbody>\n",
       "</table>\n",
       "</div>"
      ],
      "text/plain": [
       "  char  num\n",
       "0    a    2\n",
       "1    b    6\n",
       "2    c   12\n",
       "3    d   11\n",
       "4    e   15"
      ]
     },
     "execution_count": 274,
     "metadata": {
      "tags": []
     },
     "output_type": "execute_result"
    }
   ],
   "source": [
    "df1 = df.groupby('char').sum().reset_index()\n",
    "df1\n",
    "#Try different functions like mean, count, size, min, max on the dataframe and see the output"
   ]
  },
  {
   "cell_type": "code",
   "execution_count": null,
   "metadata": {
    "colab": {},
    "colab_type": "code",
    "id": "A-xvUlYuJHRl",
    "outputId": "d044cf66-560a-42a3-c2df-ef22be31615d"
   },
   "outputs": [
    {
     "data": {
      "text/plain": [
       "batsman\n",
       "V Kohli      4115\n",
       "SK Raina     4106\n",
       "RG Sharma    3874\n",
       "G Gambhir    3634\n",
       "CH Gayle     3451\n",
       "Name: batsman_runs, dtype: int64"
      ]
     },
     "execution_count": 280,
     "metadata": {
      "tags": []
     },
     "output_type": "execute_result"
    }
   ],
   "source": [
    "deliveries.groupby('batsman').batsman_runs.sum().sort_values(ascending = False).head()"
   ]
  },
  {
   "cell_type": "markdown",
   "metadata": {
    "colab_type": "text",
    "id": "n2WDOPFrJHRo"
   },
   "source": [
    "### Groupby Multiple columns"
   ]
  },
  {
   "cell_type": "code",
   "execution_count": null,
   "metadata": {
    "colab": {},
    "colab_type": "code",
    "id": "3B7FaA6pJHRo",
    "outputId": "5feb71ec-b3a5-42a4-a25f-3fd60360dc9e"
   },
   "outputs": [
    {
     "data": {
      "text/html": [
       "<div>\n",
       "<table border=\"1\" class=\"dataframe\">\n",
       "  <thead>\n",
       "    <tr style=\"text-align: right;\">\n",
       "      <th></th>\n",
       "      <th>col1</th>\n",
       "      <th>col2</th>\n",
       "      <th>col3</th>\n",
       "      <th>col4</th>\n",
       "    </tr>\n",
       "  </thead>\n",
       "  <tbody>\n",
       "    <tr>\n",
       "      <th>0</th>\n",
       "      <td>1.1</td>\n",
       "      <td>A</td>\n",
       "      <td>1.1</td>\n",
       "      <td>1</td>\n",
       "    </tr>\n",
       "    <tr>\n",
       "      <th>1</th>\n",
       "      <td>1.1</td>\n",
       "      <td>A</td>\n",
       "      <td>1.7</td>\n",
       "      <td>3</td>\n",
       "    </tr>\n",
       "    <tr>\n",
       "      <th>2</th>\n",
       "      <td>1.1</td>\n",
       "      <td>A</td>\n",
       "      <td>2.5</td>\n",
       "      <td>3</td>\n",
       "    </tr>\n",
       "    <tr>\n",
       "      <th>3</th>\n",
       "      <td>2.6</td>\n",
       "      <td>B</td>\n",
       "      <td>2.6</td>\n",
       "      <td>2</td>\n",
       "    </tr>\n",
       "    <tr>\n",
       "      <th>4</th>\n",
       "      <td>2.5</td>\n",
       "      <td>B</td>\n",
       "      <td>3.3</td>\n",
       "      <td>4</td>\n",
       "    </tr>\n",
       "    <tr>\n",
       "      <th>5</th>\n",
       "      <td>3.4</td>\n",
       "      <td>B</td>\n",
       "      <td>3.8</td>\n",
       "      <td>2</td>\n",
       "    </tr>\n",
       "    <tr>\n",
       "      <th>6</th>\n",
       "      <td>2.6</td>\n",
       "      <td>B</td>\n",
       "      <td>4</td>\n",
       "      <td>5</td>\n",
       "    </tr>\n",
       "    <tr>\n",
       "      <th>7</th>\n",
       "      <td>2.6</td>\n",
       "      <td>A</td>\n",
       "      <td>4.2</td>\n",
       "      <td>3</td>\n",
       "    </tr>\n",
       "    <tr>\n",
       "      <th>8</th>\n",
       "      <td>3.4</td>\n",
       "      <td>B</td>\n",
       "      <td>4.3</td>\n",
       "      <td>6</td>\n",
       "    </tr>\n",
       "    <tr>\n",
       "      <th>9</th>\n",
       "      <td>3.4</td>\n",
       "      <td>C</td>\n",
       "      <td>4.5</td>\n",
       "      <td>3</td>\n",
       "    </tr>\n",
       "    <tr>\n",
       "      <th>10</th>\n",
       "      <td>2.6</td>\n",
       "      <td>B</td>\n",
       "      <td>4.6</td>\n",
       "      <td>5</td>\n",
       "    </tr>\n",
       "    <tr>\n",
       "      <th>11</th>\n",
       "      <td>1.1</td>\n",
       "      <td>D</td>\n",
       "      <td>4.7</td>\n",
       "      <td>1</td>\n",
       "    </tr>\n",
       "    <tr>\n",
       "      <th>12</th>\n",
       "      <td>1.1</td>\n",
       "      <td>D</td>\n",
       "      <td>4.7</td>\n",
       "      <td>1</td>\n",
       "    </tr>\n",
       "    <tr>\n",
       "      <th>13</th>\n",
       "      <td>3.3</td>\n",
       "      <td>D</td>\n",
       "      <td>4.8</td>\n",
       "      <td>1</td>\n",
       "    </tr>\n",
       "  </tbody>\n",
       "</table>\n",
       "</div>"
      ],
      "text/plain": [
       "   col1 col2 col3 col4\n",
       "0   1.1    A  1.1    1\n",
       "1   1.1    A  1.7    3\n",
       "2   1.1    A  2.5    3\n",
       "3   2.6    B  2.6    2\n",
       "4   2.5    B  3.3    4\n",
       "5   3.4    B  3.8    2\n",
       "6   2.6    B    4    5\n",
       "7   2.6    A  4.2    3\n",
       "8   3.4    B  4.3    6\n",
       "9   3.4    C  4.5    3\n",
       "10  2.6    B  4.6    5\n",
       "11  1.1    D  4.7    1\n",
       "12  1.1    D  4.7    1\n",
       "13  3.3    D  4.8    1"
      ]
     },
     "execution_count": 282,
     "metadata": {
      "tags": []
     },
     "output_type": "execute_result"
    }
   ],
   "source": [
    "\n",
    "df = pd.DataFrame([[1.1, 1.1, 1.1, 2.6, 2.5, 3.4,2.6,2.6,3.4,3.4,2.6,1.1,1.1,3.3], list('AAABBBBABCBDDD'), \n",
    "                   [1.1, 1.7, 2.5, 2.6, 3.3, 3.8,4.0,4.2,4.3,4.5,4.6,4.7,4.7,4.8], \n",
    "                   ['1','3','3','2','4','2','5','3','6','3','5','1','1','1']]).T\n",
    "df.columns = ['col1','col2','col3','col4']\n",
    "df"
   ]
  },
  {
   "cell_type": "code",
   "execution_count": null,
   "metadata": {
    "colab": {},
    "colab_type": "code",
    "id": "eGv8s453JHRt",
    "outputId": "9e758400-c5ca-4eb5-df22-412587601ff0"
   },
   "outputs": [
    {
     "data": {
      "text/plain": [
       "col2  col1\n",
       "A     1.1      5.3\n",
       "      2.6      4.2\n",
       "B     2.5      3.3\n",
       "      2.6     11.2\n",
       "      3.4      8.1\n",
       "C     3.4      4.5\n",
       "D     1.1      9.4\n",
       "      3.3      4.8\n",
       "Name: col3, dtype: float64"
      ]
     },
     "execution_count": 283,
     "metadata": {
      "tags": []
     },
     "output_type": "execute_result"
    }
   ],
   "source": [
    "#Group the df by col1 and col2 and find sum of col3, unique values in col4, and highest value in col5\n",
    "df.groupby(['col2', 'col1']).col3.sum() #sum of col3 "
   ]
  },
  {
   "cell_type": "code",
   "execution_count": null,
   "metadata": {
    "colab": {},
    "colab_type": "code",
    "id": "lFhbwZzRJHRx",
    "outputId": "858cedcb-fd35-412f-dfdb-6f2f48b92ede"
   },
   "outputs": [
    {
     "data": {
      "text/html": [
       "<div>\n",
       "<table border=\"1\" class=\"dataframe\">\n",
       "  <thead>\n",
       "    <tr style=\"text-align: right;\">\n",
       "      <th></th>\n",
       "      <th>col1</th>\n",
       "      <th>col2</th>\n",
       "      <th>col4</th>\n",
       "    </tr>\n",
       "  </thead>\n",
       "  <tbody>\n",
       "    <tr>\n",
       "      <th>0</th>\n",
       "      <td>1.1</td>\n",
       "      <td>A</td>\n",
       "      <td>3</td>\n",
       "    </tr>\n",
       "    <tr>\n",
       "      <th>1</th>\n",
       "      <td>1.1</td>\n",
       "      <td>D</td>\n",
       "      <td>1</td>\n",
       "    </tr>\n",
       "    <tr>\n",
       "      <th>2</th>\n",
       "      <td>2.5</td>\n",
       "      <td>B</td>\n",
       "      <td>4</td>\n",
       "    </tr>\n",
       "    <tr>\n",
       "      <th>3</th>\n",
       "      <td>2.6</td>\n",
       "      <td>A</td>\n",
       "      <td>3</td>\n",
       "    </tr>\n",
       "    <tr>\n",
       "      <th>4</th>\n",
       "      <td>2.6</td>\n",
       "      <td>B</td>\n",
       "      <td>5</td>\n",
       "    </tr>\n",
       "    <tr>\n",
       "      <th>5</th>\n",
       "      <td>3.3</td>\n",
       "      <td>D</td>\n",
       "      <td>1</td>\n",
       "    </tr>\n",
       "    <tr>\n",
       "      <th>6</th>\n",
       "      <td>3.4</td>\n",
       "      <td>B</td>\n",
       "      <td>6</td>\n",
       "    </tr>\n",
       "    <tr>\n",
       "      <th>7</th>\n",
       "      <td>3.4</td>\n",
       "      <td>C</td>\n",
       "      <td>3</td>\n",
       "    </tr>\n",
       "  </tbody>\n",
       "</table>\n",
       "</div>"
      ],
      "text/plain": [
       "   col1 col2 col4\n",
       "0   1.1    A    3\n",
       "1   1.1    D    1\n",
       "2   2.5    B    4\n",
       "3   2.6    A    3\n",
       "4   2.6    B    5\n",
       "5   3.3    D    1\n",
       "6   3.4    B    6\n",
       "7   3.4    C    3"
      ]
     },
     "execution_count": 285,
     "metadata": {
      "tags": []
     },
     "output_type": "execute_result"
    }
   ],
   "source": [
    "df.groupby(['col1', 'col2']).col4.max().reset_index() #highest value col4"
   ]
  },
  {
   "cell_type": "code",
   "execution_count": null,
   "metadata": {
    "colab": {},
    "colab_type": "code",
    "id": "1Ta8jWNoJHR9",
    "outputId": "fd6f0022-2a04-429f-b81e-999024324b06"
   },
   "outputs": [
    {
     "data": {
      "text/plain": [
       "inning  batsman       \n",
       "1       SK Raina          2452\n",
       "        RG Sharma         2208\n",
       "        V Kohli           2172\n",
       "        MS Dhoni          2072\n",
       "2       G Gambhir         2052\n",
       "        RV Uthappa        2030\n",
       "1       AB de Villiers    1962\n",
       "2       V Kohli           1938\n",
       "1       S Dhawan          1914\n",
       "        CH Gayle          1842\n",
       "Name: batsman_runs, dtype: int64"
      ]
     },
     "execution_count": 287,
     "metadata": {
      "tags": []
     },
     "output_type": "execute_result"
    }
   ],
   "source": [
    "deliveries.groupby(['inning', 'batsman']).batsman_runs.sum().sort_values(ascending = False).head(10)"
   ]
  },
  {
   "cell_type": "markdown",
   "metadata": {
    "colab_type": "text",
    "id": "JpLUrJEKJHSB"
   },
   "source": [
    "### Groupby-aggregate\n",
    "\n",
    "https://pandas.pydata.org/pandas-docs/stable/generated/pandas.core.groupby.DataFrameGroupBy.agg.html"
   ]
  },
  {
   "cell_type": "code",
   "execution_count": null,
   "metadata": {
    "colab": {},
    "colab_type": "code",
    "id": "v4xZ1AJBJHSC",
    "outputId": "578c3fc3-75da-4ee9-ad35-81087c8d9a7c"
   },
   "outputs": [
    {
     "data": {
      "text/html": [
       "<div>\n",
       "<table border=\"1\" class=\"dataframe\">\n",
       "  <thead>\n",
       "    <tr style=\"text-align: right;\">\n",
       "      <th></th>\n",
       "      <th>col1</th>\n",
       "      <th>col2</th>\n",
       "      <th>col3</th>\n",
       "      <th>col4</th>\n",
       "    </tr>\n",
       "  </thead>\n",
       "  <tbody>\n",
       "    <tr>\n",
       "      <th>0</th>\n",
       "      <td>1.1</td>\n",
       "      <td>A</td>\n",
       "      <td>1.1</td>\n",
       "      <td>1</td>\n",
       "    </tr>\n",
       "    <tr>\n",
       "      <th>1</th>\n",
       "      <td>1.1</td>\n",
       "      <td>A</td>\n",
       "      <td>1.7</td>\n",
       "      <td>3</td>\n",
       "    </tr>\n",
       "    <tr>\n",
       "      <th>2</th>\n",
       "      <td>1.1</td>\n",
       "      <td>A</td>\n",
       "      <td>2.5</td>\n",
       "      <td>3</td>\n",
       "    </tr>\n",
       "    <tr>\n",
       "      <th>3</th>\n",
       "      <td>2.6</td>\n",
       "      <td>B</td>\n",
       "      <td>2.6</td>\n",
       "      <td>2</td>\n",
       "    </tr>\n",
       "    <tr>\n",
       "      <th>4</th>\n",
       "      <td>2.5</td>\n",
       "      <td>B</td>\n",
       "      <td>3.3</td>\n",
       "      <td>4</td>\n",
       "    </tr>\n",
       "  </tbody>\n",
       "</table>\n",
       "</div>"
      ],
      "text/plain": [
       "  col1 col2 col3 col4\n",
       "0  1.1    A  1.1    1\n",
       "1  1.1    A  1.7    3\n",
       "2  1.1    A  2.5    3\n",
       "3  2.6    B  2.6    2\n",
       "4  2.5    B  3.3    4"
      ]
     },
     "execution_count": 292,
     "metadata": {
      "tags": []
     },
     "output_type": "execute_result"
    }
   ],
   "source": [
    "df = pd.DataFrame([[1.1, 1.1, 1.1, 2.6, 2.5, 3.4,2.6,2.6,3.4,3.4,2.6,1.1,1.1,3.3], list('AAABBBBABCBDDD'), \n",
    "                   [1.1, 1.7, 2.5, 2.6, 3.3, 3.8,4.0,4.2,4.3,4.5,4.6,4.7,4.7,4.8], \n",
    "                   ['1','3','3','2','4','2','5','3','6','3','5','1','1','1']]).T\n",
    "df.columns = ['col1','col2','col3','col4']\n",
    "df.head()"
   ]
  },
  {
   "cell_type": "code",
   "execution_count": null,
   "metadata": {
    "colab": {},
    "colab_type": "code",
    "id": "EvHV08TZJHSF",
    "outputId": "93930e94-5a63-40f1-b4e2-61aad78e1474"
   },
   "outputs": [
    {
     "data": {
      "text/html": [
       "<div>\n",
       "<table border=\"1\" class=\"dataframe\">\n",
       "  <thead>\n",
       "    <tr style=\"text-align: right;\">\n",
       "      <th></th>\n",
       "      <th>col1</th>\n",
       "      <th>col2</th>\n",
       "      <th>min</th>\n",
       "      <th>max</th>\n",
       "    </tr>\n",
       "  </thead>\n",
       "  <tbody>\n",
       "    <tr>\n",
       "      <th>0</th>\n",
       "      <td>1.1</td>\n",
       "      <td>A</td>\n",
       "      <td>1</td>\n",
       "      <td>3</td>\n",
       "    </tr>\n",
       "    <tr>\n",
       "      <th>1</th>\n",
       "      <td>1.1</td>\n",
       "      <td>D</td>\n",
       "      <td>1</td>\n",
       "      <td>1</td>\n",
       "    </tr>\n",
       "    <tr>\n",
       "      <th>2</th>\n",
       "      <td>2.5</td>\n",
       "      <td>B</td>\n",
       "      <td>4</td>\n",
       "      <td>4</td>\n",
       "    </tr>\n",
       "    <tr>\n",
       "      <th>3</th>\n",
       "      <td>2.6</td>\n",
       "      <td>A</td>\n",
       "      <td>3</td>\n",
       "      <td>3</td>\n",
       "    </tr>\n",
       "    <tr>\n",
       "      <th>4</th>\n",
       "      <td>2.6</td>\n",
       "      <td>B</td>\n",
       "      <td>2</td>\n",
       "      <td>5</td>\n",
       "    </tr>\n",
       "    <tr>\n",
       "      <th>5</th>\n",
       "      <td>3.3</td>\n",
       "      <td>D</td>\n",
       "      <td>1</td>\n",
       "      <td>1</td>\n",
       "    </tr>\n",
       "    <tr>\n",
       "      <th>6</th>\n",
       "      <td>3.4</td>\n",
       "      <td>B</td>\n",
       "      <td>2</td>\n",
       "      <td>6</td>\n",
       "    </tr>\n",
       "    <tr>\n",
       "      <th>7</th>\n",
       "      <td>3.4</td>\n",
       "      <td>C</td>\n",
       "      <td>3</td>\n",
       "      <td>3</td>\n",
       "    </tr>\n",
       "  </tbody>\n",
       "</table>\n",
       "</div>"
      ],
      "text/plain": [
       "   col1 col2 min max\n",
       "0   1.1    A   1   3\n",
       "1   1.1    D   1   1\n",
       "2   2.5    B   4   4\n",
       "3   2.6    A   3   3\n",
       "4   2.6    B   2   5\n",
       "5   3.3    D   1   1\n",
       "6   3.4    B   2   6\n",
       "7   3.4    C   3   3"
      ]
     },
     "execution_count": 291,
     "metadata": {
      "tags": []
     },
     "output_type": "execute_result"
    }
   ],
   "source": [
    "# Find sum of col3 and sum of col4\n",
    "#df.groupby(['col1', 'col2']).agg({'col3': 'sum', 'col4': 'max'})#.reset_index() #different coumns\n",
    "df.groupby(['col1', 'col2']).col4.agg(['min','max']).reset_index() # same column, different functions\n"
   ]
  },
  {
   "cell_type": "markdown",
   "metadata": {
    "colab_type": "text",
    "id": "Rd-Xt0-XJHSH"
   },
   "source": [
    "### groupby-transform"
   ]
  },
  {
   "cell_type": "code",
   "execution_count": null,
   "metadata": {
    "colab": {},
    "colab_type": "code",
    "id": "rroNhAjiJHSI",
    "outputId": "836e8377-3e2a-410c-9e94-ba75db5b06af"
   },
   "outputs": [
    {
     "data": {
      "text/html": [
       "<div>\n",
       "<table border=\"1\" class=\"dataframe\">\n",
       "  <thead>\n",
       "    <tr style=\"text-align: right;\">\n",
       "      <th></th>\n",
       "      <th>col1</th>\n",
       "      <th>col2</th>\n",
       "      <th>col3</th>\n",
       "      <th>col4</th>\n",
       "      <th>col4_max</th>\n",
       "    </tr>\n",
       "  </thead>\n",
       "  <tbody>\n",
       "    <tr>\n",
       "      <th>0</th>\n",
       "      <td>1.1</td>\n",
       "      <td>A</td>\n",
       "      <td>1.1</td>\n",
       "      <td>1</td>\n",
       "      <td>3</td>\n",
       "    </tr>\n",
       "    <tr>\n",
       "      <th>1</th>\n",
       "      <td>1.1</td>\n",
       "      <td>A</td>\n",
       "      <td>1.7</td>\n",
       "      <td>3</td>\n",
       "      <td>3</td>\n",
       "    </tr>\n",
       "    <tr>\n",
       "      <th>2</th>\n",
       "      <td>1.1</td>\n",
       "      <td>A</td>\n",
       "      <td>2.5</td>\n",
       "      <td>3</td>\n",
       "      <td>3</td>\n",
       "    </tr>\n",
       "    <tr>\n",
       "      <th>3</th>\n",
       "      <td>2.6</td>\n",
       "      <td>B</td>\n",
       "      <td>2.6</td>\n",
       "      <td>2</td>\n",
       "      <td>5</td>\n",
       "    </tr>\n",
       "    <tr>\n",
       "      <th>4</th>\n",
       "      <td>2.5</td>\n",
       "      <td>B</td>\n",
       "      <td>3.3</td>\n",
       "      <td>4</td>\n",
       "      <td>4</td>\n",
       "    </tr>\n",
       "  </tbody>\n",
       "</table>\n",
       "</div>"
      ],
      "text/plain": [
       "  col1 col2 col3 col4 col4_max\n",
       "0  1.1    A  1.1    1        3\n",
       "1  1.1    A  1.7    3        3\n",
       "2  1.1    A  2.5    3        3\n",
       "3  2.6    B  2.6    2        5\n",
       "4  2.5    B  3.3    4        4"
      ]
     },
     "execution_count": 296,
     "metadata": {
      "tags": []
     },
     "output_type": "execute_result"
    }
   ],
   "source": [
    "df['col4_max'] = df.groupby(['col1', 'col2']).col4.transform('max')\n",
    "df.head()"
   ]
  },
  {
   "cell_type": "code",
   "execution_count": null,
   "metadata": {
    "colab": {},
    "colab_type": "code",
    "id": "Tk-rp7juJHSJ"
   },
   "outputs": [],
   "source": [
    "deliveries = pd.read_csv('ipl/deliveries.csv')\n",
    "deliveries['total_batsman_runs'] = deliveries.groupby('batsman').batsman_runs.transform('sum')"
   ]
  },
  {
   "cell_type": "code",
   "execution_count": null,
   "metadata": {
    "colab": {},
    "colab_type": "code",
    "id": "s58V1I6gJHSM"
   },
   "outputs": [],
   "source": []
  },
  {
   "cell_type": "markdown",
   "metadata": {
    "colab_type": "text",
    "id": "nsOnNIkqJHSO"
   },
   "source": [
    "#### Iris dataset"
   ]
  },
  {
   "cell_type": "code",
   "execution_count": null,
   "metadata": {
    "colab": {},
    "colab_type": "code",
    "id": "av_7JkehJHSP",
    "outputId": "c1950e4c-4a25-4115-d437-f7e8bab0a114"
   },
   "outputs": [
    {
     "data": {
      "text/html": [
       "<div>\n",
       "<table border=\"1\" class=\"dataframe\">\n",
       "  <thead>\n",
       "    <tr style=\"text-align: right;\">\n",
       "      <th></th>\n",
       "      <th>Unnamed: 0</th>\n",
       "      <th>Sepal.Length</th>\n",
       "      <th>Sepal.Width</th>\n",
       "      <th>Petal.Length</th>\n",
       "      <th>Petal.Width</th>\n",
       "      <th>Species</th>\n",
       "    </tr>\n",
       "  </thead>\n",
       "  <tbody>\n",
       "    <tr>\n",
       "      <th>0</th>\n",
       "      <td>1</td>\n",
       "      <td>5.1</td>\n",
       "      <td>3.5</td>\n",
       "      <td>1.4</td>\n",
       "      <td>0.2</td>\n",
       "      <td>setosa</td>\n",
       "    </tr>\n",
       "    <tr>\n",
       "      <th>1</th>\n",
       "      <td>2</td>\n",
       "      <td>4.9</td>\n",
       "      <td>3.0</td>\n",
       "      <td>1.4</td>\n",
       "      <td>0.2</td>\n",
       "      <td>setosa</td>\n",
       "    </tr>\n",
       "    <tr>\n",
       "      <th>2</th>\n",
       "      <td>3</td>\n",
       "      <td>4.7</td>\n",
       "      <td>3.2</td>\n",
       "      <td>1.3</td>\n",
       "      <td>0.2</td>\n",
       "      <td>setosa</td>\n",
       "    </tr>\n",
       "    <tr>\n",
       "      <th>3</th>\n",
       "      <td>4</td>\n",
       "      <td>4.6</td>\n",
       "      <td>3.1</td>\n",
       "      <td>1.5</td>\n",
       "      <td>0.2</td>\n",
       "      <td>setosa</td>\n",
       "    </tr>\n",
       "    <tr>\n",
       "      <th>4</th>\n",
       "      <td>5</td>\n",
       "      <td>5.0</td>\n",
       "      <td>3.6</td>\n",
       "      <td>1.4</td>\n",
       "      <td>0.2</td>\n",
       "      <td>setosa</td>\n",
       "    </tr>\n",
       "  </tbody>\n",
       "</table>\n",
       "</div>"
      ],
      "text/plain": [
       "   Unnamed: 0  Sepal.Length  Sepal.Width  Petal.Length  Petal.Width Species\n",
       "0           1           5.1          3.5           1.4          0.2  setosa\n",
       "1           2           4.9          3.0           1.4          0.2  setosa\n",
       "2           3           4.7          3.2           1.3          0.2  setosa\n",
       "3           4           4.6          3.1           1.5          0.2  setosa\n",
       "4           5           5.0          3.6           1.4          0.2  setosa"
      ]
     },
     "execution_count": 316,
     "metadata": {
      "tags": []
     },
     "output_type": "execute_result"
    }
   ],
   "source": [
    "iris = pd.read_csv('iris.csv')\n",
    "iris.head()"
   ]
  },
  {
   "cell_type": "code",
   "execution_count": null,
   "metadata": {
    "colab": {},
    "colab_type": "code",
    "id": "bh4YS4lQJHSR",
    "outputId": "3410fb48-4ddc-434c-ce4e-a646c7cfe7b6"
   },
   "outputs": [
    {
     "data": {
      "text/html": [
       "<div>\n",
       "<table border=\"1\" class=\"dataframe\">\n",
       "  <thead>\n",
       "    <tr style=\"text-align: right;\">\n",
       "      <th></th>\n",
       "      <th>Sepal.Length</th>\n",
       "      <th>Sepal.Width</th>\n",
       "      <th>Petal.Length</th>\n",
       "      <th>Petal.Width</th>\n",
       "      <th>Species</th>\n",
       "    </tr>\n",
       "  </thead>\n",
       "  <tbody>\n",
       "    <tr>\n",
       "      <th>0</th>\n",
       "      <td>5.1</td>\n",
       "      <td>3.5</td>\n",
       "      <td>1.4</td>\n",
       "      <td>0.2</td>\n",
       "      <td>setosa</td>\n",
       "    </tr>\n",
       "    <tr>\n",
       "      <th>1</th>\n",
       "      <td>4.9</td>\n",
       "      <td>3.0</td>\n",
       "      <td>1.4</td>\n",
       "      <td>0.2</td>\n",
       "      <td>setosa</td>\n",
       "    </tr>\n",
       "    <tr>\n",
       "      <th>2</th>\n",
       "      <td>4.7</td>\n",
       "      <td>3.2</td>\n",
       "      <td>1.3</td>\n",
       "      <td>0.2</td>\n",
       "      <td>setosa</td>\n",
       "    </tr>\n",
       "    <tr>\n",
       "      <th>3</th>\n",
       "      <td>4.6</td>\n",
       "      <td>3.1</td>\n",
       "      <td>1.5</td>\n",
       "      <td>0.2</td>\n",
       "      <td>setosa</td>\n",
       "    </tr>\n",
       "    <tr>\n",
       "      <th>4</th>\n",
       "      <td>5.0</td>\n",
       "      <td>3.6</td>\n",
       "      <td>1.4</td>\n",
       "      <td>0.2</td>\n",
       "      <td>setosa</td>\n",
       "    </tr>\n",
       "  </tbody>\n",
       "</table>\n",
       "</div>"
      ],
      "text/plain": [
       "   Sepal.Length  Sepal.Width  Petal.Length  Petal.Width Species\n",
       "0           5.1          3.5           1.4          0.2  setosa\n",
       "1           4.9          3.0           1.4          0.2  setosa\n",
       "2           4.7          3.2           1.3          0.2  setosa\n",
       "3           4.6          3.1           1.5          0.2  setosa\n",
       "4           5.0          3.6           1.4          0.2  setosa"
      ]
     },
     "execution_count": 317,
     "metadata": {
      "tags": []
     },
     "output_type": "execute_result"
    }
   ],
   "source": [
    "iris.drop('Unnamed: 0', axis = 1,inplace=True)\n",
    "iris.head()"
   ]
  },
  {
   "cell_type": "code",
   "execution_count": null,
   "metadata": {
    "colab": {},
    "colab_type": "code",
    "id": "u7EVHMIWJHSU",
    "outputId": "e30e0193-0cc9-44a1-9ecd-613f7e305deb"
   },
   "outputs": [
    {
     "data": {
      "text/html": [
       "<div>\n",
       "<table border=\"1\" class=\"dataframe\">\n",
       "  <thead>\n",
       "    <tr style=\"text-align: right;\">\n",
       "      <th></th>\n",
       "      <th>Sepal.Length</th>\n",
       "      <th>Sepal.Width</th>\n",
       "      <th>Petal.Length</th>\n",
       "      <th>Petal.Width</th>\n",
       "    </tr>\n",
       "    <tr>\n",
       "      <th>Species</th>\n",
       "      <th></th>\n",
       "      <th></th>\n",
       "      <th></th>\n",
       "      <th></th>\n",
       "    </tr>\n",
       "  </thead>\n",
       "  <tbody>\n",
       "    <tr>\n",
       "      <th>setosa</th>\n",
       "      <td>5.006</td>\n",
       "      <td>3.428</td>\n",
       "      <td>1.462</td>\n",
       "      <td>0.246</td>\n",
       "    </tr>\n",
       "    <tr>\n",
       "      <th>versicolor</th>\n",
       "      <td>5.936</td>\n",
       "      <td>2.770</td>\n",
       "      <td>4.260</td>\n",
       "      <td>1.326</td>\n",
       "    </tr>\n",
       "    <tr>\n",
       "      <th>virginica</th>\n",
       "      <td>6.588</td>\n",
       "      <td>2.974</td>\n",
       "      <td>5.552</td>\n",
       "      <td>2.026</td>\n",
       "    </tr>\n",
       "  </tbody>\n",
       "</table>\n",
       "</div>"
      ],
      "text/plain": [
       "            Sepal.Length  Sepal.Width  Petal.Length  Petal.Width\n",
       "Species                                                         \n",
       "setosa             5.006        3.428         1.462        0.246\n",
       "versicolor         5.936        2.770         4.260        1.326\n",
       "virginica          6.588        2.974         5.552        2.026"
      ]
     },
     "execution_count": 319,
     "metadata": {
      "tags": []
     },
     "output_type": "execute_result"
    }
   ],
   "source": [
    "iris.groupby('Species').mean()"
   ]
  },
  {
   "cell_type": "code",
   "execution_count": null,
   "metadata": {
    "colab": {},
    "colab_type": "code",
    "id": "XHn278TcJHSX",
    "outputId": "88e50ab3-f749-4c20-dff1-1c94884e0018"
   },
   "outputs": [
    {
     "data": {
      "text/html": [
       "<div>\n",
       "<table border=\"1\" class=\"dataframe\">\n",
       "  <thead>\n",
       "    <tr style=\"text-align: right;\">\n",
       "      <th></th>\n",
       "      <th>Sepal.Length</th>\n",
       "      <th>Sepal.Width</th>\n",
       "      <th>Petal.Length</th>\n",
       "      <th>Petal.Width</th>\n",
       "    </tr>\n",
       "    <tr>\n",
       "      <th>Species</th>\n",
       "      <th></th>\n",
       "      <th></th>\n",
       "      <th></th>\n",
       "      <th></th>\n",
       "    </tr>\n",
       "  </thead>\n",
       "  <tbody>\n",
       "    <tr>\n",
       "      <th>setosa</th>\n",
       "      <td>0.352490</td>\n",
       "      <td>0.379064</td>\n",
       "      <td>0.173664</td>\n",
       "      <td>0.105386</td>\n",
       "    </tr>\n",
       "    <tr>\n",
       "      <th>versicolor</th>\n",
       "      <td>0.516171</td>\n",
       "      <td>0.313798</td>\n",
       "      <td>0.469911</td>\n",
       "      <td>0.197753</td>\n",
       "    </tr>\n",
       "    <tr>\n",
       "      <th>virginica</th>\n",
       "      <td>0.635880</td>\n",
       "      <td>0.322497</td>\n",
       "      <td>0.551895</td>\n",
       "      <td>0.274650</td>\n",
       "    </tr>\n",
       "  </tbody>\n",
       "</table>\n",
       "</div>"
      ],
      "text/plain": [
       "            Sepal.Length  Sepal.Width  Petal.Length  Petal.Width\n",
       "Species                                                         \n",
       "setosa          0.352490     0.379064      0.173664     0.105386\n",
       "versicolor      0.516171     0.313798      0.469911     0.197753\n",
       "virginica       0.635880     0.322497      0.551895     0.274650"
      ]
     },
     "execution_count": 41,
     "metadata": {
      "tags": []
     },
     "output_type": "execute_result"
    }
   ],
   "source": [
    "iris.groupby('Species').std()"
   ]
  },
  {
   "cell_type": "markdown",
   "metadata": {
    "colab_type": "text",
    "id": "vRuFzdI8JHSa"
   },
   "source": [
    "#### Imdb dataset\n",
    "\n",
    "Download link: https://www.kaggle.com/deepmatrix/imdb-5000-movie-dataset"
   ]
  },
  {
   "cell_type": "code",
   "execution_count": null,
   "metadata": {
    "colab": {},
    "colab_type": "code",
    "id": "Hh6rWCdYJHSb",
    "outputId": "c826b455-1880-4901-ce2f-738e1f7cb7a5"
   },
   "outputs": [
    {
     "data": {
      "text/html": [
       "<div>\n",
       "<table border=\"1\" class=\"dataframe\">\n",
       "  <thead>\n",
       "    <tr style=\"text-align: right;\">\n",
       "      <th></th>\n",
       "      <th>color</th>\n",
       "      <th>director_name</th>\n",
       "      <th>num_critic_for_reviews</th>\n",
       "      <th>duration</th>\n",
       "      <th>director_facebook_likes</th>\n",
       "      <th>actor_3_facebook_likes</th>\n",
       "      <th>actor_2_name</th>\n",
       "      <th>actor_1_facebook_likes</th>\n",
       "      <th>gross</th>\n",
       "      <th>genres</th>\n",
       "      <th>...</th>\n",
       "      <th>num_user_for_reviews</th>\n",
       "      <th>language</th>\n",
       "      <th>country</th>\n",
       "      <th>content_rating</th>\n",
       "      <th>budget</th>\n",
       "      <th>title_year</th>\n",
       "      <th>actor_2_facebook_likes</th>\n",
       "      <th>imdb_score</th>\n",
       "      <th>aspect_ratio</th>\n",
       "      <th>movie_facebook_likes</th>\n",
       "    </tr>\n",
       "  </thead>\n",
       "  <tbody>\n",
       "    <tr>\n",
       "      <th>0</th>\n",
       "      <td>Color</td>\n",
       "      <td>James Cameron</td>\n",
       "      <td>723.0</td>\n",
       "      <td>178.0</td>\n",
       "      <td>0.0</td>\n",
       "      <td>855.0</td>\n",
       "      <td>Joel David Moore</td>\n",
       "      <td>1000.0</td>\n",
       "      <td>760505847.0</td>\n",
       "      <td>Action|Adventure|Fantasy|Sci-Fi</td>\n",
       "      <td>...</td>\n",
       "      <td>3054.0</td>\n",
       "      <td>English</td>\n",
       "      <td>USA</td>\n",
       "      <td>PG-13</td>\n",
       "      <td>237000000.0</td>\n",
       "      <td>2009.0</td>\n",
       "      <td>936.0</td>\n",
       "      <td>7.9</td>\n",
       "      <td>1.78</td>\n",
       "      <td>33000</td>\n",
       "    </tr>\n",
       "    <tr>\n",
       "      <th>1</th>\n",
       "      <td>Color</td>\n",
       "      <td>Gore Verbinski</td>\n",
       "      <td>302.0</td>\n",
       "      <td>169.0</td>\n",
       "      <td>563.0</td>\n",
       "      <td>1000.0</td>\n",
       "      <td>Orlando Bloom</td>\n",
       "      <td>40000.0</td>\n",
       "      <td>309404152.0</td>\n",
       "      <td>Action|Adventure|Fantasy</td>\n",
       "      <td>...</td>\n",
       "      <td>1238.0</td>\n",
       "      <td>English</td>\n",
       "      <td>USA</td>\n",
       "      <td>PG-13</td>\n",
       "      <td>300000000.0</td>\n",
       "      <td>2007.0</td>\n",
       "      <td>5000.0</td>\n",
       "      <td>7.1</td>\n",
       "      <td>2.35</td>\n",
       "      <td>0</td>\n",
       "    </tr>\n",
       "    <tr>\n",
       "      <th>2</th>\n",
       "      <td>Color</td>\n",
       "      <td>Sam Mendes</td>\n",
       "      <td>602.0</td>\n",
       "      <td>148.0</td>\n",
       "      <td>0.0</td>\n",
       "      <td>161.0</td>\n",
       "      <td>Rory Kinnear</td>\n",
       "      <td>11000.0</td>\n",
       "      <td>200074175.0</td>\n",
       "      <td>Action|Adventure|Thriller</td>\n",
       "      <td>...</td>\n",
       "      <td>994.0</td>\n",
       "      <td>English</td>\n",
       "      <td>UK</td>\n",
       "      <td>PG-13</td>\n",
       "      <td>245000000.0</td>\n",
       "      <td>2015.0</td>\n",
       "      <td>393.0</td>\n",
       "      <td>6.8</td>\n",
       "      <td>2.35</td>\n",
       "      <td>85000</td>\n",
       "    </tr>\n",
       "    <tr>\n",
       "      <th>3</th>\n",
       "      <td>Color</td>\n",
       "      <td>Christopher Nolan</td>\n",
       "      <td>813.0</td>\n",
       "      <td>164.0</td>\n",
       "      <td>22000.0</td>\n",
       "      <td>23000.0</td>\n",
       "      <td>Christian Bale</td>\n",
       "      <td>27000.0</td>\n",
       "      <td>448130642.0</td>\n",
       "      <td>Action|Thriller</td>\n",
       "      <td>...</td>\n",
       "      <td>2701.0</td>\n",
       "      <td>English</td>\n",
       "      <td>USA</td>\n",
       "      <td>PG-13</td>\n",
       "      <td>250000000.0</td>\n",
       "      <td>2012.0</td>\n",
       "      <td>23000.0</td>\n",
       "      <td>8.5</td>\n",
       "      <td>2.35</td>\n",
       "      <td>164000</td>\n",
       "    </tr>\n",
       "    <tr>\n",
       "      <th>4</th>\n",
       "      <td>NaN</td>\n",
       "      <td>Doug Walker</td>\n",
       "      <td>NaN</td>\n",
       "      <td>NaN</td>\n",
       "      <td>131.0</td>\n",
       "      <td>NaN</td>\n",
       "      <td>Rob Walker</td>\n",
       "      <td>131.0</td>\n",
       "      <td>NaN</td>\n",
       "      <td>Documentary</td>\n",
       "      <td>...</td>\n",
       "      <td>NaN</td>\n",
       "      <td>NaN</td>\n",
       "      <td>NaN</td>\n",
       "      <td>NaN</td>\n",
       "      <td>NaN</td>\n",
       "      <td>NaN</td>\n",
       "      <td>12.0</td>\n",
       "      <td>7.1</td>\n",
       "      <td>NaN</td>\n",
       "      <td>0</td>\n",
       "    </tr>\n",
       "  </tbody>\n",
       "</table>\n",
       "<p>5 rows × 28 columns</p>\n",
       "</div>"
      ],
      "text/plain": [
       "   color      director_name  num_critic_for_reviews  duration  \\\n",
       "0  Color      James Cameron                   723.0     178.0   \n",
       "1  Color     Gore Verbinski                   302.0     169.0   \n",
       "2  Color         Sam Mendes                   602.0     148.0   \n",
       "3  Color  Christopher Nolan                   813.0     164.0   \n",
       "4    NaN        Doug Walker                     NaN       NaN   \n",
       "\n",
       "   director_facebook_likes  actor_3_facebook_likes      actor_2_name  \\\n",
       "0                      0.0                   855.0  Joel David Moore   \n",
       "1                    563.0                  1000.0     Orlando Bloom   \n",
       "2                      0.0                   161.0      Rory Kinnear   \n",
       "3                  22000.0                 23000.0    Christian Bale   \n",
       "4                    131.0                     NaN        Rob Walker   \n",
       "\n",
       "   actor_1_facebook_likes        gross                           genres  \\\n",
       "0                  1000.0  760505847.0  Action|Adventure|Fantasy|Sci-Fi   \n",
       "1                 40000.0  309404152.0         Action|Adventure|Fantasy   \n",
       "2                 11000.0  200074175.0        Action|Adventure|Thriller   \n",
       "3                 27000.0  448130642.0                  Action|Thriller   \n",
       "4                   131.0          NaN                      Documentary   \n",
       "\n",
       "          ...          num_user_for_reviews language  country  content_rating  \\\n",
       "0         ...                        3054.0  English      USA           PG-13   \n",
       "1         ...                        1238.0  English      USA           PG-13   \n",
       "2         ...                         994.0  English       UK           PG-13   \n",
       "3         ...                        2701.0  English      USA           PG-13   \n",
       "4         ...                           NaN      NaN      NaN             NaN   \n",
       "\n",
       "        budget  title_year actor_2_facebook_likes imdb_score  aspect_ratio  \\\n",
       "0  237000000.0      2009.0                  936.0        7.9          1.78   \n",
       "1  300000000.0      2007.0                 5000.0        7.1          2.35   \n",
       "2  245000000.0      2015.0                  393.0        6.8          2.35   \n",
       "3  250000000.0      2012.0                23000.0        8.5          2.35   \n",
       "4          NaN         NaN                   12.0        7.1           NaN   \n",
       "\n",
       "  movie_facebook_likes  \n",
       "0                33000  \n",
       "1                    0  \n",
       "2                85000  \n",
       "3               164000  \n",
       "4                    0  \n",
       "\n",
       "[5 rows x 28 columns]"
      ]
     },
     "execution_count": 320,
     "metadata": {
      "tags": []
     },
     "output_type": "execute_result"
    }
   ],
   "source": [
    "imdb = pd.read_csv('movie_metadata.csv')\n",
    "imdb.head()"
   ]
  },
  {
   "cell_type": "code",
   "execution_count": null,
   "metadata": {
    "colab": {},
    "colab_type": "code",
    "id": "KRz9iatlJHSg",
    "outputId": "bdb73d53-6905-46cf-c1c9-8851f9303df2"
   },
   "outputs": [
    {
     "data": {
      "text/plain": [
       "(5043, 28)"
      ]
     },
     "execution_count": 321,
     "metadata": {
      "tags": []
     },
     "output_type": "execute_result"
    }
   ],
   "source": [
    "imdb.shape"
   ]
  },
  {
   "cell_type": "code",
   "execution_count": null,
   "metadata": {
    "colab": {},
    "colab_type": "code",
    "id": "rVl2JNsSJHSj",
    "outputId": "98cf4938-1a4a-40f1-9c5b-09341f9ad377"
   },
   "outputs": [
    {
     "data": {
      "text/plain": [
       "Index(['color', 'director_name', 'num_critic_for_reviews', 'duration',\n",
       "       'director_facebook_likes', 'actor_3_facebook_likes', 'actor_2_name',\n",
       "       'actor_1_facebook_likes', 'gross', 'genres', 'actor_1_name',\n",
       "       'movie_title', 'num_voted_users', 'cast_total_facebook_likes',\n",
       "       'actor_3_name', 'facenumber_in_poster', 'plot_keywords',\n",
       "       'movie_imdb_link', 'num_user_for_reviews', 'language', 'country',\n",
       "       'content_rating', 'budget', 'title_year', 'actor_2_facebook_likes',\n",
       "       'imdb_score', 'aspect_ratio', 'movie_facebook_likes'],\n",
       "      dtype='object')"
      ]
     },
     "execution_count": 322,
     "metadata": {
      "tags": []
     },
     "output_type": "execute_result"
    }
   ],
   "source": [
    "imdb.columns"
   ]
  },
  {
   "cell_type": "code",
   "execution_count": null,
   "metadata": {
    "colab": {},
    "colab_type": "code",
    "id": "QUQQ5bQGJHSs",
    "outputId": "75743bfa-92ff-4c19-a164-515843402439"
   },
   "outputs": [
    {
     "data": {
      "text/html": [
       "<div>\n",
       "<table border=\"1\" class=\"dataframe\">\n",
       "  <thead>\n",
       "    <tr style=\"text-align: right;\">\n",
       "      <th></th>\n",
       "      <th>movie_title</th>\n",
       "      <th>director_name</th>\n",
       "      <th>gross</th>\n",
       "      <th>budget</th>\n",
       "      <th>title_year</th>\n",
       "      <th>genres</th>\n",
       "      <th>actor_1_name</th>\n",
       "      <th>actor_2_name</th>\n",
       "      <th>country</th>\n",
       "      <th>imdb_score</th>\n",
       "      <th>content_rating</th>\n",
       "    </tr>\n",
       "  </thead>\n",
       "  <tbody>\n",
       "    <tr>\n",
       "      <th>0</th>\n",
       "      <td>Avatar</td>\n",
       "      <td>James Cameron</td>\n",
       "      <td>760505847.0</td>\n",
       "      <td>237000000.0</td>\n",
       "      <td>2009.0</td>\n",
       "      <td>Action|Adventure|Fantasy|Sci-Fi</td>\n",
       "      <td>CCH Pounder</td>\n",
       "      <td>Joel David Moore</td>\n",
       "      <td>USA</td>\n",
       "      <td>7.9</td>\n",
       "      <td>PG-13</td>\n",
       "    </tr>\n",
       "    <tr>\n",
       "      <th>1</th>\n",
       "      <td>Pirates of the Caribbean: At World's End</td>\n",
       "      <td>Gore Verbinski</td>\n",
       "      <td>309404152.0</td>\n",
       "      <td>300000000.0</td>\n",
       "      <td>2007.0</td>\n",
       "      <td>Action|Adventure|Fantasy</td>\n",
       "      <td>Johnny Depp</td>\n",
       "      <td>Orlando Bloom</td>\n",
       "      <td>USA</td>\n",
       "      <td>7.1</td>\n",
       "      <td>PG-13</td>\n",
       "    </tr>\n",
       "    <tr>\n",
       "      <th>2</th>\n",
       "      <td>Spectre</td>\n",
       "      <td>Sam Mendes</td>\n",
       "      <td>200074175.0</td>\n",
       "      <td>245000000.0</td>\n",
       "      <td>2015.0</td>\n",
       "      <td>Action|Adventure|Thriller</td>\n",
       "      <td>Christoph Waltz</td>\n",
       "      <td>Rory Kinnear</td>\n",
       "      <td>UK</td>\n",
       "      <td>6.8</td>\n",
       "      <td>PG-13</td>\n",
       "    </tr>\n",
       "    <tr>\n",
       "      <th>3</th>\n",
       "      <td>The Dark Knight Rises</td>\n",
       "      <td>Christopher Nolan</td>\n",
       "      <td>448130642.0</td>\n",
       "      <td>250000000.0</td>\n",
       "      <td>2012.0</td>\n",
       "      <td>Action|Thriller</td>\n",
       "      <td>Tom Hardy</td>\n",
       "      <td>Christian Bale</td>\n",
       "      <td>USA</td>\n",
       "      <td>8.5</td>\n",
       "      <td>PG-13</td>\n",
       "    </tr>\n",
       "    <tr>\n",
       "      <th>4</th>\n",
       "      <td>Star Wars: Episode VII - The Force Awakens    ...</td>\n",
       "      <td>Doug Walker</td>\n",
       "      <td>NaN</td>\n",
       "      <td>NaN</td>\n",
       "      <td>NaN</td>\n",
       "      <td>Documentary</td>\n",
       "      <td>Doug Walker</td>\n",
       "      <td>Rob Walker</td>\n",
       "      <td>NaN</td>\n",
       "      <td>7.1</td>\n",
       "      <td>NaN</td>\n",
       "    </tr>\n",
       "  </tbody>\n",
       "</table>\n",
       "</div>"
      ],
      "text/plain": [
       "                                         movie_title      director_name  \\\n",
       "0                                            Avatar       James Cameron   \n",
       "1          Pirates of the Caribbean: At World's End      Gore Verbinski   \n",
       "2                                           Spectre          Sam Mendes   \n",
       "3                             The Dark Knight Rises   Christopher Nolan   \n",
       "4  Star Wars: Episode VII - The Force Awakens    ...        Doug Walker   \n",
       "\n",
       "         gross       budget  title_year                           genres  \\\n",
       "0  760505847.0  237000000.0      2009.0  Action|Adventure|Fantasy|Sci-Fi   \n",
       "1  309404152.0  300000000.0      2007.0         Action|Adventure|Fantasy   \n",
       "2  200074175.0  245000000.0      2015.0        Action|Adventure|Thriller   \n",
       "3  448130642.0  250000000.0      2012.0                  Action|Thriller   \n",
       "4          NaN          NaN         NaN                      Documentary   \n",
       "\n",
       "      actor_1_name      actor_2_name country  imdb_score content_rating  \n",
       "0      CCH Pounder  Joel David Moore     USA         7.9          PG-13  \n",
       "1      Johnny Depp     Orlando Bloom     USA         7.1          PG-13  \n",
       "2  Christoph Waltz      Rory Kinnear      UK         6.8          PG-13  \n",
       "3        Tom Hardy    Christian Bale     USA         8.5          PG-13  \n",
       "4      Doug Walker        Rob Walker     NaN         7.1            NaN  "
      ]
     },
     "execution_count": 325,
     "metadata": {
      "tags": []
     },
     "output_type": "execute_result"
    }
   ],
   "source": [
    "imdb_select = imdb[['movie_title','director_name', 'gross','budget','title_year','genres','actor_1_name','actor_2_name','country','imdb_score','content_rating']]\n",
    "imdb_select.head()"
   ]
  },
  {
   "cell_type": "code",
   "execution_count": null,
   "metadata": {
    "colab": {},
    "colab_type": "code",
    "id": "HRT_W5lpJHSu",
    "outputId": "f50ab3ee-094c-4a5a-9673-f62909776623"
   },
   "outputs": [
    {
     "data": {
      "text/plain": [
       "director_name\n",
       "Steven Spielberg    4.114233e+09\n",
       "Peter Jackson       2.592969e+09\n",
       "Michael Bay         2.231243e+09\n",
       "Tim Burton          2.071275e+09\n",
       "Sam Raimi           2.049549e+09\n",
       "Name: gross, dtype: float64"
      ]
     },
     "execution_count": 327,
     "metadata": {
      "tags": []
     },
     "output_type": "execute_result"
    }
   ],
   "source": [
    "imdb_select.groupby('director_name').gross.sum().sort_values(ascending = False).head()"
   ]
  },
  {
   "cell_type": "code",
   "execution_count": null,
   "metadata": {
    "colab": {},
    "colab_type": "code",
    "id": "21OPbTjtJHSw",
    "outputId": "74a49b13-adc6-45aa-a5aa-5878fba986c0"
   },
   "outputs": [
    {
     "data": {
      "text/plain": [
       "Steven Spielberg     26\n",
       "Woody Allen          22\n",
       "Clint Eastwood       20\n",
       "Martin Scorsese      20\n",
       "Ridley Scott         17\n",
       "Spike Lee            16\n",
       "Tim Burton           16\n",
       "Steven Soderbergh    16\n",
       "Renny Harlin         15\n",
       "Oliver Stone         14\n",
       "Name: director_name, dtype: int64"
      ]
     },
     "execution_count": 198,
     "metadata": {
      "tags": []
     },
     "output_type": "execute_result"
    }
   ],
   "source": [
    "imdb_select.director_name.value_counts()[:10] #series.value_counts()"
   ]
  },
  {
   "cell_type": "code",
   "execution_count": null,
   "metadata": {
    "colab": {},
    "colab_type": "code",
    "id": "B4R1B23zJHSy",
    "outputId": "4aec3a65-ab9c-4d8a-b290-d2786d847aa8"
   },
   "outputs": [
    {
     "data": {
      "text/html": [
       "<div>\n",
       "<table border=\"1\" class=\"dataframe\">\n",
       "  <thead>\n",
       "    <tr style=\"text-align: right;\">\n",
       "      <th></th>\n",
       "      <th></th>\n",
       "      <th>gross</th>\n",
       "      <th>budget</th>\n",
       "    </tr>\n",
       "    <tr>\n",
       "      <th>director_name</th>\n",
       "      <th>actor_1_name</th>\n",
       "      <th></th>\n",
       "      <th></th>\n",
       "    </tr>\n",
       "  </thead>\n",
       "  <tbody>\n",
       "    <tr>\n",
       "      <th>Joss Whedon</th>\n",
       "      <th>Chris Hemsworth</th>\n",
       "      <td>1.705551e+09</td>\n",
       "      <td>6.900000e+08</td>\n",
       "    </tr>\n",
       "    <tr>\n",
       "      <th>Sam Raimi</th>\n",
       "      <th>J.K. Simmons</th>\n",
       "      <td>1.485313e+09</td>\n",
       "      <td>9.050000e+08</td>\n",
       "    </tr>\n",
       "    <tr>\n",
       "      <th>Gore Verbinski</th>\n",
       "      <th>Johnny Depp</th>\n",
       "      <td>1.250323e+09</td>\n",
       "      <td>1.015000e+09</td>\n",
       "    </tr>\n",
       "    <tr>\n",
       "      <th>George Lucas</th>\n",
       "      <th>Natalie Portman</th>\n",
       "      <td>1.165483e+09</td>\n",
       "      <td>3.430000e+08</td>\n",
       "    </tr>\n",
       "    <tr>\n",
       "      <th>Tim Burton</th>\n",
       "      <th>Johnny Depp</th>\n",
       "      <td>1.070126e+09</td>\n",
       "      <td>7.280000e+08</td>\n",
       "    </tr>\n",
       "  </tbody>\n",
       "</table>\n",
       "</div>"
      ],
      "text/plain": [
       "                                       gross        budget\n",
       "director_name  actor_1_name                               \n",
       "Joss Whedon    Chris Hemsworth  1.705551e+09  6.900000e+08\n",
       "Sam Raimi      J.K. Simmons     1.485313e+09  9.050000e+08\n",
       "Gore Verbinski Johnny Depp      1.250323e+09  1.015000e+09\n",
       "George Lucas   Natalie Portman  1.165483e+09  3.430000e+08\n",
       "Tim Burton     Johnny Depp      1.070126e+09  7.280000e+08"
      ]
     },
     "execution_count": 332,
     "metadata": {
      "tags": []
     },
     "output_type": "execute_result"
    }
   ],
   "source": [
    "#applying same function on multiple columns\n",
    "imdb_select.groupby(['director_name', 'actor_1_name'])['gross', 'budget'].sum().sort_values(by = 'gross',ascending = False).head()"
   ]
  },
  {
   "cell_type": "code",
   "execution_count": null,
   "metadata": {
    "colab": {},
    "colab_type": "code",
    "id": "EzzzCFaCJHS0",
    "outputId": "b42085c5-f390-4b97-888f-f6b797f26bf1"
   },
   "outputs": [
    {
     "data": {
      "text/html": [
       "<div>\n",
       "<table border=\"1\" class=\"dataframe\">\n",
       "  <thead>\n",
       "    <tr style=\"text-align: right;\">\n",
       "      <th></th>\n",
       "      <th></th>\n",
       "      <th>gross</th>\n",
       "      <th>budget</th>\n",
       "    </tr>\n",
       "    <tr>\n",
       "      <th>director_name</th>\n",
       "      <th>actor_1_name</th>\n",
       "      <th></th>\n",
       "      <th></th>\n",
       "    </tr>\n",
       "  </thead>\n",
       "  <tbody>\n",
       "    <tr>\n",
       "      <th>A. Raven Cruz</th>\n",
       "      <th>Scott Levy</th>\n",
       "      <td>NaN</td>\n",
       "      <td>1000000.0</td>\n",
       "    </tr>\n",
       "    <tr>\n",
       "      <th>Aaron Hann</th>\n",
       "      <th>Jordi Vilasuso</th>\n",
       "      <td>NaN</td>\n",
       "      <td>NaN</td>\n",
       "    </tr>\n",
       "    <tr>\n",
       "      <th>Aaron Schneider</th>\n",
       "      <th>Bill Murray</th>\n",
       "      <td>9176553.0</td>\n",
       "      <td>7500000.0</td>\n",
       "    </tr>\n",
       "    <tr>\n",
       "      <th>Aaron Seltzer</th>\n",
       "      <th>Alyson Hannigan</th>\n",
       "      <td>48546578.0</td>\n",
       "      <td>20000000.0</td>\n",
       "    </tr>\n",
       "    <tr>\n",
       "      <th>Abel Ferrara</th>\n",
       "      <th>Isabella Rossellini</th>\n",
       "      <td>1227324.0</td>\n",
       "      <td>12500000.0</td>\n",
       "    </tr>\n",
       "    <tr>\n",
       "      <th>Adam Brooks</th>\n",
       "      <th>Ryan Reynolds</th>\n",
       "      <td>31973840.0</td>\n",
       "      <td>NaN</td>\n",
       "    </tr>\n",
       "    <tr>\n",
       "      <th>Adam Carolla</th>\n",
       "      <th>Jay Mohr</th>\n",
       "      <td>105943.0</td>\n",
       "      <td>1500000.0</td>\n",
       "    </tr>\n",
       "    <tr>\n",
       "      <th>Adam Goldberg</th>\n",
       "      <th>Judy Greer</th>\n",
       "      <td>2580.0</td>\n",
       "      <td>1650000.0</td>\n",
       "    </tr>\n",
       "    <tr>\n",
       "      <th>Adam Green</th>\n",
       "      <th>Joel David Moore</th>\n",
       "      <td>NaN</td>\n",
       "      <td>1500000.0</td>\n",
       "    </tr>\n",
       "    <tr>\n",
       "      <th>Adam Jay Epstein</th>\n",
       "      <th>Rich Ceraulo</th>\n",
       "      <td>NaN</td>\n",
       "      <td>NaN</td>\n",
       "    </tr>\n",
       "    <tr>\n",
       "      <th>Adam Marcus</th>\n",
       "      <th>Kane Hodder</th>\n",
       "      <td>15935068.0</td>\n",
       "      <td>2500000.0</td>\n",
       "    </tr>\n",
       "    <tr>\n",
       "      <th rowspan=\"5\" valign=\"top\">Adam McKay</th>\n",
       "      <th>Darcy Donavan</th>\n",
       "      <td>84136909.0</td>\n",
       "      <td>26000000.0</td>\n",
       "    </tr>\n",
       "    <tr>\n",
       "      <th>Dwayne Johnson</th>\n",
       "      <td>119219978.0</td>\n",
       "      <td>100000000.0</td>\n",
       "    </tr>\n",
       "    <tr>\n",
       "      <th>Harrison Ford</th>\n",
       "      <td>2175312.0</td>\n",
       "      <td>50000000.0</td>\n",
       "    </tr>\n",
       "    <tr>\n",
       "      <th>Ryan Gosling</th>\n",
       "      <td>70235322.0</td>\n",
       "      <td>28000000.0</td>\n",
       "    </tr>\n",
       "    <tr>\n",
       "      <th>Will Ferrell</th>\n",
       "      <td>248682170.0</td>\n",
       "      <td>69000000.0</td>\n",
       "    </tr>\n",
       "    <tr>\n",
       "      <th>Adam Rapp</th>\n",
       "      <th>Zooey Deschanel</th>\n",
       "      <td>101228.0</td>\n",
       "      <td>3500000.0</td>\n",
       "    </tr>\n",
       "    <tr>\n",
       "      <th rowspan=\"2\" valign=\"top\">Adam Rifkin</th>\n",
       "      <th>Marri Savinar</th>\n",
       "      <td>NaN</td>\n",
       "      <td>250000.0</td>\n",
       "    </tr>\n",
       "    <tr>\n",
       "      <th>Natasha Lyonne</th>\n",
       "      <td>4193025.0</td>\n",
       "      <td>15000000.0</td>\n",
       "    </tr>\n",
       "    <tr>\n",
       "      <th rowspan=\"8\" valign=\"top\">Adam Shankman</th>\n",
       "      <th>Adam Sandler</th>\n",
       "      <td>109993847.0</td>\n",
       "      <td>80000000.0</td>\n",
       "    </tr>\n",
       "    <tr>\n",
       "      <th>Angus T. Jones</th>\n",
       "      <td>132541238.0</td>\n",
       "      <td>33000000.0</td>\n",
       "    </tr>\n",
       "    <tr>\n",
       "      <th>James Martin Kelly</th>\n",
       "      <td>38509342.0</td>\n",
       "      <td>75000000.0</td>\n",
       "    </tr>\n",
       "    <tr>\n",
       "      <th>Jerry Stiller</th>\n",
       "      <td>118823091.0</td>\n",
       "      <td>75000000.0</td>\n",
       "    </tr>\n",
       "    <tr>\n",
       "      <th>Lauren German</th>\n",
       "      <td>41227069.0</td>\n",
       "      <td>11000000.0</td>\n",
       "    </tr>\n",
       "    <tr>\n",
       "      <th>Matthew McConaughey</th>\n",
       "      <td>60400856.0</td>\n",
       "      <td>35000000.0</td>\n",
       "    </tr>\n",
       "    <tr>\n",
       "      <th>Taylor Lautner</th>\n",
       "      <td>82569532.0</td>\n",
       "      <td>60000000.0</td>\n",
       "    </tr>\n",
       "    <tr>\n",
       "      <th>Vin Diesel</th>\n",
       "      <td>113006880.0</td>\n",
       "      <td>56000000.0</td>\n",
       "    </tr>\n",
       "    <tr>\n",
       "      <th rowspan=\"3\" valign=\"top\">Adrian Lyne</th>\n",
       "      <th>David Margulies</th>\n",
       "      <td>6734844.0</td>\n",
       "      <td>17000000.0</td>\n",
       "    </tr>\n",
       "    <tr>\n",
       "      <th>Fred Gwynne</th>\n",
       "      <td>156645693.0</td>\n",
       "      <td>14000000.0</td>\n",
       "    </tr>\n",
       "    <tr>\n",
       "      <th>Michael Nouri</th>\n",
       "      <td>94900000.0</td>\n",
       "      <td>4000000.0</td>\n",
       "    </tr>\n",
       "    <tr>\n",
       "      <th>...</th>\n",
       "      <th>...</th>\n",
       "      <td>...</td>\n",
       "      <td>...</td>\n",
       "    </tr>\n",
       "    <tr>\n",
       "      <th>Xavier Gens</th>\n",
       "      <th>Michael Biehn</th>\n",
       "      <td>22000.0</td>\n",
       "      <td>3000000.0</td>\n",
       "    </tr>\n",
       "    <tr>\n",
       "      <th>Yarrow Cheney</th>\n",
       "      <th>Steve Coogan</th>\n",
       "      <td>323505540.0</td>\n",
       "      <td>75000000.0</td>\n",
       "    </tr>\n",
       "    <tr>\n",
       "      <th>Yash Chopra</th>\n",
       "      <th>Shah Rukh Khan</th>\n",
       "      <td>5969277.0</td>\n",
       "      <td>7108800.0</td>\n",
       "    </tr>\n",
       "    <tr>\n",
       "      <th rowspan=\"5\" valign=\"top\">Yimou Zhang</th>\n",
       "      <th>Christian Bale</th>\n",
       "      <td>9213.0</td>\n",
       "      <td>94000000.0</td>\n",
       "    </tr>\n",
       "    <tr>\n",
       "      <th>Honglei Sun</th>\n",
       "      <td>381332.0</td>\n",
       "      <td>NaN</td>\n",
       "    </tr>\n",
       "    <tr>\n",
       "      <th>Jet Li</th>\n",
       "      <td>169922.0</td>\n",
       "      <td>31000000.0</td>\n",
       "    </tr>\n",
       "    <tr>\n",
       "      <th>Li Gong</th>\n",
       "      <td>6942915.0</td>\n",
       "      <td>45000000.0</td>\n",
       "    </tr>\n",
       "    <tr>\n",
       "      <th>Takeshi Kaneshiro</th>\n",
       "      <td>11041228.0</td>\n",
       "      <td>100000000.0</td>\n",
       "    </tr>\n",
       "    <tr>\n",
       "      <th>Yorgos Lanthimos</th>\n",
       "      <th>Angeliki Papoulia</th>\n",
       "      <td>110197.0</td>\n",
       "      <td>NaN</td>\n",
       "    </tr>\n",
       "    <tr>\n",
       "      <th>Youssef Delara</th>\n",
       "      <th>Noel Gugliemi</th>\n",
       "      <td>2833383.0</td>\n",
       "      <td>613500.0</td>\n",
       "    </tr>\n",
       "    <tr>\n",
       "      <th>Yuefeng Song</th>\n",
       "      <th>Blythe Auffarth</th>\n",
       "      <td>NaN</td>\n",
       "      <td>40000000.0</td>\n",
       "    </tr>\n",
       "    <tr>\n",
       "      <th rowspan=\"2\" valign=\"top\">Zach Braff</th>\n",
       "      <th>Armando Riesco</th>\n",
       "      <td>26781723.0</td>\n",
       "      <td>2500000.0</td>\n",
       "    </tr>\n",
       "    <tr>\n",
       "      <th>Jim Parsons</th>\n",
       "      <td>3588432.0</td>\n",
       "      <td>6000000.0</td>\n",
       "    </tr>\n",
       "    <tr>\n",
       "      <th>Zach Cregger</th>\n",
       "      <th>Hugh M. Hefner</th>\n",
       "      <td>4542775.0</td>\n",
       "      <td>6000000.0</td>\n",
       "    </tr>\n",
       "    <tr>\n",
       "      <th rowspan=\"6\" valign=\"top\">Zack Snyder</th>\n",
       "      <th>Abbie Cornish</th>\n",
       "      <td>55673333.0</td>\n",
       "      <td>80000000.0</td>\n",
       "    </tr>\n",
       "    <tr>\n",
       "      <th>Gerard Butler</th>\n",
       "      <td>210592590.0</td>\n",
       "      <td>65000000.0</td>\n",
       "    </tr>\n",
       "    <tr>\n",
       "      <th>Henry Cavill</th>\n",
       "      <td>621270627.0</td>\n",
       "      <td>237500000.0</td>\n",
       "    </tr>\n",
       "    <tr>\n",
       "      <th>Jon Hamm</th>\n",
       "      <td>36381716.0</td>\n",
       "      <td>82000000.0</td>\n",
       "    </tr>\n",
       "    <tr>\n",
       "      <th>Matt Frewer</th>\n",
       "      <td>107503316.0</td>\n",
       "      <td>130000000.0</td>\n",
       "    </tr>\n",
       "    <tr>\n",
       "      <th>Ty Burrell</th>\n",
       "      <td>117771270.0</td>\n",
       "      <td>26000000.0</td>\n",
       "    </tr>\n",
       "    <tr>\n",
       "      <th>Zack Ward</th>\n",
       "      <th>Zack Ward</th>\n",
       "      <td>NaN</td>\n",
       "      <td>NaN</td>\n",
       "    </tr>\n",
       "    <tr>\n",
       "      <th>Zackary Adler</th>\n",
       "      <th>Simon Merrells</th>\n",
       "      <td>NaN</td>\n",
       "      <td>2500000.0</td>\n",
       "    </tr>\n",
       "    <tr>\n",
       "      <th>Zak Penn</th>\n",
       "      <th>Zak Penn</th>\n",
       "      <td>36830.0</td>\n",
       "      <td>1400000.0</td>\n",
       "    </tr>\n",
       "    <tr>\n",
       "      <th rowspan=\"2\" valign=\"top\">Zal Batmanglij</th>\n",
       "      <th>Alexander Skarsgård</th>\n",
       "      <td>2268296.0</td>\n",
       "      <td>6500000.0</td>\n",
       "    </tr>\n",
       "    <tr>\n",
       "      <th>Christopher Denham</th>\n",
       "      <td>405614.0</td>\n",
       "      <td>NaN</td>\n",
       "    </tr>\n",
       "    <tr>\n",
       "      <th>Zoran Lisinac</th>\n",
       "      <th>Matthew Emerick</th>\n",
       "      <td>NaN</td>\n",
       "      <td>250000.0</td>\n",
       "    </tr>\n",
       "    <tr>\n",
       "      <th>Álex de la Iglesia</th>\n",
       "      <th>Jim Carter</th>\n",
       "      <td>3607.0</td>\n",
       "      <td>10000000.0</td>\n",
       "    </tr>\n",
       "    <tr>\n",
       "      <th>Émile Gaudreault</th>\n",
       "      <th>Paul Sorvino</th>\n",
       "      <td>6239558.0</td>\n",
       "      <td>5000000.0</td>\n",
       "    </tr>\n",
       "    <tr>\n",
       "      <th>Éric Tessier</th>\n",
       "      <th>Patrick Huard</th>\n",
       "      <td>NaN</td>\n",
       "      <td>3200000.0</td>\n",
       "    </tr>\n",
       "    <tr>\n",
       "      <th>Étienne Faure</th>\n",
       "      <th>Rumi Missabu</th>\n",
       "      <td>NaN</td>\n",
       "      <td>500000.0</td>\n",
       "    </tr>\n",
       "  </tbody>\n",
       "</table>\n",
       "<p>4530 rows × 2 columns</p>\n",
       "</div>"
      ],
      "text/plain": [
       "                                              gross       budget\n",
       "director_name      actor_1_name                                 \n",
       "A. Raven Cruz      Scott Levy                   NaN    1000000.0\n",
       "Aaron Hann         Jordi Vilasuso               NaN          NaN\n",
       "Aaron Schneider    Bill Murray            9176553.0    7500000.0\n",
       "Aaron Seltzer      Alyson Hannigan       48546578.0   20000000.0\n",
       "Abel Ferrara       Isabella Rossellini    1227324.0   12500000.0\n",
       "Adam Brooks        Ryan Reynolds         31973840.0          NaN\n",
       "Adam Carolla       Jay Mohr                105943.0    1500000.0\n",
       "Adam Goldberg      Judy Greer                2580.0    1650000.0\n",
       "Adam Green         Joel David Moore             NaN    1500000.0\n",
       "Adam Jay Epstein   Rich Ceraulo                 NaN          NaN\n",
       "Adam Marcus        Kane Hodder           15935068.0    2500000.0\n",
       "Adam McKay         Darcy Donavan         84136909.0   26000000.0\n",
       "                   Dwayne Johnson       119219978.0  100000000.0\n",
       "                   Harrison Ford          2175312.0   50000000.0\n",
       "                   Ryan Gosling          70235322.0   28000000.0\n",
       "                   Will Ferrell         248682170.0   69000000.0\n",
       "Adam Rapp          Zooey Deschanel         101228.0    3500000.0\n",
       "Adam Rifkin        Marri Savinar                NaN     250000.0\n",
       "                   Natasha Lyonne         4193025.0   15000000.0\n",
       "Adam Shankman      Adam Sandler         109993847.0   80000000.0\n",
       "                   Angus T. Jones       132541238.0   33000000.0\n",
       "                   James Martin Kelly    38509342.0   75000000.0\n",
       "                   Jerry Stiller        118823091.0   75000000.0\n",
       "                   Lauren German         41227069.0   11000000.0\n",
       "                   Matthew McConaughey   60400856.0   35000000.0\n",
       "                   Taylor Lautner        82569532.0   60000000.0\n",
       "                   Vin Diesel           113006880.0   56000000.0\n",
       "Adrian Lyne        David Margulies        6734844.0   17000000.0\n",
       "                   Fred Gwynne          156645693.0   14000000.0\n",
       "                   Michael Nouri         94900000.0    4000000.0\n",
       "...                                             ...          ...\n",
       "Xavier Gens        Michael Biehn            22000.0    3000000.0\n",
       "Yarrow Cheney      Steve Coogan         323505540.0   75000000.0\n",
       "Yash Chopra        Shah Rukh Khan         5969277.0    7108800.0\n",
       "Yimou Zhang        Christian Bale            9213.0   94000000.0\n",
       "                   Honglei Sun             381332.0          NaN\n",
       "                   Jet Li                  169922.0   31000000.0\n",
       "                   Li Gong                6942915.0   45000000.0\n",
       "                   Takeshi Kaneshiro     11041228.0  100000000.0\n",
       "Yorgos Lanthimos   Angeliki Papoulia       110197.0          NaN\n",
       "Youssef Delara     Noel Gugliemi          2833383.0     613500.0\n",
       "Yuefeng Song       Blythe Auffarth              NaN   40000000.0\n",
       "Zach Braff         Armando Riesco        26781723.0    2500000.0\n",
       "                   Jim Parsons            3588432.0    6000000.0\n",
       "Zach Cregger       Hugh M. Hefner         4542775.0    6000000.0\n",
       "Zack Snyder        Abbie Cornish         55673333.0   80000000.0\n",
       "                   Gerard Butler        210592590.0   65000000.0\n",
       "                   Henry Cavill         621270627.0  237500000.0\n",
       "                   Jon Hamm              36381716.0   82000000.0\n",
       "                   Matt Frewer          107503316.0  130000000.0\n",
       "                   Ty Burrell           117771270.0   26000000.0\n",
       "Zack Ward          Zack Ward                    NaN          NaN\n",
       "Zackary Adler      Simon Merrells               NaN    2500000.0\n",
       "Zak Penn           Zak Penn                 36830.0    1400000.0\n",
       "Zal Batmanglij     Alexander Skarsgård    2268296.0    6500000.0\n",
       "                   Christopher Denham      405614.0          NaN\n",
       "Zoran Lisinac      Matthew Emerick              NaN     250000.0\n",
       "Álex de la Iglesia Jim Carter                3607.0   10000000.0\n",
       "Émile Gaudreault   Paul Sorvino           6239558.0    5000000.0\n",
       "Éric Tessier       Patrick Huard                NaN    3200000.0\n",
       "Étienne Faure      Rumi Missabu                 NaN     500000.0\n",
       "\n",
       "[4530 rows x 2 columns]"
      ]
     },
     "execution_count": 336,
     "metadata": {
      "tags": []
     },
     "output_type": "execute_result"
    }
   ],
   "source": [
    "# For each director and actor_1, find sum of gross and mean of budget\n",
    "imdb_select.groupby(['director_name', 'actor_1_name']).agg({'gross': 'sum', 'budget': 'mean'})"
   ]
  },
  {
   "cell_type": "code",
   "execution_count": null,
   "metadata": {
    "colab": {},
    "colab_type": "code",
    "id": "Olcugn66JHS4",
    "outputId": "2fc71d98-f785-45b1-f7d1-cc477fe5e5c5"
   },
   "outputs": [
    {
     "data": {
      "text/plain": [
       "director_name\n",
       "John Blanchard      9.5\n",
       "Sadyk Sher-Niyaz    8.7\n",
       "Mitchell Altieri    8.7\n",
       "Cary Bell           8.7\n",
       "Mike Mayhall        8.6\n",
       "Name: imdb_score, dtype: float64"
      ]
     },
     "execution_count": 340,
     "metadata": {
      "tags": []
     },
     "output_type": "execute_result"
    }
   ],
   "source": [
    "imdb_select.groupby('director_name').imdb_score.mean().sort_values(ascending = False).head()"
   ]
  },
  {
   "cell_type": "code",
   "execution_count": null,
   "metadata": {
    "colab": {},
    "colab_type": "code",
    "id": "ioqnoKFrJHS6",
    "outputId": "1a8f7960-3cd2-4966-d5c6-093514fc2dde"
   },
   "outputs": [
    {
     "data": {
      "text/html": [
       "<div>\n",
       "<table border=\"1\" class=\"dataframe\">\n",
       "  <thead>\n",
       "    <tr style=\"text-align: right;\">\n",
       "      <th></th>\n",
       "      <th>movie_title</th>\n",
       "      <th>director_name</th>\n",
       "      <th>gross</th>\n",
       "      <th>budget</th>\n",
       "      <th>title_year</th>\n",
       "      <th>genres</th>\n",
       "      <th>actor_1_name</th>\n",
       "      <th>actor_2_name</th>\n",
       "      <th>country</th>\n",
       "      <th>imdb_score</th>\n",
       "      <th>content_rating</th>\n",
       "    </tr>\n",
       "  </thead>\n",
       "  <tbody>\n",
       "    <tr>\n",
       "      <th>2765</th>\n",
       "      <td>Towering Inferno</td>\n",
       "      <td>John Blanchard</td>\n",
       "      <td>NaN</td>\n",
       "      <td>NaN</td>\n",
       "      <td>NaN</td>\n",
       "      <td>Comedy</td>\n",
       "      <td>Martin Short</td>\n",
       "      <td>Andrea Martin</td>\n",
       "      <td>Canada</td>\n",
       "      <td>9.5</td>\n",
       "      <td>NaN</td>\n",
       "    </tr>\n",
       "  </tbody>\n",
       "</table>\n",
       "</div>"
      ],
      "text/plain": [
       "                        movie_title   director_name  gross  budget  \\\n",
       "2765  Towering Inferno               John Blanchard    NaN     NaN   \n",
       "\n",
       "      title_year  genres  actor_1_name   actor_2_name country  imdb_score  \\\n",
       "2765         NaN  Comedy  Martin Short  Andrea Martin  Canada         9.5   \n",
       "\n",
       "     content_rating  \n",
       "2765            NaN  "
      ]
     },
     "execution_count": 341,
     "metadata": {
      "tags": []
     },
     "output_type": "execute_result"
    }
   ],
   "source": [
    "imdb_select[imdb_select.director_name == 'John Blanchard'] #boolean indexing"
   ]
  },
  {
   "cell_type": "code",
   "execution_count": null,
   "metadata": {
    "colab": {},
    "colab_type": "code",
    "id": "F3x2LGrxJHS9",
    "outputId": "393d2c3a-9b40-48e8-f8db-3b87521cf205"
   },
   "outputs": [
    {
     "data": {
      "text/plain": [
       "title_year  genres                              \n",
       "1916.0      Drama|History|War                       1\n",
       "1920.0      Crime|Drama                             1\n",
       "1925.0      Drama|Romance|War                       1\n",
       "1927.0      Drama|Sci-Fi                            1\n",
       "1929.0      Crime|Drama|Romance                     1\n",
       "            Musical|Romance                         1\n",
       "1930.0      Drama|War                               1\n",
       "1932.0      Drama|Romance|War                       1\n",
       "1933.0      Comedy|Drama|History|Musical|Romance    1\n",
       "            Comedy|Musical|Romance                  1\n",
       "1934.0      Comedy|Romance                          1\n",
       "1935.0      Comedy|Musical|Romance                  1\n",
       "1936.0      Action|Adventure|Romance|War            1\n",
       "            Comedy|Drama|Family                     1\n",
       "1937.0      Adventure|Drama|Romance                 1\n",
       "            Animation|Family|Fantasy|Musical        1\n",
       "1938.0      Comedy|Drama|Romance                    1\n",
       "            Drama|Musical|Romance                   1\n",
       "1939.0      Adventure|Family|Fantasy|Musical        1\n",
       "            Comedy|Drama                            1\n",
       "            Drama|History|Romance|War               1\n",
       "1940.0      Adventure|Drama|Romance|Western         1\n",
       "            Animation|Family|Fantasy|Music          1\n",
       "            Animation|Family|Fantasy|Musical        1\n",
       "            Drama|Family|Fantasy                    1\n",
       "            Drama|Film-Noir|Mystery|Thriller        1\n",
       "1941.0      Drama|Family                            1\n",
       "1942.0      Animation|Drama|Family                  1\n",
       "            Drama|Romance|War                       1\n",
       "1943.0      Drama|Fantasy|Romance|War               1\n",
       "                                                   ..\n",
       "2016.0      Adventure|Drama|Family|Fantasy          2\n",
       "            Adventure|Drama|History                 3\n",
       "            Adventure|Drama|Sci-Fi|Thriller         1\n",
       "            Adventure|Family|Fantasy                3\n",
       "            Animation|Comedy|Family                 1\n",
       "            Biography|Comedy|Drama|Music|Romance    1\n",
       "            Biography|Comedy|Drama|Sport            2\n",
       "            Biography|Crime|Drama|Thriller          1\n",
       "            Biography|Drama                         1\n",
       "            Biography|Drama|Sport                   1\n",
       "            Comedy                                  7\n",
       "            Comedy|Drama                            1\n",
       "            Comedy|Family|Romance                   1\n",
       "            Comedy|Fantasy|Horror|Thriller          1\n",
       "            Comedy|Horror|Thriller                  1\n",
       "            Comedy|Mystery                          1\n",
       "            Comedy|Romance                          2\n",
       "            Crime|Drama|Thriller                    1\n",
       "            Drama                                   6\n",
       "            Drama|Horror|Mystery|Sci-Fi|Thriller    1\n",
       "            Drama|Horror|Thriller                   1\n",
       "            Drama|Romance                           2\n",
       "            Drama|Thriller                          1\n",
       "            Family                                  2\n",
       "            Fantasy|Horror|Mystery|Thriller         1\n",
       "            Horror                                  5\n",
       "            Horror|Musical                          1\n",
       "            Horror|Mystery|Thriller                 3\n",
       "            Horror|Thriller                         1\n",
       "            Thriller                                1\n",
       "Name: movie_title, dtype: int64"
      ]
     },
     "execution_count": 202,
     "metadata": {
      "tags": []
     },
     "output_type": "execute_result"
    }
   ],
   "source": [
    "imdb_select.groupby(['title_year', 'genres']).movie_title.count()#[::-1].head()"
   ]
  },
  {
   "cell_type": "code",
   "execution_count": null,
   "metadata": {
    "colab": {},
    "colab_type": "code",
    "id": "DpJDsGAQJHTB",
    "outputId": "9bd3c654-a0c1-4097-adef-fcfec52f8c6a"
   },
   "outputs": [
    {
     "data": {
      "text/plain": [
       "Drama       2594\n",
       "Comedy      1872\n",
       "Thriller    1411\n",
       "Action      1153\n",
       "Romance     1107\n",
       "dtype: int64"
      ]
     },
     "execution_count": 203,
     "metadata": {
      "tags": []
     },
     "output_type": "execute_result"
    }
   ],
   "source": [
    "imdb_select.genres.str.split('|', expand = True).stack().value_counts().head()"
   ]
  },
  {
   "cell_type": "code",
   "execution_count": null,
   "metadata": {
    "colab": {},
    "colab_type": "code",
    "id": "dLV1BEpIJHTD",
    "outputId": "09672e70-b2e3-432a-d1b7-edd5c56ff8dc"
   },
   "outputs": [
    {
     "data": {
      "text/plain": [
       "Drama                   236\n",
       "Comedy                  209\n",
       "Comedy|Drama            191\n",
       "Comedy|Drama|Romance    187\n",
       "Comedy|Romance          158\n",
       "Name: genres, dtype: int64"
      ]
     },
     "execution_count": 204,
     "metadata": {
      "tags": []
     },
     "output_type": "execute_result"
    }
   ],
   "source": [
    "imdb_select.genres.value_counts().head()"
   ]
  },
  {
   "cell_type": "code",
   "execution_count": null,
   "metadata": {
    "colab": {},
    "colab_type": "code",
    "id": "fsExDv-GJHTG",
    "outputId": "75e8dc69-bcad-4288-9065-86303c20af0c"
   },
   "outputs": [
    {
     "data": {
      "text/plain": [
       "title_year  content_rating\n",
       "2016.0      R                 32\n",
       "            PG-13             46\n",
       "            PG                12\n",
       "            Not Rated          2\n",
       "2015.0      Unrated            1\n",
       "            TV-14              1\n",
       "            R                 81\n",
       "            PG-13             64\n",
       "            PG                28\n",
       "            Not Rated          5\n",
       "Name: movie_title, dtype: int64"
      ]
     },
     "execution_count": 205,
     "metadata": {
      "tags": []
     },
     "output_type": "execute_result"
    }
   ],
   "source": [
    "#Count of movies with each the content ratings per year\n",
    "imdb_select.groupby(['title_year', 'content_rating']).movie_title.count()[::-1].head(10)"
   ]
  },
  {
   "cell_type": "code",
   "execution_count": null,
   "metadata": {
    "colab": {},
    "colab_type": "code",
    "id": "lCslwcaDJHTJ",
    "outputId": "3b2c6058-ee7d-4f0f-bd2a-9ec2f35cc024"
   },
   "outputs": [
    {
     "data": {
      "text/plain": [
       "director_name    actor_1_name     \n",
       "Woody Allen      Woody Allen          10\n",
       "Clint Eastwood   Clint Eastwood       10\n",
       "Tim Burton       Johnny Depp           7\n",
       "Martin Scorsese  Robert De Niro        7\n",
       "Sam Raimi        J.K. Simmons          5\n",
       "John Carpenter   Jamie Lee Curtis      5\n",
       "Martin Scorsese  Leonardo DiCaprio     5\n",
       "Wes Anderson     Bill Murray           5\n",
       "Mel Brooks       Madeline Kahn         5\n",
       "Jason Reitman    J.K. Simmons          5\n",
       "Name: movie_title, dtype: int64"
      ]
     },
     "execution_count": 206,
     "metadata": {
      "tags": []
     },
     "output_type": "execute_result"
    }
   ],
   "source": [
    "#most common director - actor combination\n",
    "imdb_select.groupby(['director_name', 'actor_1_name']).movie_title.count().sort_values(ascending = False).head(10)"
   ]
  },
  {
   "cell_type": "code",
   "execution_count": null,
   "metadata": {
    "colab": {},
    "colab_type": "code",
    "id": "HlzKrJ5vJHTL"
   },
   "outputs": [],
   "source": [
    "df[state_1]=[]\n",
    "for i in df[state]:\n",
    "    if i[0]=='M':\n",
    "        df[state_1]=i"
   ]
  },
  {
   "cell_type": "code",
   "execution_count": null,
   "metadata": {
    "colab": {},
    "colab_type": "code",
    "id": "We6eIjY2JHTQ"
   },
   "outputs": [],
   "source": [
    "df[df['state']].apply(lambda(state: state[0]=='M'))"
   ]
  }
 ],
 "metadata": {
  "colab": {
   "collapsed_sections": [
    "OX6xMfIUJHLG",
    "JxnRIlByJHLN",
    "muudWjYaJHLh",
    "YpwaRlQAJHL6",
    "dGfTdRVdJHMU",
    "H31Bp9diJHMW",
    "79wZVF6vJHMd",
    "XEjTrvpzJHMi",
    "jcJSZhTNJHMs",
    "nia5OMzSJHM5",
    "MbjePsoXJHNL",
    "KxcI3Zh1JHNr",
    "Zw3Y2teVJHON",
    "AVBfhuQKJHOj",
    "0A9f9gdsJHPE",
    "ApqO9K8lJHPg",
    "N6BUBB_eJHP0",
    "RTYn1PaHJHP6",
    "tomzNiUKJHQQ",
    "ytPWEaN3JHQa",
    "P2hBAxciJHQr",
    "JnEle1_HJHQ9",
    "ZqfkTEbqJHRE",
    "GIsUTtxQJHRH",
    "YlUJy89KJHRU",
    "n2WDOPFrJHRo",
    "JpLUrJEKJHSB",
    "Rd-Xt0-XJHSH",
    "nsOnNIkqJHSO",
    "vRuFzdI8JHSa"
   ],
   "name": "M5_Introduction to Pandas- Part -1- Content.ipynb",
   "provenance": []
  },
  "kernelspec": {
   "display_name": "Python 3",
   "language": "python",
   "name": "python3"
  },
  "language_info": {
   "codemirror_mode": {
    "name": "ipython",
    "version": 3
   },
   "file_extension": ".py",
   "mimetype": "text/x-python",
   "name": "python",
   "nbconvert_exporter": "python",
   "pygments_lexer": "ipython3",
   "version": "3.8.3"
  }
 },
 "nbformat": 4,
 "nbformat_minor": 1
}
