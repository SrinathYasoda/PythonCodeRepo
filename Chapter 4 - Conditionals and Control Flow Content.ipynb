{
 "cells": [
  {
   "cell_type": "markdown",
   "metadata": {
    "colab_type": "text",
    "id": "WfDymJ93AnY2"
   },
   "source": [
    "# Conditionals and Control Flow\n",
    "\n",
    "Hello!\n",
    "\n",
    "You are doing very well. You have reached the next phase in Basics of Python Programming. \n",
    "\n",
    "In this chapter we are going to explore different types of conditional statements and how control flows in a program.\n",
    "\n",
    "Just like we humans change our behaviour based on conditions, in a similar way a program can also change its behaviour.\n",
    "<br> This behaviour can be changed by using conditional statements.\n",
    "\n",
    "So far we have accomplished predefined tasks, where the program followed a particular set of instructions, where the control flow was constant. What makes programming so much more powerful are conditional statements. This is the ability to test a variable against a value and act in one way if the condition is met by the variable or another way if not. \n",
    "\n",
    "Very often when you write code, you want to perform different actions for different decisions. You can use conditional statements in your code to do this. What happens is, when you use conditional statements, the program control jumps from one place to another and so you need to be very careful while using conditional statements.\n",
    "\n",
    "The different kinds of operators especially comparison operators which you had learnt in chapter 1 will come in handy here.\n",
    "\n",
    "https://docs.python.org/3/tutorial/controlflow.html\n",
    "\n",
    "In this lecture we'll learn about the following:\n",
    "\n",
    "1. if and else statement\n",
    "2. for loop\n",
    "3. The range() function\n",
    "4. break and continue statements\n",
    "\n",
    "**Lets begin**\n"
   ]
  },
  {
   "cell_type": "code",
   "execution_count": 6,
   "metadata": {
    "colab": {
     "base_uri": "https://localhost:8080/",
     "height": 34
    },
    "colab_type": "code",
    "executionInfo": {
     "elapsed": 1120,
     "status": "ok",
     "timestamp": 1598091690334,
     "user": {
      "displayName": "Kṛṣṇa solutions",
      "photoUrl": "",
      "userId": "14911029245911425813"
     },
     "user_tz": -330
    },
    "id": "VXsg5zSqqn5_",
    "outputId": "2ee634ed-fae3-4c04-c60b-e619d30f69c5"
   },
   "outputs": [
    {
     "name": "stdout",
     "output_type": "stream",
     "text": [
      "lost\n"
     ]
    }
   ],
   "source": [
    "# Class example:\n",
    "# Marks of a student is less than 35 : Fail\n",
    "# Marks of a student is greater than 60: First class\n",
    "\n",
    "###ignore\n",
    "# Marks of a student is greater than 35 and less than 60 : Pass\n",
    "\n",
    "# other:\n",
    "marks = 50\n",
    "\n",
    "\n",
    "team = [250, 309, 456, 249] #score greater than 250 is win\n",
    "\n",
    "if team[3]<250: #if variable satisfies the condition than do this\n",
    "  print(\"lost\")\n",
    "else: #else do this\n",
    "  print(\"win\")"
   ]
  },
  {
   "cell_type": "code",
   "execution_count": 23,
   "metadata": {
    "colab": {
     "base_uri": "https://localhost:8080/",
     "height": 162
    },
    "colab_type": "code",
    "executionInfo": {
     "elapsed": 1121,
     "status": "error",
     "timestamp": 1598092824612,
     "user": {
      "displayName": "Kṛṣṇa solutions",
      "photoUrl": "",
      "userId": "14911029245911425813"
     },
     "user_tz": -330
    },
    "id": "l8gncVrovfPw",
    "outputId": "f30a0f5c-9d67-470a-f10e-911a98d5a2f4"
   },
   "outputs": [
    {
     "ename": "TypeError",
     "evalue": "ignored",
     "output_type": "error",
     "traceback": [
      "\u001b[0;31m---------------------------------------------------------------------------\u001b[0m",
      "\u001b[0;31mTypeError\u001b[0m                                 Traceback (most recent call last)",
      "\u001b[0;32m<ipython-input-23-19a2aa92fddf>\u001b[0m in \u001b[0;36m<module>\u001b[0;34m()\u001b[0m\n\u001b[0;32m----> 1\u001b[0;31m \u001b[0mrange\u001b[0m\u001b[0;34m(\u001b[0m\u001b[0mmarks\u001b[0m\u001b[0;34m)\u001b[0m\u001b[0;34m\u001b[0m\u001b[0;34m\u001b[0m\u001b[0m\n\u001b[0m",
      "\u001b[0;31mTypeError\u001b[0m: 'list' object cannot be interpreted as an integer"
     ]
    }
   ],
   "source": [
    "range(marks)"
   ]
  },
  {
   "cell_type": "code",
   "execution_count": 25,
   "metadata": {
    "colab": {
     "base_uri": "https://localhost:8080/",
     "height": 34
    },
    "colab_type": "code",
    "executionInfo": {
     "elapsed": 1285,
     "status": "ok",
     "timestamp": 1598093311300,
     "user": {
      "displayName": "Kṛṣṇa solutions",
      "photoUrl": "",
      "userId": "14911029245911425813"
     },
     "user_tz": -330
    },
    "id": "XkGtm8usyKL_",
    "outputId": "61eb1561-b927-4072-8cd9-397734957054"
   },
   "outputs": [
    {
     "data": {
      "text/plain": [
       "10"
      ]
     },
     "execution_count": 25,
     "metadata": {
      "tags": []
     },
     "output_type": "execute_result"
    }
   ],
   "source": [
    "len(marks)"
   ]
  },
  {
   "cell_type": "code",
   "execution_count": 26,
   "metadata": {
    "colab": {
     "base_uri": "https://localhost:8080/",
     "height": 353
    },
    "colab_type": "code",
    "executionInfo": {
     "elapsed": 1255,
     "status": "ok",
     "timestamp": 1598093340605,
     "user": {
      "displayName": "Kṛṣṇa solutions",
      "photoUrl": "",
      "userId": "14911029245911425813"
     },
     "user_tz": -330
    },
    "id": "B6iNxerHsuFr",
    "outputId": "ab69d294-c079-4c95-b1eb-fa311b872dff"
   },
   "outputs": [
    {
     "name": "stdout",
     "output_type": "stream",
     "text": [
      "0\n",
      "Pass\n",
      "1\n",
      "Pass\n",
      "2\n",
      "First Class\n",
      "3\n",
      "First Class\n",
      "4\n",
      "Pass\n",
      "5\n",
      "First Class\n",
      "6\n",
      "First Class\n",
      "7\n",
      "First Class\n",
      "8\n",
      "First Class\n",
      "9\n",
      "First Class\n"
     ]
    }
   ],
   "source": [
    "marks = [59,56,78,35,56,90,98,99,96,78]\n",
    "import time\n",
    "for i in range(len(marks)):\n",
    "  print(i)\n",
    "  if marks[i]<35: \n",
    "    print(\"Fail\") \n",
    "  elif (marks[i]>35) &(marks[i]<60):\n",
    "    print(\"Pass\")\n",
    "  else:\n",
    "    print(\"First Class\")\n"
   ]
  },
  {
   "cell_type": "code",
   "execution_count": 21,
   "metadata": {
    "colab": {
     "base_uri": "https://localhost:8080/",
     "height": 185
    },
    "colab_type": "code",
    "executionInfo": {
     "elapsed": 1143,
     "status": "ok",
     "timestamp": 1598092508654,
     "user": {
      "displayName": "Kṛṣṇa solutions",
      "photoUrl": "",
      "userId": "14911029245911425813"
     },
     "user_tz": -330
    },
    "id": "hwwMg7tjvAGR",
    "outputId": "2ed6c590-bae1-40f4-e1e0-c15a5a20483f"
   },
   "outputs": [
    {
     "name": "stdout",
     "output_type": "stream",
     "text": [
      "59\n",
      "56\n",
      "78\n",
      "35\n",
      "56\n",
      "90\n",
      "98\n",
      "99\n",
      "96\n",
      "78\n"
     ]
    }
   ],
   "source": [
    "for i in marks:\n",
    "  print(i)"
   ]
  },
  {
   "cell_type": "code",
   "execution_count": 19,
   "metadata": {
    "colab": {
     "base_uri": "https://localhost:8080/",
     "height": 185
    },
    "colab_type": "code",
    "executionInfo": {
     "elapsed": 1094,
     "status": "ok",
     "timestamp": 1598092401248,
     "user": {
      "displayName": "Kṛṣṇa solutions",
      "photoUrl": "",
      "userId": "14911029245911425813"
     },
     "user_tz": -330
    },
    "id": "HkthNN7GudnA",
    "outputId": "f4064e91-3a00-4e6d-c27c-2d5e43c6e213"
   },
   "outputs": [
    {
     "name": "stdout",
     "output_type": "stream",
     "text": [
      "10\n",
      "11\n",
      "12\n",
      "13\n",
      "14\n",
      "15\n",
      "16\n",
      "17\n",
      "18\n",
      "19\n"
     ]
    }
   ],
   "source": [
    "for i in range(10,20):\n",
    "  print(i)"
   ]
  },
  {
   "cell_type": "markdown",
   "metadata": {
    "colab_type": "text",
    "collapsed": true,
    "id": "qfLgQKsCAnY4"
   },
   "source": [
    "##  if and else statement\n",
    "\n",
    "if Statements in Python allows us to tell the computer to perform alternative actions based on a certain set of results.\n",
    "\n",
    "Consider this example in English style :\n",
    "\n",
    "*If* your marks is less than 40 then you passed in the examination *else* you failed.\n",
    "\n",
    "We can then expand the idea further with elif and else statements, which allow us to tell the computer:\n",
    "\n",
    "*If* you scored more than 80 marks then you passed with distinction *else if* you scored more than 40 and less than 80 you passed without distinction *else* you failed. \n",
    "\n",
    "Let's go ahead and look at the syntax format for if statements to get a better idea of this:\n",
    "\n",
    "`if case1:\n",
    "    perform action1\n",
    "elif case2:\n",
    "    perform action2\n",
    "else: \n",
    "    perform action 3\n",
    "`"
   ]
  },
  {
   "cell_type": "markdown",
   "metadata": {
    "colab_type": "text",
    "id": "viacio3-AnY5"
   },
   "source": [
    "<font color=orange>### IMPORTANT NOTE </font>\n",
    "<br>The condition in the conditional statement must always return a boolean value i.e True or False\n",
    "\n",
    "**Guidelines** : For those who have programming experience in different languages such as C,Java,etc\n",
    "             (Beginners can also read)\n",
    "             \n",
    "1. In Python, True and 1 are same and False and 0 are same like in C, C++\n",
    "2. Since Python is an  **indented language**, every condtional statement has to end with a colon (':').\n",
    "3. In Python, 'T' in True needs to be upper case unlike Java."
   ]
  },
  {
   "cell_type": "markdown",
   "metadata": {
    "colab_type": "text",
    "id": "RLawLaXVAnY6"
   },
   "source": [
    "Let's take a simple example"
   ]
  },
  {
   "cell_type": "code",
   "execution_count": null,
   "metadata": {
    "colab": {},
    "colab_type": "code",
    "id": "n4WvphEQAnY8",
    "outputId": "f2ee6d20-0ff5-4a76-e018-ad2b6c2642f2"
   },
   "outputs": [
    {
     "name": "stdout",
     "output_type": "stream",
     "text": [
      "It is true!\n"
     ]
    }
   ],
   "source": [
    "if True:\n",
    "    print('It is true!')"
   ]
  },
  {
   "cell_type": "markdown",
   "metadata": {
    "colab_type": "text",
    "id": "qqB7L_9EAnZH"
   },
   "source": [
    "<font color=orange>### IMPORTANT NOTE </font>\n",
    "<br>Be careful about the ':', it is extremely important. "
   ]
  },
  {
   "cell_type": "code",
   "execution_count": null,
   "metadata": {
    "colab": {},
    "colab_type": "code",
    "id": "ciRudgIXAnZI"
   },
   "outputs": [],
   "source": [
    "# Another one\n",
    "\n",
    "if False:\n",
    "    print('It is false!')\n",
    "    "
   ]
  },
  {
   "cell_type": "markdown",
   "metadata": {
    "colab_type": "text",
    "id": "mnAI0zvDAnZQ"
   },
   "source": [
    "If you are wondering why it did not print 'It is False!', because the condition is False.\n",
    "<br>**Statements in inside a conditional statement will only be executed if the condition evaluates to True**"
   ]
  },
  {
   "cell_type": "code",
   "execution_count": null,
   "metadata": {
    "colab": {},
    "colab_type": "code",
    "id": "hfn35mOBAnZS",
    "outputId": "5290887e-b4d2-4fe6-c743-facdf432fe38"
   },
   "outputs": [
    {
     "name": "stdout",
     "output_type": "stream",
     "text": [
      "It is true!\n"
     ]
    }
   ],
   "source": [
    "if 1:\n",
    "    print(\"It is true!\")"
   ]
  },
  {
   "cell_type": "markdown",
   "metadata": {
    "colab_type": "text",
    "id": "oYYsB8kcAnZa"
   },
   "source": [
    "1 also works instead of True"
   ]
  },
  {
   "cell_type": "markdown",
   "metadata": {
    "colab_type": "text",
    "id": "acQlVjeHAnZb"
   },
   "source": [
    "Let's add in some else logic:"
   ]
  },
  {
   "cell_type": "code",
   "execution_count": null,
   "metadata": {
    "colab": {},
    "colab_type": "code",
    "id": "tHAgGh0XAnZd",
    "outputId": "5f0276d0-c2ca-4920-9d97-1b740059f823"
   },
   "outputs": [
    {
     "name": "stdout",
     "output_type": "stream",
     "text": [
      "Else statement is executed since x is not True!\n"
     ]
    }
   ],
   "source": [
    "# if - else both \n",
    "\n",
    "x = False\n",
    "\n",
    "if x:\n",
    "    print('x is True!')\n",
    "else:\n",
    "    print('Else statement is executed since x is not True!')"
   ]
  },
  {
   "cell_type": "markdown",
   "metadata": {
    "colab_type": "text",
    "id": "Liu2AQvCAnZm"
   },
   "source": [
    "## if - elif - else statements"
   ]
  },
  {
   "cell_type": "markdown",
   "metadata": {
    "colab_type": "text",
    "collapsed": true,
    "id": "QcjozX5bAnZn"
   },
   "source": [
    "If marks are greater than 80 then print First class with distinction, between 60 to 79 print First class and between 40 to 59 print Second class and finally,for less than 40 print Fail."
   ]
  },
  {
   "cell_type": "code",
   "execution_count": null,
   "metadata": {
    "colab": {},
    "colab_type": "code",
    "id": "wxDdptIcAnZp",
    "outputId": "1c908545-c42c-46cc-9f2c-f1ca27e92cc8"
   },
   "outputs": [
    {
     "name": "stdout",
     "output_type": "stream",
     "text": [
      "Second class\n"
     ]
    }
   ],
   "source": [
    "marks = 49\n",
    "\n",
    "if marks > 80:\n",
    "    print(\"First class with distinction\")\n",
    "\n",
    "elif marks >=60 and marks <=79:\n",
    "    print(\"First class\")\n",
    "    \n",
    "elif marks >=40 and marks <=59:\n",
    "    print(\"Second class\")\n",
    "    \n",
    "else :\n",
    "    print(\"Fail\")"
   ]
  },
  {
   "cell_type": "markdown",
   "metadata": {
    "colab_type": "text",
    "id": "NzAOEJB-AnZz"
   },
   "source": [
    "<font color=orange>### IMPORTANT NOTE </font>\n",
    " <br> For those who have programming experience in other languages.\n",
    " <br> \"elif\" is the Python alternative for \"else if\".\n",
    " <br> \"else if\" won't work in Python."
   ]
  },
  {
   "cell_type": "markdown",
   "metadata": {
    "colab_type": "text",
    "id": "VOxituKJAnZ1"
   },
   "source": [
    "** You can also place if-else inside if statement ** "
   ]
  },
  {
   "cell_type": "code",
   "execution_count": null,
   "metadata": {
    "colab": {},
    "colab_type": "code",
    "id": "s49VgJ02AnZ3",
    "outputId": "dc2bff52-33de-4253-9155-7d6d7bb2f201"
   },
   "outputs": [
    {
     "name": "stdout",
     "output_type": "stream",
     "text": [
      "Positive number\n"
     ]
    }
   ],
   "source": [
    "num = 10\n",
    "\n",
    "if num >= 0:                       # A\n",
    "    if num == 0:                   # B\n",
    "        print(\"Zero\")\n",
    "    else:                          # This is the else to the if marked as \"B\"\n",
    "        print(\"Positive number\")\n",
    "else:                              # This is the else to the if marked as \"A\"\n",
    "    print(\"Negative number\")"
   ]
  },
  {
   "cell_type": "markdown",
   "metadata": {
    "colab_type": "text",
    "id": "2w463rhkAnZ8"
   },
   "source": [
    "** You can also place if-else inside else statement ** "
   ]
  },
  {
   "cell_type": "code",
   "execution_count": 30,
   "metadata": {
    "colab": {
     "base_uri": "https://localhost:8080/",
     "height": 34
    },
    "colab_type": "code",
    "executionInfo": {
     "elapsed": 1100,
     "status": "ok",
     "timestamp": 1598093484043,
     "user": {
      "displayName": "Kṛṣṇa solutions",
      "photoUrl": "",
      "userId": "14911029245911425813"
     },
     "user_tz": -330
    },
    "id": "_nHitD6IAnZ-",
    "outputId": "299f0b5c-503c-42e4-b8c1-c8dcc1f26ef0"
   },
   "outputs": [
    {
     "name": "stdout",
     "output_type": "stream",
     "text": [
      "Negative number\n"
     ]
    }
   ],
   "source": [
    "num = -10\n",
    "\n",
    "if num > 0:\n",
    "  print(\"Positive number\")\n",
    "else:\n",
    "    if num == 0:\n",
    "        print(\"Zero\")\n",
    "    else:\n",
    "        print(\"Negative number\")"
   ]
  },
  {
   "cell_type": "markdown",
   "metadata": {
    "colab_type": "text",
    "id": "4oKBqkOvAnaE"
   },
   "source": [
    "**Lets solve odd and even problem.**\n",
    "<br>Find whether a number is even or odd."
   ]
  },
  {
   "cell_type": "code",
   "execution_count": null,
   "metadata": {
    "colab": {},
    "colab_type": "code",
    "id": "6hzGjlwYAnaE",
    "outputId": "341ee5d5-6d1a-43f8-8170-16f05fc32410"
   },
   "outputs": [
    {
     "name": "stdout",
     "output_type": "stream",
     "text": [
      "Even\n"
     ]
    }
   ],
   "source": [
    "x = 10\n",
    "\n",
    "if x % 2 == 0:\n",
    "    print(\"Even\")\n",
    "else:\n",
    "    print(\"Odd\")"
   ]
  },
  {
   "cell_type": "markdown",
   "metadata": {
    "colab_type": "text",
    "id": "-f_y1gi1AnaI"
   },
   "source": [
    "**Lets check if a given character is a vowel or consonant.**\n"
   ]
  },
  {
   "cell_type": "code",
   "execution_count": null,
   "metadata": {
    "colab": {},
    "colab_type": "code",
    "id": "AbRVoUlRAnaK",
    "outputId": "2f3e409c-aa91-4c3c-890c-d659a35e1230"
   },
   "outputs": [
    {
     "name": "stdout",
     "output_type": "stream",
     "text": [
      "Given character is a vowel\n"
     ]
    }
   ],
   "source": [
    "vowels = ['a','e','i','o','u']\n",
    "given_character = 'B'\n",
    "\n",
    "if given_character.lower() in vowels:       # lower because given character could be upper case also \n",
    "                                            # recall membership operator from chapter 1\n",
    "    print(\"Given character is a vowel\")\n",
    "else :\n",
    "    print(\"Given character is a consonant\")"
   ]
  },
  {
   "cell_type": "markdown",
   "metadata": {
    "colab_type": "text",
    "id": "_tyMocINAnaO"
   },
   "source": [
    "<font color=red>### INSTRUCTION TO DO</font>\n",
    "\n",
    "Assign a value to x.\n",
    "<br> Print \"x is greater than 10\" if x is is greater than 10 else print \"x is less than 10\" if x is less than 10.\n",
    "<br> Add new cells if required and practice\n"
   ]
  },
  {
   "cell_type": "code",
   "execution_count": null,
   "metadata": {
    "colab": {},
    "colab_type": "code",
    "id": "Rk3S_g46AnaP"
   },
   "outputs": [],
   "source": []
  },
  {
   "cell_type": "markdown",
   "metadata": {
    "colab_type": "text",
    "id": "9d9Mbz42AnaT"
   },
   "source": [
    "# The range() function\n",
    "\n",
    "We haven't developed a very deep level of knowledge of functions yet, but we can understand the basics of this simple (but extremely useful!) function. Range function is most commonly used while iterating through lists or tuples.\n",
    "\n",
    "For reference : https://docs.python.org/3.6/library/stdtypes.html#range"
   ]
  },
  {
   "cell_type": "code",
   "execution_count": null,
   "metadata": {
    "colab": {},
    "colab_type": "code",
    "id": "WgTytPijAnaU",
    "outputId": "71c544ae-bd37-471f-b273-b8a5b87f0dd0"
   },
   "outputs": [
    {
     "data": {
      "text/plain": [
       "range(0, 5)"
      ]
     },
     "execution_count": 5,
     "metadata": {
      "tags": []
     },
     "output_type": "execute_result"
    }
   ],
   "source": [
    "# Lets see what happens when we use range function\n",
    "\n",
    "range(5)"
   ]
  },
  {
   "cell_type": "markdown",
   "metadata": {
    "colab_type": "text",
    "id": "IECB_sVVAnaY"
   },
   "source": [
    "Lets see what is the type of returned object"
   ]
  },
  {
   "cell_type": "code",
   "execution_count": null,
   "metadata": {
    "colab": {},
    "colab_type": "code",
    "id": "gnQXHWlKAnaZ",
    "outputId": "dded7eb7-c333-48a6-9460-c3c7f2f8a097"
   },
   "outputs": [
    {
     "data": {
      "text/plain": [
       "range"
      ]
     },
     "execution_count": 7,
     "metadata": {
      "tags": []
     },
     "output_type": "execute_result"
    }
   ],
   "source": [
    "x = range(0,10)\n",
    "type(x)"
   ]
  },
  {
   "cell_type": "markdown",
   "metadata": {
    "colab_type": "text",
    "id": "l1FRgBh_Anad"
   },
   "source": [
    "It returned a range object.\n",
    "<br> **So how is it useful?**"
   ]
  },
  {
   "cell_type": "code",
   "execution_count": null,
   "metadata": {
    "colab": {},
    "colab_type": "code",
    "id": "-Y5Rb9UCAnad",
    "outputId": "18e404fd-1585-4a41-90cf-b43d4395d2a7"
   },
   "outputs": [
    {
     "data": {
      "text/plain": [
       "[0, 1, 2, 3, 4]"
      ]
     },
     "execution_count": 6,
     "metadata": {
      "tags": []
     },
     "output_type": "execute_result"
    }
   ],
   "source": [
    "list(range(5))"
   ]
  },
  {
   "cell_type": "markdown",
   "metadata": {
    "colab_type": "text",
    "id": "MZ6ou2IMAnai"
   },
   "source": [
    "Instead of manually creating a list of integers upto 'n'. You can create using the range() function"
   ]
  },
  {
   "cell_type": "markdown",
   "metadata": {
    "colab_type": "text",
    "id": "ANVKdG3xAnaj"
   },
   "source": [
    "The parameters of range function are (start,stop,step size).\n",
    "<br> Where the range would begin from start and end at (step size - 1), by default the step size is 1 and start is 0.\n",
    "<br> You can relate this with slicing."
   ]
  },
  {
   "cell_type": "code",
   "execution_count": null,
   "metadata": {
    "colab": {},
    "colab_type": "code",
    "id": "5A4MI2LEAnal"
   },
   "outputs": [],
   "source": [
    "# Lets see a range with start and stop\n",
    "start = 0 \n",
    "stop = 20 \n",
    "\n",
    "x = range(start,stop)"
   ]
  },
  {
   "cell_type": "code",
   "execution_count": null,
   "metadata": {
    "colab": {},
    "colab_type": "code",
    "id": "_kDY3UBOAnao",
    "outputId": "ea63116f-5d3a-43da-a561-fded80c92016"
   },
   "outputs": [
    {
     "data": {
      "text/plain": [
       "range(0, 20)"
      ]
     },
     "execution_count": 6,
     "metadata": {
      "tags": []
     },
     "output_type": "execute_result"
    }
   ],
   "source": [
    "x"
   ]
  },
  {
   "cell_type": "code",
   "execution_count": null,
   "metadata": {
    "colab": {},
    "colab_type": "code",
    "id": "vI87z4bBAnas",
    "outputId": "e67eb991-61e3-4d1c-8576-f75ebd5bf01b"
   },
   "outputs": [
    {
     "data": {
      "text/plain": [
       "[0, 1, 2, 3, 4, 5, 6, 7, 8, 9, 10, 11, 12, 13, 14, 15, 16, 17, 18, 19]"
      ]
     },
     "execution_count": 8,
     "metadata": {
      "tags": []
     },
     "output_type": "execute_result"
    }
   ],
   "source": [
    "# Show\n",
    "\n",
    "list(x)"
   ]
  },
  {
   "cell_type": "markdown",
   "metadata": {
    "colab_type": "text",
    "id": "rVpksHkIAnaw"
   },
   "source": [
    "Great! Notice how it went up to 20, but doesn't actually produce 20. Just like in indexing. \n",
    "<br>What about step size? \n",
    "<br>We can specify that as a third argument:"
   ]
  },
  {
   "cell_type": "code",
   "execution_count": null,
   "metadata": {
    "colab": {},
    "colab_type": "code",
    "id": "z2sl3tmFAnaw"
   },
   "outputs": [],
   "source": [
    "# Lets set step size to 2\n",
    "x = range(start,stop,2)"
   ]
  },
  {
   "cell_type": "code",
   "execution_count": null,
   "metadata": {
    "colab": {},
    "colab_type": "code",
    "id": "qAqoNoT5Ana0",
    "outputId": "5eaf9d01-9102-4ced-8842-7055ba9eb62f"
   },
   "outputs": [
    {
     "data": {
      "text/plain": [
       "range(0, 20, 2)"
      ]
     },
     "execution_count": 11,
     "metadata": {
      "tags": []
     },
     "output_type": "execute_result"
    }
   ],
   "source": [
    "#Show\n",
    "x"
   ]
  },
  {
   "cell_type": "code",
   "execution_count": null,
   "metadata": {
    "colab": {},
    "colab_type": "code",
    "id": "lAc8-a7AAna6",
    "outputId": "c75599e7-8b72-41b7-d2b1-0ca5cc2db7a5"
   },
   "outputs": [
    {
     "data": {
      "text/plain": [
       "[0, 2, 4, 6, 8, 10, 12, 14, 16, 18]"
      ]
     },
     "execution_count": 12,
     "metadata": {
      "tags": []
     },
     "output_type": "execute_result"
    }
   ],
   "source": [
    "list(x)"
   ]
  },
  {
   "cell_type": "markdown",
   "metadata": {
    "colab_type": "text",
    "collapsed": true,
    "id": "FEyzctkbAna-"
   },
   "source": [
    "But still what makes range() so special?\n",
    "\n",
    "Range function makes use of a generator. For a simplified explanation: A generator allows the generation of generated objects that are provided at that instance but does not store every instance generated into memory.\n",
    "\n",
    "This means a generator would not create a list to generate like range() does, but instead provide a one time generation of the numbers in that range.\n",
    "<br> This is very beneficial when we need range upto huge numbers.\n",
    "<br> Don't worry about it if you did not understand.\n",
    "<br> The application of range is more important to understand."
   ]
  },
  {
   "cell_type": "markdown",
   "metadata": {
    "colab_type": "text",
    "id": "PXU54hPRAna-"
   },
   "source": [
    "<font color=red>### INSTRUCTION TO DO</font>\n",
    "\n",
    "Print all the numbers from 4 uptil 108 with a gap of three between consective numbers\n",
    "<br> Add new cells if required and practice\n"
   ]
  },
  {
   "cell_type": "code",
   "execution_count": null,
   "metadata": {
    "colab": {},
    "colab_type": "code",
    "id": "Z8cfE6eaAna_"
   },
   "outputs": [],
   "source": []
  },
  {
   "cell_type": "markdown",
   "metadata": {
    "colab_type": "text",
    "id": "S9PO51VYAnbE"
   },
   "source": [
    "# for loops\n",
    "\n",
    "Python’s for statement iterates over the items of any sequence (a list or a string), in the order that they appear in the sequence. We can iterate over iterables such as strings, lists, tuples, and even built in iterables for dictionaries, such as the keys or values. You had learnt that  lists, tuples, dictionaries are iterables now you will know why.\n",
    "\n",
    "Here's the general format for a for loop in Python:\n",
    "\n",
    "`\n",
    "for item in object:\n",
    "    statements to do stuff\n",
    "`   \n",
    "\n",
    "The variable name used for the item is completely up to the coder, so use your best judgment for choosing a name that makes sense and you will be able to understand when revisiting your code. This item name can then be referenced inside you loop, for example if you wanted to use if statements to perform checks.\n",
    "\n",
    "Let's go ahead and work through several example of for loops using a variety of data object types. "
   ]
  },
  {
   "cell_type": "markdown",
   "metadata": {
    "colab_type": "text",
    "collapsed": true,
    "id": "RDxvjSL9AnbF"
   },
   "source": [
    "## Iterating through a list"
   ]
  },
  {
   "cell_type": "code",
   "execution_count": null,
   "metadata": {
    "colab": {},
    "colab_type": "code",
    "id": "8EvmGxEDAnbF"
   },
   "outputs": [],
   "source": [
    "# Lets create a list\n",
    "\n",
    "l = [1,2,3,4,5,6,7,8,9,10]"
   ]
  },
  {
   "cell_type": "markdown",
   "metadata": {
    "colab_type": "text",
    "id": "vHLY9ukLAnbK"
   },
   "source": [
    "### Iterating through a list without indexing "
   ]
  },
  {
   "cell_type": "code",
   "execution_count": null,
   "metadata": {
    "colab": {},
    "colab_type": "code",
    "id": "Mpe2aiiBAnbK",
    "outputId": "cafcc246-b925-42cc-8211-4e53505a0972"
   },
   "outputs": [
    {
     "name": "stdout",
     "output_type": "stream",
     "text": [
      "1\n",
      "2\n",
      "3\n",
      "4\n",
      "5\n",
      "6\n",
      "7\n",
      "8\n",
      "9\n",
      "10\n"
     ]
    }
   ],
   "source": [
    "for number in l:\n",
    "    print(number)"
   ]
  },
  {
   "cell_type": "markdown",
   "metadata": {
    "colab_type": "text",
    "id": "1IZNlyG2AnbO"
   },
   "source": [
    "As you can see the for loop helped us to access each element one by one without using indexing."
   ]
  },
  {
   "cell_type": "markdown",
   "metadata": {
    "colab_type": "text",
    "id": "fUAUdXEZAnbO"
   },
   "source": [
    "### Iterating through a list with indexing "
   ]
  },
  {
   "cell_type": "code",
   "execution_count": null,
   "metadata": {
    "colab": {},
    "colab_type": "code",
    "id": "DNNAVHpGAnbP",
    "outputId": "686545db-e2e8-41e7-c9c8-a3a82dc7f9cc"
   },
   "outputs": [
    {
     "name": "stdout",
     "output_type": "stream",
     "text": [
      "1\n",
      "2\n",
      "3\n",
      "4\n",
      "5\n",
      "6\n",
      "7\n",
      "8\n",
      "9\n",
      "10\n"
     ]
    }
   ],
   "source": [
    "for number in range(len(l)):\n",
    "    print(l[number])"
   ]
  },
  {
   "cell_type": "markdown",
   "metadata": {
    "colab_type": "text",
    "id": "ZKv5IhqAAnbT"
   },
   "source": [
    "Lets solve the odd even problem using for loop.\n",
    "<br> Print all even numbers in the list"
   ]
  },
  {
   "cell_type": "code",
   "execution_count": null,
   "metadata": {
    "colab": {},
    "colab_type": "code",
    "id": "IxMyByjHAnbT",
    "outputId": "01aeb938-f725-4c74-d0f6-32f9e74470b6"
   },
   "outputs": [
    {
     "name": "stdout",
     "output_type": "stream",
     "text": [
      "2\n",
      "4\n",
      "6\n",
      "8\n",
      "10\n"
     ]
    }
   ],
   "source": [
    "for number in l:\n",
    "    if number % 2 == 0:\n",
    "        print(number)"
   ]
  },
  {
   "cell_type": "markdown",
   "metadata": {
    "colab_type": "text",
    "id": "HR_nORUUAnbX"
   },
   "source": [
    "If a number is even print \"Even\" and the number else print \"Odd\" and the number"
   ]
  },
  {
   "cell_type": "code",
   "execution_count": null,
   "metadata": {
    "colab": {},
    "colab_type": "code",
    "id": "7u3jTT24AnbZ",
    "outputId": "033a2dad-6322-4c94-b3a3-782afc7ae014"
   },
   "outputs": [
    {
     "name": "stdout",
     "output_type": "stream",
     "text": [
      "Odd 1\n",
      "Even 2\n",
      "Odd 3\n",
      "Even 4\n",
      "Odd 5\n",
      "Even 6\n",
      "Odd 7\n",
      "Even 8\n",
      "Odd 9\n",
      "Even 10\n"
     ]
    }
   ],
   "source": [
    "for number in l:\n",
    "    if number % 2 == 0:\n",
    "        print(\"Even\",number)\n",
    "    else:\n",
    "        print(\"Odd\",number)"
   ]
  },
  {
   "cell_type": "markdown",
   "metadata": {
    "colab_type": "text",
    "id": "yCSmBVxzAnbd"
   },
   "source": [
    "Lets find sum of the numbers in the list"
   ]
  },
  {
   "cell_type": "code",
   "execution_count": null,
   "metadata": {
    "colab": {},
    "colab_type": "code",
    "collapsed": true,
    "id": "jA3cJJkEAnbd"
   },
   "outputs": [],
   "source": [
    "l_sum = 0\n",
    "\n",
    "for number in l:\n",
    "    l_sum += number   # notice the use of shorthand operator"
   ]
  },
  {
   "cell_type": "code",
   "execution_count": null,
   "metadata": {
    "colab": {},
    "colab_type": "code",
    "id": "ytgWqJA1Anbh",
    "outputId": "9c9ba8da-d575-40bd-87c4-e557176b942c"
   },
   "outputs": [
    {
     "data": {
      "text/plain": [
       "55"
      ]
     },
     "execution_count": 27,
     "metadata": {
      "tags": []
     },
     "output_type": "execute_result"
    }
   ],
   "source": [
    "# Display sum\n",
    "\n",
    "l_sum"
   ]
  },
  {
   "cell_type": "markdown",
   "metadata": {
    "colab_type": "text",
    "id": "xJ6GwbR8Anbm"
   },
   "source": [
    "What is happening?\n",
    "\n",
    "Consider, l = [1,2,3]\n",
    "\n",
    "`\n",
    "Initially :\n",
    "    l_sum = 0\n",
    "Iteration 1 :\n",
    "    l_sum = 0 + 1\n",
    "    l_sum = 1\n",
    "Iteration 2 :\n",
    "    l_sum = 1 + 2\n",
    "    l_sum = 3\n",
    "Iteration 3 :\n",
    "    l_sum = 3 + 3\n",
    "    l_sum = 6\n",
    "-----Loop ends-----\n",
    "`\n",
    "\n",
    "This is how final result is calculated"
   ]
  },
  {
   "cell_type": "markdown",
   "metadata": {
    "colab_type": "text",
    "id": "l7YhY_H0Anbm"
   },
   "source": [
    "<font color=red>### INSTRUCTION TO DO</font>\n",
    "\n",
    "In the previous chapter we had created 3 lists\n",
    "\n",
    "student_names = [\"John\" ,\"Jane\", \"Amita\", \"Amit\", \"Ram\"]\n",
    "<br>student_roll_nos = [11,22,32,44,77]\n",
    "<br>student_marks = [20,19,11,15,16]\n",
    "\n",
    "Print the name of every student.\n",
    "Find the sum of marks using a for loop.\n",
    "<br> Make sure you initialize your variable which will store the product with an appropriate value.\n",
    "<br> Print the sum.\n",
    "<br> Add new cells if required and practice\n"
   ]
  },
  {
   "cell_type": "code",
   "execution_count": null,
   "metadata": {
    "colab": {},
    "colab_type": "code",
    "collapsed": true,
    "id": "iPNjT8TcAnbn"
   },
   "outputs": [],
   "source": []
  },
  {
   "cell_type": "markdown",
   "metadata": {
    "colab_type": "text",
    "id": "8D153P3pAnbq"
   },
   "source": [
    "## Iterating through a string"
   ]
  },
  {
   "cell_type": "markdown",
   "metadata": {
    "colab_type": "text",
    "id": "5JtofNFMAnbr"
   },
   "source": [
    "As discussed before strings are a sequence so when we iterate through them we will be accessing each item in that string."
   ]
  },
  {
   "cell_type": "code",
   "execution_count": null,
   "metadata": {
    "colab": {},
    "colab_type": "code",
    "id": "BBSXMb50Anbs",
    "outputId": "1a49645d-f5a4-4c98-d5e3-c59fd7b180ac"
   },
   "outputs": [
    {
     "name": "stdout",
     "output_type": "stream",
     "text": [
      "W\n",
      "e\n",
      "l\n",
      "c\n",
      "o\n",
      "m\n",
      "e\n",
      " \n",
      "t\n",
      "o\n",
      " \n",
      "D\n",
      "i\n",
      "g\n",
      "i\n",
      "t\n",
      "a\n",
      "l\n",
      " \n",
      "V\n",
      "i\n",
      "d\n",
      "y\n",
      "a\n"
     ]
    }
   ],
   "source": [
    "for letter in 'Welcome to Digital Vidya':\n",
    "    print(letter)"
   ]
  },
  {
   "cell_type": "markdown",
   "metadata": {
    "colab_type": "text",
    "id": "HjDcGqKiAnbv"
   },
   "source": [
    "Character by character printing is done"
   ]
  },
  {
   "cell_type": "markdown",
   "metadata": {
    "colab_type": "text",
    "id": "ORV2c8KzAnbw"
   },
   "source": [
    "## Iterating through a tuple\n",
    "\n",
    "Iterating through a tuple is very similar to iterating through a list or a string.\n",
    "<br> We will use the tuple created in previous chapter."
   ]
  },
  {
   "cell_type": "code",
   "execution_count": 32,
   "metadata": {
    "colab": {},
    "colab_type": "code",
    "executionInfo": {
     "elapsed": 1105,
     "status": "ok",
     "timestamp": 1598093561749,
     "user": {
      "displayName": "Kṛṣṇa solutions",
      "photoUrl": "",
      "userId": "14911029245911425813"
     },
     "user_tz": -330
    },
    "id": "8PPF7GQlAnbx"
   },
   "outputs": [],
   "source": [
    "student1 = (\"Jay\" , 19 ,20)\n",
    "student2 = (\"Khushi\", 21 , 18) \n",
    "student3 = (\"Luv\" , 22 , 17)"
   ]
  },
  {
   "cell_type": "code",
   "execution_count": 33,
   "metadata": {
    "colab": {
     "base_uri": "https://localhost:8080/",
     "height": 252
    },
    "colab_type": "code",
    "executionInfo": {
     "elapsed": 1119,
     "status": "ok",
     "timestamp": 1598093565963,
     "user": {
      "displayName": "Kṛṣṇa solutions",
      "photoUrl": "",
      "userId": "14911029245911425813"
     },
     "user_tz": -330
    },
    "id": "tz89N4ehAnb0",
    "outputId": "def5cc5d-c7ef-41c5-cdda-ee81787c8eed"
   },
   "outputs": [
    {
     "name": "stdout",
     "output_type": "stream",
     "text": [
      "Student1 details : \n",
      "Jay\n",
      "19\n",
      "20\n",
      "\n",
      "Student2 details : \n",
      "Khushi\n",
      "21\n",
      "18\n",
      "\n",
      "Student3 details : \n",
      "Luv\n",
      "22\n",
      "17\n"
     ]
    }
   ],
   "source": [
    "print(\"Student1 details : \")\n",
    "\n",
    "for t in student1:\n",
    "    print(t)\n",
    "    \n",
    "print()\n",
    "print(\"Student2 details : \")\n",
    "\n",
    "for t in student2:\n",
    "    print(t)\n",
    "    \n",
    "print()\n",
    "print(\"Student3 details : \")\n",
    "\n",
    "for t in student3:\n",
    "    print(t)"
   ]
  },
  {
   "cell_type": "markdown",
   "metadata": {
    "colab_type": "text",
    "id": "ymAw0SUiAnb6"
   },
   "source": [
    "### Tuple unpacking\n",
    "\n",
    "Tuples have a special property when it comes to for loops. While iterating through a sequence, if the element which is obtained is also a tuple then we can unpack its elements using **Tuple Unpacking**.\n"
   ]
  },
  {
   "cell_type": "code",
   "execution_count": null,
   "metadata": {
    "colab": {},
    "colab_type": "code",
    "id": "qpkCgr4TAnb6",
    "outputId": "d0deccd9-583c-4e9f-c662-e4a430bfa4e8"
   },
   "outputs": [
    {
     "data": {
      "text/plain": [
       "[(32, 'John', 20),\n",
       " (22, 'Jane', 19),\n",
       " (21, 'Amita', 10),\n",
       " (44, 'Amit', 15),\n",
       " (77, 'Ram', 16)]"
      ]
     },
     "execution_count": 1,
     "metadata": {
      "tags": []
     },
     "output_type": "execute_result"
    }
   ],
   "source": [
    "# Lets create a tuple of name, roll no. and marks for each student.\n",
    "# Let's make three tuples\n",
    "\n",
    "student_roll_nos = [32,22,21,44,77] \n",
    "student_names = [\"John\" ,\"Jane\", \"Amita\", \"Amit\", \"Ram\"] \n",
    "student_marks = [20,19,10,15,16]\n",
    "\n",
    "# Format is name, roll no., marks\n",
    "students = [(roll_no, name, marks) for (roll_no, name, marks) in zip(student_roll_nos,student_names, student_marks)]\n",
    "students"
   ]
  },
  {
   "cell_type": "code",
   "execution_count": null,
   "metadata": {
    "colab": {},
    "colab_type": "code",
    "id": "CNjkOi4PAncB",
    "outputId": "e1362352-d99a-4c9b-f0c6-9d4813c016a1"
   },
   "outputs": [
    {
     "name": "stdout",
     "output_type": "stream",
     "text": [
      "Roll no. Name  Marks\n",
      "\n",
      "     32 John    20\n",
      "     22 Jane    19\n",
      "     21 Amita   10\n",
      "     44 Amit    15\n",
      "     77 Ram     16\n"
     ]
    }
   ],
   "source": [
    "# Iterating through the list\n",
    "\n",
    "print(\"Roll no. Name  Marks\")\n",
    "print()\n",
    "\n",
    "# Tuple unpacking\n",
    "for (roll_no, name, marks) in students:\n",
    "    print('{0:7d} {1:5s} {2:4d}'.format(roll_no, name, marks))"
   ]
  },
  {
   "cell_type": "markdown",
   "metadata": {
    "colab_type": "text",
    "id": "KZOJ2IXDAncM"
   },
   "source": [
    "The above printing style has been improved for better presentation. No need to worry if you don't understand you will learn this later.\n",
    "<br>For reference : https://docs.python.org/3.1/tutorial/inputoutput.html"
   ]
  },
  {
   "cell_type": "markdown",
   "metadata": {
    "colab_type": "text",
    "id": "fZQG1_HJAncN"
   },
   "source": [
    "<font color=red>### INSTRUCTION TO DO</font>\n",
    "\n",
    "Create a list with 5 tuples.\n",
    "<br> For a tuple of the form (a,b), b is square of a.\n",
    "<br> a should be from 1 to 5.\n",
    "<br> Each list has two consective alphabets (a,b) , (b,c) and so on.\n",
    "<br> TIP : Use list comprehension.\n",
    "<br> Print each tuple using tuple unpacking in the same way as shown above.\n",
    "<br> Add new cells if required and practice\n"
   ]
  },
  {
   "cell_type": "code",
   "execution_count": null,
   "metadata": {
    "colab": {},
    "colab_type": "code",
    "id": "EuA-z6-AAncO"
   },
   "outputs": [],
   "source": []
  },
  {
   "cell_type": "markdown",
   "metadata": {
    "colab_type": "text",
    "id": "P0MWwsMIAncc"
   },
   "source": [
    "## Iterating through a dictionary\n",
    "\n",
    "Iterating through a dictionary is a bit different from iterating through other iterables"
   ]
  },
  {
   "cell_type": "code",
   "execution_count": 35,
   "metadata": {
    "colab": {},
    "colab_type": "code",
    "executionInfo": {
     "elapsed": 1750,
     "status": "ok",
     "timestamp": 1598093635655,
     "user": {
      "displayName": "Kṛṣṇa solutions",
      "photoUrl": "",
      "userId": "14911029245911425813"
     },
     "user_tz": -330
    },
    "id": "32gpWl-sAncn"
   },
   "outputs": [],
   "source": [
    "# Create a dictionary.\n",
    "\n",
    "student = {'name':'John','roll no':22,'marks':[25,26,27]}"
   ]
  },
  {
   "cell_type": "code",
   "execution_count": 36,
   "metadata": {
    "colab": {
     "base_uri": "https://localhost:8080/",
     "height": 67
    },
    "colab_type": "code",
    "executionInfo": {
     "elapsed": 991,
     "status": "ok",
     "timestamp": 1598093637667,
     "user": {
      "displayName": "Kṛṣṇa solutions",
      "photoUrl": "",
      "userId": "14911029245911425813"
     },
     "user_tz": -330
    },
    "id": "U6wHUyodAncv",
    "outputId": "71192fd2-4d28-4ebe-a8db-427cb0583886"
   },
   "outputs": [
    {
     "name": "stdout",
     "output_type": "stream",
     "text": [
      "John\n",
      "22\n",
      "[25, 26, 27]\n"
     ]
    }
   ],
   "source": [
    "for key in student:\n",
    "    print(student[key])"
   ]
  },
  {
   "cell_type": "markdown",
   "metadata": {
    "colab_type": "text",
    "id": "9kJEePWnAncz"
   },
   "source": [
    "We could only get the keys. So how can we get the values? Or both the keys and the values?"
   ]
  },
  {
   "cell_type": "markdown",
   "metadata": {
    "colab_type": "text",
    "id": "8ILVaN_WAnc0"
   },
   "source": [
    "### Only keys:"
   ]
  },
  {
   "cell_type": "code",
   "execution_count": null,
   "metadata": {
    "colab": {},
    "colab_type": "code",
    "id": "nRJ6yhCxAnc1",
    "outputId": "c10570c6-5bc2-470a-f9e5-a4ebca65959e"
   },
   "outputs": [
    {
     "name": "stdout",
     "output_type": "stream",
     "text": [
      "name\n",
      "roll no\n",
      "marks\n"
     ]
    }
   ],
   "source": [
    "for key in student.keys():\n",
    "    print(key)"
   ]
  },
  {
   "cell_type": "markdown",
   "metadata": {
    "colab_type": "text",
    "id": "3g-nbhzMAnc8"
   },
   "source": [
    "### Only values:"
   ]
  },
  {
   "cell_type": "code",
   "execution_count": null,
   "metadata": {
    "colab": {},
    "colab_type": "code",
    "id": "qEoLHCvIAnc9",
    "outputId": "a9c296b5-14ab-4743-81f7-ea574b536838"
   },
   "outputs": [
    {
     "name": "stdout",
     "output_type": "stream",
     "text": [
      "John\n",
      "22\n",
      "[25, 26, 27]\n"
     ]
    }
   ],
   "source": [
    "for value in student.values():\n",
    "    print(value)"
   ]
  },
  {
   "cell_type": "markdown",
   "metadata": {
    "colab_type": "text",
    "id": "RMwnRsEQAndC"
   },
   "source": [
    "### Both keys and values:"
   ]
  },
  {
   "cell_type": "code",
   "execution_count": null,
   "metadata": {
    "colab": {},
    "colab_type": "code",
    "id": "eHbrlxXGAndD",
    "outputId": "d94fe9a3-8fbf-4d3a-b7c2-dc63429ba9fc"
   },
   "outputs": [
    {
     "name": "stdout",
     "output_type": "stream",
     "text": [
      "name John\n",
      "roll no 22\n",
      "marks [25, 26, 27]\n"
     ]
    }
   ],
   "source": [
    "for key,value in student.items():  # Tuple unpacking \n",
    "    print(key,value)"
   ]
  },
  {
   "cell_type": "code",
   "execution_count": null,
   "metadata": {
    "colab": {},
    "colab_type": "code",
    "id": "vZq02xYuAndH",
    "outputId": "5c67e68a-4d84-466d-9deb-2abb333d240e"
   },
   "outputs": [
    {
     "data": {
      "text/plain": [
       "dict_items([('name', 'John'), ('roll no', 22), ('marks', [25, 26, 27])])"
      ]
     },
     "execution_count": 36,
     "metadata": {
      "tags": []
     },
     "output_type": "execute_result"
    }
   ],
   "source": [
    "student.items()"
   ]
  },
  {
   "cell_type": "markdown",
   "metadata": {
    "colab_type": "text",
    "id": "fwcxrJFtAndK"
   },
   "source": [
    "Here you can see that student.items() returns a lists of tuples containing key,value pairs.\n",
    "<br> Using tuple unpacking we could retrieve individual keys and values.\n",
    "<br> This is an important example of tuple unpacking."
   ]
  },
  {
   "cell_type": "markdown",
   "metadata": {
    "colab_type": "text",
    "id": "ZOzDYKkZAndL"
   },
   "source": [
    "<font color=red>### INSTRUCTION TO DO</font>\n",
    "\n",
    "Create a dictionary with key : \"Taj Mahal\", value : \"India\" and another key: \"Eiffel Tower\", value : \"France\".\n",
    "<br> Name it as monuments\n",
    "<br> Try all the three methods of iterating through a dictionary i.e by key, by value and by key and value both.\n",
    "<br> Add new cells if required and practice"
   ]
  },
  {
   "cell_type": "code",
   "execution_count": null,
   "metadata": {
    "colab": {},
    "colab_type": "code",
    "id": "UfrBCYICAndL"
   },
   "outputs": [],
   "source": []
  },
  {
   "cell_type": "markdown",
   "metadata": {
    "colab_type": "text",
    "id": "BergKBKkAndP"
   },
   "source": [
    "### Miscellaneous problem"
   ]
  },
  {
   "cell_type": "markdown",
   "metadata": {
    "colab_type": "text",
    "id": "qjt3vF-CAndP"
   },
   "source": [
    "This will help you with your assignment.\n",
    "\n",
    "Find factorial of a number.\n",
    "<br> Factorial of a number n is 1*2*3*....* n.\n",
    "<br> eg. Factorial of 5 is 1×2×3×4×5 = 120"
   ]
  },
  {
   "cell_type": "code",
   "execution_count": null,
   "metadata": {
    "colab": {},
    "colab_type": "code",
    "id": "7vc91aT4AndQ",
    "outputId": "182765cf-3bc4-4f6f-b877-80686801ed26"
   },
   "outputs": [
    {
     "name": "stdout",
     "output_type": "stream",
     "text": [
      "Factorial of 5 is 120\n"
     ]
    }
   ],
   "source": [
    "n = 5\n",
    "factorial = 1\n",
    "\n",
    "# range(1,6) will return [1,2,3,4,5]\n",
    "# factorial will multiply each consecutive number in each iteration and then store the result in itself.\n",
    "\n",
    "for i in range(1,n+1):\n",
    "    factorial *= i\n",
    "\n",
    "print(\"Factorial of %d is %d\"% (n,factorial))"
   ]
  },
  {
   "cell_type": "markdown",
   "metadata": {
    "colab_type": "text",
    "id": "7cNxV4LuAndU"
   },
   "source": [
    "# While loop\n",
    "\n",
    "The while statement in Python is one of most general ways to perform iteration. A while statement will repeatedly execute a single statement or group of statements as long as the condition is true. The reason it is called a 'loop' is because the code statements are looped through over and over again until the condition is no longer met.\n",
    "\n",
    "But wait when to use a for loop and when to use while loop?\n",
    "\n",
    "Use for loop when you know when to terminate the loop. Like we knew when to terminate the loop in all the examples above.\n",
    "<br> Use while loop when you are not aware when the loop should terminate.\n",
    "<br> For eg. While its raining outside, stay indoors.\n",
    "<br> Programming based example would be : until the user keeps giving input don't terminate the loop.\n",
    "\n",
    "The while loop also has an else clause just like an if statement.\n",
    "<br> The else statement is executed after the condition in while loop becomes False. \n",
    "\n",
    "The general format of a while loop is:\n",
    "\n",
    "`\n",
    "while test:\n",
    "    code statement\n",
    "else:\n",
    "    final code statements\n",
    "`\n",
    "\n",
    "Lets have a look at the examples"
   ]
  },
  {
   "cell_type": "code",
   "execution_count": null,
   "metadata": {
    "colab": {},
    "colab_type": "code",
    "id": "I6nxqe1RAndV",
    "outputId": "c9b94b08-7a94-47f6-a098-de7a589ec6fd"
   },
   "outputs": [
    {
     "name": "stdout",
     "output_type": "stream",
     "text": [
      "x is : 0\n",
      " Adding 1 to x\n",
      "x is : 1\n",
      " Adding 1 to x\n",
      "x is : 2\n",
      " Adding 1 to x\n",
      "x is : 3\n",
      " Adding 1 to x\n",
      "x is : 4\n",
      " Adding 1 to x\n",
      "x is : 5\n",
      " Adding 1 to x\n",
      "x is : 6\n",
      " Adding 1 to x\n",
      "x is : 7\n",
      " Adding 1 to x\n",
      "x is : 8\n",
      " Adding 1 to x\n",
      "x is : 9\n",
      " Adding 1 to x\n"
     ]
    }
   ],
   "source": [
    "# Print all numbers less than 10\n",
    "\n",
    "x = 0\n",
    "\n",
    "while x < 10:  \n",
    "    \n",
    "    print('x is :',x)\n",
    "    print(' Adding 1 to x')\n",
    "    x+=1"
   ]
  },
  {
   "cell_type": "markdown",
   "metadata": {
    "colab_type": "text",
    "id": "9dkOMSEbAndY"
   },
   "source": [
    "Here, the most important take away is that terminating condition is x == 10.\n",
    "\n",
    "Notice how many times the print statements occurred and how the while loop kept going until the True condition was met, which occurred once x==10. Its important to note that once this occurred the code stopped. \n",
    "<br>Lets see how we could add an else statement:\n",
    "\n"
   ]
  },
  {
   "cell_type": "code",
   "execution_count": null,
   "metadata": {
    "colab": {},
    "colab_type": "code",
    "id": "ZqpJEZ1NAndY",
    "outputId": "c350f965-3462-41b2-833a-44dfd65e367a"
   },
   "outputs": [
    {
     "name": "stdout",
     "output_type": "stream",
     "text": [
      "x is : 0\n",
      " Adding 1 to x\n",
      "x is : 1\n",
      " Adding 1 to x\n",
      "x is : 2\n",
      " Adding 1 to x\n",
      "x is : 3\n",
      " Adding 1 to x\n",
      "x is : 4\n",
      " Adding 1 to x\n",
      "x is : 5\n",
      " Adding 1 to x\n",
      "x is : 6\n",
      " Adding 1 to x\n",
      "x is : 7\n",
      " Adding 1 to x\n",
      "x is : 8\n",
      " Adding 1 to x\n",
      "x is : 9\n",
      " Adding 1 to x\n",
      "All 10 numbers are printed!\n"
     ]
    }
   ],
   "source": [
    "x = 0\n",
    "\n",
    "while x < 10:\n",
    "    print('x is :',x)\n",
    "    print(' Adding 1 to x')\n",
    "    x+=1\n",
    "else:\n",
    "    print('All 10 numbers are printed!')"
   ]
  },
  {
   "cell_type": "markdown",
   "metadata": {
    "colab_type": "text",
    "id": "t3hsst-wAndg"
   },
   "source": [
    "<font color=orange>### IMPORTANT NOTE </font>\n",
    "\n",
    "At times the programmer misses a case when the loop may not terminate and the loop runs infinitely.\n",
    "<br> Infinite loops are difficult to handle so please be careful about it.\n",
    "\n",
    "eg. \n",
    "\n",
    "`\n",
    "while True :\n",
    "    print(\"Don't do this\")\n",
    "`"
   ]
  },
  {
   "cell_type": "markdown",
   "metadata": {
    "colab_type": "text",
    "id": "AMl4rR9_Andh"
   },
   "source": [
    "<font color=red>### INSTRUCTION TO DO</font>\n",
    "\n",
    "Print all the positive numbers that are less than 100.\n",
    "<br> After the loop terminates print \"All 100 numbers printed\"\n",
    "<br> Add new cells if required and practice\n"
   ]
  },
  {
   "cell_type": "code",
   "execution_count": null,
   "metadata": {
    "colab": {},
    "colab_type": "code",
    "id": "FPR9DJ2vAndh"
   },
   "outputs": [],
   "source": []
  },
  {
   "cell_type": "markdown",
   "metadata": {
    "colab_type": "text",
    "id": "wCFRw9TcAndk"
   },
   "source": [
    "# Break  and  continue statements"
   ]
  },
  {
   "cell_type": "markdown",
   "metadata": {
    "colab_type": "text",
    "id": "P4yDSPj0Andl"
   },
   "source": [
    "Based on certain conditions we can decide whether to break, continue or pass through a loop.\n",
    "\n",
    "    break: Breaks out of the current closest enclosing loop, skipping all the statements after it.\n",
    "    continue: Goes to the top of the closest enclosing loop i.e goes to next iteration of the loop, skipping all statements               following it.\n",
    "    \n",
    "break and continue statements can appear anywhere inside the loop’s body, but it is logical to put them inside a conditional statement such as an if statement to perform an action based on some condition.\n",
    "\n",
    "You will get a clear idea when you look at the examples"
   ]
  },
  {
   "cell_type": "markdown",
   "metadata": {
    "colab_type": "text",
    "id": "dEirb_5_Andl"
   },
   "source": [
    "## Break statement"
   ]
  },
  {
   "cell_type": "markdown",
   "metadata": {
    "colab_type": "text",
    "id": "d8TU41-iAndm"
   },
   "source": [
    "1. Print all number from 1 to 10 but break the loop when x is equal to 3."
   ]
  },
  {
   "cell_type": "code",
   "execution_count": null,
   "metadata": {
    "colab": {},
    "colab_type": "code",
    "id": "zNg3UsB0Andm",
    "outputId": "2d670f1a-4ff6-4075-9b23-c490572a878a"
   },
   "outputs": [
    {
     "name": "stdout",
     "output_type": "stream",
     "text": [
      "x is : 0\n",
      " Adding 1 to x\n",
      "x is : 1\n",
      " Adding 1 to x\n",
      "x is : 2\n",
      " Adding 1 to x\n",
      "x==3\n"
     ]
    }
   ],
   "source": [
    "x = 0\n",
    "\n",
    "while x < 10:\n",
    "    print('x is :',x)\n",
    "    print(' Adding 1 to x')\n",
    "    x+=1\n",
    "    if x ==3:\n",
    "        print('x==3')\n",
    "        break"
   ]
  },
  {
   "cell_type": "code",
   "execution_count": null,
   "metadata": {
    "colab": {},
    "colab_type": "code",
    "id": "jv3v0wQj0fBS"
   },
   "outputs": [],
   "source": [
    "[class student names and thier respective classes] [class_6, 'y', 'u', 'u', class_7, 'i', 'o']"
   ]
  },
  {
   "cell_type": "markdown",
   "metadata": {
    "colab_type": "text",
    "id": "lpDUmjPGAnds"
   },
   "source": [
    "2 User should enter any number between 1 to 10 and when the user enters 5, we will print \"Got you!\""
   ]
  },
  {
   "cell_type": "code",
   "execution_count": null,
   "metadata": {},
   "outputs": [
    {
     "name": "stdout",
     "output_type": "stream",
     "text": [
      "1\n",
      "Enter any number between 1 and 11 5\n",
      "Go low\n",
      "Enter any number between 1 and 11 4\n",
      "Go low\n",
      "Enter any number between 1 and 11 3\n",
      "Go low\n",
      "Enter any number between 1 and 11 2\n",
      "Go low\n",
      "Enter any number between 1 and 11 1\n",
      "got you\n"
     ]
    }
   ],
   "source": [
    "from random import randint\n",
    "n=randint(1,11)\n",
    "print(n)\n",
    "\n",
    "while True:\n",
    "    a=int(input(\"Enter any number between 1 and 11 \"))\n",
    "    if a==n:\n",
    "        print(\"got you\")\n",
    "    elif a>n:\n",
    "        print(\"Go low\")\n",
    "    elif a<n:\n",
    "        print(\"Go High\")"
   ]
  },
  {
   "cell_type": "code",
   "execution_count": 38,
   "metadata": {
    "colab": {
     "base_uri": "https://localhost:8080/",
     "height": 185
    },
    "colab_type": "code",
    "executionInfo": {
     "elapsed": 32716,
     "status": "ok",
     "timestamp": 1598094139287,
     "user": {
      "displayName": "Kṛṣṇa solutions",
      "photoUrl": "",
      "userId": "14911029245911425813"
     },
     "user_tz": -330
    },
    "id": "whf0NQUgAndt",
    "outputId": "205364a0-1ac0-4532-a860-dec94437e9cc"
   },
   "outputs": [
    {
     "name": "stdout",
     "output_type": "stream",
     "text": [
      "3\n",
      "Enter any number between 1 to 10   5\n",
      "Go low\n",
      "Enter any number between 1 to 10   4\n",
      "Go low\n",
      "Enter any number between 1 to 10   2\n",
      "Go high\n",
      "Enter any number between 1 to 10   3\n",
      "Got you!!\n",
      "The number was 3\n"
     ]
    }
   ],
   "source": [
    "from random import randint\n",
    "n = randint(1, 10)\n",
    "print(n)\n",
    "\n",
    "while True:\n",
    "    \n",
    "    a = int(input(\"Enter any number between 1 to 10   \"))\n",
    "    if a == n:\n",
    "        print(\"Got you!!\")\n",
    "        print(\"The number was %d\"%n)\n",
    "        break\n",
    "    elif a>n:\n",
    "        print(\"Go low\")\n",
    "    else:\n",
    "        print(\"Go high\")"
   ]
  },
  {
   "cell_type": "markdown",
   "metadata": {
    "colab_type": "text",
    "id": "TR5QgDNQAndy"
   },
   "source": [
    "<font color=orange>### IMPORTANT NOTE </font>\n",
    "<br> We have used break to break the while loop otherwise the loop will keep running infinitely. \n",
    "<br> Programmers have been known to hang machines by inadvertently leaving the while loop in an infinite condition.  "
   ]
  },
  {
   "cell_type": "markdown",
   "metadata": {
    "colab_type": "text",
    "id": "3hVuLBxrAndz"
   },
   "source": [
    "## Continue statement"
   ]
  },
  {
   "cell_type": "markdown",
   "metadata": {
    "colab_type": "text",
    "id": "-8uGVfKlAnd0"
   },
   "source": [
    "2. Iterate from 1 to 10 and print \"hi\" and the number if the number is even else don't print anything."
   ]
  },
  {
   "cell_type": "code",
   "execution_count": null,
   "metadata": {
    "colab": {
     "base_uri": "https://localhost:8080/",
     "height": 101
    },
    "colab_type": "code",
    "executionInfo": {
     "elapsed": 1343,
     "status": "ok",
     "timestamp": 1598094320010,
     "user": {
      "displayName": "Kṛṣṇa solutions",
      "photoUrl": "",
      "userId": "14911029245911425813"
     },
     "user_tz": -330
    },
    "id": "G0RZOXjoAnd1",
    "outputId": "673a4ef6-ade9-4ff2-f72f-a49e096427c3"
   },
   "outputs": [],
   "source": [
    "\n",
    "for i in range(1,11):\n",
    "\n",
    "    if i % 2 != 0:\n",
    "      continue\n",
    "\n",
    "        \n",
    "    print(\"I am an even number\",i)"
   ]
  },
  {
   "cell_type": "markdown",
   "metadata": {
    "colab_type": "text",
    "id": "rdDcvnWQAnd4"
   },
   "source": [
    "Here when the number is odd the if condition becomes true and continue is executed and thus following statements are skipped.\n"
   ]
  },
  {
   "cell_type": "markdown",
   "metadata": {
    "colab_type": "text",
    "id": "p_tfeoxXAnd5"
   },
   "source": [
    "<font color=red>### INSTRUCTION TO DO</font>\n",
    "\n",
    "Run any loop from from 1 to 10 but don't print 5. And break the loop on 8.\n",
    "<br> This problem doesn't seem practical but later you will use it in real life situation.\n",
    "<br> Add new cells if required and practice\n"
   ]
  },
  {
   "cell_type": "code",
   "execution_count": null,
   "metadata": {
    "colab": {},
    "colab_type": "code",
    "id": "PLJ8jK3xAnd6"
   },
   "outputs": [],
   "source": []
  },
  {
   "cell_type": "markdown",
   "metadata": {
    "colab_type": "text",
    "id": "QBsW5neKAnd_"
   },
   "source": [
    "# Summary\n",
    "\n",
    "You learnt about :\n",
    "\n",
    "1. if and else statement\n",
    "2. for loop\n",
    "3. The range() function\n",
    "4. break and continue statements\n",
    "\n",
    "Now that you have learnt about conditionals and control flow.\n",
    "<br>Lets get to hands on practice by solving the assignment.\n",
    "\n",
    "**All the best!!**"
   ]
  }
 ],
 "metadata": {
  "colab": {
   "collapsed_sections": [
    "RDxvjSL9AnbF",
    "vHLY9ukLAnbK",
    "fUAUdXEZAnbO",
    "ymAw0SUiAnb6",
    "P0MWwsMIAncc",
    "8ILVaN_WAnc0",
    "3g-nbhzMAnc8",
    "RMwnRsEQAndC",
    "BergKBKkAndP",
    "dEirb_5_Andl",
    "3hVuLBxrAndz"
   ],
   "name": "Chapter 4 - Conditionals and Control Flow Content.ipynb",
   "provenance": []
  },
  "kernelspec": {
   "display_name": "Python 3",
   "language": "python",
   "name": "python3"
  },
  "language_info": {
   "codemirror_mode": {
    "name": "ipython",
    "version": 3
   },
   "file_extension": ".py",
   "mimetype": "text/x-python",
   "name": "python",
   "nbconvert_exporter": "python",
   "pygments_lexer": "ipython3",
   "version": "3.8.3"
  }
 },
 "nbformat": 4,
 "nbformat_minor": 1
}
