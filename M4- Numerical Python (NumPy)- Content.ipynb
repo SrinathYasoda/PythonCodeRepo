{
 "cells": [
  {
   "cell_type": "markdown",
   "metadata": {
    "colab_type": "text",
    "collapsed": true,
    "id": "x209HwrlEA9f"
   },
   "source": [
    "## Numpy\n",
    "\n",
    "NumPy or Numerical Python, is the fundamental package required for high performance scientific computing and data analysis.\n",
    "\n",
    "    A powerful N-dimensional array object\n"
   ]
  },
  {
   "cell_type": "markdown",
   "metadata": {
    "colab_type": "text",
    "id": "SD6LbgtdEA9j"
   },
   "source": [
    "### Why Numpy\n",
    "\n",
    "    Memory Efficient\n",
    "    Vectorized operations\n",
    "\n",
    "https://www.scipy.org/scipylib/faq.html#what-advantages-do-numpy-arrays-offer-over-nested-python-lists"
   ]
  },
  {
   "cell_type": "code",
   "execution_count": 1,
   "metadata": {
    "colab": {
     "base_uri": "https://localhost:8080/",
     "height": 34
    },
    "colab_type": "code",
    "executionInfo": {
     "elapsed": 6246,
     "status": "ok",
     "timestamp": 1598153449798,
     "user": {
      "displayName": "Kṛṣṇa solutions",
      "photoUrl": "",
      "userId": "14911029245911425813"
     },
     "user_tz": -330
    },
    "id": "hDSY1AwLVnTF",
    "outputId": "63fcc8bb-b5fc-489e-d6e3-03ecee7c5094"
   },
   "outputs": [
    {
     "name": "stderr",
     "output_type": "stream",
     "text": [
      "ERROR: Could not find a version that satisfies the requirement library_name (from versions: none)\n",
      "ERROR: No matching distribution found for library_name\n"
     ]
    }
   ],
   "source": [
    "#list, set, tuple, dictionary, if-loop, for loop, while loop, break and continue, variables, containers, operators, string, numbers\n",
    "\n",
    "#libraries that help us to do the tasks\n",
    "\n",
    "#installing library\n",
    "!pip install library_name\n"
   ]
  },
  {
   "cell_type": "code",
   "execution_count": 2,
   "metadata": {
    "colab": {},
    "colab_type": "code",
    "id": "1GOMqjPQXm_j"
   },
   "outputs": [
    {
     "ename": "NameError",
     "evalue": "name 'i' is not defined",
     "output_type": "error",
     "traceback": [
      "\u001b[1;31m---------------------------------------------------------------------------\u001b[0m",
      "\u001b[1;31mNameError\u001b[0m                                 Traceback (most recent call last)",
      "\u001b[1;32m<ipython-input-2-7d2766dcbe82>\u001b[0m in \u001b[0;36m<module>\u001b[1;34m\u001b[0m\n\u001b[1;32m----> 1\u001b[1;33m \u001b[0mi\u001b[0m\u001b[1;33m\u001b[0m\u001b[1;33m\u001b[0m\u001b[0m\n\u001b[0m\u001b[0;32m      2\u001b[0m \u001b[1;33m\u001b[0m\u001b[0m\n",
      "\u001b[1;31mNameError\u001b[0m: name 'i' is not defined"
     ]
    }
   ],
   "source": [
    "i\n",
    "\n"
   ]
  },
  {
   "cell_type": "code",
   "execution_count": 13,
   "metadata": {
    "colab": {
     "base_uri": "https://localhost:8080/",
     "height": 1000
    },
    "colab_type": "code",
    "executionInfo": {
     "elapsed": 1145,
     "status": "ok",
     "timestamp": 1598154230610,
     "user": {
      "displayName": "Kṛṣṇa solutions",
      "photoUrl": "",
      "userId": "14911029245911425813"
     },
     "user_tz": -330
    },
    "id": "i2VRyXFzYvsH",
    "outputId": "1f9c0f3c-f657-4831-df8c-1ff2c0095ae9"
   },
   "outputs": [
    {
     "data": {
      "text/plain": [
       "[19, 44, 96, 65, 11, 56, 86, 50, 14, 10]"
      ]
     },
     "execution_count": 13,
     "metadata": {},
     "output_type": "execute_result"
    }
   ],
   "source": [
    "# import numpy as np\n",
    "# import random\n",
    "# np_array = np.random.random(1000)\n",
    "\n",
    "# normal disturbution [-20, +20] 99.6% [-6 to +6]\n",
    "# np_array\n",
    "\n",
    "# python_list = random.sample(range(1000), 1000)\n",
    "# python_list\n",
    "\n",
    "import numpy as np\n",
    "import random\n",
    "\n",
    "np_array=np.random.random(100)\n",
    "python_list=random.sample(range(100),10)\n",
    "python_list"
   ]
  },
  {
   "cell_type": "code",
   "execution_count": null,
   "metadata": {
    "colab": {},
    "colab_type": "code",
    "id": "0QESttdVYxmD",
    "outputId": "497d92f5-ea50-403c-9f96-e4bc9275f4ac",
    "scrolled": true
   },
   "outputs": [
    {
     "name": "stdout",
     "output_type": "stream",
     "text": [
      "Time python 0.16143963098875247\n",
      "Time numpy 0.006095745018683374\n",
      "Speed Comparision 26.48398686197376\n"
     ]
    }
   ],
   "source": [
    "import timeit\n",
    "import numpy as np #[Alias form]\n",
    "import random\n",
    "\n",
    "\n",
    "\n",
    "np_array = np.random.random(1000)\n",
    "python_list = random.sample(range(1000), 1000)\n",
    "\n",
    "\n",
    "def python_code():\n",
    "    return [val-32 for val in python_list]\n",
    "\n",
    "\n",
    "def numpy_code():\n",
    "    return np_array-32\n",
    "\n",
    "n = 1000\n",
    "\n",
    "t_python = timeit.timeit(python_code, number=n)\n",
    "t_numpy = timeit.timeit(numpy_code, number=n)\n",
    "\n",
    "print('Time python', t_python)\n",
    "print('Time numpy', t_numpy)\n",
    "print('Speed Comparision', t_python/t_numpy)"
   ]
  },
  {
   "cell_type": "code",
   "execution_count": null,
   "metadata": {},
   "outputs": [],
   "source": []
  },
  {
   "cell_type": "code",
   "execution_count": null,
   "metadata": {
    "colab": {},
    "colab_type": "code",
    "id": "cmcndRTwEA9p",
    "outputId": "497d92f5-ea50-403c-9f96-e4bc9275f4ac"
   },
   "outputs": [
    {
     "name": "stdout",
     "output_type": "stream",
     "text": [
      "Time python 0.16143963098875247\n",
      "Time numpy 0.006095745018683374\n",
      "Speed Comparision 26.48398686197376\n"
     ]
    }
   ],
   "source": [
    "import timeit\n",
    "import numpy as np #[Alias form]\n",
    "import random\n",
    "\n",
    "\n",
    "\n",
    "np_array = np.random.random(1000)\n",
    "python_list = random.sample(range(1000), 1000)\n",
    "\n",
    "\n",
    "def python_code_test():\n",
    "    return [val-32 for val in python_list]\n",
    "\n",
    "\n",
    "def numpy_code():\n",
    "    return np_array-32\n",
    "\n",
    "n = 1000\n",
    "\n",
    "t_python = timeit.timeit(python_code, number=n)\n",
    "t_numpy = timeit.timeit(numpy_code, number=n)\n",
    "\n",
    "print('Time python', t_python)\n",
    "print('Time numpy', t_numpy)\n",
    "print('Speed Comparision', t_python/t_numpy)"
   ]
  },
  {
   "cell_type": "code",
   "execution_count": 20,
   "metadata": {},
   "outputs": [
    {
     "name": "stdout",
     "output_type": "stream",
     "text": [
      "Time numpy 0.0022759000000860397\n",
      "Time python 0.14225229999988187\n",
      "Speed Comparision 62.503756753154384\n"
     ]
    }
   ],
   "source": [
    "import timeit\n",
    "import numpy as np\n",
    "import random\n",
    "\n",
    "np_array=np.random.random(1000)\n",
    "python_list=random.sample(range(1000),1000)\n",
    "\n",
    "def python_code():\n",
    "    return [val-32 for val in python_list]\n",
    "\n",
    "def numpy_code():\n",
    "    return np_array-32\n",
    "n=1000\n",
    "t_python=timeit.timeit(python_code,number=n)\n",
    "t_array=timeit.timeit(numpy_code,number=n)\n",
    "\n",
    "print('Time numpy',t_array)\n",
    "print('Time python',t_python)\n",
    "\n",
    "print('Speed Comparision',t_python/t_array)"
   ]
  },
  {
   "cell_type": "markdown",
   "metadata": {
    "colab_type": "text",
    "id": "05aS8mkuEA-E"
   },
   "source": [
    "\n",
    "### ARRAY:  Array is a group of elements, of same data type, indexed by tuple of non-negative integers.\n",
    "\n",
    "Array: An array is a contiguous block of memory consisting of elements of some type (e.g. integers).\n",
    "You cannot change the size of an array once it is created.\n",
    "It therefore follows that each integer element in an array has a fixed size, e.g. 4 bytes.\n",
    "\n",
    "List: Python list is an array of pointers to Python objects (an \"array\" of addresses), at least 4 bytes per pointer plus 16 bytes for even the smallest Python object\n"
   ]
  },
  {
   "cell_type": "markdown",
   "metadata": {
    "colab_type": "text",
    "id": "S1ilFbxXEA-G"
   },
   "source": [
    "#### Create a rank 1 array (1 dimension)"
   ]
  },
  {
   "cell_type": "code",
   "execution_count": null,
   "metadata": {
    "colab": {
     "base_uri": "https://localhost:8080/",
     "height": 34
    },
    "colab_type": "code",
    "executionInfo": {
     "elapsed": 1308,
     "status": "ok",
     "timestamp": 1598156212740,
     "user": {
      "displayName": "Kṛṣṇa solutions",
      "photoUrl": "",
      "userId": "14911029245911425813"
     },
     "user_tz": -330
    },
    "id": "mIJJ-vNjEA-I",
    "outputId": "69f90bb1-8b95-471a-b816-d208613ad6c0"
   },
   "outputs": [
    {
     "data": {
      "text/plain": [
       "array([1. , 2. , 3. , 4. , 5. , 6. , 7. , 8. , 8.9, 9. ])"
      ]
     },
     "execution_count": 16,
     "metadata": {
      "tags": []
     },
     "output_type": "execute_result"
    }
   ],
   "source": [
    "import numpy as np\n",
    "arr = np.array([1,2,3,4,5,6,7,8,8.9,9]) \n",
    "arr"
   ]
  },
  {
   "cell_type": "markdown",
   "metadata": {
    "colab_type": "text",
    "id": "7MvdsnAdEA-R"
   },
   "source": [
    "#### Check the datatype"
   ]
  },
  {
   "cell_type": "code",
   "execution_count": null,
   "metadata": {
    "colab": {
     "base_uri": "https://localhost:8080/",
     "height": 67
    },
    "colab_type": "code",
    "executionInfo": {
     "elapsed": 1354,
     "status": "ok",
     "timestamp": 1598156268592,
     "user": {
      "displayName": "Kṛṣṇa solutions",
      "photoUrl": "",
      "userId": "14911029245911425813"
     },
     "user_tz": -330
    },
    "id": "hZstGIl8EA-T",
    "outputId": "5dd44218-f8f3-47c1-de60-d909f7962d6d"
   },
   "outputs": [
    {
     "name": "stdout",
     "output_type": "stream",
     "text": [
      "float64\n",
      "1\n",
      "(10,)\n"
     ]
    }
   ],
   "source": [
    "print(arr.dtype)\n",
    "print(arr.ndim)\n",
    "print(arr.shape)"
   ]
  },
  {
   "cell_type": "markdown",
   "metadata": {
    "colab_type": "text",
    "id": "rNdt7fwCEA-e"
   },
   "source": [
    "### Rank 2 array"
   ]
  },
  {
   "cell_type": "code",
   "execution_count": 23,
   "metadata": {
    "colab": {},
    "colab_type": "code",
    "id": "DM2TOFgUEA-f",
    "outputId": "f8fd8d9c-43d0-4286-d854-7220dbe1190d"
   },
   "outputs": [
    {
     "data": {
      "text/plain": [
       "array([[ 1,  2,  3],\n",
       "       [ 4,  5,  6],\n",
       "       [ 7,  8,  9],\n",
       "       [10, 11, 12]])"
      ]
     },
     "execution_count": 23,
     "metadata": {},
     "output_type": "execute_result"
    }
   ],
   "source": [
    "arr = np.array([[1,2,3], [4,5,6], [7,8,9], [10,11,12]])\n",
    "arr"
   ]
  },
  {
   "cell_type": "code",
   "execution_count": 24,
   "metadata": {
    "colab": {},
    "colab_type": "code",
    "id": "mEruCTVREA-q",
    "outputId": "451b97db-8bab-41e4-c950-eb6faddb950f"
   },
   "outputs": [
    {
     "name": "stdout",
     "output_type": "stream",
     "text": [
      "2\n",
      "(4, 3)\n"
     ]
    }
   ],
   "source": [
    "arr.ndim\n",
    "print(arr.ndim)\n",
    "print(arr.shape)"
   ]
  },
  {
   "cell_type": "markdown",
   "metadata": {
    "colab_type": "text",
    "id": "xnfnJQX_EA-z"
   },
   "source": [
    "### Different functions to create array"
   ]
  },
  {
   "cell_type": "code",
   "execution_count": null,
   "metadata": {
    "colab": {
     "base_uri": "https://localhost:8080/",
     "height": 34
    },
    "colab_type": "code",
    "executionInfo": {
     "elapsed": 1120,
     "status": "ok",
     "timestamp": 1598156617434,
     "user": {
      "displayName": "Kṛṣṇa solutions",
      "photoUrl": "",
      "userId": "14911029245911425813"
     },
     "user_tz": -330
    },
    "id": "zWhjGZpMEA-1",
    "outputId": "8f8fc888-ab97-4d27-b2b6-ae32237d28c8"
   },
   "outputs": [
    {
     "data": {
      "text/plain": [
       "array([900, 910, 920, 930, 940, 950, 960, 970, 980, 990])"
      ]
     },
     "execution_count": 21,
     "metadata": {
      "tags": []
     },
     "output_type": "execute_result"
    }
   ],
   "source": [
    "np.arange(900,1000,10) #Array of range of numbers from 0 to 9"
   ]
  },
  {
   "cell_type": "code",
   "execution_count": 145,
   "metadata": {
    "colab": {
     "base_uri": "https://localhost:8080/",
     "height": 34
    },
    "colab_type": "code",
    "executionInfo": {
     "elapsed": 3409,
     "status": "ok",
     "timestamp": 1598156686595,
     "user": {
      "displayName": "Kṛṣṇa solutions",
      "photoUrl": "",
      "userId": "14911029245911425813"
     },
     "user_tz": -330
    },
    "id": "dwmb-OLjEA_E",
    "outputId": "f3f8d519-f992-4ae4-812a-9b0d22862aa7"
   },
   "outputs": [
    {
     "data": {
      "text/plain": [
       "array([[0., 0., 0., 0., 0., 0., 0., 0., 0., 0.]])"
      ]
     },
     "execution_count": 145,
     "metadata": {},
     "output_type": "execute_result"
    }
   ],
   "source": [
    "a=np.zeros((1,10)) #Array of all zeros\n",
    "a"
   ]
  },
  {
   "cell_type": "code",
   "execution_count": null,
   "metadata": {
    "colab": {},
    "colab_type": "code",
    "id": "uq8c3TCeEA_N",
    "outputId": "99be2ef4-a117-418d-e902-7ff396b2d0e3"
   },
   "outputs": [
    {
     "data": {
      "text/plain": [
       "array([[ 1.,  1.,  1.],\n",
       "       [ 1.,  1.,  1.],\n",
       "       [ 1.,  1.,  1.],\n",
       "       [ 1.,  1.,  1.],\n",
       "       [ 1.,  1.,  1.]])"
      ]
     },
     "execution_count": 23,
     "metadata": {
      "tags": []
     },
     "output_type": "execute_result"
    }
   ],
   "source": [
    "np.ones((5,3)) #Array of all ones"
   ]
  },
  {
   "cell_type": "code",
   "execution_count": null,
   "metadata": {
    "colab": {},
    "colab_type": "code",
    "id": "8oIgSNJ3EA_U",
    "outputId": "50b871d5-b24e-41de-81aa-d4621b6983d9"
   },
   "outputs": [
    {
     "data": {
      "text/plain": [
       "array([[ 0.8368918 ,  0.4613682 ,  0.82872401],\n",
       "       [ 0.77424341,  0.15899729,  0.07205358],\n",
       "       [ 0.30614151,  0.93399446,  0.80473179],\n",
       "       [ 0.00638184,  0.24916616,  0.79239137],\n",
       "       [ 0.1076441 ,  0.57137641,  0.26882581]])"
      ]
     },
     "execution_count": 241,
     "metadata": {
      "tags": []
     },
     "output_type": "execute_result"
    }
   ],
   "source": [
    "np.random.random((5,3)) #Array of random numbers"
   ]
  },
  {
   "cell_type": "code",
   "execution_count": null,
   "metadata": {
    "colab": {
     "base_uri": "https://localhost:8080/",
     "height": 269
    },
    "colab_type": "code",
    "executionInfo": {
     "elapsed": 1110,
     "status": "ok",
     "timestamp": 1598157294125,
     "user": {
      "displayName": "Kṛṣṇa solutions",
      "photoUrl": "",
      "userId": "14911029245911425813"
     },
     "user_tz": -330
    },
    "id": "6NCbEKrLEA_e",
    "outputId": "3347af53-10a1-4b0f-d2b5-c7b5b91b1894"
   },
   "outputs": [
    {
     "name": "stdout",
     "output_type": "stream",
     "text": [
      "[ 0.          1.25316456  2.50632911  3.75949367  5.01265823  6.26582278\n",
      "  7.51898734  8.7721519  10.02531646 11.27848101 12.53164557 13.78481013\n",
      " 15.03797468 16.29113924 17.5443038  18.79746835 20.05063291 21.30379747\n",
      " 22.55696203 23.81012658 25.06329114 26.3164557  27.56962025 28.82278481\n",
      " 30.07594937 31.32911392 32.58227848 33.83544304 35.08860759 36.34177215\n",
      " 37.59493671 38.84810127 40.10126582 41.35443038 42.60759494 43.86075949\n",
      " 45.11392405 46.36708861 47.62025316 48.87341772 50.12658228 51.37974684\n",
      " 52.63291139 53.88607595 55.13924051 56.39240506 57.64556962 58.89873418\n",
      " 60.15189873 61.40506329 62.65822785 63.91139241 65.16455696 66.41772152\n",
      " 67.67088608 68.92405063 70.17721519 71.43037975 72.6835443  73.93670886\n",
      " 75.18987342 76.44303797 77.69620253 78.94936709 80.20253165 81.4556962\n",
      " 82.70886076 83.96202532 85.21518987 86.46835443 87.72151899 88.97468354\n",
      " 90.2278481  91.48101266 92.73417722 93.98734177 95.24050633 96.49367089\n",
      " 97.74683544 99.        ]\n",
      "[ 0 10 20 30 40 50 60 70 80 90]\n"
     ]
    }
   ],
   "source": [
    "#an array of equally spaced values between start, end\n",
    "print(np.linspace(0,99,80))\n",
    "print(np.arange(0,100,10)) "
   ]
  },
  {
   "cell_type": "code",
   "execution_count": null,
   "metadata": {
    "colab": {},
    "colab_type": "code",
    "id": "0tIgzibRlP2O"
   },
   "outputs": [],
   "source": [
    "given numbrs between  0 to 100, print output 0,10,20,30,40,50,60,70,80,90\n",
    "make 80 numbers with equal spacing between the range of 0 to 100, \n",
    "\n",
    "0, 0.8, 1.6, 2.4, 3,2, 4.0\n"
   ]
  },
  {
   "cell_type": "code",
   "execution_count": null,
   "metadata": {
    "colab": {
     "base_uri": "https://localhost:8080/",
     "height": 67
    },
    "colab_type": "code",
    "executionInfo": {
     "elapsed": 1249,
     "status": "ok",
     "timestamp": 1598157382174,
     "user": {
      "displayName": "Kṛṣṇa solutions",
      "photoUrl": "",
      "userId": "14911029245911425813"
     },
     "user_tz": -330
    },
    "id": "BlhJZrn5mBCR",
    "outputId": "64b80a25-a991-499d-b3ea-f173d709866e"
   },
   "outputs": [
    {
     "data": {
      "text/plain": [
       "array([[1., 0., 0.],\n",
       "       [0., 1., 0.],\n",
       "       [0., 0., 1.]])"
      ]
     },
     "execution_count": 31,
     "metadata": {
      "tags": []
     },
     "output_type": "execute_result"
    }
   ],
   "source": [
    "np.identity(3)"
   ]
  },
  {
   "cell_type": "markdown",
   "metadata": {
    "colab_type": "text",
    "id": "tzGLtnovEA_l"
   },
   "source": [
    "### Data types\n",
    "https://docs.scipy.org/doc/numpy/user/basics.types.html\n",
    "\n",
    "    Integer: int (i),\n",
    "    Unsigned integer: uint (u),\n",
    "    Single precision float: float (f),\n",
    "    Double precision float: double (d),\n",
    "    Boolean: bool (b),\n",
    "    Complex: D,\n",
    "    String: S,\n",
    "    Unicode: U"
   ]
  },
  {
   "cell_type": "code",
   "execution_count": null,
   "metadata": {
    "colab": {},
    "colab_type": "code",
    "id": "Gd4_sApuEA_m",
    "outputId": "91a61fca-34e6-47b7-e2d0-468f00ae2099"
   },
   "outputs": [
    {
     "data": {
      "text/plain": [
       "{'complex': [numpy.complex64, numpy.complex128, numpy.complex256],\n",
       " 'float': [numpy.float16, numpy.float32, numpy.float64, numpy.float128],\n",
       " 'int': [numpy.int8, numpy.int16, numpy.int32, numpy.int64],\n",
       " 'others': [bool, object, bytes, str, numpy.void],\n",
       " 'uint': [numpy.uint8, numpy.uint16, numpy.uint32, numpy.uint64]}"
      ]
     },
     "execution_count": 62,
     "metadata": {
      "tags": []
     },
     "output_type": "execute_result"
    }
   ],
   "source": [
    "np.sctypes"
   ]
  },
  {
   "cell_type": "code",
   "execution_count": 32,
   "metadata": {
    "colab": {},
    "colab_type": "code",
    "id": "TfLKwW2yEA_u",
    "outputId": "83096e0d-b572-4530-c1dc-4ced3860f1bd"
   },
   "outputs": [
    {
     "data": {
      "text/plain": [
       "array([[-1,  2,  3,  4],\n",
       "       [ 5, -6,  7,  8]])"
      ]
     },
     "execution_count": 32,
     "metadata": {},
     "output_type": "execute_result"
    }
   ],
   "source": [
    "int_arr = np.array([[-1,2,3,4], [5,-6,7,8]])\n",
    "int_arr\n",
    "#arr.dtype"
   ]
  },
  {
   "cell_type": "code",
   "execution_count": 33,
   "metadata": {
    "colab": {
     "base_uri": "https://localhost:8080/",
     "height": 50
    },
    "colab_type": "code",
    "executionInfo": {
     "elapsed": 1260,
     "status": "ok",
     "timestamp": 1598157504959,
     "user": {
      "displayName": "Kṛṣṇa solutions",
      "photoUrl": "",
      "userId": "14911029245911425813"
     },
     "user_tz": -330
    },
    "id": "JQpGnJQTEA_1",
    "outputId": "f1878bd8-fb57-4d07-dace-bba48deccf42"
   },
   "outputs": [
    {
     "data": {
      "text/plain": [
       "array([[1, 2, 3, 4],\n",
       "       [5, 6, 7, 8]], dtype=uint32)"
      ]
     },
     "execution_count": 33,
     "metadata": {},
     "output_type": "execute_result"
    }
   ],
   "source": [
    "u_int_arr = np.array([[1,2,3,4], [5,6,7,8]], dtype = 'uint')\n",
    "u_int_arr"
   ]
  },
  {
   "cell_type": "code",
   "execution_count": 34,
   "metadata": {
    "colab": {},
    "colab_type": "code",
    "id": "GRUUrX9XEA_-",
    "outputId": "b154ce70-d23f-4e9f-a28c-baa975dd8105"
   },
   "outputs": [
    {
     "data": {
      "text/plain": [
       "array([ True,  True, False])"
      ]
     },
     "execution_count": 34,
     "metadata": {},
     "output_type": "execute_result"
    }
   ],
   "source": [
    "bool_arr = np.array([True, True, False])\n",
    "bool_arr"
   ]
  },
  {
   "cell_type": "markdown",
   "metadata": {
    "colab_type": "text",
    "id": "3cpB2iFfEBAG"
   },
   "source": [
    "#### Explicitly convert or cast an array from one dtype to another"
   ]
  },
  {
   "cell_type": "code",
   "execution_count": 35,
   "metadata": {
    "colab": {},
    "colab_type": "code",
    "id": "-x49hclNEBAH",
    "outputId": "6047ca2e-75e4-4470-e11a-01d70d5ced01"
   },
   "outputs": [
    {
     "data": {
      "text/plain": [
       "dtype('float64')"
      ]
     },
     "execution_count": 35,
     "metadata": {},
     "output_type": "execute_result"
    }
   ],
   "source": [
    "int_arr = int_arr.astype(np.float64)\n",
    "int_arr.dtype"
   ]
  },
  {
   "cell_type": "markdown",
   "metadata": {
    "colab_type": "text",
    "id": "8vrDgkn8EBAP"
   },
   "source": [
    "#### String vs Object:\n",
    "The length of the string is not fixed. So instead of saving the bytes of strings in the ndarray directly, Pandas uses object ndarray, which save pointers to objects.\n",
    "\n",
    "Helps in case you need to modify the content of a large array without prior knowledge about the maximum length of the strings"
   ]
  },
  {
   "cell_type": "code",
   "execution_count": 36,
   "metadata": {
    "colab": {},
    "colab_type": "code",
    "id": "7Mv0lAmMEBAT",
    "outputId": "9bea20e9-f28e-4300-9406-2d55e8d8677f"
   },
   "outputs": [
    {
     "data": {
      "text/plain": [
       "array(['apples', 'banananas', 'mangoes'], dtype='<U9')"
      ]
     },
     "execution_count": 36,
     "metadata": {},
     "output_type": "execute_result"
    }
   ],
   "source": [
    "a = np.array(['apples', 'banananas', 'mangoes'], dtype = 'str')\n",
    "a #\"seven-character string\""
   ]
  },
  {
   "cell_type": "code",
   "execution_count": 38,
   "metadata": {
    "colab": {},
    "colab_type": "code",
    "id": "eOQXuYu0EBAe",
    "outputId": "277019ad-d69f-4722-d375-d189c5bc0312"
   },
   "outputs": [
    {
     "data": {
      "text/plain": [
       "array(['apples', 'banananan', 'mangoes'], dtype='<U9')"
      ]
     },
     "execution_count": 38,
     "metadata": {},
     "output_type": "execute_result"
    }
   ],
   "source": [
    "a[1] = 'bananananas'\n",
    "a"
   ]
  },
  {
   "cell_type": "code",
   "execution_count": 39,
   "metadata": {
    "colab": {},
    "colab_type": "code",
    "id": "To74dYuuEBAl",
    "outputId": "5dea9aa1-7c48-40d4-aabd-98fa939e6739"
   },
   "outputs": [
    {
     "data": {
      "text/plain": [
       "array(['apples', 'bananas', 'bananananas'], dtype=object)"
      ]
     },
     "execution_count": 39,
     "metadata": {},
     "output_type": "execute_result"
    }
   ],
   "source": [
    "a = np.array(['apples', 'bananas', 'mangoes'], dtype = object)\n",
    "a[2] = 'bananananas'\n",
    "a"
   ]
  },
  {
   "cell_type": "code",
   "execution_count": 59,
   "metadata": {
    "colab": {},
    "colab_type": "code",
    "id": "HjKnZB9uEBAt",
    "outputId": "f1936c1e-3b25-4a9d-c062-e4d2665ed62f"
   },
   "outputs": [
    {
     "ename": "FileNotFoundError",
     "evalue": "[Errno 2] File /ipl/deliveries.csv does not exist: '/ipl/deliveries.csv'",
     "output_type": "error",
     "traceback": [
      "\u001b[1;31m---------------------------------------------------------------------------\u001b[0m",
      "\u001b[1;31mFileNotFoundError\u001b[0m                         Traceback (most recent call last)",
      "\u001b[1;32m<ipython-input-59-62959671d5be>\u001b[0m in \u001b[0;36m<module>\u001b[1;34m\u001b[0m\n\u001b[0;32m      1\u001b[0m \u001b[1;32mimport\u001b[0m \u001b[0mpandas\u001b[0m \u001b[1;32mas\u001b[0m \u001b[0mpd\u001b[0m\u001b[1;33m\u001b[0m\u001b[1;33m\u001b[0m\u001b[0m\n\u001b[1;32m----> 2\u001b[1;33m \u001b[0mdeliveries\u001b[0m\u001b[1;33m=\u001b[0m\u001b[0mpd\u001b[0m\u001b[1;33m.\u001b[0m\u001b[0mread_csv\u001b[0m\u001b[1;33m(\u001b[0m\u001b[1;34m'/ipl/deliveries.csv'\u001b[0m\u001b[1;33m)\u001b[0m\u001b[1;33m\u001b[0m\u001b[1;33m\u001b[0m\u001b[0m\n\u001b[0m\u001b[0;32m      3\u001b[0m \u001b[1;31m#deliveries.dtypes\u001b[0m\u001b[1;33m\u001b[0m\u001b[1;33m\u001b[0m\u001b[1;33m\u001b[0m\u001b[0m\n\u001b[0;32m      4\u001b[0m \u001b[0mdeliveries\u001b[0m\u001b[1;33m.\u001b[0m\u001b[0mhead\u001b[0m\u001b[1;33m(\u001b[0m\u001b[1;33m)\u001b[0m\u001b[1;33m\u001b[0m\u001b[1;33m\u001b[0m\u001b[0m\n",
      "\u001b[1;32m~\\anaconda3\\lib\\site-packages\\pandas\\io\\parsers.py\u001b[0m in \u001b[0;36mparser_f\u001b[1;34m(filepath_or_buffer, sep, delimiter, header, names, index_col, usecols, squeeze, prefix, mangle_dupe_cols, dtype, engine, converters, true_values, false_values, skipinitialspace, skiprows, skipfooter, nrows, na_values, keep_default_na, na_filter, verbose, skip_blank_lines, parse_dates, infer_datetime_format, keep_date_col, date_parser, dayfirst, cache_dates, iterator, chunksize, compression, thousands, decimal, lineterminator, quotechar, quoting, doublequote, escapechar, comment, encoding, dialect, error_bad_lines, warn_bad_lines, delim_whitespace, low_memory, memory_map, float_precision)\u001b[0m\n\u001b[0;32m    674\u001b[0m         )\n\u001b[0;32m    675\u001b[0m \u001b[1;33m\u001b[0m\u001b[0m\n\u001b[1;32m--> 676\u001b[1;33m         \u001b[1;32mreturn\u001b[0m \u001b[0m_read\u001b[0m\u001b[1;33m(\u001b[0m\u001b[0mfilepath_or_buffer\u001b[0m\u001b[1;33m,\u001b[0m \u001b[0mkwds\u001b[0m\u001b[1;33m)\u001b[0m\u001b[1;33m\u001b[0m\u001b[1;33m\u001b[0m\u001b[0m\n\u001b[0m\u001b[0;32m    677\u001b[0m \u001b[1;33m\u001b[0m\u001b[0m\n\u001b[0;32m    678\u001b[0m     \u001b[0mparser_f\u001b[0m\u001b[1;33m.\u001b[0m\u001b[0m__name__\u001b[0m \u001b[1;33m=\u001b[0m \u001b[0mname\u001b[0m\u001b[1;33m\u001b[0m\u001b[1;33m\u001b[0m\u001b[0m\n",
      "\u001b[1;32m~\\anaconda3\\lib\\site-packages\\pandas\\io\\parsers.py\u001b[0m in \u001b[0;36m_read\u001b[1;34m(filepath_or_buffer, kwds)\u001b[0m\n\u001b[0;32m    446\u001b[0m \u001b[1;33m\u001b[0m\u001b[0m\n\u001b[0;32m    447\u001b[0m     \u001b[1;31m# Create the parser.\u001b[0m\u001b[1;33m\u001b[0m\u001b[1;33m\u001b[0m\u001b[1;33m\u001b[0m\u001b[0m\n\u001b[1;32m--> 448\u001b[1;33m     \u001b[0mparser\u001b[0m \u001b[1;33m=\u001b[0m \u001b[0mTextFileReader\u001b[0m\u001b[1;33m(\u001b[0m\u001b[0mfp_or_buf\u001b[0m\u001b[1;33m,\u001b[0m \u001b[1;33m**\u001b[0m\u001b[0mkwds\u001b[0m\u001b[1;33m)\u001b[0m\u001b[1;33m\u001b[0m\u001b[1;33m\u001b[0m\u001b[0m\n\u001b[0m\u001b[0;32m    449\u001b[0m \u001b[1;33m\u001b[0m\u001b[0m\n\u001b[0;32m    450\u001b[0m     \u001b[1;32mif\u001b[0m \u001b[0mchunksize\u001b[0m \u001b[1;32mor\u001b[0m \u001b[0miterator\u001b[0m\u001b[1;33m:\u001b[0m\u001b[1;33m\u001b[0m\u001b[1;33m\u001b[0m\u001b[0m\n",
      "\u001b[1;32m~\\anaconda3\\lib\\site-packages\\pandas\\io\\parsers.py\u001b[0m in \u001b[0;36m__init__\u001b[1;34m(self, f, engine, **kwds)\u001b[0m\n\u001b[0;32m    878\u001b[0m             \u001b[0mself\u001b[0m\u001b[1;33m.\u001b[0m\u001b[0moptions\u001b[0m\u001b[1;33m[\u001b[0m\u001b[1;34m\"has_index_names\"\u001b[0m\u001b[1;33m]\u001b[0m \u001b[1;33m=\u001b[0m \u001b[0mkwds\u001b[0m\u001b[1;33m[\u001b[0m\u001b[1;34m\"has_index_names\"\u001b[0m\u001b[1;33m]\u001b[0m\u001b[1;33m\u001b[0m\u001b[1;33m\u001b[0m\u001b[0m\n\u001b[0;32m    879\u001b[0m \u001b[1;33m\u001b[0m\u001b[0m\n\u001b[1;32m--> 880\u001b[1;33m         \u001b[0mself\u001b[0m\u001b[1;33m.\u001b[0m\u001b[0m_make_engine\u001b[0m\u001b[1;33m(\u001b[0m\u001b[0mself\u001b[0m\u001b[1;33m.\u001b[0m\u001b[0mengine\u001b[0m\u001b[1;33m)\u001b[0m\u001b[1;33m\u001b[0m\u001b[1;33m\u001b[0m\u001b[0m\n\u001b[0m\u001b[0;32m    881\u001b[0m \u001b[1;33m\u001b[0m\u001b[0m\n\u001b[0;32m    882\u001b[0m     \u001b[1;32mdef\u001b[0m \u001b[0mclose\u001b[0m\u001b[1;33m(\u001b[0m\u001b[0mself\u001b[0m\u001b[1;33m)\u001b[0m\u001b[1;33m:\u001b[0m\u001b[1;33m\u001b[0m\u001b[1;33m\u001b[0m\u001b[0m\n",
      "\u001b[1;32m~\\anaconda3\\lib\\site-packages\\pandas\\io\\parsers.py\u001b[0m in \u001b[0;36m_make_engine\u001b[1;34m(self, engine)\u001b[0m\n\u001b[0;32m   1112\u001b[0m     \u001b[1;32mdef\u001b[0m \u001b[0m_make_engine\u001b[0m\u001b[1;33m(\u001b[0m\u001b[0mself\u001b[0m\u001b[1;33m,\u001b[0m \u001b[0mengine\u001b[0m\u001b[1;33m=\u001b[0m\u001b[1;34m\"c\"\u001b[0m\u001b[1;33m)\u001b[0m\u001b[1;33m:\u001b[0m\u001b[1;33m\u001b[0m\u001b[1;33m\u001b[0m\u001b[0m\n\u001b[0;32m   1113\u001b[0m         \u001b[1;32mif\u001b[0m \u001b[0mengine\u001b[0m \u001b[1;33m==\u001b[0m \u001b[1;34m\"c\"\u001b[0m\u001b[1;33m:\u001b[0m\u001b[1;33m\u001b[0m\u001b[1;33m\u001b[0m\u001b[0m\n\u001b[1;32m-> 1114\u001b[1;33m             \u001b[0mself\u001b[0m\u001b[1;33m.\u001b[0m\u001b[0m_engine\u001b[0m \u001b[1;33m=\u001b[0m \u001b[0mCParserWrapper\u001b[0m\u001b[1;33m(\u001b[0m\u001b[0mself\u001b[0m\u001b[1;33m.\u001b[0m\u001b[0mf\u001b[0m\u001b[1;33m,\u001b[0m \u001b[1;33m**\u001b[0m\u001b[0mself\u001b[0m\u001b[1;33m.\u001b[0m\u001b[0moptions\u001b[0m\u001b[1;33m)\u001b[0m\u001b[1;33m\u001b[0m\u001b[1;33m\u001b[0m\u001b[0m\n\u001b[0m\u001b[0;32m   1115\u001b[0m         \u001b[1;32melse\u001b[0m\u001b[1;33m:\u001b[0m\u001b[1;33m\u001b[0m\u001b[1;33m\u001b[0m\u001b[0m\n\u001b[0;32m   1116\u001b[0m             \u001b[1;32mif\u001b[0m \u001b[0mengine\u001b[0m \u001b[1;33m==\u001b[0m \u001b[1;34m\"python\"\u001b[0m\u001b[1;33m:\u001b[0m\u001b[1;33m\u001b[0m\u001b[1;33m\u001b[0m\u001b[0m\n",
      "\u001b[1;32m~\\anaconda3\\lib\\site-packages\\pandas\\io\\parsers.py\u001b[0m in \u001b[0;36m__init__\u001b[1;34m(self, src, **kwds)\u001b[0m\n\u001b[0;32m   1889\u001b[0m         \u001b[0mkwds\u001b[0m\u001b[1;33m[\u001b[0m\u001b[1;34m\"usecols\"\u001b[0m\u001b[1;33m]\u001b[0m \u001b[1;33m=\u001b[0m \u001b[0mself\u001b[0m\u001b[1;33m.\u001b[0m\u001b[0musecols\u001b[0m\u001b[1;33m\u001b[0m\u001b[1;33m\u001b[0m\u001b[0m\n\u001b[0;32m   1890\u001b[0m \u001b[1;33m\u001b[0m\u001b[0m\n\u001b[1;32m-> 1891\u001b[1;33m         \u001b[0mself\u001b[0m\u001b[1;33m.\u001b[0m\u001b[0m_reader\u001b[0m \u001b[1;33m=\u001b[0m \u001b[0mparsers\u001b[0m\u001b[1;33m.\u001b[0m\u001b[0mTextReader\u001b[0m\u001b[1;33m(\u001b[0m\u001b[0msrc\u001b[0m\u001b[1;33m,\u001b[0m \u001b[1;33m**\u001b[0m\u001b[0mkwds\u001b[0m\u001b[1;33m)\u001b[0m\u001b[1;33m\u001b[0m\u001b[1;33m\u001b[0m\u001b[0m\n\u001b[0m\u001b[0;32m   1892\u001b[0m         \u001b[0mself\u001b[0m\u001b[1;33m.\u001b[0m\u001b[0munnamed_cols\u001b[0m \u001b[1;33m=\u001b[0m \u001b[0mself\u001b[0m\u001b[1;33m.\u001b[0m\u001b[0m_reader\u001b[0m\u001b[1;33m.\u001b[0m\u001b[0munnamed_cols\u001b[0m\u001b[1;33m\u001b[0m\u001b[1;33m\u001b[0m\u001b[0m\n\u001b[0;32m   1893\u001b[0m \u001b[1;33m\u001b[0m\u001b[0m\n",
      "\u001b[1;32mpandas\\_libs\\parsers.pyx\u001b[0m in \u001b[0;36mpandas._libs.parsers.TextReader.__cinit__\u001b[1;34m()\u001b[0m\n",
      "\u001b[1;32mpandas\\_libs\\parsers.pyx\u001b[0m in \u001b[0;36mpandas._libs.parsers.TextReader._setup_parser_source\u001b[1;34m()\u001b[0m\n",
      "\u001b[1;31mFileNotFoundError\u001b[0m: [Errno 2] File /ipl/deliveries.csv does not exist: '/ipl/deliveries.csv'"
     ]
    }
   ],
   "source": [
    "import pandas as pd\n",
    "deliveries=pd.read_csv('/ipl/deliveries.csv')\n",
    "#deliveries.dtypes\n",
    "deliveries.head()"
   ]
  },
  {
   "cell_type": "markdown",
   "metadata": {
    "colab_type": "text",
    "id": "bVT_8VwiEBAz"
   },
   "source": [
    "### Unary operations: one input"
   ]
  },
  {
   "cell_type": "code",
   "execution_count": 47,
   "metadata": {
    "colab": {},
    "colab_type": "code",
    "id": "MdR6-FhPEBA0",
    "outputId": "3090d3f4-643f-4972-f63e-c05f9d3c0b33"
   },
   "outputs": [
    {
     "data": {
      "text/plain": [
       "206"
      ]
     },
     "execution_count": 47,
     "metadata": {},
     "output_type": "execute_result"
    }
   ],
   "source": [
    "a = np.array([9,17,51,4,25,64,36]) #\n",
    "a.sum()\n",
    "\n",
    "# 0-5:  9    9\n",
    "# 5-10: 17   26\n",
    "# 10-15: 51  77\n",
    "# 4\n"
   ]
  },
  {
   "cell_type": "code",
   "execution_count": 48,
   "metadata": {
    "colab": {},
    "colab_type": "code",
    "id": "gkLAbJnBEBA7",
    "outputId": "62e0ab61-3410-4bdc-f3a4-cc88d6a706fe"
   },
   "outputs": [
    {
     "data": {
      "text/plain": [
       "64"
      ]
     },
     "execution_count": 48,
     "metadata": {},
     "output_type": "execute_result"
    }
   ],
   "source": [
    "a.max()"
   ]
  },
  {
   "cell_type": "code",
   "execution_count": 49,
   "metadata": {
    "colab": {},
    "colab_type": "code",
    "id": "rKj-QX3cEBBF",
    "outputId": "7a207863-f1e0-4218-e942-0c79908dab71"
   },
   "outputs": [
    {
     "data": {
      "text/plain": [
       "4"
      ]
     },
     "execution_count": 49,
     "metadata": {},
     "output_type": "execute_result"
    }
   ],
   "source": [
    "a.min()"
   ]
  },
  {
   "cell_type": "code",
   "execution_count": 50,
   "metadata": {
    "colab": {},
    "colab_type": "code",
    "id": "PykDGbsFEBBQ",
    "outputId": "909065a1-8161-4488-bb96-59cc01e6a37f"
   },
   "outputs": [
    {
     "data": {
      "text/plain": [
       "array([  9,  26,  77,  81, 106, 170, 206], dtype=int32)"
      ]
     },
     "execution_count": 50,
     "metadata": {},
     "output_type": "execute_result"
    }
   ],
   "source": [
    "a.cumsum()"
   ]
  },
  {
   "cell_type": "code",
   "execution_count": 51,
   "metadata": {
    "colab": {},
    "colab_type": "code",
    "id": "eRDiaAx8EBBY",
    "outputId": "0e99b20a-f2a4-4f92-dbf6-6c481a74ea33"
   },
   "outputs": [
    {
     "ename": "NameError",
     "evalue": "name 'deliveries' is not defined",
     "output_type": "error",
     "traceback": [
      "\u001b[1;31m---------------------------------------------------------------------------\u001b[0m",
      "\u001b[1;31mNameError\u001b[0m                                 Traceback (most recent call last)",
      "\u001b[1;32m<ipython-input-51-f0ab27ec9ed1>\u001b[0m in \u001b[0;36m<module>\u001b[1;34m\u001b[0m\n\u001b[1;32m----> 1\u001b[1;33m \u001b[0mdeliveries\u001b[0m\u001b[1;33m.\u001b[0m\u001b[0mgroupby\u001b[0m\u001b[1;33m(\u001b[0m\u001b[1;33m[\u001b[0m\u001b[1;34m'match_id'\u001b[0m\u001b[1;33m,\u001b[0m\u001b[1;34m'batting_team'\u001b[0m\u001b[1;33m,\u001b[0m \u001b[1;34m'batsman'\u001b[0m\u001b[1;33m]\u001b[0m\u001b[1;33m)\u001b[0m\u001b[1;33m.\u001b[0m\u001b[0mbatsman_runs\u001b[0m\u001b[1;33m.\u001b[0m\u001b[0msum\u001b[0m\u001b[1;33m(\u001b[0m\u001b[1;33m)\u001b[0m\u001b[1;33m.\u001b[0m\u001b[0mreset_index\u001b[0m\u001b[1;33m(\u001b[0m\u001b[1;33m)\u001b[0m\u001b[1;33m.\u001b[0m\u001b[0mhead\u001b[0m\u001b[1;33m(\u001b[0m\u001b[1;36m20\u001b[0m\u001b[1;33m)\u001b[0m\u001b[1;33m\u001b[0m\u001b[1;33m\u001b[0m\u001b[0m\n\u001b[0m",
      "\u001b[1;31mNameError\u001b[0m: name 'deliveries' is not defined"
     ]
    }
   ],
   "source": [
    "deliveries.groupby(['match_id','batting_team', 'batsman']).batsman_runs.sum().reset_index().head(20)"
   ]
  },
  {
   "cell_type": "markdown",
   "metadata": {
    "colab_type": "text",
    "id": "gS7r2HP9EBBj"
   },
   "source": [
    "### Shape Manipulation:"
   ]
  },
  {
   "cell_type": "markdown",
   "metadata": {
    "colab_type": "text",
    "id": "T4-Y8mKTEBBk"
   },
   "source": [
    "#### Reshape, Traspose, ravel"
   ]
  },
  {
   "cell_type": "code",
   "execution_count": null,
   "metadata": {
    "colab": {
     "base_uri": "https://localhost:8080/",
     "height": 84
    },
    "colab_type": "code",
    "executionInfo": {
     "elapsed": 1151,
     "status": "ok",
     "timestamp": 1598158084850,
     "user": {
      "displayName": "Kṛṣṇa solutions",
      "photoUrl": "",
      "userId": "14911029245911425813"
     },
     "user_tz": -330
    },
    "id": "zwQ4Lt30EBBl",
    "outputId": "876d91f6-9f68-4193-d48b-f41ef4fad113"
   },
   "outputs": [
    {
     "data": {
      "text/plain": [
       "array([[ 3,  5,  7],\n",
       "       [13,  1,  9],\n",
       "       [19, 12,  5],\n",
       "       [16, 31,  6]])"
      ]
     },
     "execution_count": 36,
     "metadata": {
      "tags": []
     },
     "output_type": "execute_result"
    }
   ],
   "source": [
    "import numpy as np\n",
    "arr = np.array([3,5,7,13,1,9, 19,12,5,16,31,6])\n",
    "arr = arr.reshape(4,3)\n",
    "arr"
   ]
  },
  {
   "cell_type": "code",
   "execution_count": null,
   "metadata": {
    "colab": {
     "base_uri": "https://localhost:8080/",
     "height": 67
    },
    "colab_type": "code",
    "executionInfo": {
     "elapsed": 1095,
     "status": "ok",
     "timestamp": 1598158093197,
     "user": {
      "displayName": "Kṛṣṇa solutions",
      "photoUrl": "",
      "userId": "14911029245911425813"
     },
     "user_tz": -330
    },
    "id": "7t-ivPLKEBBt",
    "outputId": "20610465-3715-4519-9d77-ac010cfe2cfa"
   },
   "outputs": [
    {
     "data": {
      "text/plain": [
       "array([[ 3, 13, 19, 16],\n",
       "       [ 5,  1, 12, 31],\n",
       "       [ 7,  9,  5,  6]])"
      ]
     },
     "execution_count": 37,
     "metadata": {
      "tags": []
     },
     "output_type": "execute_result"
    }
   ],
   "source": [
    "arr.T \n",
    "#https://stackoverflow.com/questions/42796548/plot-per-row-in-pandas#comment72707802_42796548"
   ]
  },
  {
   "cell_type": "code",
   "execution_count": null,
   "metadata": {
    "colab": {
     "base_uri": "https://localhost:8080/",
     "height": 34
    },
    "colab_type": "code",
    "executionInfo": {
     "elapsed": 1193,
     "status": "ok",
     "timestamp": 1598158128673,
     "user": {
      "displayName": "Kṛṣṇa solutions",
      "photoUrl": "",
      "userId": "14911029245911425813"
     },
     "user_tz": -330
    },
    "id": "dBs9TIHZEBB1",
    "outputId": "d4ba25b8-9752-425a-f811-b46a7728ae1b"
   },
   "outputs": [
    {
     "data": {
      "text/plain": [
       "array([ 3,  5,  7, 13,  1,  9, 19, 12,  5, 16, 31,  6])"
      ]
     },
     "execution_count": 38,
     "metadata": {
      "tags": []
     },
     "output_type": "execute_result"
    }
   ],
   "source": [
    "arr.ravel()"
   ]
  },
  {
   "cell_type": "markdown",
   "metadata": {
    "colab_type": "text",
    "id": "AWVpGShAEBB8"
   },
   "source": [
    "### Array Indexing"
   ]
  },
  {
   "cell_type": "code",
   "execution_count": 52,
   "metadata": {
    "colab": {
     "base_uri": "https://localhost:8080/",
     "height": 34
    },
    "colab_type": "code",
    "executionInfo": {
     "elapsed": 1100,
     "status": "ok",
     "timestamp": 1598158153851,
     "user": {
      "displayName": "Kṛṣṇa solutions",
      "photoUrl": "",
      "userId": "14911029245911425813"
     },
     "user_tz": -330
    },
    "id": "CjrF4noyEBB9",
    "outputId": "57014442-7e4f-46d5-e744-76dfd6a71dea"
   },
   "outputs": [
    {
     "data": {
      "text/plain": [
       "array([9, 8, 7, 6, 5, 4, 3, 2, 1, 0])"
      ]
     },
     "execution_count": 52,
     "metadata": {},
     "output_type": "execute_result"
    }
   ],
   "source": [
    "arr = np.arange(10)\n",
    "arr[2:8]\n",
    "arr[::-1]"
   ]
  },
  {
   "cell_type": "code",
   "execution_count": 53,
   "metadata": {
    "colab": {},
    "colab_type": "code",
    "id": "WV3c9NgTEBCL",
    "outputId": "5869f2a9-bfe4-41b4-9922-8976f12f868d"
   },
   "outputs": [
    {
     "data": {
      "text/plain": [
       "array([100, 100, 100,   3,   4,   5,   6,   7,   8,   9])"
      ]
     },
     "execution_count": 53,
     "metadata": {},
     "output_type": "execute_result"
    }
   ],
   "source": [
    "arr[:3] = 100\n",
    "arr"
   ]
  },
  {
   "cell_type": "code",
   "execution_count": 54,
   "metadata": {
    "colab": {},
    "colab_type": "code",
    "id": "uFLOHygiEBCR",
    "outputId": "681599a8-80d4-4352-e096-6d3f00329f77"
   },
   "outputs": [
    {
     "data": {
      "text/plain": [
       "array([-100, -100, -100, -100])"
      ]
     },
     "execution_count": 54,
     "metadata": {},
     "output_type": "execute_result"
    }
   ],
   "source": [
    "arr_slice = arr[6:]\n",
    "arr_slice[:] = -100\n",
    "arr_slice"
   ]
  },
  {
   "cell_type": "code",
   "execution_count": null,
   "metadata": {
    "colab": {},
    "colab_type": "code",
    "id": "lg2mAo2rEBCW",
    "outputId": "d5119965-e4c4-4fb9-ac14-ef8f34a52520"
   },
   "outputs": [
    {
     "data": {
      "text/plain": [
       "array([   0,    1,    2,    3,    4,    5, -100, -100, -100, -100])"
      ]
     },
     "execution_count": 285,
     "metadata": {
      "tags": []
     },
     "output_type": "execute_result"
    }
   ],
   "source": [
    "arr"
   ]
  },
  {
   "cell_type": "markdown",
   "metadata": {
    "colab_type": "text",
    "id": "hStXT4s2EBCe"
   },
   "source": [
    "#### Indexing higher dimentional array"
   ]
  },
  {
   "cell_type": "code",
   "execution_count": null,
   "metadata": {
    "colab": {
     "base_uri": "https://localhost:8080/",
     "height": 67
    },
    "colab_type": "code",
    "executionInfo": {
     "elapsed": 2406,
     "status": "ok",
     "timestamp": 1598158203127,
     "user": {
      "displayName": "Kṛṣṇa solutions",
      "photoUrl": "",
      "userId": "14911029245911425813"
     },
     "user_tz": -330
    },
    "id": "GP2Nc83xEBCf",
    "outputId": "e4253fdd-c819-4f97-d37c-6f7c48092a7e"
   },
   "outputs": [
    {
     "data": {
      "text/plain": [
       "array([[1, 2, 3],\n",
       "       [4, 5, 6],\n",
       "       [7, 8, 9]])"
      ]
     },
     "execution_count": 40,
     "metadata": {
      "tags": []
     },
     "output_type": "execute_result"
    }
   ],
   "source": [
    "arr = np.array([[1,2,3], [4,5,6], [7,8,9]])\n",
    "arr"
   ]
  },
  {
   "cell_type": "code",
   "execution_count": null,
   "metadata": {
    "colab": {
     "base_uri": "https://localhost:8080/",
     "height": 34
    },
    "colab_type": "code",
    "executionInfo": {
     "elapsed": 1113,
     "status": "ok",
     "timestamp": 1598158718397,
     "user": {
      "displayName": "Kṛṣṇa solutions",
      "photoUrl": "",
      "userId": "14911029245911425813"
     },
     "user_tz": -330
    },
    "id": "C7duuMRiEBCp",
    "outputId": "2b06cafc-2d10-4cf7-a476-87c73be6d8b0"
   },
   "outputs": [
    {
     "data": {
      "text/plain": [
       "array([4, 5])"
      ]
     },
     "execution_count": 56,
     "metadata": {
      "tags": []
     },
     "output_type": "execute_result"
    }
   ],
   "source": [
    "arr[1,:2] #array([4,5]) #rows [0:1], columns [0:2]"
   ]
  },
  {
   "cell_type": "code",
   "execution_count": null,
   "metadata": {
    "colab": {},
    "colab_type": "code",
    "id": "hUbz7o2bEBCw",
    "outputId": "5d4647f8-7789-47cf-9456-d1d08bc1862e"
   },
   "outputs": [
    {
     "data": {
      "text/plain": [
       "array([[2, 3],\n",
       "       [5, 6]])"
      ]
     },
     "execution_count": 203,
     "metadata": {
      "tags": []
     },
     "output_type": "execute_result"
    }
   ],
   "source": [
    "arr[:2, 1:]"
   ]
  },
  {
   "cell_type": "code",
   "execution_count": null,
   "metadata": {
    "colab": {},
    "colab_type": "code",
    "id": "saQA0pZrEBC7",
    "outputId": "8e4e1215-1470-441e-b289-479e52da3cb0"
   },
   "outputs": [
    {
     "data": {
      "text/plain": [
       "array([[2, 3],\n",
       "       [5, 6],\n",
       "       [8, 9]])"
      ]
     },
     "execution_count": 204,
     "metadata": {
      "tags": []
     },
     "output_type": "execute_result"
    }
   ],
   "source": [
    "arr[:, 1:]"
   ]
  },
  {
   "cell_type": "code",
   "execution_count": null,
   "metadata": {
    "colab": {
     "base_uri": "https://localhost:8080/",
     "height": 319
    },
    "colab_type": "code",
    "executionInfo": {
     "elapsed": 1105,
     "status": "ok",
     "timestamp": 1598159049942,
     "user": {
      "displayName": "Kṛṣṇa solutions",
      "photoUrl": "",
      "userId": "14911029245911425813"
     },
     "user_tz": -330
    },
    "id": "XH2lZvJWsMaE",
    "outputId": "ca0724c3-c2f3-44a0-cf35-39a5df4f82d0"
   },
   "outputs": [
    {
     "name": "stdout",
     "output_type": "stream",
     "text": [
      "[ 0  1  2  3  4  5  6  7  8  9 10 11 12 13 14 15 16 17 18 19 20 21 22 23]\n",
      "[[[ 0  1]\n",
      "  [ 2  3]]\n",
      "\n",
      " [[ 4  5]\n",
      "  [ 6  7]]\n",
      "\n",
      " [[ 8  9]\n",
      "  [10 11]]\n",
      "\n",
      " [[12 13]\n",
      "  [14 15]]\n",
      "\n",
      " [[16 17]\n",
      "  [18 19]]\n",
      "\n",
      " [[20 21]\n",
      "  [22 23]]]\n"
     ]
    }
   ],
   "source": [
    "print(np.arange(24))\n",
    "\n",
    "\n",
    "#2 dimension: 4x6, 6x4, 3x8, 8x3, 2x12, 12x2\n",
    "#3 dimesion: 2x4x3, 6x2x2\n",
    "\n",
    "print(np.arange(24).reshape(6,2,2)) #30 elements"
   ]
  },
  {
   "cell_type": "code",
   "execution_count": null,
   "metadata": {
    "colab": {},
    "colab_type": "code",
    "id": "yeEmjCDBEBDD",
    "outputId": "4442beab-5c89-4007-faad-1e2f0bc619f4"
   },
   "outputs": [
    {
     "data": {
      "text/plain": [
       "array([[[ 0,  1,  2,  3],\n",
       "        [ 4,  5,  6,  7],\n",
       "        [ 8,  9, 10, 11]],\n",
       "\n",
       "       [[12, 13, 14, 15],\n",
       "        [16, 17, 18, 19],\n",
       "        [20, 21, 22, 23]]])"
      ]
     },
     "execution_count": 290,
     "metadata": {
      "tags": []
     },
     "output_type": "execute_result"
    }
   ],
   "source": [
    "threed_arr = np.arange(24).reshape(2,3,4)\n",
    "threed_arr#[1:, :2, :2]"
   ]
  },
  {
   "cell_type": "markdown",
   "metadata": {
    "colab_type": "text",
    "id": "JludorCcEBDK"
   },
   "source": [
    "### Boolean Indexing"
   ]
  },
  {
   "cell_type": "code",
   "execution_count": 55,
   "metadata": {
    "colab": {},
    "colab_type": "code",
    "id": "gikOqDaZEBDL",
    "outputId": "19290ecf-58a5-4eaf-e3f9-0f2c50664ae0"
   },
   "outputs": [
    {
     "data": {
      "text/plain": [
       "array([ True, False, False,  True,  True, False, False])"
      ]
     },
     "execution_count": 55,
     "metadata": {},
     "output_type": "execute_result"
    }
   ],
   "source": [
    "arr = np.array([9,5,2,16,7,0,4])\n",
    "arr > 5"
   ]
  },
  {
   "cell_type": "code",
   "execution_count": 56,
   "metadata": {
    "colab": {},
    "colab_type": "code",
    "id": "n-kAZOXVEBDT",
    "outputId": "8f214811-91b1-4754-9bd8-410a6d94aaec"
   },
   "outputs": [
    {
     "data": {
      "text/plain": [
       "array([7])"
      ]
     },
     "execution_count": 56,
     "metadata": {},
     "output_type": "execute_result"
    }
   ],
   "source": [
    "arr[(arr > 5)&(arr < 9)]"
   ]
  },
  {
   "cell_type": "code",
   "execution_count": 57,
   "metadata": {
    "colab": {},
    "colab_type": "code",
    "id": "A9keVSKlEBDm",
    "outputId": "b9ff16cd-e2ce-45c8-b5b7-24c26e35829e"
   },
   "outputs": [
    {
     "ename": "NameError",
     "evalue": "name 'deliveries' is not defined",
     "output_type": "error",
     "traceback": [
      "\u001b[1;31m---------------------------------------------------------------------------\u001b[0m",
      "\u001b[1;31mNameError\u001b[0m                                 Traceback (most recent call last)",
      "\u001b[1;32m<ipython-input-57-c436d66a931f>\u001b[0m in \u001b[0;36m<module>\u001b[1;34m\u001b[0m\n\u001b[1;32m----> 1\u001b[1;33m \u001b[0mdeliveries\u001b[0m\u001b[1;33m[\u001b[0m\u001b[1;33m(\u001b[0m\u001b[0mdeliveries\u001b[0m\u001b[1;33m.\u001b[0m\u001b[0mtotal_runs\u001b[0m \u001b[1;33m==\u001b[0m \u001b[1;36m6\u001b[0m\u001b[1;33m)\u001b[0m \u001b[1;33m|\u001b[0m \u001b[1;33m(\u001b[0m\u001b[0mdeliveries\u001b[0m\u001b[1;33m.\u001b[0m\u001b[0mtotal_runs\u001b[0m \u001b[1;33m==\u001b[0m \u001b[1;36m4\u001b[0m\u001b[1;33m)\u001b[0m\u001b[1;33m]\u001b[0m\u001b[1;33m[\u001b[0m\u001b[1;33m:\u001b[0m\u001b[1;36m5\u001b[0m\u001b[1;33m]\u001b[0m\u001b[1;33m\u001b[0m\u001b[1;33m\u001b[0m\u001b[0m\n\u001b[0m",
      "\u001b[1;31mNameError\u001b[0m: name 'deliveries' is not defined"
     ]
    }
   ],
   "source": [
    "deliveries[(deliveries.total_runs == 6) | (deliveries.total_runs == 4)][:5]"
   ]
  },
  {
   "cell_type": "code",
   "execution_count": null,
   "metadata": {
    "colab": {},
    "colab_type": "code",
    "id": "g3UHoWrWEBDs",
    "outputId": "7d723d75-3935-4d63-9ec4-7b607e0717de"
   },
   "outputs": [
    {
     "data": {
      "text/plain": [
       "array([6, 8, 5])"
      ]
     },
     "execution_count": 298,
     "metadata": {
      "tags": []
     },
     "output_type": "execute_result"
    }
   ],
   "source": [
    "arr = np.array([[6,4,3,8], [9,0,2,5]])\n",
    "arr[arr >4]\n",
    "arr[(arr >4) & (arr < 9)]"
   ]
  },
  {
   "cell_type": "code",
   "execution_count": 61,
   "metadata": {
    "colab": {},
    "colab_type": "code",
    "id": "ag7uZhtgEBD3",
    "outputId": "b667c011-0e4c-4c5e-ee83-c50c0d6bbad8"
   },
   "outputs": [
    {
     "data": {
      "text/plain": [
       "array([False, False,  True, False, False, False, False])"
      ]
     },
     "execution_count": 61,
     "metadata": {},
     "output_type": "execute_result"
    }
   ],
   "source": [
    "arr_str = np.array(['Google', 'Apple', 'Microsoft', 'Facebook','PayPal','HP', 'Linkedlin'])\n",
    "arr_str == 'Microsoft'"
   ]
  },
  {
   "cell_type": "code",
   "execution_count": 62,
   "metadata": {
    "colab": {},
    "colab_type": "code",
    "id": "_2yUFnZcEBD-",
    "outputId": "c89fc40e-6950-44a6-f6a0-0aa9a7140319"
   },
   "outputs": [
    {
     "data": {
      "text/plain": [
       "array(['Google', 'Apple', 'Facebook', 'PayPal', 'HP', 'Linkedlin'],\n",
       "      dtype='<U9')"
      ]
     },
     "execution_count": 62,
     "metadata": {},
     "output_type": "execute_result"
    }
   ],
   "source": [
    "arr_str[arr_str != 'Microsoft'] #subset of an entire set\n"
   ]
  },
  {
   "cell_type": "code",
   "execution_count": null,
   "metadata": {
    "colab": {},
    "colab_type": "code",
    "id": "0X7CCc3Mte4x"
   },
   "outputs": [],
   "source": []
  },
  {
   "cell_type": "code",
   "execution_count": null,
   "metadata": {
    "colab": {},
    "colab_type": "code",
    "id": "HJTr1LJjtiAF"
   },
   "outputs": [],
   "source": []
  },
  {
   "cell_type": "code",
   "execution_count": null,
   "metadata": {
    "colab": {},
    "colab_type": "code",
    "id": "H8pKKgestfXY"
   },
   "outputs": [],
   "source": []
  },
  {
   "cell_type": "code",
   "execution_count": 67,
   "metadata": {
    "colab": {},
    "colab_type": "code",
    "id": "yR2neMbWEBEN",
    "outputId": "0bca9d13-f9e3-4ada-a978-9597c3a51708"
   },
   "outputs": [
    {
     "data": {
      "text/plain": [
       "array(['Microsoft', 'PayPal'], dtype='<U9')"
      ]
     },
     "execution_count": 67,
     "metadata": {},
     "output_type": "execute_result"
    }
   ],
   "source": [
    "arr_str[(arr_str == 'Microsoft') | (arr_str =='PayPal')]"
   ]
  },
  {
   "cell_type": "code",
   "execution_count": null,
   "metadata": {
    "colab": {},
    "colab_type": "code",
    "id": "1uAz3Ce4EBEV",
    "outputId": "63b6c2ee-f016-4192-e14d-6c841e9ad985"
   },
   "outputs": [
    {
     "data": {
      "text/plain": [
       "(12, 18)"
      ]
     },
     "execution_count": 303,
     "metadata": {
      "tags": []
     },
     "output_type": "execute_result"
    }
   ],
   "source": [
    "matches=pd.read_csv('/Users/vaishaligarg/Downloads/ipl/matches.csv')\n",
    "matches.head()\n",
    "matches[matches.player_of_match == 'MEK Hussey'].shape"
   ]
  },
  {
   "cell_type": "markdown",
   "metadata": {
    "colab_type": "text",
    "id": "1tNLnOfdEBEe"
   },
   "source": [
    "### Broadcasting\n",
    "\n",
    "element-by-element operations on array of same shape or array and a scalar value\n"
   ]
  },
  {
   "cell_type": "code",
   "execution_count": 68,
   "metadata": {
    "colab": {},
    "colab_type": "code",
    "id": "WSojYeceEBEf",
    "outputId": "c41f603a-d512-4c7a-f842-84c110d10e42"
   },
   "outputs": [
    {
     "name": "stdout",
     "output_type": "stream",
     "text": [
      "1.75 µs ± 212 ns per loop (mean ± std. dev. of 7 runs, 100000 loops each)\n"
     ]
    }
   ],
   "source": [
    "# Given two lists, quantity and rate, return a list multiplication of the two values\n",
    "\n",
    "avg_score = [31,21,55,18,8,14,3,95,21,6]\n",
    "innings_played = [8,7,10,2,8,5,13,4,7,9]\n",
    "#avg_score*innings_played # unsupported operand type(s) for ** or pow(): 'list' and 'list'\n",
    "#total_runs = [s*i for s, i in zip(avg_score, innings_played)]\n",
    "#total_runs\n",
    "%timeit [q*r for q, r in zip(avg_score, innings_played)]"
   ]
  },
  {
   "cell_type": "code",
   "execution_count": 70,
   "metadata": {},
   "outputs": [
    {
     "name": "stdout",
     "output_type": "stream",
     "text": [
      "1.17 µs ± 107 ns per loop (mean ± std. dev. of 7 runs, 1000000 loops each)\n"
     ]
    }
   ],
   "source": [
    "avg_score=[31,21,4,23,22]\n",
    "innings_played=[2,6,7,9,1]\n",
    "%timeit [q*r for q,r in zip(avg_score,innings_played)]"
   ]
  },
  {
   "cell_type": "code",
   "execution_count": 71,
   "metadata": {
    "colab": {},
    "colab_type": "code",
    "id": "HGZlmQApEBEl",
    "outputId": "142189dd-5147-43aa-9860-cd66064cc653"
   },
   "outputs": [
    {
     "name": "stdout",
     "output_type": "stream",
     "text": [
      "753 ns ± 131 ns per loop (mean ± std. dev. of 7 runs, 1000000 loops each)\n"
     ]
    }
   ],
   "source": [
    "avg_score = np.array(avg_score)\n",
    "innings_played = np.array(innings_played)\n",
    "#avg_score*innings_played\n",
    "%timeit avg_score*innings_played"
   ]
  },
  {
   "cell_type": "code",
   "execution_count": 72,
   "metadata": {
    "colab": {},
    "colab_type": "code",
    "id": "-d9Lv897EBEw",
    "outputId": "d9fb0d35-ac25-4f20-8ab7-9f070a70cbfe"
   },
   "outputs": [
    {
     "data": {
      "text/plain": [
       "array([-4, -4, -4, -4])"
      ]
     },
     "execution_count": 72,
     "metadata": {},
     "output_type": "execute_result"
    }
   ],
   "source": [
    "a1 = np.array([1,2,3,4])\n",
    "a2 = np.array([5,6,7,8])\n",
    "a1+a2\n",
    "a1-a2\n",
    "#a1/a2"
   ]
  },
  {
   "cell_type": "code",
   "execution_count": 73,
   "metadata": {
    "colab": {},
    "colab_type": "code",
    "id": "bN3mYqfyEBE7",
    "outputId": "6a3b7c87-356e-4086-9549-54c2fe75d021"
   },
   "outputs": [
    {
     "ename": "ValueError",
     "evalue": "operands could not be broadcast together with shapes (4,) (5,) ",
     "output_type": "error",
     "traceback": [
      "\u001b[1;31m---------------------------------------------------------------------------\u001b[0m",
      "\u001b[1;31mValueError\u001b[0m                                Traceback (most recent call last)",
      "\u001b[1;32m<ipython-input-73-0fd5d3b6348a>\u001b[0m in \u001b[0;36m<module>\u001b[1;34m\u001b[0m\n\u001b[0;32m      2\u001b[0m \u001b[0ma1\u001b[0m \u001b[1;33m=\u001b[0m \u001b[0mnp\u001b[0m\u001b[1;33m.\u001b[0m\u001b[0marray\u001b[0m\u001b[1;33m(\u001b[0m\u001b[1;33m[\u001b[0m\u001b[1;36m1\u001b[0m\u001b[1;33m,\u001b[0m\u001b[1;36m2\u001b[0m\u001b[1;33m,\u001b[0m\u001b[1;36m3\u001b[0m\u001b[1;33m,\u001b[0m\u001b[1;36m4\u001b[0m\u001b[1;33m]\u001b[0m\u001b[1;33m)\u001b[0m\u001b[1;33m\u001b[0m\u001b[1;33m\u001b[0m\u001b[0m\n\u001b[0;32m      3\u001b[0m \u001b[0ma2\u001b[0m \u001b[1;33m=\u001b[0m \u001b[0mnp\u001b[0m\u001b[1;33m.\u001b[0m\u001b[0marray\u001b[0m\u001b[1;33m(\u001b[0m\u001b[1;33m[\u001b[0m\u001b[1;36m5\u001b[0m\u001b[1;33m,\u001b[0m\u001b[1;36m6\u001b[0m\u001b[1;33m,\u001b[0m\u001b[1;36m7\u001b[0m\u001b[1;33m,\u001b[0m\u001b[1;36m8\u001b[0m\u001b[1;33m,\u001b[0m\u001b[1;36m9\u001b[0m\u001b[1;33m]\u001b[0m\u001b[1;33m)\u001b[0m\u001b[1;33m\u001b[0m\u001b[1;33m\u001b[0m\u001b[0m\n\u001b[1;32m----> 4\u001b[1;33m \u001b[0ma1\u001b[0m\u001b[1;33m+\u001b[0m\u001b[0ma2\u001b[0m\u001b[1;33m\u001b[0m\u001b[1;33m\u001b[0m\u001b[0m\n\u001b[0m",
      "\u001b[1;31mValueError\u001b[0m: operands could not be broadcast together with shapes (4,) (5,) "
     ]
    }
   ],
   "source": [
    "#Try the same with\n",
    "a1 = np.array([1,2,3,4])\n",
    "a2 = np.array([5,6,7,8,9])\n",
    "a1+a2"
   ]
  },
  {
   "cell_type": "code",
   "execution_count": 81,
   "metadata": {
    "colab": {},
    "colab_type": "code",
    "id": "kFSjh0oKEBFC",
    "outputId": "970205db-3a87-40c6-cc7e-a1160d67944f"
   },
   "outputs": [
    {
     "name": "stdout",
     "output_type": "stream",
     "text": [
      "[[ 0.]\n",
      " [10.]\n",
      " [20.]\n",
      " [30.]]\n",
      "[1. 2. 3.]\n"
     ]
    }
   ],
   "source": [
    "#Here the newaxis index operator inserts a new axis into a, making it a two-dimensional 4x1 array. Combining the \n",
    "#4x1 array with b, which has shape (3,), yields a 4x3 array.\n",
    "\n",
    "a = np.array([0.0, 10.0, 20.0, 30.0])\n",
    "b = np.array([1.0, 2.0, 3.0])\n",
    "a = a[:, np.newaxis]\n",
    "\n",
    "print(a) #vector\n",
    "print(b)\n",
    "#a + b    "
   ]
  },
  {
   "cell_type": "markdown",
   "metadata": {
    "colab_type": "text",
    "id": "DMLHxLJ5EBFV"
   },
   "source": [
    "### Universal Functions\n",
    "    Functions that operate on ndarrays in an element-by-element fashion\n",
    "https://docs.scipy.org/doc/numpy/reference/ufuncs.html"
   ]
  },
  {
   "cell_type": "code",
   "execution_count": 83,
   "metadata": {
    "colab": {},
    "colab_type": "code",
    "id": "Y0Xbk0ZpEBFX",
    "outputId": "f08941d5-7bb9-4243-b2f3-c65e5195e74f"
   },
   "outputs": [
    {
     "data": {
      "text/plain": [
       "array([ 43,  60, -24, -27])"
      ]
     },
     "execution_count": 83,
     "metadata": {},
     "output_type": "execute_result"
    }
   ],
   "source": [
    "a1 = np.array([10,2,31,45])\n",
    "a2 = np.array([53,62,7,18])\n",
    "\n",
    "np.add(a1,a2)\n",
    "np.subtract(a2,a1)"
   ]
  },
  {
   "cell_type": "code",
   "execution_count": null,
   "metadata": {
    "colab": {},
    "colab_type": "code",
    "id": "ibzNpfdTEBFh",
    "outputId": "4074b6e0-d947-4400-c4cf-635f518d4e54"
   },
   "outputs": [
    {
     "data": {
      "text/plain": [
       "array([-43, -60,  24,  27])"
      ]
     },
     "execution_count": 96,
     "metadata": {
      "tags": []
     },
     "output_type": "execute_result"
    }
   ],
   "source": [
    "np.subtract(a1,a2)"
   ]
  },
  {
   "cell_type": "code",
   "execution_count": 85,
   "metadata": {
    "colab": {},
    "colab_type": "code",
    "id": "AZENFGHfEBFr",
    "outputId": "de9713a3-76e1-4c6d-fec8-4165b7589714"
   },
   "outputs": [
    {
     "data": {
      "text/plain": [
       "array([0.18867925, 0.03225806, 4.42857143, 2.5       ])"
      ]
     },
     "execution_count": 85,
     "metadata": {},
     "output_type": "execute_result"
    }
   ],
   "source": [
    "np.divide(a1,a2)"
   ]
  },
  {
   "cell_type": "code",
   "execution_count": 87,
   "metadata": {
    "colab": {},
    "colab_type": "code",
    "id": "F3ffbqrUEBF1",
    "outputId": "a545add0-9cea-43c4-991a-45267d655e30"
   },
   "outputs": [
    {
     "data": {
      "text/plain": [
       "array([53, 62, 31, 45])"
      ]
     },
     "execution_count": 87,
     "metadata": {},
     "output_type": "execute_result"
    }
   ],
   "source": [
    "np.maximum(a1,a2)"
   ]
  },
  {
   "cell_type": "code",
   "execution_count": 89,
   "metadata": {
    "colab": {},
    "colab_type": "code",
    "id": "uNGts6cyEBGB",
    "outputId": "99d8b0e3-716a-40a8-ebef-ea8de6aaca40"
   },
   "outputs": [
    {
     "data": {
      "text/plain": [
       "array([1., 2., 3., 4., 5.])"
      ]
     },
     "execution_count": 89,
     "metadata": {},
     "output_type": "execute_result"
    }
   ],
   "source": [
    "a = np.array([1,4,9,16,25])\n",
    "np.sqrt(a)"
   ]
  },
  {
   "cell_type": "code",
   "execution_count": 90,
   "metadata": {
    "colab": {},
    "colab_type": "code",
    "id": "syqMtnXBEBGG",
    "outputId": "04d09c26-ecb0-470a-e0b6-0223c7823db4"
   },
   "outputs": [
    {
     "data": {
      "text/plain": [
       "array([2.71828183e+00, 5.45981500e+01, 8.10308393e+03, 8.88611052e+06,\n",
       "       7.20048993e+10])"
      ]
     },
     "execution_count": 90,
     "metadata": {},
     "output_type": "execute_result"
    }
   ],
   "source": [
    "np.exp(a)"
   ]
  },
  {
   "cell_type": "code",
   "execution_count": 95,
   "metadata": {
    "colab": {},
    "colab_type": "code",
    "id": "BrnI3knYEBGM",
    "outputId": "22da621d-8239-4957-b9e5-1f3f9e6c4ca4"
   },
   "outputs": [
    {
     "data": {
      "text/plain": [
       "(array([0, 1, 3, 4, 6, 7], dtype=int64),)"
      ]
     },
     "execution_count": 95,
     "metadata": {},
     "output_type": "execute_result"
    }
   ],
   "source": [
    "arr = np.array([6,2,0,1,5,0,7,10,0])\n",
    "#np.nonzero(arr)\n",
    "#arr[np.nonzero(arr)]\n",
    "np.nonzero(arr)"
   ]
  },
  {
   "cell_type": "code",
   "execution_count": 98,
   "metadata": {
    "colab": {},
    "colab_type": "code",
    "id": "CEWYQLTxEBGV",
    "outputId": "c8f2befa-a340-4104-827b-4adeed59d244"
   },
   "outputs": [
    {
     "data": {
      "text/plain": [
       "array([-2.91424548, -0.11942139,  1.17818653, -0.34237708, -1.46114902,\n",
       "        0.45953295,  1.76277469])"
      ]
     },
     "execution_count": 98,
     "metadata": {},
     "output_type": "execute_result"
    }
   ],
   "source": [
    "x = np.random.randn(5)\n",
    "x\n",
    "y=np.random.randn(7)\n",
    "y"
   ]
  },
  {
   "cell_type": "code",
   "execution_count": 100,
   "metadata": {
    "colab": {},
    "colab_type": "code",
    "id": "OPVqoEkJEBGa",
    "outputId": "f6748dfc-3944-404c-e030-026b102c8ce3"
   },
   "outputs": [
    {
     "data": {
      "text/plain": [
       "array([-2., -0.,  2., -0., -1.,  1.,  2.])"
      ]
     },
     "execution_count": 100,
     "metadata": {},
     "output_type": "execute_result"
    }
   ],
   "source": [
    "np.floor(x)\n",
    "np.ceil(x)\n",
    "\n",
    "np.floor(y)\n",
    "np.ceil(y)"
   ]
  },
  {
   "cell_type": "markdown",
   "metadata": {
    "colab_type": "text",
    "id": "_N2_zrmnEBGg"
   },
   "source": [
    "#### Matrix multiplication"
   ]
  },
  {
   "cell_type": "code",
   "execution_count": 104,
   "metadata": {
    "colab": {},
    "colab_type": "code",
    "id": "av64DOPyEBGg",
    "outputId": "aae39f05-ab3d-4abd-db4d-6184b95ed41f"
   },
   "outputs": [
    {
     "data": {
      "text/plain": [
       "matrix([[ 544,  656],\n",
       "        [1958, 2732]])"
      ]
     },
     "execution_count": 104,
     "metadata": {},
     "output_type": "execute_result"
    }
   ],
   "source": [
    "x = np.matrix([[10,2],[31,45]])\n",
    "y = np.mat([[53,62], [7,18]])\n",
    "x*y\n",
    "#np.dot(x,y) # or x.dot(y)"
   ]
  },
  {
   "cell_type": "code",
   "execution_count": 101,
   "metadata": {},
   "outputs": [
    {
     "data": {
      "text/plain": [
       "matrix([[10,  2],\n",
       "        [31, 22]])"
      ]
     },
     "execution_count": 101,
     "metadata": {},
     "output_type": "execute_result"
    }
   ],
   "source": [
    "x=np.matrix([[10,2],[31,22]])\n",
    "x"
   ]
  },
  {
   "cell_type": "code",
   "execution_count": null,
   "metadata": {
    "colab": {},
    "colab_type": "code",
    "id": "RGxeg_pFEBGk",
    "outputId": "fbcdb380-6dd1-49b1-8db2-152df94876cc"
   },
   "outputs": [
    {
     "data": {
      "text/plain": [
       "array([[530, 124],\n",
       "       [217, 810]])"
      ]
     },
     "execution_count": 322,
     "metadata": {
      "tags": []
     },
     "output_type": "execute_result"
    }
   ],
   "source": [
    "x = np.array([[10,2],[31,45]])\n",
    "y = np.array([[53,62], [7,18]])\n",
    "x*y"
   ]
  },
  {
   "cell_type": "markdown",
   "metadata": {
    "colab_type": "text",
    "id": "aLWzR-okEBGn"
   },
   "source": [
    "### np.where: ([cond], if, else)\n"
   ]
  },
  {
   "cell_type": "code",
   "execution_count": 105,
   "metadata": {
    "colab": {},
    "colab_type": "code",
    "id": "9__R3iIuEBGn",
    "outputId": "719f3d6e-e734-4436-a536-a625e0d877f1"
   },
   "outputs": [
    {
     "data": {
      "text/plain": [
       "array([-1.45303529,  0.04123108,  1.61449   ,  0.34732252,  0.6010793 ])"
      ]
     },
     "execution_count": 105,
     "metadata": {},
     "output_type": "execute_result"
    }
   ],
   "source": [
    "x = np.random.randn(5)\n",
    "y = np.random.randn(5)\n",
    "x"
   ]
  },
  {
   "cell_type": "code",
   "execution_count": 106,
   "metadata": {
    "colab": {},
    "colab_type": "code",
    "id": "5HrsanG-EBGr",
    "outputId": "0dffa2c1-d66e-4f03-8630-e486dcc1a690"
   },
   "outputs": [
    {
     "data": {
      "text/plain": [
       "array([ 0.70156118, -2.05016108,  0.35183078, -0.19475827, -1.42619258])"
      ]
     },
     "execution_count": 106,
     "metadata": {},
     "output_type": "execute_result"
    }
   ],
   "source": [
    "y"
   ]
  },
  {
   "cell_type": "code",
   "execution_count": 107,
   "metadata": {
    "colab": {},
    "colab_type": "code",
    "id": "e_YgwTirEBGu",
    "outputId": "1cbc4417-8dc4-4089-99a0-6ae9597bbf41"
   },
   "outputs": [
    {
     "data": {
      "text/plain": [
       "array([0.70156118, 0.04123108, 1.61449   , 0.34732252, 0.6010793 ])"
      ]
     },
     "execution_count": 107,
     "metadata": {},
     "output_type": "execute_result"
    }
   ],
   "source": [
    "np.where(x > 0, x, y)"
   ]
  },
  {
   "cell_type": "code",
   "execution_count": null,
   "metadata": {
    "colab": {},
    "colab_type": "code",
    "id": "TQjEieRWEBGw",
    "outputId": "7b8188af-638d-4a9d-ca67-a15e509ae169"
   },
   "outputs": [
    {
     "data": {
      "text/html": [
       "<div>\n",
       "<table border=\"1\" class=\"dataframe\">\n",
       "  <thead>\n",
       "    <tr style=\"text-align: right;\">\n",
       "      <th></th>\n",
       "      <th>id</th>\n",
       "      <th>season</th>\n",
       "      <th>team1</th>\n",
       "      <th>team2</th>\n",
       "      <th>win_by_runs</th>\n",
       "      <th>win_by_wickets</th>\n",
       "    </tr>\n",
       "  </thead>\n",
       "  <tbody>\n",
       "    <tr>\n",
       "      <th>0</th>\n",
       "      <td>1</td>\n",
       "      <td>2008</td>\n",
       "      <td>Kolkata Knight Riders</td>\n",
       "      <td>Royal Challengers Bangalore</td>\n",
       "      <td>140</td>\n",
       "      <td>0</td>\n",
       "    </tr>\n",
       "    <tr>\n",
       "      <th>1</th>\n",
       "      <td>2</td>\n",
       "      <td>2008</td>\n",
       "      <td>Chennai Super Kings</td>\n",
       "      <td>Kings XI Punjab</td>\n",
       "      <td>33</td>\n",
       "      <td>0</td>\n",
       "    </tr>\n",
       "    <tr>\n",
       "      <th>2</th>\n",
       "      <td>3</td>\n",
       "      <td>2008</td>\n",
       "      <td>Rajasthan Royals</td>\n",
       "      <td>Delhi Daredevils</td>\n",
       "      <td>0</td>\n",
       "      <td>9</td>\n",
       "    </tr>\n",
       "    <tr>\n",
       "      <th>3</th>\n",
       "      <td>4</td>\n",
       "      <td>2008</td>\n",
       "      <td>Mumbai Indians</td>\n",
       "      <td>Royal Challengers Bangalore</td>\n",
       "      <td>0</td>\n",
       "      <td>5</td>\n",
       "    </tr>\n",
       "    <tr>\n",
       "      <th>4</th>\n",
       "      <td>5</td>\n",
       "      <td>2008</td>\n",
       "      <td>Deccan Chargers</td>\n",
       "      <td>Kolkata Knight Riders</td>\n",
       "      <td>0</td>\n",
       "      <td>5</td>\n",
       "    </tr>\n",
       "  </tbody>\n",
       "</table>\n",
       "</div>"
      ],
      "text/plain": [
       "   id  season                  team1                        team2  \\\n",
       "0   1    2008  Kolkata Knight Riders  Royal Challengers Bangalore   \n",
       "1   2    2008    Chennai Super Kings              Kings XI Punjab   \n",
       "2   3    2008       Rajasthan Royals             Delhi Daredevils   \n",
       "3   4    2008         Mumbai Indians  Royal Challengers Bangalore   \n",
       "4   5    2008        Deccan Chargers        Kolkata Knight Riders   \n",
       "\n",
       "   win_by_runs  win_by_wickets  \n",
       "0          140               0  \n",
       "1           33               0  \n",
       "2            0               9  \n",
       "3            0               5  \n",
       "4            0               5  "
      ]
     },
     "execution_count": 226,
     "metadata": {
      "tags": []
     },
     "output_type": "execute_result"
    }
   ],
   "source": [
    "matches.head()\n",
    "matches1 = matches[['id', 'season', 'team1', 'team2', 'win_by_runs', 'win_by_wickets']].copy()\n",
    "matches1.head()"
   ]
  },
  {
   "cell_type": "code",
   "execution_count": null,
   "metadata": {
    "colab": {},
    "colab_type": "code",
    "id": "C-dgqo3PEBGz",
    "outputId": "785e5924-f5ef-4a75-db66-7b6098f8798f"
   },
   "outputs": [
    {
     "data": {
      "text/html": [
       "<div>\n",
       "<table border=\"1\" class=\"dataframe\">\n",
       "  <thead>\n",
       "    <tr style=\"text-align: right;\">\n",
       "      <th></th>\n",
       "      <th>id</th>\n",
       "      <th>season</th>\n",
       "      <th>team1</th>\n",
       "      <th>team2</th>\n",
       "      <th>win_by_runs</th>\n",
       "      <th>win_by_wickets</th>\n",
       "      <th>level</th>\n",
       "    </tr>\n",
       "  </thead>\n",
       "  <tbody>\n",
       "    <tr>\n",
       "      <th>0</th>\n",
       "      <td>1</td>\n",
       "      <td>2008</td>\n",
       "      <td>Kolkata Knight Riders</td>\n",
       "      <td>Royal Challengers Bangalore</td>\n",
       "      <td>140</td>\n",
       "      <td>0</td>\n",
       "      <td>Expected</td>\n",
       "    </tr>\n",
       "    <tr>\n",
       "      <th>1</th>\n",
       "      <td>2</td>\n",
       "      <td>2008</td>\n",
       "      <td>Chennai Super Kings</td>\n",
       "      <td>Kings XI Punjab</td>\n",
       "      <td>33</td>\n",
       "      <td>0</td>\n",
       "      <td>Expected</td>\n",
       "    </tr>\n",
       "    <tr>\n",
       "      <th>2</th>\n",
       "      <td>3</td>\n",
       "      <td>2008</td>\n",
       "      <td>Rajasthan Royals</td>\n",
       "      <td>Delhi Daredevils</td>\n",
       "      <td>0</td>\n",
       "      <td>9</td>\n",
       "      <td>Super exciting!</td>\n",
       "    </tr>\n",
       "    <tr>\n",
       "      <th>3</th>\n",
       "      <td>4</td>\n",
       "      <td>2008</td>\n",
       "      <td>Mumbai Indians</td>\n",
       "      <td>Royal Challengers Bangalore</td>\n",
       "      <td>0</td>\n",
       "      <td>5</td>\n",
       "      <td>Super exciting!</td>\n",
       "    </tr>\n",
       "    <tr>\n",
       "      <th>4</th>\n",
       "      <td>5</td>\n",
       "      <td>2008</td>\n",
       "      <td>Deccan Chargers</td>\n",
       "      <td>Kolkata Knight Riders</td>\n",
       "      <td>0</td>\n",
       "      <td>5</td>\n",
       "      <td>Super exciting!</td>\n",
       "    </tr>\n",
       "  </tbody>\n",
       "</table>\n",
       "</div>"
      ],
      "text/plain": [
       "   id  season                  team1                        team2  \\\n",
       "0   1    2008  Kolkata Knight Riders  Royal Challengers Bangalore   \n",
       "1   2    2008    Chennai Super Kings              Kings XI Punjab   \n",
       "2   3    2008       Rajasthan Royals             Delhi Daredevils   \n",
       "3   4    2008         Mumbai Indians  Royal Challengers Bangalore   \n",
       "4   5    2008        Deccan Chargers        Kolkata Knight Riders   \n",
       "\n",
       "   win_by_runs  win_by_wickets            level  \n",
       "0          140               0         Expected  \n",
       "1           33               0         Expected  \n",
       "2            0               9  Super exciting!  \n",
       "3            0               5  Super exciting!  \n",
       "4            0               5  Super exciting!  "
      ]
     },
     "execution_count": 333,
     "metadata": {
      "tags": []
     },
     "output_type": "execute_result"
    }
   ],
   "source": [
    "matches1['level'] = np.where((matches1.win_by_runs < 20) , 'Super exciting!', 'Expected')\n",
    "matches1.head()"
   ]
  },
  {
   "cell_type": "code",
   "execution_count": null,
   "metadata": {
    "colab": {},
    "colab_type": "code",
    "id": "aaGkDEa7EBG2",
    "outputId": "122ccd29-0a0d-4508-db0f-53673e1ad31b"
   },
   "outputs": [
    {
     "data": {
      "text/html": [
       "<div>\n",
       "<table border=\"1\" class=\"dataframe\">\n",
       "  <thead>\n",
       "    <tr style=\"text-align: right;\">\n",
       "      <th></th>\n",
       "      <th>id</th>\n",
       "      <th>season</th>\n",
       "      <th>team1</th>\n",
       "      <th>team2</th>\n",
       "      <th>win_by_runs</th>\n",
       "      <th>win_by_wickets</th>\n",
       "      <th>level</th>\n",
       "    </tr>\n",
       "  </thead>\n",
       "  <tbody>\n",
       "    <tr>\n",
       "      <th>0</th>\n",
       "      <td>1</td>\n",
       "      <td>2008</td>\n",
       "      <td>Kolkata Knight Riders</td>\n",
       "      <td>Royal Challengers Bangalore</td>\n",
       "      <td>140</td>\n",
       "      <td>0</td>\n",
       "      <td>Expected</td>\n",
       "    </tr>\n",
       "    <tr>\n",
       "      <th>1</th>\n",
       "      <td>2</td>\n",
       "      <td>2008</td>\n",
       "      <td>Chennai Super Kings</td>\n",
       "      <td>Kings XI Punjab</td>\n",
       "      <td>33</td>\n",
       "      <td>0</td>\n",
       "      <td>Expected</td>\n",
       "    </tr>\n",
       "    <tr>\n",
       "      <th>2</th>\n",
       "      <td>3</td>\n",
       "      <td>2008</td>\n",
       "      <td>Rajasthan Royals</td>\n",
       "      <td>Delhi Daredevils</td>\n",
       "      <td>0</td>\n",
       "      <td>9</td>\n",
       "      <td>Expected</td>\n",
       "    </tr>\n",
       "    <tr>\n",
       "      <th>3</th>\n",
       "      <td>4</td>\n",
       "      <td>2008</td>\n",
       "      <td>Mumbai Indians</td>\n",
       "      <td>Royal Challengers Bangalore</td>\n",
       "      <td>0</td>\n",
       "      <td>5</td>\n",
       "      <td>Expected</td>\n",
       "    </tr>\n",
       "    <tr>\n",
       "      <th>4</th>\n",
       "      <td>5</td>\n",
       "      <td>2008</td>\n",
       "      <td>Deccan Chargers</td>\n",
       "      <td>Kolkata Knight Riders</td>\n",
       "      <td>0</td>\n",
       "      <td>5</td>\n",
       "      <td>Expected</td>\n",
       "    </tr>\n",
       "  </tbody>\n",
       "</table>\n",
       "</div>"
      ],
      "text/plain": [
       "   id  season                  team1                        team2  \\\n",
       "0   1    2008  Kolkata Knight Riders  Royal Challengers Bangalore   \n",
       "1   2    2008    Chennai Super Kings              Kings XI Punjab   \n",
       "2   3    2008       Rajasthan Royals             Delhi Daredevils   \n",
       "3   4    2008         Mumbai Indians  Royal Challengers Bangalore   \n",
       "4   5    2008        Deccan Chargers        Kolkata Knight Riders   \n",
       "\n",
       "   win_by_runs  win_by_wickets     level  \n",
       "0          140               0  Expected  \n",
       "1           33               0  Expected  \n",
       "2            0               9  Expected  \n",
       "3            0               5  Expected  \n",
       "4            0               5  Expected  "
      ]
     },
     "execution_count": 360,
     "metadata": {
      "tags": []
     },
     "output_type": "execute_result"
    }
   ],
   "source": [
    "matches1['level'] = np.where((matches1.win_by_runs < 20) & (matches1.win_by_wickets < 3), 'Super exciting!', 'Expected')\n",
    "matches1.head()"
   ]
  },
  {
   "cell_type": "markdown",
   "metadata": {
    "colab_type": "text",
    "id": "_lG3hTmEEBG4"
   },
   "source": [
    "### Statistical methods\n"
   ]
  },
  {
   "cell_type": "code",
   "execution_count": 108,
   "metadata": {
    "colab": {
     "base_uri": "https://localhost:8080/",
     "height": 67
    },
    "colab_type": "code",
    "executionInfo": {
     "elapsed": 1162,
     "status": "ok",
     "timestamp": 1598159828836,
     "user": {
      "displayName": "Kṛṣṇa solutions",
      "photoUrl": "",
      "userId": "14911029245911425813"
     },
     "user_tz": -330
    },
    "id": "0GfdGp1oEBG9",
    "outputId": "5089b8bc-0fd3-413b-f23a-4b55b6db5451"
   },
   "outputs": [
    {
     "data": {
      "text/plain": [
       "array([[5, 9, 3, 6],\n",
       "       [9, 2, 0, 8],\n",
       "       [8, 5, 6, 8]])"
      ]
     },
     "execution_count": 108,
     "metadata": {},
     "output_type": "execute_result"
    }
   ],
   "source": [
    "arr = np.array([[5,9,3,6], [9,2,0,8],[8,5,6,8]])\n",
    "arr"
   ]
  },
  {
   "cell_type": "code",
   "execution_count": 109,
   "metadata": {
    "colab": {
     "base_uri": "https://localhost:8080/",
     "height": 67
    },
    "colab_type": "code",
    "executionInfo": {
     "elapsed": 1307,
     "status": "ok",
     "timestamp": 1598160171085,
     "user": {
      "displayName": "Kṛṣṇa solutions",
      "photoUrl": "",
      "userId": "14911029245911425813"
     },
     "user_tz": -330
    },
    "id": "Yv88UpU_vKoU",
    "outputId": "5e135852-3aea-43c5-bbba-9715e75161cf"
   },
   "outputs": [
    {
     "data": {
      "text/plain": [
       "array([[6],\n",
       "       [8],\n",
       "       [8]])"
      ]
     },
     "execution_count": 109,
     "metadata": {},
     "output_type": "execute_result"
    }
   ],
   "source": [
    "arr[:3,3:4] #lower bound is not covred [lower to number-1] 0,1,2,3,4,5,6,7,8,9"
   ]
  },
  {
   "cell_type": "markdown",
   "metadata": {
    "colab_type": "text",
    "id": "7oMRR3aBEBHA"
   },
   "source": [
    "#### axis 0 - across rows - rows are getting pushed together into the result - columns remain same"
   ]
  },
  {
   "cell_type": "code",
   "execution_count": 110,
   "metadata": {
    "colab": {},
    "colab_type": "code",
    "id": "AsZnak12EBHB",
    "outputId": "f252d61f-ab0f-46b6-f5a2-c6c904c78501"
   },
   "outputs": [
    {
     "data": {
      "text/plain": [
       "array([7.33333333, 5.33333333, 3.        , 7.33333333])"
      ]
     },
     "execution_count": 110,
     "metadata": {},
     "output_type": "execute_result"
    }
   ],
   "source": [
    "arr.mean(axis = 0)"
   ]
  },
  {
   "cell_type": "markdown",
   "metadata": {
    "colab_type": "text",
    "id": "mXin2YzlEBHD"
   },
   "source": [
    "#### axis 1 - across columns - columns are getting pushed together into the result - rows remain same"
   ]
  },
  {
   "cell_type": "code",
   "execution_count": 111,
   "metadata": {
    "colab": {},
    "colab_type": "code",
    "id": "YNrpmZgnEBHE",
    "outputId": "51eb8d75-3a09-49de-dc65-aa0c833a1d80"
   },
   "outputs": [
    {
     "data": {
      "text/plain": [
       "array([5.75, 4.75, 6.75])"
      ]
     },
     "execution_count": 111,
     "metadata": {},
     "output_type": "execute_result"
    }
   ],
   "source": [
    "arr.mean(axis = 1)"
   ]
  },
  {
   "cell_type": "code",
   "execution_count": 112,
   "metadata": {
    "colab": {},
    "colab_type": "code",
    "id": "CUQq5_b1EBHH",
    "outputId": "8334ddf8-eec1-46e6-81e1-7e50380b33b6"
   },
   "outputs": [
    {
     "data": {
      "text/plain": [
       "array([8., 5., 3., 8.])"
      ]
     },
     "execution_count": 112,
     "metadata": {},
     "output_type": "execute_result"
    }
   ],
   "source": [
    "np.median(arr, 0)"
   ]
  },
  {
   "cell_type": "markdown",
   "metadata": {
    "colab_type": "text",
    "id": "EKY3DTraEBHK"
   },
   "source": [
    "### sort(), argmax(), argmin()\n",
    "    argmax: Returns the indices of the maximum values along an axis.\n",
    "    argmin: Returns the indices of the minimum values along an axis."
   ]
  },
  {
   "cell_type": "code",
   "execution_count": 113,
   "metadata": {
    "colab": {},
    "colab_type": "code",
    "id": "WlU81QDGEBHL",
    "outputId": "8b8879d9-ed19-4eb6-98cc-7dc8f26c432d"
   },
   "outputs": [
    {
     "data": {
      "text/plain": [
       "array([ 2,  3,  4,  6,  9, 10])"
      ]
     },
     "execution_count": 113,
     "metadata": {},
     "output_type": "execute_result"
    }
   ],
   "source": [
    "arr = np.array([6,9,4,2,10,3])\n",
    "arr.sort()\n",
    "arr"
   ]
  },
  {
   "cell_type": "code",
   "execution_count": 114,
   "metadata": {
    "colab": {},
    "colab_type": "code",
    "id": "cHF6mUxBEBHO",
    "outputId": "3f4d5147-ae8f-4684-b0a9-986fca4c41b1"
   },
   "outputs": [
    {
     "data": {
      "text/plain": [
       "2"
      ]
     },
     "execution_count": 114,
     "metadata": {},
     "output_type": "execute_result"
    }
   ],
   "source": [
    "arr = np.array([6,9,4,2,10,3])\n",
    "arr.argmax() \n",
    "arr.argmin() \n",
    "arr[arr.argmin()]"
   ]
  },
  {
   "cell_type": "markdown",
   "metadata": {
    "colab_type": "text",
    "id": "SqKFHh8lEBHR"
   },
   "source": [
    "### Stacking "
   ]
  },
  {
   "cell_type": "code",
   "execution_count": 115,
   "metadata": {
    "colab": {},
    "colab_type": "code",
    "id": "riPWAltLEBHS",
    "outputId": "d3022da2-fcc9-4f58-d3b9-09d658c6f85b"
   },
   "outputs": [
    {
     "data": {
      "text/plain": [
       "array([[0.06765757, 0.55011681],\n",
       "       [0.94651431, 0.08269325]])"
      ]
     },
     "execution_count": 115,
     "metadata": {},
     "output_type": "execute_result"
    }
   ],
   "source": [
    "a = np.random.random((2,2))\n",
    "a"
   ]
  },
  {
   "cell_type": "code",
   "execution_count": 116,
   "metadata": {
    "colab": {},
    "colab_type": "code",
    "id": "jY1sYUGLEBHZ",
    "outputId": "f4755ce3-c795-4794-b689-a44eccb91d67"
   },
   "outputs": [
    {
     "data": {
      "text/plain": [
       "array([[0.76755249, 0.15655115],\n",
       "       [0.28869345, 0.94680224]])"
      ]
     },
     "execution_count": 116,
     "metadata": {},
     "output_type": "execute_result"
    }
   ],
   "source": [
    "b = np.random.random((2,2))\n",
    "b"
   ]
  },
  {
   "cell_type": "code",
   "execution_count": 117,
   "metadata": {
    "colab": {},
    "colab_type": "code",
    "id": "hayzHq_jEBHf",
    "outputId": "77ec0404-a7bf-4618-cfdc-4c8aa618cdcd"
   },
   "outputs": [
    {
     "data": {
      "text/plain": [
       "array([[0.06765757, 0.55011681],\n",
       "       [0.94651431, 0.08269325],\n",
       "       [0.76755249, 0.15655115],\n",
       "       [0.28869345, 0.94680224]])"
      ]
     },
     "execution_count": 117,
     "metadata": {},
     "output_type": "execute_result"
    }
   ],
   "source": [
    "c = np.vstack((a,b))\n",
    "c#.shape"
   ]
  },
  {
   "cell_type": "code",
   "execution_count": 118,
   "metadata": {
    "colab": {},
    "colab_type": "code",
    "id": "iQ84jBKAEBHi",
    "outputId": "dedd4686-f6ff-4bb6-ea82-898ce5e9d2c9"
   },
   "outputs": [
    {
     "data": {
      "text/plain": [
       "array([[0.06765757, 0.55011681, 0.76755249, 0.15655115],\n",
       "       [0.94651431, 0.08269325, 0.28869345, 0.94680224]])"
      ]
     },
     "execution_count": 118,
     "metadata": {},
     "output_type": "execute_result"
    }
   ],
   "source": [
    "d = np.hstack((a,b))\n",
    "d#.shape"
   ]
  },
  {
   "cell_type": "code",
   "execution_count": 119,
   "metadata": {
    "colab": {},
    "colab_type": "code",
    "id": "oampcxKxEBHk",
    "outputId": "2e0b2852-16f3-4926-d0b5-1e5e7d3bfe10"
   },
   "outputs": [
    {
     "data": {
      "text/plain": [
       "array([[0.06765757, 0.55011681, 0.76755249, 0.15655115],\n",
       "       [0.94651431, 0.08269325, 0.28869345, 0.94680224]])"
      ]
     },
     "execution_count": 119,
     "metadata": {},
     "output_type": "execute_result"
    }
   ],
   "source": [
    "np.concatenate((a,b))\n",
    "np.concatenate((a,b), axis = 1) #pd.concat([df1, df2], axis = 1)"
   ]
  },
  {
   "cell_type": "markdown",
   "metadata": {
    "colab_type": "text",
    "id": "ynFeqRL2EBHn"
   },
   "source": [
    "### Splitting"
   ]
  },
  {
   "cell_type": "code",
   "execution_count": 120,
   "metadata": {
    "colab": {},
    "colab_type": "code",
    "id": "38lUzL_SEBHp",
    "outputId": "1f30fd7e-9f30-4c6c-be3d-b69b25b9a338"
   },
   "outputs": [
    {
     "data": {
      "text/plain": [
       "[array([[0.06765757],\n",
       "        [0.94651431],\n",
       "        [0.76755249],\n",
       "        [0.28869345]]),\n",
       " array([[0.55011681],\n",
       "        [0.08269325],\n",
       "        [0.15655115],\n",
       "        [0.94680224]])]"
      ]
     },
     "execution_count": 120,
     "metadata": {},
     "output_type": "execute_result"
    }
   ],
   "source": [
    "np.hsplit(c, 2)"
   ]
  },
  {
   "cell_type": "code",
   "execution_count": 121,
   "metadata": {
    "colab": {},
    "colab_type": "code",
    "id": "nDp_YQcJEBHs",
    "outputId": "1f15df42-bf07-4990-9c8c-1a0c49621b43"
   },
   "outputs": [
    {
     "data": {
      "text/plain": [
       "[array([[0.06765757, 0.55011681],\n",
       "        [0.94651431, 0.08269325]]),\n",
       " array([[0.76755249, 0.15655115],\n",
       "        [0.28869345, 0.94680224]])]"
      ]
     },
     "execution_count": 121,
     "metadata": {},
     "output_type": "execute_result"
    }
   ],
   "source": [
    "np.vsplit(c, 2)"
   ]
  },
  {
   "cell_type": "markdown",
   "metadata": {
    "colab_type": "text",
    "id": "rsLmWdt8EBHv"
   },
   "source": [
    "### Copies and views"
   ]
  },
  {
   "cell_type": "code",
   "execution_count": 123,
   "metadata": {
    "colab": {},
    "colab_type": "code",
    "id": "k1gFISMJEBHw",
    "outputId": "1fa22afb-73b5-42e0-8402-6cbcedd3cce4"
   },
   "outputs": [
    {
     "data": {
      "text/plain": [
       "True"
      ]
     },
     "execution_count": 123,
     "metadata": {},
     "output_type": "execute_result"
    }
   ],
   "source": [
    "a = np.arange(10)\n",
    "b = a #view\n",
    "b is a #identity operator"
   ]
  },
  {
   "cell_type": "code",
   "execution_count": 124,
   "metadata": {
    "colab": {},
    "colab_type": "code",
    "id": "lkFDCe-VEBH0",
    "outputId": "af579e87-87aa-4318-cd10-6acbaa07f770"
   },
   "outputs": [
    {
     "data": {
      "text/plain": [
       "array([ 0,  2,  4,  6,  8, 10, 12, 14, 16, 18])"
      ]
     },
     "execution_count": 124,
     "metadata": {},
     "output_type": "execute_result"
    }
   ],
   "source": [
    "b*=2\n",
    "b"
   ]
  },
  {
   "cell_type": "code",
   "execution_count": 125,
   "metadata": {
    "colab": {},
    "colab_type": "code",
    "id": "uS4I97WTEBH3",
    "outputId": "1bdb6835-15be-4259-99c9-f0855c01bdd6"
   },
   "outputs": [
    {
     "data": {
      "text/plain": [
       "array([ 0,  2,  4,  6,  8, 10, 12, 14, 16, 18])"
      ]
     },
     "execution_count": 125,
     "metadata": {},
     "output_type": "execute_result"
    }
   ],
   "source": [
    "a"
   ]
  },
  {
   "cell_type": "code",
   "execution_count": 126,
   "metadata": {
    "colab": {},
    "colab_type": "code",
    "id": "rSkxAA_3EBH5",
    "outputId": "a35f2bd1-7d65-41ac-91d8-9b444917a207"
   },
   "outputs": [
    {
     "data": {
      "text/plain": [
       "array([ 5,  7,  9, 11, 13, 15, 17, 19, 21, 23])"
      ]
     },
     "execution_count": 126,
     "metadata": {},
     "output_type": "execute_result"
    }
   ],
   "source": [
    "a +=5\n",
    "b"
   ]
  },
  {
   "cell_type": "code",
   "execution_count": 127,
   "metadata": {
    "colab": {},
    "colab_type": "code",
    "id": "v3lNgxUREBH7",
    "outputId": "ed2f00f5-6282-4cd3-e251-83dfb65dc212"
   },
   "outputs": [
    {
     "data": {
      "text/plain": [
       "array([ True,  True,  True,  True,  True,  True,  True,  True,  True,\n",
       "        True])"
      ]
     },
     "execution_count": 127,
     "metadata": {},
     "output_type": "execute_result"
    }
   ],
   "source": [
    "a == b"
   ]
  },
  {
   "cell_type": "code",
   "execution_count": 128,
   "metadata": {
    "colab": {},
    "colab_type": "code",
    "id": "qDxfVFyFEBH_",
    "outputId": "9bfda18d-7e25-4d55-9692-0ed8de6a99f8"
   },
   "outputs": [
    {
     "data": {
      "text/plain": [
       "False"
      ]
     },
     "execution_count": 128,
     "metadata": {},
     "output_type": "execute_result"
    }
   ],
   "source": [
    "a = np.arange(10)\n",
    "b = a.copy()\n",
    "b is a"
   ]
  },
  {
   "cell_type": "code",
   "execution_count": 129,
   "metadata": {
    "colab": {},
    "colab_type": "code",
    "id": "rsPbqFTYEBIC"
   },
   "outputs": [],
   "source": [
    "b*=2"
   ]
  },
  {
   "cell_type": "code",
   "execution_count": 130,
   "metadata": {
    "colab": {},
    "colab_type": "code",
    "id": "u7U5mIxREBIF",
    "outputId": "e469ed5c-5543-42a6-a88d-53a122d31e93"
   },
   "outputs": [
    {
     "data": {
      "text/plain": [
       "array([0, 1, 2, 3, 4, 5, 6, 7, 8, 9])"
      ]
     },
     "execution_count": 130,
     "metadata": {},
     "output_type": "execute_result"
    }
   ],
   "source": [
    "a"
   ]
  },
  {
   "cell_type": "code",
   "execution_count": 131,
   "metadata": {
    "colab": {},
    "colab_type": "code",
    "id": "GZeOaT81EBIH"
   },
   "outputs": [],
   "source": [
    "a+=10"
   ]
  },
  {
   "cell_type": "code",
   "execution_count": 132,
   "metadata": {
    "colab": {},
    "colab_type": "code",
    "id": "Knus5LBlEBIK",
    "outputId": "0809a640-0475-4d83-d7e7-b21ab718720a"
   },
   "outputs": [
    {
     "data": {
      "text/plain": [
       "array([ 0,  2,  4,  6,  8, 10, 12, 14, 16, 18])"
      ]
     },
     "execution_count": 132,
     "metadata": {},
     "output_type": "execute_result"
    }
   ],
   "source": [
    "b"
   ]
  },
  {
   "cell_type": "code",
   "execution_count": 141,
   "metadata": {
    "colab": {},
    "colab_type": "code",
    "id": "o7-spS0lEBIM",
    "outputId": "19e824e2-7cc2-4ec6-93f6-26c471205fbe"
   },
   "outputs": [
    {
     "data": {
      "text/plain": [
       "array([6. , 3.5, 4.5, 4.5, 5.5, 3.5])"
      ]
     },
     "execution_count": 141,
     "metadata": {},
     "output_type": "execute_result"
    }
   ],
   "source": [
    "\n",
    "import numpy as np\n",
    "a = np.array([8,5,3,1,9,7,4,2,6,8,2,0])\n",
    "a = a.reshape(2,6)\n",
    "a.mean() #mean of the entire array\n",
    "a.mean(axis = 0) #mean along axis 0 - for each column\n",
    "#a.mean(axis = 1) #along axis 1"
   ]
  },
  {
   "cell_type": "code",
   "execution_count": 142,
   "metadata": {
    "colab": {},
    "colab_type": "code",
    "id": "EHxxOntQEBIO",
    "outputId": "918a3d1e-4e5a-45a7-e8ac-3373d619c578"
   },
   "outputs": [
    {
     "data": {
      "text/plain": [
       "array([4, 2, 6, 8, 2, 0])"
      ]
     },
     "execution_count": 142,
     "metadata": {},
     "output_type": "execute_result"
    }
   ],
   "source": [
    "a1 = np.array([9,0,5,0,2,1])\n",
    "a1[np.nonzero(a1)]\n",
    "a[-1]"
   ]
  },
  {
   "cell_type": "code",
   "execution_count": 140,
   "metadata": {
    "colab": {},
    "colab_type": "code",
    "id": "UTMxGI7tEBIQ"
   },
   "outputs": [
    {
     "name": "stdout",
     "output_type": "stream",
     "text": [
      "[[ 8  4  6  3]\n",
      " [ 1  7  8 99]]\n",
      "17.0\n"
     ]
    },
    {
     "data": {
      "text/plain": [
       "array([ 4.5,  5.5,  7. , 51. ])"
      ]
     },
     "execution_count": 140,
     "metadata": {},
     "output_type": "execute_result"
    }
   ],
   "source": [
    "import numpy as np\n",
    "a=np.array([8,4,6,3,1,7,8,99])\n",
    "a=a.reshape(2,4)\n",
    "print(a)\n",
    "print(a.mean())\n",
    "a.mean(axis=0)"
   ]
  },
  {
   "cell_type": "code",
   "execution_count": null,
   "metadata": {
    "colab": {},
    "colab_type": "code",
    "id": "3vmUgCO_EBIV"
   },
   "outputs": [],
   "source": []
  },
  {
   "cell_type": "code",
   "execution_count": null,
   "metadata": {},
   "outputs": [],
   "source": []
  }
 ],
 "metadata": {
  "colab": {
   "collapsed_sections": [
    "1tNLnOfdEBEe",
    "DMLHxLJ5EBFV",
    "_N2_zrmnEBGg"
   ],
   "name": "M4- Numerical Python (NumPy)- Content.ipynb",
   "provenance": []
  },
  "kernelspec": {
   "display_name": "Python 3",
   "language": "python",
   "name": "python3"
  },
  "language_info": {
   "codemirror_mode": {
    "name": "ipython",
    "version": 3
   },
   "file_extension": ".py",
   "mimetype": "text/x-python",
   "name": "python",
   "nbconvert_exporter": "python",
   "pygments_lexer": "ipython3",
   "version": "3.8.3"
  }
 },
 "nbformat": 4,
 "nbformat_minor": 1
}
