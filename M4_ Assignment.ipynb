{
 "cells": [
  {
   "cell_type": "markdown",
   "metadata": {
    "colab_type": "text",
    "id": "3QE4jHM1F0sr"
   },
   "source": [
    "## Data Analytics using NumPy Assignment"
   ]
  },
  {
   "cell_type": "code",
   "execution_count": null,
   "metadata": {
    "colab": {},
    "colab_type": "code",
    "id": "qPEP1-_3F0st"
   },
   "outputs": [],
   "source": [
    "import numpy as np"
   ]
  },
  {
   "cell_type": "code",
   "execution_count": null,
   "metadata": {
    "colab": {},
    "colab_type": "code",
    "id": "eOcsMq9zF0s6"
   },
   "outputs": [],
   "source": [
    "# 1.Create a rank 2 numpy array of random integers and print:a) shape,size and dimensions of the array b) number of odd and even\n",
    "#   integers in the array\n",
    "a=np.array([[1,2,3],[4,5,6]])\n",
    "print(a.ndim)\n",
    "print(a.shape)\n"
   ]
  },
  {
   "cell_type": "code",
   "execution_count": null,
   "metadata": {
    "colab": {},
    "colab_type": "code",
    "id": "JH2r2N5iF0tC"
   },
   "outputs": [],
   "source": [
    "# 2.Create a (3X3) numpy array withb values ranging from 1 to 9.\n",
    "#b=np.arange(9).reshape(1,3,3)\n",
    "b=np.array([[1,2,3],[4,5,6],[7,8,9]])\n",
    "b"
   ]
  },
  {
   "cell_type": "code",
   "execution_count": null,
   "metadata": {
    "colab": {},
    "colab_type": "code",
    "id": "r_JByQ-tF0tP"
   },
   "outputs": [],
   "source": [
    "# 3.Create a (5X5) random numpy array and print the numbers from the array which are greater than average value of the array.\n",
    "# Hint: Use np.where() function\n",
    "c=np.array([[1,2,3,4,5],[6,7,8,9,10],[11,12,13,14,15],[16,17,18,19,20],[21,22,23,24,25]])\n",
    "print(c.mean())\n",
    "c[c>c.mean()]\n"
   ]
  },
  {
   "cell_type": "code",
   "execution_count": null,
   "metadata": {
    "colab": {},
    "colab_type": "code",
    "id": "Sihjh0VRF0tY"
   },
   "outputs": [],
   "source": [
    "# 4.Given an array of random integers:\n",
    "arr1 = np.random.randint(50,size=(10,10))\n",
    "print(arr1)\n",
    "#a\n",
    "row_mean=arr1.mean(axis=1)\n",
    "print(row_mean)\n",
    "column_mean=arr1.mean(axis=0)\n",
    "print(column_mean)\n",
    "#b\n",
    "print(arr1.max(axis=1))\n",
    "print(arr1.max(axis=0))\n",
    "\n",
    "print(arr1.min(axis=1))\n",
    "print(arr1.min(axis=0))\n",
    "\n",
    "print(np.std(arr1))\n",
    "print(np.var(arr1))\n",
    "\n",
    "# Find out : a) row wise and column wise mean b) row wise and column wise max and min values c) Variance and Standard Deviation \n",
    "# of the array."
   ]
  },
  {
   "cell_type": "code",
   "execution_count": 3,
   "metadata": {
    "colab": {},
    "colab_type": "code",
    "id": "hhfc5OfvF0th"
   },
   "outputs": [
    {
     "ename": "ValueError",
     "evalue": "matrix must be 2-dimensional",
     "output_type": "error",
     "traceback": [
      "\u001b[1;31m---------------------------------------------------------------------------\u001b[0m",
      "\u001b[1;31mValueError\u001b[0m                                Traceback (most recent call last)",
      "\u001b[1;32m<ipython-input-3-15661605f9ad>\u001b[0m in \u001b[0;36m<module>\u001b[1;34m\u001b[0m\n\u001b[0;32m     20\u001b[0m \u001b[0mc11\u001b[0m\u001b[1;33m=\u001b[0m\u001b[0ma10\u001b[0m\u001b[1;33m*\u001b[0m\u001b[0mb01\u001b[0m\u001b[1;33m+\u001b[0m\u001b[0ma11\u001b[0m\u001b[1;33m*\u001b[0m\u001b[0mb11\u001b[0m\u001b[1;33m\u001b[0m\u001b[1;33m\u001b[0m\u001b[0m\n\u001b[0;32m     21\u001b[0m \u001b[1;33m\u001b[0m\u001b[0m\n\u001b[1;32m---> 22\u001b[1;33m \u001b[0mmul\u001b[0m\u001b[1;33m=\u001b[0m\u001b[0mnp\u001b[0m\u001b[1;33m.\u001b[0m\u001b[0mmatrix\u001b[0m\u001b[1;33m(\u001b[0m\u001b[1;33m[\u001b[0m\u001b[1;33m[\u001b[0m\u001b[0mc00\u001b[0m\u001b[1;33m,\u001b[0m\u001b[0mc01\u001b[0m\u001b[1;33m]\u001b[0m\u001b[1;33m,\u001b[0m\u001b[1;33m[\u001b[0m\u001b[0mc10\u001b[0m\u001b[1;33m,\u001b[0m\u001b[0mc11\u001b[0m\u001b[1;33m]\u001b[0m\u001b[1;33m]\u001b[0m\u001b[1;33m)\u001b[0m\u001b[1;33m\u001b[0m\u001b[1;33m\u001b[0m\u001b[0m\n\u001b[0m\u001b[0;32m     23\u001b[0m \u001b[0mmul\u001b[0m\u001b[1;33m\u001b[0m\u001b[1;33m\u001b[0m\u001b[0m\n\u001b[0;32m     24\u001b[0m \u001b[1;33m\u001b[0m\u001b[0m\n",
      "\u001b[1;32m~\\anaconda3\\lib\\site-packages\\numpy\\matrixlib\\defmatrix.py\u001b[0m in \u001b[0;36m__new__\u001b[1;34m(subtype, data, dtype, copy)\u001b[0m\n\u001b[0;32m    149\u001b[0m         \u001b[0mshape\u001b[0m \u001b[1;33m=\u001b[0m \u001b[0marr\u001b[0m\u001b[1;33m.\u001b[0m\u001b[0mshape\u001b[0m\u001b[1;33m\u001b[0m\u001b[1;33m\u001b[0m\u001b[0m\n\u001b[0;32m    150\u001b[0m         \u001b[1;32mif\u001b[0m \u001b[1;33m(\u001b[0m\u001b[0mndim\u001b[0m \u001b[1;33m>\u001b[0m \u001b[1;36m2\u001b[0m\u001b[1;33m)\u001b[0m\u001b[1;33m:\u001b[0m\u001b[1;33m\u001b[0m\u001b[1;33m\u001b[0m\u001b[0m\n\u001b[1;32m--> 151\u001b[1;33m             \u001b[1;32mraise\u001b[0m \u001b[0mValueError\u001b[0m\u001b[1;33m(\u001b[0m\u001b[1;34m\"matrix must be 2-dimensional\"\u001b[0m\u001b[1;33m)\u001b[0m\u001b[1;33m\u001b[0m\u001b[1;33m\u001b[0m\u001b[0m\n\u001b[0m\u001b[0;32m    152\u001b[0m         \u001b[1;32melif\u001b[0m \u001b[0mndim\u001b[0m \u001b[1;33m==\u001b[0m \u001b[1;36m0\u001b[0m\u001b[1;33m:\u001b[0m\u001b[1;33m\u001b[0m\u001b[1;33m\u001b[0m\u001b[0m\n\u001b[0;32m    153\u001b[0m             \u001b[0mshape\u001b[0m \u001b[1;33m=\u001b[0m \u001b[1;33m(\u001b[0m\u001b[1;36m1\u001b[0m\u001b[1;33m,\u001b[0m \u001b[1;36m1\u001b[0m\u001b[1;33m)\u001b[0m\u001b[1;33m\u001b[0m\u001b[1;33m\u001b[0m\u001b[0m\n",
      "\u001b[1;31mValueError\u001b[0m: matrix must be 2-dimensional"
     ]
    }
   ],
   "source": [
    "# Extra Credits\n",
    "# 5.Given two matrices:\n",
    "import numpy as np\n",
    "arr1 = np.matrix([[4,5],[7,3]])\n",
    "arr2 = np.matrix([[2,3],[8,9]])\n",
    "\n",
    "a00=arr1[0,:1] #4\n",
    "a01=arr1[0,1:] #5\n",
    "a10=arr1[1,:1] #7\n",
    "a11=arr1[1,1:] #3\n",
    "\n",
    "b00=arr2[0,:1] #2\n",
    "b01=arr2[0,1:] #3\n",
    "b10=arr2[1,:1] #8\n",
    "b11=arr2[1,1:] #9\n",
    "\n",
    "c00=a00*b00+a01*b10\n",
    "c01=a00*b01+a01*b11\n",
    "c10=a10*b00+a11*b10\n",
    "c11=a10*b01+a11*b11\n",
    "\n",
    "mul=np.matrix([[c00,c01],[c10,c11]])\n",
    "mul\n",
    "\n",
    "# Find out the matrix multiplication of the above two matrices without using numpy function and then verify your answer \n",
    "# using np.dot(arr1,arr2) function"
   ]
  },
  {
   "cell_type": "code",
   "execution_count": 2,
   "metadata": {},
   "outputs": [
    {
     "data": {
      "text/plain": [
       "array([[[[48]],\n",
       "\n",
       "        [[57]]],\n",
       "\n",
       "\n",
       "       [[[38]],\n",
       "\n",
       "        [[48]]]], dtype=object)"
      ]
     },
     "execution_count": 2,
     "metadata": {},
     "output_type": "execute_result"
    }
   ],
   "source": [
    "mul"
   ]
  },
  {
   "cell_type": "code",
   "execution_count": null,
   "metadata": {
    "colab": {},
    "colab_type": "code",
    "id": "W-wTdRu6F0tt"
   },
   "outputs": [],
   "source": [
    "arr1 = ([[4,5],[7,3],[2,2]])\n",
    "arr2 = ([[2,3,3],[8,9,3]])\n",
    "\n",
    "result=[[0 for p in range(len(arr2[0]))] for q in range(len(arr1))]\n",
    "\n",
    "#iterate through the rows of X\n",
    "for i in range(len(arr1)):\n",
    "    #iterate through the columns of Y\n",
    "    for j in range(len(arr2[0])):\n",
    "        #iterate through rows of Y\n",
    "        for k in range(len(arr2)):\n",
    "            result[i][j]+=arr1[i][k]*arr2[k][j]\n",
    "result\n"
   ]
  },
  {
   "cell_type": "code",
   "execution_count": null,
   "metadata": {},
   "outputs": [],
   "source": [
    "def getMatrix(name):\n",
    "    matrixcreated=[]\n",
    "    i=0\n",
    "    while True:\n",
    "        i+=1\n",
    "        row=input('\\n Enter elements in row %s of Matrix %s (seperate by commas)\\n Or -1 to exit: '%(i,name))\n",
    "        if row=='-1':\n",
    "            break\n",
    "        else:\n",
    "            strList=row.split(',')\n",
    "            matrixcreated.append(list(map(int,strList)))\n",
    "    return matrixcreated\n",
    "\n",
    "matrixA=getMatrix('A')\n",
    "matrixB=getMatrix('B')"
   ]
  },
  {
   "cell_type": "code",
   "execution_count": null,
   "metadata": {},
   "outputs": [],
   "source": []
  },
  {
   "cell_type": "markdown",
   "metadata": {},
   "source": [
    "\n"
   ]
  },
  {
   "cell_type": "code",
   "execution_count": null,
   "metadata": {},
   "outputs": [],
   "source": []
  },
  {
   "cell_type": "code",
   "execution_count": null,
   "metadata": {},
   "outputs": [],
   "source": []
  },
  {
   "cell_type": "code",
   "execution_count": 5,
   "metadata": {},
   "outputs": [
    {
     "name": "stdout",
     "output_type": "stream",
     "text": [
      "Enter elements of row 1 for matrix A \n",
      " Or -1 to exit: 4,5\n",
      "Enter elements of row 2 for matrix A \n",
      " Or -1 to exit: 7,5\n",
      "Enter elements of row 3 for matrix A \n",
      " Or -1 to exit: -1\n",
      "<class 'list'>\n",
      "Enter elements of row 1 for matrix B \n",
      " Or -1 to exit: 2,3\n",
      "Enter elements of row 2 for matrix B \n",
      " Or -1 to exit: 8,9\n",
      "Enter elements of row 3 for matrix B \n",
      " Or -1 to exit: -1\n",
      "<class 'list'>\n",
      "[[48, 57], [54, 66]]\n"
     ]
    }
   ],
   "source": [
    "def getmatrix(name):\n",
    "    matrixcreated=[]\n",
    "    i=0\n",
    "    while True:\n",
    "        i+=1\n",
    "        row=input('Enter elements of row %s for matrix %s \\n Or -1 to exit: '%(i,name))\n",
    "        if row=='-1':\n",
    "            break\n",
    "        else:\n",
    "            strlist=row.split(',')\n",
    "            matrixcreated.append(list(map(int,strlist)))\n",
    "    return matrixcreated\n",
    "\n",
    "A=getmatrix('A')\n",
    "print(type(A))\n",
    "B=getmatrix('B')\n",
    "print(type(B))\n",
    "result=[[0 for p in range(len(B[0]))] for q in range(len(A))]\n",
    "\n",
    "for i in range(len(A)):\n",
    "    for j in range(len(B[0])):\n",
    "        for k in range(len(B)):\n",
    "            result[i][j]+=A[i][k]*B[k][j]\n",
    "\n",
    "print(result)"
   ]
  },
  {
   "cell_type": "markdown",
   "metadata": {},
   "source": [
    " np.matrix(result)"
   ]
  },
  {
   "cell_type": "code",
   "execution_count": 6,
   "metadata": {},
   "outputs": [
    {
     "data": {
      "text/plain": [
       "matrix([[48, 57],\n",
       "        [54, 66]])"
      ]
     },
     "execution_count": 6,
     "metadata": {},
     "output_type": "execute_result"
    }
   ],
   "source": [
    "np.matrix(result)"
   ]
  },
  {
   "cell_type": "code",
   "execution_count": 7,
   "metadata": {},
   "outputs": [
    {
     "name": "stdout",
     "output_type": "stream",
     "text": [
      "<class 'list'>\n"
     ]
    }
   ],
   "source": [
    "print(type(result))"
   ]
  },
  {
   "cell_type": "code",
   "execution_count": null,
   "metadata": {},
   "outputs": [],
   "source": []
  }
 ],
 "metadata": {
  "colab": {
   "collapsed_sections": [],
   "name": "M4_ Assignment.ipynb",
   "provenance": []
  },
  "kernelspec": {
   "display_name": "Python 3",
   "language": "python",
   "name": "python3"
  },
  "language_info": {
   "codemirror_mode": {
    "name": "ipython",
    "version": 3
   },
   "file_extension": ".py",
   "mimetype": "text/x-python",
   "name": "python",
   "nbconvert_exporter": "python",
   "pygments_lexer": "ipython3",
   "version": "3.8.3"
  }
 },
 "nbformat": 4,
 "nbformat_minor": 1
}
