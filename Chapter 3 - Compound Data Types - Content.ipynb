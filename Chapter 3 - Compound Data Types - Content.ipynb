{
 "cells": [
  {
   "cell_type": "markdown",
   "metadata": {
    "colab_type": "text",
    "id": "3atkvilg9sMw"
   },
   "source": [
    "# Compound Data Types\n",
    "\n",
    "Hello!\n",
    "\n",
    "In this chapter we are going to explore the different types of Compound Data Types such as set, tuples, lists, dictionaries and the various concepts associated with these data types.\n",
    "\n",
    "First question which would arise in anyone's mind would be: \n",
    "\n",
    "**What is the meaning of compound data types?**\n",
    "\n",
    "In computer science, a composite data type or compound data type is any data type which can be constructed in a program using the programming language's primitive data types and other composite types\n",
    "\n",
    "Lists, sets, tuples and dictionaries are also called data structures.\n",
    "\n",
    "A data structure is a specialized format for organizing and storing data. Any data structure is designed to organize data to suit a specific purpose so that it can be accessed and worked with in appropriate ways.\n",
    "\n",
    "For reference:\n",
    "https://docs.python.org/3/library/stdtypes.html#sequence-types-list-tuple-range\n",
    "<br>https://docs.python.org/3/library/stdtypes.html#set-types-set-frozenset\n",
    "\n",
    "In this lecture we'll learn about the following:\n",
    "\n",
    "1. Lists\n",
    "2. Tuples\n",
    "3. Dictionaries\n",
    "4. Sets \n",
    "\n",
    "**Lets begin**\n"
   ]
  },
  {
   "cell_type": "markdown",
   "metadata": {
    "colab_type": "text",
    "id": "1zsBy3ot9sMy"
   },
   "source": [
    "# Lists"
   ]
  },
  {
   "cell_type": "markdown",
   "metadata": {
    "colab_type": "text",
    "id": "OwVwiksM9sM1"
   },
   "source": [
    "Lists are collection of objects which can be of same or different datatype.\n",
    "<br> Lists can be very useful in many situations.\n",
    "<font color=green>### Example</font>\n",
    "<br> Suppose in a class, teacher has to store information of a student of the form name, roll number, marks then its convenient to store in 3 variables but suppose there are 25 students then the number of variables will be 25 x 3 = 75,\n",
    "this will increase a toll on the teacher, so its better to store in 3 lists.  \n",
    "\n",
    "Earlier when discussing strings we introduced the concept of a sequence in Python. On the same lines we can say that lists are general form of sequence in Python. Unlike strings, they are mutable, meaning the **elements inside a list can be changed!**\n",
    "\n",
    "By mutable we mean that, the elements in the list can deleted, swapped, replaced also new elements can be added.\n",
    "\n",
    "If you are familiar with another programming language, you might start to draw parallels between arrays in another language and lists in Python. Lists in Python however, tend to be more flexible than arrays in other languages for a two good reasons: they have no fixed size (meaning we don't have to specify how big a list will be), and they have no fixed type constraint (like we've seen above).\n",
    "\n",
    "When can lists be used?\n",
    "<br> Lists can be used to store collection of objects of same or different datatype.\n",
    "\n",
    "In this section we will learn about:\n",
    "\n",
    "1. Creating lists\n",
    "2. Indexing and Slicing Lists\n",
    "3. Basic List Methods\n",
    "4. Nesting Lists\n",
    "5. Introduction to List Comprehensions\n",
    "\n",
    "For reference:\n",
    "https://docs.python.org/3/library/stdtypes.html#sequence-types-list-tuple-range"
   ]
  },
  {
   "cell_type": "markdown",
   "metadata": {
    "colab_type": "text",
    "id": "GkM_0BnG9sM3"
   },
   "source": [
    "## 1. Creating Lists\n",
    "\n",
    "Lists are constructed with brackets [] and commas separating every element in the list.\n",
    "\n",
    "Let's go ahead and see what can we do with lists!"
   ]
  },
  {
   "cell_type": "code",
   "execution_count": 1,
   "metadata": {
    "colab": {},
    "colab_type": "code",
    "executionInfo": {
     "elapsed": 2143,
     "status": "ok",
     "timestamp": 1598087254977,
     "user": {
      "displayName": "Kṛṣṇa solutions",
      "photoUrl": "",
      "userId": "14911029245911425813"
     },
     "user_tz": -330
    },
    "id": "D9ZW0wl59sM4"
   },
   "outputs": [],
   "source": [
    "# Assign a list to an variable named my_list\n",
    "\n",
    "my_list = [1,2,3]\n",
    "\n",
    "list = [8,9,0]"
   ]
  },
  {
   "cell_type": "code",
   "execution_count": 2,
   "metadata": {
    "colab": {},
    "colab_type": "code",
    "id": "6UlJDf7b9sNI",
    "outputId": "867a1638-972e-470e-cab0-432c1f55175c"
   },
   "outputs": [
    {
     "data": {
      "text/plain": [
       "[1, 2, 3]"
      ]
     },
     "execution_count": 2,
     "metadata": {},
     "output_type": "execute_result"
    }
   ],
   "source": [
    "# Show\n",
    "\n",
    "my_list"
   ]
  },
  {
   "cell_type": "code",
   "execution_count": 3,
   "metadata": {
    "colab": {},
    "colab_type": "code",
    "id": "6pygX_tT9sNY"
   },
   "outputs": [],
   "source": [
    "# Creating 3 lists based on the example given above.\n",
    "\n",
    "student_names = [\"John\" ,\"Jane\", \"Amita\", \"Amit\", \"Ram\"]\n",
    "student_roll_nos = [11,22,32,44,77]\n",
    "student_marks = [20,19,11,15,16]"
   ]
  },
  {
   "cell_type": "code",
   "execution_count": 4,
   "metadata": {
    "colab": {},
    "colab_type": "code",
    "id": "oq92ydMz9sNg",
    "outputId": "0c6e1722-6fdc-417c-ae06-094e5e00241a"
   },
   "outputs": [
    {
     "name": "stdout",
     "output_type": "stream",
     "text": [
      "['John', 'Jane', 'Amita', 'Amit', 'Ram']\n",
      "[11, 22, 32, 44, 77]\n",
      "[20, 19, 11, 15, 16]\n"
     ]
    }
   ],
   "source": [
    "# show all 3 lists\n",
    "\n",
    "print(student_names)\n",
    "print(student_roll_nos)\n",
    "print(student_marks)"
   ]
  },
  {
   "cell_type": "markdown",
   "metadata": {
    "colab_type": "text",
    "id": "T0jg9yGl9sNv"
   },
   "source": [
    "Another **special property** of lists is that it can hold different types of objects. \n",
    "<br> Although you might not find this property very useful. Keep it for those rare times.\n",
    "<br> For example :"
   ]
  },
  {
   "cell_type": "code",
   "execution_count": 5,
   "metadata": {
    "colab": {},
    "colab_type": "code",
    "id": "spULSQTw9sNx"
   },
   "outputs": [],
   "source": [
    "my_list = ['Welcome',2,'a new chapter',3.1]"
   ]
  },
  {
   "cell_type": "markdown",
   "metadata": {
    "colab_type": "text",
    "id": "ZuAbmbMy9sOC"
   },
   "source": [
    "Here 'Welcome' is string,\n",
    "      2 is an integer,\n",
    "      'a new chapter' is string,\n",
    "      3.1 is a float"
   ]
  },
  {
   "cell_type": "code",
   "execution_count": 6,
   "metadata": {
    "colab": {},
    "colab_type": "code",
    "id": "Ci_kOPkO9sOE",
    "outputId": "c279c0f0-c8cf-41dc-f9c2-d5794ab1d2df"
   },
   "outputs": [
    {
     "data": {
      "text/plain": [
       "['Welcome', 2, 'a new chapter', 3.1]"
      ]
     },
     "execution_count": 6,
     "metadata": {},
     "output_type": "execute_result"
    }
   ],
   "source": [
    "# show\n",
    "my_list"
   ]
  },
  {
   "cell_type": "markdown",
   "metadata": {
    "colab_type": "text",
    "id": "Pcp3LahK9sOW"
   },
   "source": [
    "### Creating a list of repeatable elements\n",
    "\n",
    "<font color=green>### Example</font>\n",
    "<br> Suppose you have enrolled for Python Programming course in Digital Vidya. Once you submit your assignment, the admin team keeps a record of your submissions.\n",
    "<br> It will create a list of 15 assignments marked as N initially, later as they are submitted,corresponding assignment is marked as 'Y'. \n"
   ]
  },
  {
   "cell_type": "code",
   "execution_count": 7,
   "metadata": {
    "colab": {},
    "colab_type": "code",
    "id": "sV9BT1pt9sOX"
   },
   "outputs": [],
   "source": [
    "# Complete list initialized as 'N'\n",
    "\n",
    "submission = ['N']*15 \n"
   ]
  },
  {
   "cell_type": "code",
   "execution_count": 8,
   "metadata": {
    "colab": {},
    "colab_type": "code",
    "id": "VwqrQpdB9sOl",
    "outputId": "5fc5965a-1fd6-46f5-d578-84bdb3aa83b4"
   },
   "outputs": [
    {
     "data": {
      "text/plain": [
       "['N', 'N', 'N', 'N', 'N', 'N', 'N', 'N', 'N', 'N', 'N', 'N', 'N', 'N', 'N']"
      ]
     },
     "execution_count": 8,
     "metadata": {},
     "output_type": "execute_result"
    }
   ],
   "source": [
    "# Show submission list\n",
    "\n",
    "submission"
   ]
  },
  {
   "cell_type": "markdown",
   "metadata": {
    "colab_type": "text",
    "id": "ciXLvMzB9sOx"
   },
   "source": [
    "## Indexing and Slicing\n",
    "\n",
    "Indexing and slicing works just like in strings. Try to recall the process of slicing in strings, a very similar process happens in lists.\n",
    "<br>If you understood string indexing and slicing very well, this is a piece of cake for you. \n",
    "\n",
    "<font color=green>### Example</font>\n",
    "<br>Indexing and Slicing can be useful in cases like retrieve the name of last 25 students or \n",
    "<br> Suppose you have a list of 50 names and you want the name of 25th student then indexing will come in handy."
   ]
  },
  {
   "cell_type": "code",
   "execution_count": 9,
   "metadata": {
    "colab": {},
    "colab_type": "code",
    "id": "zhuqeyl59sO0",
    "outputId": "3232e788-0aaf-4854-a8b2-15beae608db5",
    "scrolled": true
   },
   "outputs": [
    {
     "name": "stdout",
     "output_type": "stream",
     "text": [
      "John\n",
      "11\n",
      "20\n"
     ]
    }
   ],
   "source": [
    "# Grab all the information of the first student in all 3 lists.\n",
    "\n",
    "print(student_names[0])\n",
    "print(student_roll_nos[0])\n",
    "print(student_marks[0])"
   ]
  },
  {
   "cell_type": "markdown",
   "metadata": {
    "colab_type": "text",
    "id": "ZPDuzBxq9sPA"
   },
   "source": [
    "Just like strings you can go backwards using negative indexes"
   ]
  },
  {
   "cell_type": "code",
   "execution_count": 10,
   "metadata": {
    "colab": {},
    "colab_type": "code",
    "id": "_pA9X0nX9sPD",
    "outputId": "e3696f87-bc9d-4b1f-93c9-5b66058ed50b"
   },
   "outputs": [
    {
     "name": "stdout",
     "output_type": "stream",
     "text": [
      "Ram\n",
      "77\n",
      "16\n"
     ]
    }
   ],
   "source": [
    "# Grab all the information of the last student in all 3 lists.\n",
    "\n",
    "print(student_names[-1])\n",
    "print(student_roll_nos[-1])\n",
    "print(student_marks[-1])"
   ]
  },
  {
   "cell_type": "markdown",
   "metadata": {
    "colab_type": "text",
    "id": "xN4LwbSv9sPN"
   },
   "source": [
    "It should also be noted that lists indexing will return an error if there is no element at that index. For example:"
   ]
  },
  {
   "cell_type": "code",
   "execution_count": 11,
   "metadata": {
    "colab": {},
    "colab_type": "code",
    "id": "pcWTRSBH9sPQ",
    "outputId": "6fcd012b-d6e2-4660-e770-3e4419a77ee2"
   },
   "outputs": [
    {
     "ename": "IndexError",
     "evalue": "list index out of range",
     "output_type": "error",
     "traceback": [
      "\u001b[1;31m---------------------------------------------------------------------------\u001b[0m",
      "\u001b[1;31mIndexError\u001b[0m                                Traceback (most recent call last)",
      "\u001b[1;32m<ipython-input-11-2b9f81551c6a>\u001b[0m in \u001b[0;36m<module>\u001b[1;34m\u001b[0m\n\u001b[1;32m----> 1\u001b[1;33m \u001b[0mstudent_names\u001b[0m\u001b[1;33m[\u001b[0m\u001b[1;36m100\u001b[0m\u001b[1;33m]\u001b[0m\u001b[1;33m\u001b[0m\u001b[1;33m\u001b[0m\u001b[0m\n\u001b[0m",
      "\u001b[1;31mIndexError\u001b[0m: list index out of range"
     ]
    }
   ],
   "source": [
    "student_names[100]"
   ]
  },
  {
   "cell_type": "markdown",
   "metadata": {
    "colab_type": "text",
    "id": "QJEEzg-g9sPn"
   },
   "source": [
    "<font color=red>### INSTRUCTION TO DO</font>\n",
    "<br> Try accessing the information of the second student in all 3 lists.\n",
    "<br> Add new cells if required and practice\n"
   ]
  },
  {
   "cell_type": "code",
   "execution_count": null,
   "metadata": {
    "colab": {},
    "colab_type": "code",
    "id": "P7xD1KwP9sPz"
   },
   "outputs": [],
   "source": []
  },
  {
   "cell_type": "code",
   "execution_count": 12,
   "metadata": {
    "colab": {},
    "colab_type": "code",
    "id": "BrgwrzQ29sP8",
    "outputId": "58b72de9-4a54-4b46-cfae-99bc25f9a39d"
   },
   "outputs": [
    {
     "name": "stdout",
     "output_type": "stream",
     "text": [
      "['Jane', 'Amita', 'Amit', 'Ram']\n",
      "[22, 32, 44, 77]\n",
      "[19, 11, 15, 16]\n"
     ]
    }
   ],
   "source": [
    "# Grab all the information of all the students after the first student.\n",
    "\n",
    "print(student_names[1:])\n",
    "print(student_roll_nos[1:])\n",
    "print(student_marks[1:])"
   ]
  },
  {
   "cell_type": "code",
   "execution_count": 13,
   "metadata": {
    "colab": {},
    "colab_type": "code",
    "id": "frDxQULD9sQE",
    "outputId": "8859d181-3aa2-4910-d08b-b72c693781c1"
   },
   "outputs": [
    {
     "name": "stdout",
     "output_type": "stream",
     "text": [
      "['John', 'Jane', 'Amita', 'Amit']\n",
      "[11, 22, 32, 44]\n",
      "[20, 19, 11, 15]\n"
     ]
    }
   ],
   "source": [
    "# Grab all the information of all the students uptil the 4th student.\n",
    "\n",
    "print(student_names[:4])\n",
    "print(student_roll_nos[:4])\n",
    "print(student_marks[:4])"
   ]
  },
  {
   "cell_type": "markdown",
   "metadata": {
    "colab_type": "text",
    "id": "GH9JUIgh9sQK"
   },
   "source": [
    "Just like strings you can go backwards by performing slicing using negative indexes"
   ]
  },
  {
   "cell_type": "markdown",
   "metadata": {
    "colab_type": "text",
    "id": "DXhL--gq9sQL"
   },
   "source": [
    "**Just a reminder** : The format is [start : stop : increment]\n",
    "<br> You will get elements beginning from start and ending at (stop - 1) index."
   ]
  },
  {
   "cell_type": "code",
   "execution_count": 14,
   "metadata": {
    "colab": {},
    "colab_type": "code",
    "id": "m6RAEooc9sQN",
    "outputId": "0d5755f2-a218-471f-ccf1-a2757da451ec"
   },
   "outputs": [
    {
     "name": "stdout",
     "output_type": "stream",
     "text": [
      "['John', 'Amita', 'Ram']\n",
      "[11, 32, 77]\n",
      "[20, 11, 16]\n"
     ]
    }
   ],
   "source": [
    "# Grab all the information of all the alternate students.\n",
    "\n",
    "print(student_names[: : 2])\n",
    "print(student_roll_nos[:: 2])\n",
    "print(student_marks[::2])"
   ]
  },
  {
   "cell_type": "code",
   "execution_count": 15,
   "metadata": {
    "colab": {},
    "colab_type": "code",
    "id": "HaOOVO8b9sQV",
    "outputId": "d3e35e54-bce9-4b06-c230-c4dc1ec128e0"
   },
   "outputs": [
    {
     "name": "stdout",
     "output_type": "stream",
     "text": [
      "['Ram', 'Amit', 'Amita', 'Jane', 'John']\n",
      "[77, 44, 32, 22, 11]\n",
      "[16, 15, 11, 19, 20]\n"
     ]
    }
   ],
   "source": [
    "# Grab all the information of all the students in reverse order.\n",
    "\n",
    "print(student_names[: : -1])\n",
    "print(student_roll_nos[:: -1])\n",
    "print(student_marks[::-1])"
   ]
  },
  {
   "cell_type": "markdown",
   "metadata": {
    "colab_type": "text",
    "id": "MBk9ywUn9sQa"
   },
   "source": [
    "We can also use + to concatenate lists, just like we did for strings.\n",
    "<br> Group B of 5 students will be concatenated into 1 common list."
   ]
  },
  {
   "cell_type": "code",
   "execution_count": 16,
   "metadata": {
    "colab": {},
    "colab_type": "code",
    "id": "Qqie3WuZ9sQa"
   },
   "outputs": [],
   "source": [
    "# Lets save the above lists in a new group A\n",
    "\n",
    "student_names_groupA = student_names\n",
    "student_roll_nos_groupA = student_roll_nos\n",
    "student_marks_groupA = student_marks"
   ]
  },
  {
   "cell_type": "code",
   "execution_count": 17,
   "metadata": {
    "colab": {},
    "colab_type": "code",
    "id": "E68qN_7_9sQh"
   },
   "outputs": [],
   "source": [
    "# Lets create group B lists\n",
    "\n",
    "student_names_groupB = ['Jaya','Sagar','Simran','Aditya','Gautam']\n",
    "student_roll_nos_groupB = [1,4,7,8,9,14]\n",
    "student_marks_groupB = [20,11,14,17,18]"
   ]
  },
  {
   "cell_type": "code",
   "execution_count": 18,
   "metadata": {
    "colab": {},
    "colab_type": "code",
    "id": "HAReJm2d9sQm",
    "outputId": "6df2cf93-c9e6-45ea-8237-3eeec6087a3f"
   },
   "outputs": [
    {
     "name": "stdout",
     "output_type": "stream",
     "text": [
      "['John', 'Jane', 'Amita', 'Amit', 'Ram', 'Jaya', 'Sagar', 'Simran', 'Aditya', 'Gautam']\n",
      "[11, 22, 32, 44, 77, 1, 4, 7, 8, 9, 14]\n",
      "[20, 19, 11, 15, 16, 20, 11, 14, 17, 18]\n"
     ]
    }
   ],
   "source": [
    "# Lets concatenate the two groups \n",
    "\n",
    "print(student_names_groupA + student_names_groupB)\n",
    "print(student_roll_nos_groupA + student_roll_nos_groupB)\n",
    "print(student_marks_groupA + student_marks_groupB)"
   ]
  },
  {
   "cell_type": "markdown",
   "metadata": {
    "colab_type": "text",
    "id": "0rRl9dqR9sQq"
   },
   "source": [
    "Note: The original list is intact!"
   ]
  },
  {
   "cell_type": "code",
   "execution_count": 19,
   "metadata": {
    "colab": {},
    "colab_type": "code",
    "id": "JoRvMjIM9sQr",
    "outputId": "2945d7ee-497c-4373-9bdb-7ce66050d911"
   },
   "outputs": [
    {
     "name": "stdout",
     "output_type": "stream",
     "text": [
      "Group A\n",
      "['John', 'Jane', 'Amita', 'Amit', 'Ram']\n",
      "[11, 22, 32, 44, 77]\n",
      "[20, 19, 11, 15, 16]\n",
      "\n",
      "Group B\n",
      "['Jaya', 'Sagar', 'Simran', 'Aditya', 'Gautam']\n",
      "[1, 4, 7, 8, 9, 14]\n",
      "[20, 11, 14, 17, 18]\n"
     ]
    }
   ],
   "source": [
    "#Show\n",
    "\n",
    "print(\"Group A\")\n",
    "print(student_names_groupA)\n",
    "print(student_roll_nos_groupA)\n",
    "print(student_marks_groupA)\n",
    "\n",
    "print()\n",
    "\n",
    "print(\"Group B\")\n",
    "print(student_names_groupB)\n",
    "print(student_roll_nos_groupB)\n",
    "print(student_marks_groupB)"
   ]
  },
  {
   "cell_type": "markdown",
   "metadata": {
    "colab_type": "text",
    "id": "UNRyzsh59sQ0"
   },
   "source": [
    "You would have to reassign the list to make the change permanent."
   ]
  },
  {
   "cell_type": "code",
   "execution_count": 20,
   "metadata": {
    "colab": {},
    "colab_type": "code",
    "id": "9RSt_G7R9sQ1"
   },
   "outputs": [],
   "source": [
    "# Reassign the 3 lists\n",
    "\n",
    "reassigned_names = student_names_groupA + student_names_groupB\n",
    "reassigned_roll_nos = student_roll_nos_groupA + student_roll_nos_groupB\n",
    "reassigned_marks = student_marks_groupA + student_marks_groupB"
   ]
  },
  {
   "cell_type": "code",
   "execution_count": 21,
   "metadata": {
    "colab": {},
    "colab_type": "code",
    "id": "_YFAjjEe9sQ8",
    "outputId": "c189a0c1-1472-4909-dca5-3af55fadfec8"
   },
   "outputs": [
    {
     "name": "stdout",
     "output_type": "stream",
     "text": [
      "['John', 'Jane', 'Amita', 'Amit', 'Ram', 'Jaya', 'Sagar', 'Simran', 'Aditya', 'Gautam']\n",
      "[11, 22, 32, 44, 77, 1, 4, 7, 8, 9, 14]\n",
      "[20, 19, 11, 15, 16, 20, 11, 14, 17, 18]\n"
     ]
    }
   ],
   "source": [
    "#Show\n",
    "\n",
    "print(reassigned_names)\n",
    "print(reassigned_roll_nos)\n",
    "print(reassigned_marks)"
   ]
  },
  {
   "cell_type": "markdown",
   "metadata": {
    "colab_type": "text",
    "id": "M9-3Nxrp9sRD"
   },
   "source": [
    "<font color=red>### INSTRUCTION TO DO</font>\n",
    "\n",
    "Add a student to the reassigned lists with name \"Amitabh\", roll no. 42, marks 15. \n",
    "<br> Try applying slicing on the above newly created reassigned lists for your practice.\n",
    "<br> Add new cells if required and practice"
   ]
  },
  {
   "cell_type": "code",
   "execution_count": null,
   "metadata": {
    "colab": {},
    "colab_type": "code",
    "id": "jyQRFmve9sRF"
   },
   "outputs": [],
   "source": []
  },
  {
   "cell_type": "markdown",
   "metadata": {
    "colab_type": "text",
    "id": "9ZxWWEvW9sRL"
   },
   "source": [
    "# List Methods\n",
    "\n",
    "Remember one thing : \n",
    "<br> You **don't** need to remember all methods, you can enter list name and then enter a dot and then Press Tab that will give all the suggestions for different methods.\n",
    "<br> Also, you **don't** need to remember all parameters that can be passed to methods, you can enter list_name.method_name() then inside the parenthesis Press Shift + Tab that will give detailed documentation for all the parameters that can be passed to a function.\n",
    "\n",
    "For reference:\n",
    "https://docs.python.org/3/tutorial/datastructures.html#more-on-lists\n",
    "\n",
    "Let's go ahead and explore some methods for lists:"
   ]
  },
  {
   "cell_type": "markdown",
   "metadata": {
    "colab_type": "text",
    "id": "2z0A5APD9sRL"
   },
   "source": [
    "### Append method\n",
    "\n",
    "The append method can be used to add elements to the list permanently so you don't need to add elements and keep reassigning.\n",
    "\n",
    "**This method is useful when you want to add one element to the list.** You can directly append an element to the list no need to reassign.\n",
    "\n",
    "<font color=green>### Example</font>\n",
    "<br> Suppose a new student has joined group A then his name can be appended to list of names,roll number can be appended to list of roll numbers, marks can be appended to list of marks. \n",
    "<br> New student's name is Rajiv, roll number is 39, marks is 13."
   ]
  },
  {
   "cell_type": "code",
   "execution_count": 22,
   "metadata": {
    "colab": {},
    "colab_type": "code",
    "id": "BQ7y7VHa9sRM"
   },
   "outputs": [],
   "source": [
    "# Append\n",
    "\n",
    "student_names_groupA.append('Rajiv')\n",
    "\n",
    "student_roll_nos_groupA.append(39)\n",
    "\n",
    "student_marks_groupA.append(13)"
   ]
  },
  {
   "cell_type": "code",
   "execution_count": 23,
   "metadata": {
    "colab": {},
    "colab_type": "code",
    "id": "Gj-OjqCy9sRT",
    "outputId": "dcb553b2-a890-48a7-958d-ba2b816ebe12"
   },
   "outputs": [
    {
     "name": "stdout",
     "output_type": "stream",
     "text": [
      "Group A\n",
      "['John', 'Jane', 'Amita', 'Amit', 'Ram', 'Rajiv']\n",
      "[11, 22, 32, 44, 77, 39]\n",
      "[20, 19, 11, 15, 16, 13]\n"
     ]
    }
   ],
   "source": [
    "# Show\n",
    "\n",
    "print(\"Group A\")\n",
    "print(student_names_groupA)\n",
    "print(student_roll_nos_groupA)\n",
    "print(student_marks_groupA)\n"
   ]
  },
  {
   "cell_type": "markdown",
   "metadata": {
    "colab_type": "text",
    "id": "RHeSxr1p9sRb"
   },
   "source": [
    "### Extend method\n",
    "\n",
    "The extend method can also be used to add elements to the list permanently so you don't need to add elements and keep reassigning.\n",
    "<br> **This method is useful when you want to add more than one elements to the list.** \n",
    "<br> You can directly append an element to the list no need to reassign.\n",
    "<br> This is similar to concatenation of lists with the key difference being that the original list gets modified. \n",
    "\n",
    "<font color=green>### Example</font>\n",
    "<br> Suppose a two students have joined group A their names are Rahul,Sanjeev and their roll nos are 51,81 and their marks are 19,18. Thus the 3 lists need to be updated accordingly. \n"
   ]
  },
  {
   "cell_type": "code",
   "execution_count": 24,
   "metadata": {
    "colab": {},
    "colab_type": "code",
    "id": "yPmlR0MW9sRb"
   },
   "outputs": [],
   "source": [
    "# Creating 3 lists of the two students.\n",
    "\n",
    "new_student_names = [\"Rahul\",\"Sanjeev\"]\n",
    "new_student_roll_nos = [51,81]\n",
    "new_student_marks = [19,18]"
   ]
  },
  {
   "cell_type": "code",
   "execution_count": 25,
   "metadata": {
    "colab": {},
    "colab_type": "code",
    "id": "KbDqLUrg9sRi"
   },
   "outputs": [],
   "source": [
    "# Extend\n",
    "\n",
    "student_names_groupA.extend(new_student_names)\n",
    "\n",
    "student_roll_nos_groupA.extend(new_student_roll_nos)\n",
    "\n",
    "student_marks_groupA.extend(new_student_marks)"
   ]
  },
  {
   "cell_type": "code",
   "execution_count": 26,
   "metadata": {
    "colab": {},
    "colab_type": "code",
    "id": "FMJZx6SV9sRp",
    "outputId": "455a574c-2441-43db-918f-58fdd616dc8e"
   },
   "outputs": [
    {
     "name": "stdout",
     "output_type": "stream",
     "text": [
      "Group A\n",
      "['John', 'Jane', 'Amita', 'Amit', 'Ram', 'Rajiv', 'Rahul', 'Sanjeev']\n",
      "[11, 22, 32, 44, 77, 39, 51, 81]\n",
      "[20, 19, 11, 15, 16, 13, 19, 18]\n"
     ]
    }
   ],
   "source": [
    "# Show\n",
    "\n",
    "print(\"Group A\")\n",
    "print(student_names_groupA)\n",
    "print(student_roll_nos_groupA)\n",
    "print(student_marks_groupA)\n"
   ]
  },
  {
   "cell_type": "markdown",
   "metadata": {
    "colab_type": "text",
    "id": "Z0EAgkBg9sRs"
   },
   "source": [
    "### Pop method\n",
    "\n",
    "Use pop to \"pop off\" or remove an item from the list. By default pop takes off the last index (length of list - 1), but you can also specify which index to pop off. \n",
    "\n",
    "<font color=green>### Example</font>\n",
    "<br> Suppose a student has left the group then his details removed or popped off from the 3 lists.\n",
    "\n",
    "Let's see an example:\n",
    "<br> John has left group A due to personal reasons."
   ]
  },
  {
   "cell_type": "code",
   "execution_count": 27,
   "metadata": {
    "colab": {},
    "colab_type": "code",
    "id": "h-6XDNCK9sRt",
    "outputId": "a6cde080-043d-474a-d91d-fe6287778b39"
   },
   "outputs": [
    {
     "name": "stdout",
     "output_type": "stream",
     "text": [
      "John\n",
      "11\n",
      "20\n"
     ]
    }
   ],
   "source": [
    "# Pop off the 0 indexed item because John's details are present at index 0.\n",
    "\n",
    "print(student_names_groupA.pop(0))\n",
    "print(student_roll_nos_groupA.pop(0))\n",
    "print(student_marks_groupA.pop(0))"
   ]
  },
  {
   "cell_type": "markdown",
   "metadata": {
    "colab_type": "text",
    "id": "FbO2RAa89sRy"
   },
   "source": [
    "Note that the 0th element is removed permanently."
   ]
  },
  {
   "cell_type": "code",
   "execution_count": 28,
   "metadata": {
    "colab": {},
    "colab_type": "code",
    "id": "fJ6OFsUL9sRz",
    "outputId": "bae1c89f-789e-434f-ec1b-4cb2a6515f13"
   },
   "outputs": [
    {
     "name": "stdout",
     "output_type": "stream",
     "text": [
      "Group A\n",
      "['Jane', 'Amita', 'Amit', 'Ram', 'Rajiv', 'Rahul', 'Sanjeev']\n",
      "[22, 32, 44, 77, 39, 51, 81]\n",
      "[19, 11, 15, 16, 13, 19, 18]\n"
     ]
    }
   ],
   "source": [
    "# Show\n",
    "\n",
    "print(\"Group A\")\n",
    "print(student_names_groupA)\n",
    "print(student_roll_nos_groupA)\n",
    "print(student_marks_groupA)"
   ]
  },
  {
   "cell_type": "markdown",
   "metadata": {
    "colab_type": "text",
    "id": "rlUUn8cD9sR4"
   },
   "source": [
    "John is not present in output neither are his marks and roll no."
   ]
  },
  {
   "cell_type": "code",
   "execution_count": 29,
   "metadata": {
    "colab": {},
    "colab_type": "code",
    "id": "HQdadnT89sR5"
   },
   "outputs": [],
   "source": [
    "# Assign the popped element, remember default popped index is -1 or (length of list - 1)\n",
    "\n",
    "removed_student_name = student_names_groupA.pop()\n",
    "removed_student_roll_nos = student_roll_nos_groupA.pop()\n",
    "removed_student_marks = student_marks_groupA.pop()"
   ]
  },
  {
   "cell_type": "code",
   "execution_count": 30,
   "metadata": {
    "colab": {},
    "colab_type": "code",
    "id": "ED1rAaKi9sR9",
    "outputId": "2e96a984-e3ba-4173-8c01-c8b30ba0a4a1"
   },
   "outputs": [
    {
     "name": "stdout",
     "output_type": "stream",
     "text": [
      "Sanjeev\n",
      "81\n",
      "18\n"
     ]
    }
   ],
   "source": [
    "# Show \n",
    "\n",
    "print(removed_student_name)\n",
    "print(removed_student_roll_nos)\n",
    "print(removed_student_marks)"
   ]
  },
  {
   "cell_type": "markdown",
   "metadata": {
    "colab_type": "text",
    "id": "rLaDRUN19sSC"
   },
   "source": [
    "Sanjeev was the last student hence his details are displayed."
   ]
  },
  {
   "cell_type": "code",
   "execution_count": 31,
   "metadata": {
    "colab": {},
    "colab_type": "code",
    "id": "p8RDhxzv9sSD",
    "outputId": "72b5946a-fd6e-4c67-f082-9fd217ead0ba"
   },
   "outputs": [
    {
     "name": "stdout",
     "output_type": "stream",
     "text": [
      "Group A\n",
      "['Jane', 'Amita', 'Amit', 'Ram', 'Rajiv', 'Rahul']\n",
      "[22, 32, 44, 77, 39, 51]\n",
      "[19, 11, 15, 16, 13, 19]\n"
     ]
    }
   ],
   "source": [
    "# Lets see how the remaining list looks\n",
    "\n",
    "print(\"Group A\")\n",
    "print(student_names_groupA)\n",
    "print(student_roll_nos_groupA)\n",
    "print(student_marks_groupA)\n"
   ]
  },
  {
   "cell_type": "code",
   "execution_count": null,
   "metadata": {
    "colab": {},
    "colab_type": "code",
    "id": "bFifzYMA9sSJ"
   },
   "outputs": [],
   "source": []
  },
  {
   "cell_type": "markdown",
   "metadata": {
    "colab_type": "text",
    "id": "cWMzCQWt9sSM"
   },
   "source": [
    "### Index method\n",
    "\n",
    "Index method is used to find index of an element in the list. \n",
    "\n",
    "Let's see an example:"
   ]
  },
  {
   "cell_type": "code",
   "execution_count": 33,
   "metadata": {
    "colab": {},
    "colab_type": "code",
    "id": "qqq9fLf29sSN",
    "outputId": "7c22b2ca-818f-41fe-efda-dae5ca7702d4"
   },
   "outputs": [
    {
     "data": {
      "text/plain": [
       "2"
      ]
     },
     "execution_count": 33,
     "metadata": {},
     "output_type": "execute_result"
    }
   ],
   "source": [
    "# Lets find the index of Amit\n",
    "\n",
    "student_names_groupA.index(\"Amit\")"
   ]
  },
  {
   "cell_type": "markdown",
   "metadata": {
    "colab_type": "text",
    "collapsed": true,
    "id": "hr4Ngi8g9sSc"
   },
   "source": [
    "### Sort method\n",
    "\n",
    "Sort method sort the elements of the list in ascending order.\n",
    "<br> This method has a very important application everywhere.\n",
    "<br> Sorting is not just limited to numbers, you can sort characters too.\n",
    "\n",
    "<font color=green>### Example</font>\n",
    "<br> Suppose the roll numbers of students are not in sorted order, for convenience of access we always sort things. Here sort method comes to our rescue.\n",
    "\n",
    "Let's see an example:"
   ]
  },
  {
   "cell_type": "code",
   "execution_count": 34,
   "metadata": {
    "colab": {},
    "colab_type": "code",
    "id": "cKuQCh909sSs"
   },
   "outputs": [],
   "source": [
    "random_alphabets = ['a','z','u','b','c']"
   ]
  },
  {
   "cell_type": "code",
   "execution_count": 35,
   "metadata": {
    "colab": {},
    "colab_type": "code",
    "id": "KwJ057j09sS-"
   },
   "outputs": [],
   "source": [
    "# Lets sort the list\n",
    "random_alphabets.sort()"
   ]
  },
  {
   "cell_type": "code",
   "execution_count": 36,
   "metadata": {
    "colab": {},
    "colab_type": "code",
    "id": "z4Wh9HJi9sTO",
    "outputId": "373e637d-5075-4613-de12-475854db3373"
   },
   "outputs": [
    {
     "data": {
      "text/plain": [
       "['a', 'b', 'c', 'u', 'z']"
      ]
     },
     "execution_count": 36,
     "metadata": {},
     "output_type": "execute_result"
    }
   ],
   "source": [
    "# Show\n",
    "random_alphabets"
   ]
  },
  {
   "cell_type": "code",
   "execution_count": 37,
   "metadata": {
    "colab": {
     "base_uri": "https://localhost:8080/",
     "height": 101
    },
    "colab_type": "code",
    "executionInfo": {
     "elapsed": 1090,
     "status": "ok",
     "timestamp": 1598087748845,
     "user": {
      "displayName": "Kṛṣṇa solutions",
      "photoUrl": "",
      "userId": "14911029245911425813"
     },
     "user_tz": -330
    },
    "id": "E8oyp-Ceci9d",
    "outputId": "d3c511f6-06d8-4399-9d8a-668bfacbdcdc"
   },
   "outputs": [],
   "source": [
    "mylist123 = ['a', 'b', 'c', 'd']\n",
    "\n"
   ]
  },
  {
   "cell_type": "markdown",
   "metadata": {
    "colab_type": "text",
    "id": "Lbh84iON9sTU"
   },
   "source": [
    "There is another method sorted to which if a list is passed it returns a sorted list.\n",
    "<br> But there is a catch, the list is sorted temporarily.\n",
    "<br> By the way, the technical term for permanent sorting is inplace sorting.\n",
    "<br> So you can say that sorted method does not perform inplace sorting on the lists."
   ]
  },
  {
   "cell_type": "code",
   "execution_count": 38,
   "metadata": {
    "colab": {},
    "colab_type": "code",
    "id": "NMFQSbpb9sTW"
   },
   "outputs": [],
   "source": [
    "# Lets use sorted function to sort the list\n",
    "\n",
    "sorted_alphabets = sorted(random_alphabets)"
   ]
  },
  {
   "cell_type": "code",
   "execution_count": 39,
   "metadata": {
    "colab": {},
    "colab_type": "code",
    "id": "XtMk2wlS9sTf",
    "outputId": "989e84b7-fed8-48c3-b565-fa59b23d5558"
   },
   "outputs": [
    {
     "data": {
      "text/plain": [
       "['a', 'b', 'c', 'u', 'z']"
      ]
     },
     "execution_count": 39,
     "metadata": {},
     "output_type": "execute_result"
    }
   ],
   "source": [
    "# Show\n",
    "\n",
    "sorted_alphabets"
   ]
  },
  {
   "cell_type": "code",
   "execution_count": 40,
   "metadata": {
    "colab": {},
    "colab_type": "code",
    "id": "Sa_m99nC9sTj",
    "outputId": "6853afc2-fc7f-4242-f2e5-c27e3ce7e8d5"
   },
   "outputs": [
    {
     "data": {
      "text/plain": [
       "['z', 'u', 'c', 'b', 'a']"
      ]
     },
     "execution_count": 40,
     "metadata": {},
     "output_type": "execute_result"
    }
   ],
   "source": [
    "# Sorting in decending order\n",
    "\n",
    "sorted(random_alphabets,reverse = True)"
   ]
  },
  {
   "cell_type": "markdown",
   "metadata": {
    "colab_type": "text",
    "id": "jBgG_X2B9sTq"
   },
   "source": [
    "reverse = True, sorts the elements in descending order, again you don't have to remember this, Shift + Tab is your friend"
   ]
  },
  {
   "cell_type": "markdown",
   "metadata": {
    "colab_type": "text",
    "id": "6DzRH6sD9sTq"
   },
   "source": [
    "<font color=red>### INSTRUCTION TO DO</font>\n",
    "\n",
    "Go through all the other methods for list datatype. \n",
    "<br> Add new cells if required and practice"
   ]
  },
  {
   "cell_type": "code",
   "execution_count": null,
   "metadata": {
    "colab": {},
    "colab_type": "code",
    "id": "WfCrvTmS9sTr"
   },
   "outputs": [],
   "source": []
  },
  {
   "cell_type": "markdown",
   "metadata": {
    "colab_type": "text",
    "id": "yfAlx0Si9sTx"
   },
   "source": [
    "## Nested lists\n",
    "\n",
    "A great feature of of Python data structures is that they support nesting. This means we can have data structures within data structures. \n",
    "<br>**For example: A list inside a list, a tuple inside a list**.\n",
    "<br> \n",
    "The same thing done above using 3 lists can rather be presented in the form of nested lists.\n",
    "\n",
    "Let's see how this works!"
   ]
  },
  {
   "cell_type": "code",
   "execution_count": 41,
   "metadata": {
    "colab": {},
    "colab_type": "code",
    "executionInfo": {
     "elapsed": 647,
     "status": "ok",
     "timestamp": 1598088047624,
     "user": {
      "displayName": "Kṛṣṇa solutions",
      "photoUrl": "",
      "userId": "14911029245911425813"
     },
     "user_tz": -330
    },
    "id": "0peF4Kys9sTy"
   },
   "outputs": [],
   "source": [
    "# Let's make three lists\n",
    "\n",
    "\n",
    "\n",
    "student_roll_nos = [32,22,21,44,77] \n",
    "student_names = [\"John\" ,\"Jane\", \"Amita\", \"Amit\", \"Ram\"] \n",
    "student_marks = [20,19,10,15,16]\n",
    "\n",
    "# # Format is name, roll no., marks\n",
    "students = [[i,j,k] for (i,j,k) in zip(student_roll_nos,student_names, student_marks)]\n",
    "# students"
   ]
  },
  {
   "cell_type": "code",
   "execution_count": 42,
   "metadata": {
    "colab": {},
    "colab_type": "code",
    "executionInfo": {
     "elapsed": 2087,
     "status": "ok",
     "timestamp": 1598088004787,
     "user": {
      "displayName": "Kṛṣṇa solutions",
      "photoUrl": "",
      "userId": "14911029245911425813"
     },
     "user_tz": -330
    },
    "id": "ixYjVuVydzFY"
   },
   "outputs": [],
   "source": [
    "abc = zip(student_marks,student_names)"
   ]
  },
  {
   "cell_type": "code",
   "execution_count": null,
   "metadata": {
    "colab": {
     "base_uri": "https://localhost:8080/",
     "height": 101
    },
    "colab_type": "code",
    "executionInfo": {
     "elapsed": 1025,
     "status": "ok",
     "timestamp": 1598088053395,
     "user": {
      "displayName": "Kṛṣṇa solutions",
      "photoUrl": "",
      "userId": "14911029245911425813"
     },
     "user_tz": -330
    },
    "id": "UTAdUrbNd8H2",
    "outputId": "78582ac8-85d3-4690-c477-2a771cca1b2e"
   },
   "outputs": [],
   "source": []
  },
  {
   "cell_type": "markdown",
   "metadata": {
    "colab_type": "text",
    "id": "EYJqjesX9sT5"
   },
   "source": [
    "In the above code, we used a new function call **zip()** to create a list containing each element of respective lists.\n",
    "\n",
    "For reference : https://docs.python.org/3.3/library/functions.html#zip"
   ]
  },
  {
   "cell_type": "code",
   "execution_count": 43,
   "metadata": {
    "colab": {},
    "colab_type": "code",
    "id": "Qsw1sPM_9sT6",
    "outputId": "9b5ad4f0-dc51-4025-9bd6-23a538c11bfe"
   },
   "outputs": [
    {
     "data": {
      "text/plain": [
       "[[32, 'John', 20],\n",
       " [22, 'Jane', 19],\n",
       " [21, 'Amita', 10],\n",
       " [44, 'Amit', 15],\n",
       " [77, 'Ram', 16]]"
      ]
     },
     "execution_count": 43,
     "metadata": {},
     "output_type": "execute_result"
    }
   ],
   "source": [
    "# Show \n",
    "\n",
    "students"
   ]
  },
  {
   "cell_type": "markdown",
   "metadata": {
    "colab_type": "text",
    "id": "_1WSCd299sT9"
   },
   "source": [
    "Now we can again use indexing to grab elements, but now there are two levels for the index. The items in the matrix object, and then the items inside batsman1,batsman2,batsman3 !\n",
    "At times, there can three, four and maybe even more levels of indexing depending on the levels of nesting. "
   ]
  },
  {
   "cell_type": "code",
   "execution_count": 44,
   "metadata": {
    "colab": {},
    "colab_type": "code",
    "id": "0I3Fvz8k9sT-",
    "outputId": "00296aff-b1ce-4d98-d29e-60d8871607bd"
   },
   "outputs": [
    {
     "data": {
      "text/plain": [
       "[32, 'John', 20]"
      ]
     },
     "execution_count": 44,
     "metadata": {},
     "output_type": "execute_result"
    }
   ],
   "source": [
    "# Grab the details of the first student\n",
    "\n",
    "students[0]"
   ]
  },
  {
   "cell_type": "code",
   "execution_count": 45,
   "metadata": {
    "colab": {},
    "colab_type": "code",
    "id": "PTxz6uMT9sUD",
    "outputId": "c8a70e8a-f8a8-4b76-c817-0c8e48224604"
   },
   "outputs": [
    {
     "data": {
      "text/plain": [
       "32"
      ]
     },
     "execution_count": 45,
     "metadata": {},
     "output_type": "execute_result"
    }
   ],
   "source": [
    "# Grab the name of the first student\n",
    "\n",
    "students[0][0]"
   ]
  },
  {
   "cell_type": "markdown",
   "metadata": {
    "colab_type": "text",
    "id": "bk_hlWcV9sUM"
   },
   "source": [
    "This returns the first element of first element i.e list l1."
   ]
  },
  {
   "cell_type": "code",
   "execution_count": 46,
   "metadata": {
    "colab": {},
    "colab_type": "code",
    "id": "e050O9lE9sUN",
    "outputId": "528b6aa1-bbe4-4b12-a431-e6d86fb4c151"
   },
   "outputs": [
    {
     "data": {
      "text/plain": [
       "19"
      ]
     },
     "execution_count": 46,
     "metadata": {},
     "output_type": "execute_result"
    }
   ],
   "source": [
    "# Grab the marks of Khushi\n",
    "\n",
    "students[1][2]"
   ]
  },
  {
   "cell_type": "markdown",
   "metadata": {
    "colab_type": "text",
    "id": "0ismNRjJ9sUU"
   },
   "source": [
    "<font color=red>### INSTRUCTION TO DO</font>\n",
    "\n",
    "Using the same nested list given above.\n",
    "<br> Try accessing : \n",
    "    1. Marks of Amit\n",
    "    2. Roll no. of Ram\n",
    " Add new cells if required and practice"
   ]
  },
  {
   "cell_type": "code",
   "execution_count": null,
   "metadata": {
    "colab": {},
    "colab_type": "code",
    "id": "iyRKxZHC9sUU"
   },
   "outputs": [],
   "source": [
    "students.sort()"
   ]
  },
  {
   "cell_type": "code",
   "execution_count": null,
   "metadata": {
    "colab": {},
    "colab_type": "code",
    "id": "l8BBiqyy9sUd",
    "outputId": "1ad8c3b5-f6c1-4cf4-ba01-c9021cef4824"
   },
   "outputs": [
    {
     "data": {
      "text/plain": [
       "[[21, 'Amita', 10],\n",
       " [22, 'Jane', 19],\n",
       " [32, 'John', 20],\n",
       " [44, 'Amit', 15],\n",
       " [77, 'Ram', 16]]"
      ]
     },
     "execution_count": 43,
     "metadata": {
      "tags": []
     },
     "output_type": "execute_result"
    }
   ],
   "source": [
    "students"
   ]
  },
  {
   "cell_type": "markdown",
   "metadata": {
    "colab_type": "text",
    "id": "qj-7WhdG9sUh"
   },
   "source": [
    "The students are sorted by their roll nos.\n",
    "<br> Note that the lists would be sorted by the first element of the list inside it."
   ]
  },
  {
   "cell_type": "markdown",
   "metadata": {
    "colab_type": "text",
    "id": "hGVWDYd29sUi"
   },
   "source": [
    "## List Comprehension\n",
    "\n",
    "Python has an advanced feature for lists called **List Comprehensions**. \n",
    "<br> It allows for quick construction of lists. \n",
    "<br> It performs element-wise operation.  \n",
    "It allows single line code for complex operations on lists.\n",
    "\n",
    "Here are a few examples!"
   ]
  },
  {
   "cell_type": "code",
   "execution_count": 47,
   "metadata": {
    "colab": {},
    "colab_type": "code",
    "id": "GKc7ce2W9sUj",
    "outputId": "1e7ac490-75b1-45a9-b978-66fb980d39cf"
   },
   "outputs": [
    {
     "data": {
      "text/plain": [
       "[[32, 'John', 20],\n",
       " [22, 'Jane', 19],\n",
       " [21, 'Amita', 10],\n",
       " [44, 'Amit', 15],\n",
       " [77, 'Ram', 16]]"
      ]
     },
     "execution_count": 47,
     "metadata": {},
     "output_type": "execute_result"
    }
   ],
   "source": [
    "# Show nested list created above\n",
    "\n",
    "students"
   ]
  },
  {
   "cell_type": "code",
   "execution_count": 48,
   "metadata": {
    "colab": {},
    "colab_type": "code",
    "id": "Ps4SGbOJ9sUl"
   },
   "outputs": [],
   "source": [
    "# Retrieve all the roll nos. from nested list\n",
    "\n",
    "roll_nos = [student[0] for student in students]\n",
    "roll_nos=[student[0] for student in students]"
   ]
  },
  {
   "cell_type": "code",
   "execution_count": 49,
   "metadata": {
    "colab": {},
    "colab_type": "code",
    "id": "VXZlGocq9sUt",
    "outputId": "2865473f-3b66-4897-8536-40a0886870fb"
   },
   "outputs": [
    {
     "data": {
      "text/plain": [
       "[32, 22, 21, 44, 77]"
      ]
     },
     "execution_count": 49,
     "metadata": {},
     "output_type": "execute_result"
    }
   ],
   "source": [
    "# Show roll nos.\n",
    "\n",
    "roll_nos"
   ]
  },
  {
   "cell_type": "code",
   "execution_count": 50,
   "metadata": {
    "colab": {},
    "colab_type": "code",
    "id": "7F8gUjdF9sUx"
   },
   "outputs": [],
   "source": [
    "# Retrieve all the marks from nested list\n",
    "\n",
    "marks = [student[2] for student in students]"
   ]
  },
  {
   "cell_type": "code",
   "execution_count": 51,
   "metadata": {
    "colab": {},
    "colab_type": "code",
    "id": "qPm69TAZ9sU0",
    "outputId": "a1fc1429-5df0-44ef-e2aa-42349ba40a61"
   },
   "outputs": [
    {
     "data": {
      "text/plain": [
       "[20, 19, 10, 15, 16]"
      ]
     },
     "execution_count": 51,
     "metadata": {},
     "output_type": "execute_result"
    }
   ],
   "source": [
    "# Show marks\n",
    "\n",
    "marks"
   ]
  },
  {
   "cell_type": "markdown",
   "metadata": {
    "colab_type": "text",
    "id": "KobNbhgr9sU6"
   },
   "source": [
    "Calculate the percentage marks of each student considering that each student marks are out of 20."
   ]
  },
  {
   "cell_type": "code",
   "execution_count": 53,
   "metadata": {
    "colab": {},
    "colab_type": "code",
    "id": "TKmevfFp9sU7"
   },
   "outputs": [],
   "source": [
    "# iterating through marks which is created above\n",
    "\n",
    "pct_marks=[(i/20)*100 for i in marks]\n",
    "pct_marks = [(i/20)*100 for i in marks]"
   ]
  },
  {
   "cell_type": "code",
   "execution_count": 54,
   "metadata": {
    "colab": {},
    "colab_type": "code",
    "id": "ora5Bbxi9sU_",
    "outputId": "cad128f9-9166-4886-f813-1188bf6daf2b",
    "scrolled": true
   },
   "outputs": [
    {
     "data": {
      "text/plain": [
       "[100.0, 95.0, 50.0, 75.0, 80.0]"
      ]
     },
     "execution_count": 54,
     "metadata": {},
     "output_type": "execute_result"
    }
   ],
   "source": [
    "# Show\n",
    "\n",
    "pct_marks"
   ]
  },
  {
   "cell_type": "markdown",
   "metadata": {
    "colab_type": "text",
    "id": "rlkqGvP49sVD"
   },
   "source": [
    "<font color=red>### INSTRUCTION TO DO</font>\n",
    "\n",
    "Try the above task for retrieving the roll nos. from students_groupA\n",
    "<br> Add new cells if required and practice"
   ]
  },
  {
   "cell_type": "code",
   "execution_count": null,
   "metadata": {
    "colab": {},
    "colab_type": "code",
    "id": "5_hF_pAM9sVD"
   },
   "outputs": [],
   "source": []
  },
  {
   "cell_type": "markdown",
   "metadata": {
    "colab_type": "text",
    "id": "OoF8apCS9sVF"
   },
   "source": [
    "# Tuples\n",
    "\n",
    "In Python tuples are very similar to lists, however, unlike lists they are immutable meaning they can not be changed. You would use tuples to represent things that shouldn't be changed, such as days of the week, or dates on a calendar.\n",
    "\n",
    "In this section, we will get a brief overview of the following:\n",
    "\n",
    "1. Constructing Tuples\n",
    "2. Indexing and Slicing\n",
    "3. Basic Tuple Methods\n",
    "4. Immutability\n",
    "5. When to Use Tuples?\n",
    "\n",
    "You'll have an idea of how to use tuples based on what you've learned about lists. There is a lot similarity between lists and tuples with the major distinction being that tuples are immutable.\n",
    "\n",
    "<font color=green>### Example</font>\n",
    "<br> Tuples are generally used for smaller groups of similar items, things like coordinate systems.\n",
    "\n",
    "Tuples are mostly used to store elements of different types, not necessarily this happens every time.\n",
    "\n",
    "When can tuples be used?\n",
    "<br> Tuples can be used when you don't want to the elements in the tuple to be changed.\n",
    "\n",
    "For reference:\n",
    "https://docs.python.org/3/library/stdtypes.html#sequence-types-list-tuple-range"
   ]
  },
  {
   "cell_type": "markdown",
   "metadata": {
    "colab_type": "text",
    "id": "NJTVeqF99sVG"
   },
   "source": [
    "## Constructing Tuples\n",
    "\n",
    "The construction of a tuples uses () notation with elements separated by commas. For example:"
   ]
  },
  {
   "cell_type": "code",
   "execution_count": 55,
   "metadata": {
    "colab": {},
    "colab_type": "code",
    "id": "BaqNf7CW9sVG"
   },
   "outputs": [],
   "source": [
    "# Lets create a homogeneous tuple\n",
    "\n",
    "t = (1,2,3)"
   ]
  },
  {
   "cell_type": "code",
   "execution_count": 56,
   "metadata": {
    "colab": {},
    "colab_type": "code",
    "id": "dSoq7k8q9sVN",
    "outputId": "754a9e69-2b26-4420-ad1e-949526a8e176"
   },
   "outputs": [
    {
     "data": {
      "text/plain": [
       "(1, 2, 3)"
      ]
     },
     "execution_count": 56,
     "metadata": {},
     "output_type": "execute_result"
    }
   ],
   "source": [
    "# Show\n",
    "t"
   ]
  },
  {
   "cell_type": "code",
   "execution_count": 57,
   "metadata": {
    "colab": {},
    "colab_type": "code",
    "id": "Wj2cbVVY9sVV",
    "outputId": "e7305b6c-1137-47ce-e5c8-966cb1a0a1c7"
   },
   "outputs": [
    {
     "data": {
      "text/plain": [
       "3"
      ]
     },
     "execution_count": 57,
     "metadata": {},
     "output_type": "execute_result"
    }
   ],
   "source": [
    "# You can check length just like a list\n",
    "len(t)"
   ]
  },
  {
   "cell_type": "code",
   "execution_count": 58,
   "metadata": {
    "colab": {},
    "colab_type": "code",
    "id": "K0ohUxXH9sVc"
   },
   "outputs": [],
   "source": [
    "# Lets create a tuple of name, roll no. and marks for each student.\n",
    "# Let's make three tuples\n",
    "\n",
    "# Format is (name, roll no. , marks)\n",
    "student1 = (\"Jay\" , 19 ,20)\n",
    "student2 = (\"Khushi\", 21 , 18) \n",
    "student3 = (\"Luv\" , 22 , 17)\n",
    "\n",
    "students_groupA = [student1, student2, student3]"
   ]
  },
  {
   "cell_type": "code",
   "execution_count": 59,
   "metadata": {
    "colab": {},
    "colab_type": "code",
    "id": "J7NpohGN9sVh",
    "outputId": "348a9a57-bf16-4f47-888a-e43fadc6f537"
   },
   "outputs": [
    {
     "data": {
      "text/plain": [
       "[('Jay', 19, 20), ('Khushi', 21, 18), ('Luv', 22, 17)]"
      ]
     },
     "execution_count": 59,
     "metadata": {},
     "output_type": "execute_result"
    }
   ],
   "source": [
    "# Show \n",
    "\n",
    "students_groupA"
   ]
  },
  {
   "cell_type": "markdown",
   "metadata": {
    "colab_type": "text",
    "id": "MGp23oRY9sVp"
   },
   "source": [
    "In the above cell, students_groupA is a list, we did not convert it to tuple because new students can be added to a group thus flexibility is necessary. But a student's name, roll no. and marks will remain as it is forever. Thus we have kept them as a tuple."
   ]
  },
  {
   "cell_type": "markdown",
   "metadata": {
    "colab_type": "text",
    "id": "4sjUZ-TH9sVs"
   },
   "source": [
    "<font color=red>### INSTRUCTION TO DO</font>\n",
    "\n",
    "Create 3 tuples for students with names Ajay, Arun, Aakash , roll nos. as 21,41,71 and marks as 20,15,19.\n",
    "Create a list students_groupB containing these 3 tuples.\n",
    "<br> Add new cells if required and practice"
   ]
  },
  {
   "cell_type": "code",
   "execution_count": 62,
   "metadata": {
    "colab": {},
    "colab_type": "code",
    "id": "a3GIPPye9sVu"
   },
   "outputs": [],
   "source": [
    "stu_names=('Ajay','Arun','Aakash')\n",
    "stu_rollnos=(21,41,71)\n",
    "stu_marks=(20,15,19)\n",
    "\n",
    "students_groupB=(stu_names,stu_rollnos,stu_marks)"
   ]
  },
  {
   "cell_type": "markdown",
   "metadata": {
    "colab_type": "text",
    "id": "_qwHOjoP9sVz"
   },
   "source": [
    "## Indexing and Slicing in tuples\n",
    "\n",
    "Indexing and Slicing in tuples is exactly same as that in lists so we'll just quickly go over this section. "
   ]
  },
  {
   "cell_type": "code",
   "execution_count": 63,
   "metadata": {
    "colab": {},
    "colab_type": "code",
    "id": "uHa3yLDz9sV0",
    "outputId": "c8e67196-9bc9-4916-fd6d-cb3ac07c7f29"
   },
   "outputs": [
    {
     "data": {
      "text/plain": [
       "('Ajay', 'Arun', 'Aakash')"
      ]
     },
     "execution_count": 63,
     "metadata": {},
     "output_type": "execute_result"
    }
   ],
   "source": [
    "# Grab the details of first student.\n",
    "\n",
    "students_groupA[0]\n",
    "students_groupB[0]"
   ]
  },
  {
   "cell_type": "code",
   "execution_count": 64,
   "metadata": {
    "colab": {},
    "colab_type": "code",
    "id": "GSQNTWAb9sV8",
    "outputId": "188772d7-f9b1-4630-bd4a-b49c7ad50f33"
   },
   "outputs": [
    {
     "data": {
      "text/plain": [
       "'Khushi'"
      ]
     },
     "execution_count": 64,
     "metadata": {},
     "output_type": "execute_result"
    }
   ],
   "source": [
    "# Grab the name of the second student\n",
    "\n",
    "students_groupA[1][0]"
   ]
  },
  {
   "cell_type": "code",
   "execution_count": 65,
   "metadata": {
    "colab": {},
    "colab_type": "code",
    "id": "C0drmka39sWE",
    "outputId": "db5b8cde-82d2-479e-cb37-0e11cda520e6"
   },
   "outputs": [
    {
     "data": {
      "text/plain": [
       "[('Khushi', 21, 18), ('Luv', 22, 17)]"
      ]
     },
     "execution_count": 65,
     "metadata": {},
     "output_type": "execute_result"
    }
   ],
   "source": [
    "# Grab the details of all the students starting from second student\n",
    "\n",
    "students_groupA[1:]"
   ]
  },
  {
   "cell_type": "markdown",
   "metadata": {
    "colab_type": "text",
    "id": "zf9TZC1b9sWI"
   },
   "source": [
    "## Basic Tuple Methods\n",
    "\n",
    "Tuples have built-in methods, but not as many as lists do.\n",
    "<br> Because of immutability, there are very less operations that you can perform of tuples.\n",
    "<br> No need to remember the methods, just use Tab for suggestions\n",
    "<br> Lets look at two of them:"
   ]
  },
  {
   "cell_type": "markdown",
   "metadata": {
    "colab_type": "text",
    "id": "vlcVaESI9sWI"
   },
   "source": [
    "### Index method"
   ]
  },
  {
   "cell_type": "code",
   "execution_count": 66,
   "metadata": {
    "colab": {},
    "colab_type": "code",
    "id": "rF6itI0k9sWJ",
    "outputId": "47b944ae-4ee2-483a-adcb-3f114bc2d784"
   },
   "outputs": [
    {
     "data": {
      "text/plain": [
       "1"
      ]
     },
     "execution_count": 66,
     "metadata": {},
     "output_type": "execute_result"
    }
   ],
   "source": [
    "# Grab the index with value ('Khushi', 21, 18)\n",
    "\n",
    "students_groupA.index(('Khushi', 21, 18))"
   ]
  },
  {
   "cell_type": "markdown",
   "metadata": {
    "colab_type": "text",
    "id": "BW9JUgdz9sWO"
   },
   "source": [
    "### Count method"
   ]
  },
  {
   "cell_type": "code",
   "execution_count": null,
   "metadata": {
    "colab": {},
    "colab_type": "code",
    "id": "e5TwduLw9sWP",
    "outputId": "dcd57e30-66a8-49f6-f8ca-c5ba6f3c05d4"
   },
   "outputs": [
    {
     "data": {
      "text/plain": [
       "1"
      ]
     },
     "execution_count": 60,
     "metadata": {
      "tags": []
     },
     "output_type": "execute_result"
    }
   ],
   "source": [
    "# This method to count the number of times a value appears\n",
    "\n",
    "students_groupA.count(('Khushi', 21, 18))"
   ]
  },
  {
   "cell_type": "markdown",
   "metadata": {
    "colab_type": "text",
    "id": "j1G65IaN9sWS"
   },
   "source": [
    "<font color=red>### INSTRUCTION TO DO</font>\n",
    "\n",
    "On the students_groupB you have created above apply a few methods to just brush up your skills.\n",
    "<br> Add new cells if required and practice"
   ]
  },
  {
   "cell_type": "code",
   "execution_count": null,
   "metadata": {
    "colab": {},
    "colab_type": "code",
    "collapsed": true,
    "id": "v-vmz0SE9sWS"
   },
   "outputs": [],
   "source": []
  },
  {
   "cell_type": "markdown",
   "metadata": {
    "colab_type": "text",
    "id": "EW5nG5Fm9sWX"
   },
   "source": [
    "## Immutability\n",
    "It can't be stressed enough that tuples are immutable. To drive that point home:"
   ]
  },
  {
   "cell_type": "markdown",
   "metadata": {
    "colab_type": "text",
    "id": "7IvGpj_p9sWZ"
   },
   "source": [
    "Change the name of the first student"
   ]
  },
  {
   "cell_type": "code",
   "execution_count": 67,
   "metadata": {
    "colab": {},
    "colab_type": "code",
    "id": "SoKeXjEj9sWZ",
    "outputId": "d40ed912-0f3d-47e8-d089-0f9b087b5dd4"
   },
   "outputs": [
    {
     "data": {
      "text/plain": [
       "'Jay'"
      ]
     },
     "execution_count": 67,
     "metadata": {},
     "output_type": "execute_result"
    }
   ],
   "source": [
    "# Show the name of the first student\n",
    "\n",
    "students_groupA[0][0]"
   ]
  },
  {
   "cell_type": "code",
   "execution_count": 68,
   "metadata": {
    "colab": {},
    "colab_type": "code",
    "id": "tnxKSs269sWd",
    "outputId": "7a562fc8-ca4b-4730-cef9-497b2f2c7010"
   },
   "outputs": [
    {
     "ename": "TypeError",
     "evalue": "'tuple' object does not support item assignment",
     "output_type": "error",
     "traceback": [
      "\u001b[1;31m---------------------------------------------------------------------------\u001b[0m",
      "\u001b[1;31mTypeError\u001b[0m                                 Traceback (most recent call last)",
      "\u001b[1;32m<ipython-input-68-de3c8c61095d>\u001b[0m in \u001b[0;36m<module>\u001b[1;34m\u001b[0m\n\u001b[1;32m----> 1\u001b[1;33m \u001b[0mstudents_groupA\u001b[0m\u001b[1;33m[\u001b[0m\u001b[1;36m0\u001b[0m\u001b[1;33m]\u001b[0m\u001b[1;33m[\u001b[0m\u001b[1;36m0\u001b[0m\u001b[1;33m]\u001b[0m \u001b[1;33m=\u001b[0m \u001b[1;34m'new name'\u001b[0m\u001b[1;33m\u001b[0m\u001b[1;33m\u001b[0m\u001b[0m\n\u001b[0m",
      "\u001b[1;31mTypeError\u001b[0m: 'tuple' object does not support item assignment"
     ]
    }
   ],
   "source": [
    "students_groupA[0][0] = 'new name'"
   ]
  },
  {
   "cell_type": "markdown",
   "metadata": {
    "colab_type": "text",
    "id": "CichD3Tz9sWm"
   },
   "source": [
    "Because of this immutability, tuples size is fixed. Once a tuple is created we can not add to it.\n",
    "\n",
    "Add another subject marks to the first student."
   ]
  },
  {
   "cell_type": "code",
   "execution_count": 69,
   "metadata": {
    "colab": {},
    "colab_type": "code",
    "id": "RaggcQAa9sWn",
    "outputId": "8669c5ac-c83e-4170-f6fe-dc1ceb555bbb"
   },
   "outputs": [
    {
     "ename": "AttributeError",
     "evalue": "'str' object has no attribute 'append'",
     "output_type": "error",
     "traceback": [
      "\u001b[1;31m---------------------------------------------------------------------------\u001b[0m",
      "\u001b[1;31mAttributeError\u001b[0m                            Traceback (most recent call last)",
      "\u001b[1;32m<ipython-input-69-e4499ddb75c9>\u001b[0m in \u001b[0;36m<module>\u001b[1;34m\u001b[0m\n\u001b[1;32m----> 1\u001b[1;33m \u001b[0mstudents_groupA\u001b[0m\u001b[1;33m[\u001b[0m\u001b[1;36m0\u001b[0m\u001b[1;33m]\u001b[0m\u001b[1;33m[\u001b[0m\u001b[1;36m0\u001b[0m\u001b[1;33m]\u001b[0m\u001b[1;33m.\u001b[0m\u001b[0mappend\u001b[0m\u001b[1;33m(\u001b[0m\u001b[1;34m\"sorry can't add\"\u001b[0m\u001b[1;33m)\u001b[0m\u001b[1;33m\u001b[0m\u001b[1;33m\u001b[0m\u001b[0m\n\u001b[0m",
      "\u001b[1;31mAttributeError\u001b[0m: 'str' object has no attribute 'append'"
     ]
    }
   ],
   "source": [
    "students_groupA[0][0].append(\"sorry can't add\")"
   ]
  },
  {
   "cell_type": "markdown",
   "metadata": {
    "colab_type": "text",
    "id": "GC53pb3G9sWq"
   },
   "source": [
    "## When to use Tuples ?¶\n",
    "You may be wondering, \"Why bother using tuples when they have fewer available methods?\" To be honest, tuples are not used as often as lists in programming, but are used when immutability is necessary.\n",
    "<br>If in your program you are passing around an object and need to make sure it does not get altered or changed, then tuple is your companion. It helps in maintaining data integrity.\n",
    "\n",
    "You should now be able to create and use tuples in your programming as well as have an understanding of their immutability."
   ]
  },
  {
   "cell_type": "markdown",
   "metadata": {
    "colab_type": "text",
    "id": "0zqZ1U109sWr"
   },
   "source": [
    "# Dictionaries\n",
    "\n",
    "We've been learning about sequences in Python but now we're going to switch gears and learn about mappings in Python. \n",
    "<br>If you're familiar with other programming languages, you can think of these Dictionaries as hash tables.\n",
    "<br> If Python is your first programming language, you can relate it to the index at the back of the books.\n",
    "\n",
    "This section will serve as a brief introduction to dictionaries and consist of:\n",
    "\n",
    "1. Constructing a Dictionary\n",
    "2. Accessing objects from a dictionary\n",
    "3. Nested Dictionaries\n",
    "4. Basic Dictionary Methods\n",
    "\n",
    "So what are mappings? Mappings are a collection of objects that are stored by a key, unlike a sequence that stored objects by their relative position. This is an important distinction, since mappings won't retain order since they have objects defined by a key.\n",
    "\n",
    "You can consider the other iterables such as lists and tuples to be dictionaries with indexes as their keys but in iterables we can change the order and thus the key-value combination changes.\n",
    "\n",
    "A Python dictionary consists of a key and then an associated value. That value can be almost any Python object.\n",
    "\n",
    "<font color=green>### Example</font>\n",
    "<br> In a class of 25 students, each student has a name, roll number and marks. To store these three values we can create a dictionary containing these three attributes and then we can create a list of 25 such dictionaries. \n",
    "\n",
    "When can dictionaries be used?\n",
    "<br> List is like a dictionary with keys as 0,1,2,.... uptil its length while dictionary has user defined key-value pairs.\n",
    "<br> Dictionaries can be useful when you want to create your own keys and their corresponding values.\n",
    "\n",
    "For reference : \n",
    "https://docs.python.org/3/library/stdtypes.html#mapping-types-dict"
   ]
  },
  {
   "cell_type": "markdown",
   "metadata": {
    "colab_type": "text",
    "id": "apLInufv9sWr"
   },
   "source": [
    "## Constructing a Dictionary\n",
    "\n",
    "A dictionary can be created with {} and : to signify a key and a value\n",
    "<br>Let's see how we can construct dictionaries to get a better understanding of how they function!"
   ]
  },
  {
   "cell_type": "code",
   "execution_count": 70,
   "metadata": {
    "colab": {},
    "colab_type": "code",
    "executionInfo": {
     "elapsed": 1050,
     "status": "ok",
     "timestamp": 1598088428985,
     "user": {
      "displayName": "Kṛṣṇa solutions",
      "photoUrl": "",
      "userId": "14911029245911425813"
     },
     "user_tz": -330
    },
    "id": "eSZV85YQ9sWs"
   },
   "outputs": [],
   "source": [
    "# Create a dictionary\n",
    "\n",
    "student = {'name':'John','roll no':'25'}"
   ]
  },
  {
   "cell_type": "code",
   "execution_count": 71,
   "metadata": {
    "colab": {
     "base_uri": "https://localhost:8080/",
     "height": 35
    },
    "colab_type": "code",
    "executionInfo": {
     "elapsed": 1014,
     "status": "ok",
     "timestamp": 1598088449564,
     "user": {
      "displayName": "Kṛṣṇa solutions",
      "photoUrl": "",
      "userId": "14911029245911425813"
     },
     "user_tz": -330
    },
    "id": "RAguzRPs9sW0",
    "outputId": "536925a1-e235-49cb-a0a6-d83fd04ae550"
   },
   "outputs": [
    {
     "data": {
      "text/plain": [
       "'25'"
      ]
     },
     "execution_count": 71,
     "metadata": {},
     "output_type": "execute_result"
    }
   ],
   "source": [
    "# Show\n",
    "\n",
    "student['roll no']"
   ]
  },
  {
   "cell_type": "markdown",
   "metadata": {
    "colab_type": "text",
    "id": "jhkbBspH9sW2"
   },
   "source": [
    "<font color=red>### INSTRUCTION TO DO</font>\n",
    "\n",
    "Create a dictionary with key : \"English\", value : \"Hi\" and another key: \"Hindi\", value : \"Namaste\".\n",
    "<br> Name it as greeting\n",
    "<br> Add new cells if required and practice"
   ]
  },
  {
   "cell_type": "code",
   "execution_count": 72,
   "metadata": {
    "colab": {},
    "colab_type": "code",
    "executionInfo": {
     "elapsed": 1051,
     "status": "ok",
     "timestamp": 1598088745533,
     "user": {
      "displayName": "Kṛṣṇa solutions",
      "photoUrl": "",
      "userId": "14911029245911425813"
     },
     "user_tz": -330
    },
    "id": "vkLZ08Pi9sW3"
   },
   "outputs": [],
   "source": [
    "greet = {'English': \"Hi\", \"Hindi\": \"Namaste\"}"
   ]
  },
  {
   "cell_type": "code",
   "execution_count": 73,
   "metadata": {
    "colab": {
     "base_uri": "https://localhost:8080/",
     "height": 35
    },
    "colab_type": "code",
    "executionInfo": {
     "elapsed": 1475,
     "status": "ok",
     "timestamp": 1598088760785,
     "user": {
      "displayName": "Kṛṣṇa solutions",
      "photoUrl": "",
      "userId": "14911029245911425813"
     },
     "user_tz": -330
    },
    "id": "1yx6ARPDgx-x",
    "outputId": "27a47103-7e4b-4c62-9df7-18d2f315de3e"
   },
   "outputs": [],
   "source": [
    "persons = [\"England\", 'India', 'England']\n",
    "message = [\"Hi\", \"Namaste\", \"Hi\"]\n",
    "\n",
    "persons ={'england':\"hi\", \"India\": \"Namaste\"}"
   ]
  },
  {
   "cell_type": "markdown",
   "metadata": {
    "colab_type": "text",
    "id": "mx-ZSPEi9sW6"
   },
   "source": [
    "## Accessing objects from a dictionary"
   ]
  },
  {
   "cell_type": "code",
   "execution_count": 74,
   "metadata": {
    "colab": {
     "base_uri": "https://localhost:8080/",
     "height": 35
    },
    "colab_type": "code",
    "executionInfo": {
     "elapsed": 2798,
     "status": "ok",
     "timestamp": 1598088994005,
     "user": {
      "displayName": "Kṛṣṇa solutions",
      "photoUrl": "",
      "userId": "14911029245911425813"
     },
     "user_tz": -330
    },
    "id": "88vfWI7w9sW7",
    "outputId": "c66f3b12-5273-43a2-a7fe-500ce93ffbbb"
   },
   "outputs": [
    {
     "data": {
      "text/plain": [
       "'25'"
      ]
     },
     "execution_count": 74,
     "metadata": {},
     "output_type": "execute_result"
    }
   ],
   "source": [
    "# Access values by their key here, value is value2 and key is key2\n",
    "\n",
    "student['roll no']"
   ]
  },
  {
   "cell_type": "code",
   "execution_count": 75,
   "metadata": {
    "colab": {
     "base_uri": "https://localhost:8080/",
     "height": 35
    },
    "colab_type": "code",
    "executionInfo": {
     "elapsed": 2785,
     "status": "ok",
     "timestamp": 1598088994023,
     "user": {
      "displayName": "Kṛṣṇa solutions",
      "photoUrl": "",
      "userId": "14911029245911425813"
     },
     "user_tz": -330
    },
    "id": "WyRw0JPO9sXD",
    "outputId": "62599cc9-4d83-4498-e4d4-3f77cf6470c3"
   },
   "outputs": [
    {
     "data": {
      "text/plain": [
       "'John'"
      ]
     },
     "execution_count": 75,
     "metadata": {},
     "output_type": "execute_result"
    }
   ],
   "source": [
    "# Access values by their key here, value is value1 and key is key1\n",
    "\n",
    "student['name']"
   ]
  },
  {
   "cell_type": "markdown",
   "metadata": {
    "colab_type": "text",
    "id": "eVv58fSy9sXG"
   },
   "source": [
    "<font color=red>### INSTRUCTION TO DO</font>\n",
    "\n",
    "Try accessing the values of the greeting.\n",
    "<br> Add new cells if required and practice"
   ]
  },
  {
   "cell_type": "code",
   "execution_count": null,
   "metadata": {
    "colab": {},
    "colab_type": "code",
    "executionInfo": {
     "elapsed": 2779,
     "status": "ok",
     "timestamp": 1598088994035,
     "user": {
      "displayName": "Kṛṣṇa solutions",
      "photoUrl": "",
      "userId": "14911029245911425813"
     },
     "user_tz": -330
    },
    "id": "C61Kwper9sXI"
   },
   "outputs": [],
   "source": []
  },
  {
   "cell_type": "markdown",
   "metadata": {
    "colab_type": "text",
    "id": "b8BmPXrC9sXL"
   },
   "source": [
    "Its important to note that dictionaries are very flexible in the data types they can hold just like lists and tuples. For example:"
   ]
  },
  {
   "cell_type": "code",
   "execution_count": 76,
   "metadata": {
    "colab": {},
    "colab_type": "code",
    "executionInfo": {
     "elapsed": 1328,
     "status": "ok",
     "timestamp": 1598089371513,
     "user": {
      "displayName": "Kṛṣṇa solutions",
      "photoUrl": "",
      "userId": "14911029245911425813"
     },
     "user_tz": -330
    },
    "id": "caos21MR9sXL"
   },
   "outputs": [],
   "source": [
    "student = {'name':'John','roll no':22,'marks':[[0,9],[25,26,27]]}\n",
    "\n",
    "output: 26"
   ]
  },
  {
   "cell_type": "code",
   "execution_count": 77,
   "metadata": {
    "colab": {
     "base_uri": "https://localhost:8080/",
     "height": 34
    },
    "colab_type": "code",
    "executionInfo": {
     "elapsed": 1590,
     "status": "ok",
     "timestamp": 1598089385290,
     "user": {
      "displayName": "Kṛṣṇa solutions",
      "photoUrl": "",
      "userId": "14911029245911425813"
     },
     "user_tz": -330
    },
    "id": "0-hSMY3B9sXT",
    "outputId": "48d6fb4b-4210-487f-b972-20714c171775"
   },
   "outputs": [
    {
     "data": {
      "text/plain": [
       "26"
      ]
     },
     "execution_count": 77,
     "metadata": {},
     "output_type": "execute_result"
    }
   ],
   "source": [
    "#Lets call items from the dictionary\n",
    "student['marks'][1][1]\n"
   ]
  },
  {
   "cell_type": "markdown",
   "metadata": {
    "colab_type": "text",
    "id": "eAFmYl6K9sXW"
   },
   "source": [
    "Just like we did in nested lists, we will try to access the elements further in the values returned by dictionary until there is no scope left.\n",
    "<br> For example:"
   ]
  },
  {
   "cell_type": "code",
   "execution_count": 78,
   "metadata": {
    "colab": {
     "base_uri": "https://localhost:8080/",
     "height": 34
    },
    "colab_type": "code",
    "executionInfo": {
     "elapsed": 2694,
     "status": "ok",
     "timestamp": 1598088994063,
     "user": {
      "displayName": "Kṛṣṇa solutions",
      "photoUrl": "",
      "userId": "14911029245911425813"
     },
     "user_tz": -330
    },
    "id": "FbVXf5Wd9sXW",
    "outputId": "61ab5212-671c-49e4-eeda-c3c084658cb7"
   },
   "outputs": [
    {
     "data": {
      "text/plain": [
       "[[0, 9], [25, 26, 27]]"
      ]
     },
     "execution_count": 78,
     "metadata": {},
     "output_type": "execute_result"
    }
   ],
   "source": [
    "student['marks']"
   ]
  },
  {
   "cell_type": "markdown",
   "metadata": {
    "colab_type": "text",
    "id": "5-NkwQ0s9sXZ"
   },
   "source": [
    "There is still scope for accessing further"
   ]
  },
  {
   "cell_type": "code",
   "execution_count": 79,
   "metadata": {
    "colab": {
     "base_uri": "https://localhost:8080/",
     "height": 34
    },
    "colab_type": "code",
    "executionInfo": {
     "elapsed": 2641,
     "status": "ok",
     "timestamp": 1598088994070,
     "user": {
      "displayName": "Kṛṣṇa solutions",
      "photoUrl": "",
      "userId": "14911029245911425813"
     },
     "user_tz": -330
    },
    "id": "dmW7Fo5O9sXZ",
    "outputId": "6e38ce67-3727-45a4-cd86-75b7bbe86200"
   },
   "outputs": [
    {
     "data": {
      "text/plain": [
       "[0, 9]"
      ]
     },
     "execution_count": 79,
     "metadata": {},
     "output_type": "execute_result"
    }
   ],
   "source": [
    "student['marks'][0]"
   ]
  },
  {
   "cell_type": "markdown",
   "metadata": {
    "colab_type": "text",
    "id": "HD4uMGOr9sXb"
   },
   "source": [
    "<font color=red>### INSTRUCTION TO DO</font>\n",
    "\n",
    "Try the above task for retrieving 27 which is present in the value of 'marks'\n",
    "<br> Add new cells if required and practice"
   ]
  },
  {
   "cell_type": "code",
   "execution_count": 80,
   "metadata": {
    "colab": {},
    "colab_type": "code",
    "executionInfo": {
     "elapsed": 2616,
     "status": "ok",
     "timestamp": 1598088994074,
     "user": {
      "displayName": "Kṛṣṇa solutions",
      "photoUrl": "",
      "userId": "14911029245911425813"
     },
     "user_tz": -330
    },
    "id": "NvsX1nWL9sXh"
   },
   "outputs": [
    {
     "data": {
      "text/plain": [
       "27"
      ]
     },
     "execution_count": 80,
     "metadata": {},
     "output_type": "execute_result"
    }
   ],
   "source": [
    "student['marks'][1][2]"
   ]
  },
  {
   "cell_type": "code",
   "execution_count": 81,
   "metadata": {
    "colab": {
     "base_uri": "https://localhost:8080/",
     "height": 35
    },
    "colab_type": "code",
    "executionInfo": {
     "elapsed": 2573,
     "status": "ok",
     "timestamp": 1598088994077,
     "user": {
      "displayName": "Kṛṣṇa solutions",
      "photoUrl": "",
      "userId": "14911029245911425813"
     },
     "user_tz": -330
    },
    "id": "kpoOpMF29sXo",
    "outputId": "e8b0552b-be44-46aa-d4e5-25e4932a1b0f"
   },
   "outputs": [
    {
     "data": {
      "text/plain": [
       "'JOHN'"
      ]
     },
     "execution_count": 81,
     "metadata": {},
     "output_type": "execute_result"
    }
   ],
   "source": [
    "# You can even call methods on that retrieved value\n",
    "\n",
    "student['name'].upper()"
   ]
  },
  {
   "cell_type": "code",
   "execution_count": 82,
   "metadata": {
    "colab": {
     "base_uri": "https://localhost:8080/",
     "height": 34
    },
    "colab_type": "code",
    "executionInfo": {
     "elapsed": 2534,
     "status": "ok",
     "timestamp": 1598088994083,
     "user": {
      "displayName": "Kṛṣṇa solutions",
      "photoUrl": "",
      "userId": "14911029245911425813"
     },
     "user_tz": -330
    },
    "id": "l2hxFNPi9sXs",
    "outputId": "21f16a7d-aecd-4ae2-9d72-4d27030e4c16"
   },
   "outputs": [
    {
     "data": {
      "text/plain": [
       "False"
      ]
     },
     "execution_count": 82,
     "metadata": {},
     "output_type": "execute_result"
    }
   ],
   "source": [
    "t = student['name']\n",
    "\n",
    "t.isnumeric() # Checking if the string is aplhanumeric"
   ]
  },
  {
   "cell_type": "markdown",
   "metadata": {
    "colab_type": "text",
    "id": "dVR4RdGH9sX1"
   },
   "source": [
    "<font color=orange>### IMPORTANT NOTE </font>\n",
    "<br> As we had applied the string methods on the retrieved value because it was a string.\n",
    "<br> Whatever maybe the retrieved value all its methods are applicable to it."
   ]
  },
  {
   "cell_type": "markdown",
   "metadata": {
    "colab_type": "text",
    "id": "jzCj1ZZG9sX1"
   },
   "source": [
    " In a similar way, these operations can be applied to numbers too.\n",
    " Lets see:"
   ]
  },
  {
   "cell_type": "code",
   "execution_count": 83,
   "metadata": {
    "colab": {
     "base_uri": "https://localhost:8080/",
     "height": 34
    },
    "colab_type": "code",
    "executionInfo": {
     "elapsed": 2507,
     "status": "ok",
     "timestamp": 1598088994091,
     "user": {
      "displayName": "Kṛṣṇa solutions",
      "photoUrl": "",
      "userId": "14911029245911425813"
     },
     "user_tz": -330
    },
    "id": "AFhbik_09sX2",
    "outputId": "1bca4cfd-6f85-460c-be8f-1eff5ab66baa"
   },
   "outputs": [
    {
     "data": {
      "text/plain": [
       "22"
      ]
     },
     "execution_count": 83,
     "metadata": {},
     "output_type": "execute_result"
    }
   ],
   "source": [
    "student['roll no']"
   ]
  },
  {
   "cell_type": "code",
   "execution_count": 84,
   "metadata": {
    "colab": {},
    "colab_type": "code",
    "executionInfo": {
     "elapsed": 2481,
     "status": "ok",
     "timestamp": 1598088994095,
     "user": {
      "displayName": "Kṛṣṇa solutions",
      "photoUrl": "",
      "userId": "14911029245911425813"
     },
     "user_tz": -330
    },
    "id": "v5joLzb-9sX4"
   },
   "outputs": [
    {
     "ename": "TypeError",
     "evalue": "unsupported operand type(s) for -: 'list' and 'int'",
     "output_type": "error",
     "traceback": [
      "\u001b[1;31m---------------------------------------------------------------------------\u001b[0m",
      "\u001b[1;31mTypeError\u001b[0m                                 Traceback (most recent call last)",
      "\u001b[1;32m<ipython-input-84-20122ac17208>\u001b[0m in \u001b[0;36m<module>\u001b[1;34m\u001b[0m\n\u001b[0;32m      1\u001b[0m \u001b[1;31m# Subtract 5 from the marks of subject 1\u001b[0m\u001b[1;33m\u001b[0m\u001b[1;33m\u001b[0m\u001b[1;33m\u001b[0m\u001b[0m\n\u001b[0;32m      2\u001b[0m \u001b[1;33m\u001b[0m\u001b[0m\n\u001b[1;32m----> 3\u001b[1;33m \u001b[0mstudent\u001b[0m\u001b[1;33m[\u001b[0m\u001b[1;34m'marks'\u001b[0m\u001b[1;33m]\u001b[0m\u001b[1;33m[\u001b[0m\u001b[1;36m0\u001b[0m\u001b[1;33m]\u001b[0m \u001b[1;33m=\u001b[0m \u001b[0mstudent\u001b[0m\u001b[1;33m[\u001b[0m\u001b[1;34m'marks'\u001b[0m\u001b[1;33m]\u001b[0m\u001b[1;33m[\u001b[0m\u001b[1;36m0\u001b[0m\u001b[1;33m]\u001b[0m \u001b[1;33m-\u001b[0m \u001b[1;36m5\u001b[0m\u001b[1;33m\u001b[0m\u001b[1;33m\u001b[0m\u001b[0m\n\u001b[0m",
      "\u001b[1;31mTypeError\u001b[0m: unsupported operand type(s) for -: 'list' and 'int'"
     ]
    }
   ],
   "source": [
    "# Subtract 5 from the marks of subject 1\n",
    "\n",
    "student['marks'][0] = student['marks'][0] - 5"
   ]
  },
  {
   "cell_type": "code",
   "execution_count": 85,
   "metadata": {
    "colab": {
     "base_uri": "https://localhost:8080/",
     "height": 34
    },
    "colab_type": "code",
    "executionInfo": {
     "elapsed": 2387,
     "status": "ok",
     "timestamp": 1598088994102,
     "user": {
      "displayName": "Kṛṣṇa solutions",
      "photoUrl": "",
      "userId": "14911029245911425813"
     },
     "user_tz": -330
    },
    "id": "rlMqbTVk9sX7",
    "outputId": "fb9a03a1-6352-4768-e5a1-a784c003b27d"
   },
   "outputs": [
    {
     "data": {
      "text/plain": [
       "[[0, 9], [25, 26, 27]]"
      ]
     },
     "execution_count": 85,
     "metadata": {},
     "output_type": "execute_result"
    }
   ],
   "source": [
    "# Show\n",
    "\n",
    "student['marks']"
   ]
  },
  {
   "cell_type": "markdown",
   "metadata": {
    "colab_type": "text",
    "id": "ebbiqPMJ9sX-"
   },
   "source": [
    "# Sets\n",
    "\n",
    "A set object is an unordered collection of distinct hashable objects.\n",
    "<br>An object is hashable if it has a hash value which never changes during its lifetime. A hash value is a numeric value of a fixed length that uniquely identifies data.\n",
    "<br>Same data cannot have different hash value and different data cannot have same hash value.\n",
    "<br>For reference : https://docs.python.org/3/library/stdtypes.html#set\n",
    "\n",
    "<font color=green>### Example</font>\n",
    "<br> There are many cases when the elements are repeated and such kind of duplicate entries need to be removed.\n",
    "<br> At that time, sets prove to be a useful tool.\n",
    "\n",
    "When can sets be used?\n",
    "<br> Sets can be used when you want to create a list but with unique elements.\n",
    "\n",
    "Frozenset is a new class that has the characteristics of a set, but its elements cannot be changed once assigned. While tuples are immutable lists, frozensets are immutable sets. (https://docs.python.org/3/library/stdtypes.html#frozenset)\n",
    "\n",
    "Let's go ahead and make a set to see how it works."
   ]
  },
  {
   "cell_type": "code",
   "execution_count": 86,
   "metadata": {
    "colab": {},
    "colab_type": "code",
    "executionInfo": {
     "elapsed": 1138,
     "status": "ok",
     "timestamp": 1598089570478,
     "user": {
      "displayName": "Kṛṣṇa solutions",
      "photoUrl": "",
      "userId": "14911029245911425813"
     },
     "user_tz": -330
    },
    "id": "PWlrSLL69sYA"
   },
   "outputs": [],
   "source": [
    "# create set\n",
    "\n",
    "m = {\"Welcome\", 2 ,\"this course\", 2}\n",
    "\n",
    "list123 = [\"Welcome\", 2 ,\"this course\", 2]\n"
   ]
  },
  {
   "cell_type": "code",
   "execution_count": 87,
   "metadata": {
    "colab": {
     "base_uri": "https://localhost:8080/",
     "height": 34
    },
    "colab_type": "code",
    "executionInfo": {
     "elapsed": 1047,
     "status": "ok",
     "timestamp": 1598089584700,
     "user": {
      "displayName": "Kṛṣṇa solutions",
      "photoUrl": "",
      "userId": "14911029245911425813"
     },
     "user_tz": -330
    },
    "id": "biyvJiScj6xq",
    "outputId": "df1ac460-f098-4b80-b289-c9f01857e245"
   },
   "outputs": [
    {
     "data": {
      "text/plain": [
       "['Welcome', 2, 'this course', 2]"
      ]
     },
     "execution_count": 87,
     "metadata": {},
     "output_type": "execute_result"
    }
   ],
   "source": [
    "list123"
   ]
  },
  {
   "cell_type": "code",
   "execution_count": 88,
   "metadata": {
    "colab": {
     "base_uri": "https://localhost:8080/",
     "height": 34
    },
    "colab_type": "code",
    "executionInfo": {
     "elapsed": 1146,
     "status": "ok",
     "timestamp": 1598089540871,
     "user": {
      "displayName": "Kṛṣṇa solutions",
      "photoUrl": "",
      "userId": "14911029245911425813"
     },
     "user_tz": -330
    },
    "id": "EVtN58z89sYE",
    "outputId": "34c0ab49-0c31-493d-db91-f7b5d855406a"
   },
   "outputs": [
    {
     "data": {
      "text/plain": [
       "{2, 'Welcome', 'this course'}"
      ]
     },
     "execution_count": 88,
     "metadata": {},
     "output_type": "execute_result"
    }
   ],
   "source": [
    "# show\n",
    "\n",
    "m #distinct and unique values"
   ]
  },
  {
   "cell_type": "code",
   "execution_count": 89,
   "metadata": {
    "colab": {},
    "colab_type": "code",
    "executionInfo": {
     "elapsed": 1656,
     "status": "ok",
     "timestamp": 1598089985555,
     "user": {
      "displayName": "Kṛṣṇa solutions",
      "photoUrl": "",
      "userId": "14911029245911425813"
     },
     "user_tz": -330
    },
    "id": "WudzjhNJkHv2"
   },
   "outputs": [],
   "source": [
    "list123 =['h','t','h','t','t','t', 'no_result']\n",
    "\n",
    "\n"
   ]
  },
  {
   "cell_type": "code",
   "execution_count": 90,
   "metadata": {
    "colab": {
     "base_uri": "https://localhost:8080/",
     "height": 34
    },
    "colab_type": "code",
    "executionInfo": {
     "elapsed": 1047,
     "status": "ok",
     "timestamp": 1598090183643,
     "user": {
      "displayName": "Kṛṣṇa solutions",
      "photoUrl": "",
      "userId": "14911029245911425813"
     },
     "user_tz": -330
    },
    "id": "5Ehi0Xr_kXo8",
    "outputId": "d2dd0376-cdab-4351-dfed-e7be9b618753"
   },
   "outputs": [
    {
     "data": {
      "text/plain": [
       "{'h', 'no_result', 't'}"
      ]
     },
     "execution_count": 90,
     "metadata": {},
     "output_type": "execute_result"
    }
   ],
   "source": [
    "set(list123)\n",
    "\n",
    "\n",
    "\n",
    "\n",
    "#list, set, dict, dict, list123"
   ]
  },
  {
   "cell_type": "code",
   "execution_count": 92,
   "metadata": {
    "colab": {
     "base_uri": "https://localhost:8080/",
     "height": 50
    },
    "colab_type": "code",
    "executionInfo": {
     "elapsed": 1069,
     "status": "ok",
     "timestamp": 1598090516283,
     "user": {
      "displayName": "Kṛṣṇa solutions",
      "photoUrl": "",
      "userId": "14911029245911425813"
     },
     "user_tz": -330
    },
    "id": "scMaiDzfncDd",
    "outputId": "2ec1114d-f6f2-406d-bb59-e0b3b7d41701"
   },
   "outputs": [
    {
     "name": "stdout",
     "output_type": "stream",
     "text": [
      "3.8.3 (default, Jul  2 2020, 17:30:36) [MSC v.1916 64 bit (AMD64)]\n"
     ]
    }
   ],
   "source": [
    "import sys\n",
    "print(sys.version)"
   ]
  },
  {
   "cell_type": "markdown",
   "metadata": {
    "colab_type": "text",
    "id": "_hn-tTQW9sYH"
   },
   "source": [
    "Initially when we created student_roll_nos it was better to create a set because roll no. of each and every student is unique."
   ]
  },
  {
   "cell_type": "code",
   "execution_count": 93,
   "metadata": {
    "colab": {},
    "colab_type": "code",
    "id": "I4oeXkLR9sYI"
   },
   "outputs": [],
   "source": [
    "student_roll_nos = set(student_roll_nos)"
   ]
  },
  {
   "cell_type": "markdown",
   "metadata": {
    "colab_type": "text",
    "id": "RmMqLolo9sYK"
   },
   "source": [
    "Type casting a list to a set."
   ]
  },
  {
   "cell_type": "code",
   "execution_count": 94,
   "metadata": {
    "colab": {},
    "colab_type": "code",
    "id": "tseJqwzD9sYK",
    "outputId": "8efce4f6-de1a-4f9e-c1e3-c47d031f7382"
   },
   "outputs": [
    {
     "data": {
      "text/plain": [
       "{21, 22, 32, 44, 77}"
      ]
     },
     "execution_count": 94,
     "metadata": {},
     "output_type": "execute_result"
    }
   ],
   "source": [
    "#Show\n",
    "\n",
    "student_roll_nos"
   ]
  },
  {
   "cell_type": "markdown",
   "metadata": {
    "colab_type": "text",
    "id": "A79C3pU39sYM"
   },
   "source": [
    "We know that a set has only unique entries. So what happens when we try to add something that is already in a set?\n",
    "\n",
    "A new student has joined with roll no. 77 \n",
    "<br> Oops! Already roll no. 77  is assigned to another student."
   ]
  },
  {
   "cell_type": "code",
   "execution_count": 95,
   "metadata": {
    "colab": {},
    "colab_type": "code",
    "id": "Zjeg94jA9sYN"
   },
   "outputs": [],
   "source": [
    "student_roll_nos.add(77)"
   ]
  },
  {
   "cell_type": "code",
   "execution_count": 96,
   "metadata": {
    "colab": {},
    "colab_type": "code",
    "id": "n1NL3-9O9sYP",
    "outputId": "be2819a1-c9dd-4180-ceda-58fb738f9515"
   },
   "outputs": [
    {
     "data": {
      "text/plain": [
       "{21, 22, 32, 44, 77}"
      ]
     },
     "execution_count": 96,
     "metadata": {},
     "output_type": "execute_result"
    }
   ],
   "source": [
    "#Show\n",
    "\n",
    "student_roll_nos"
   ]
  },
  {
   "cell_type": "markdown",
   "metadata": {
    "colab_type": "text",
    "id": "Zxa99tJj9sYW"
   },
   "source": [
    "We can see that there is no effect on the student_roll_nos. Thus uniqueness is ensured."
   ]
  },
  {
   "cell_type": "markdown",
   "metadata": {
    "colab_type": "text",
    "id": "FJNkE6LH9sYW"
   },
   "source": [
    "**Note the curly brackets. This does not indicate a dictionary!** Although you can draw analogies as a set being a dictionary with only keys."
   ]
  },
  {
   "cell_type": "code",
   "execution_count": 97,
   "metadata": {
    "colab": {},
    "colab_type": "code",
    "id": "sZcxGNXV9sYX",
    "outputId": "b540ffdd-8cfa-46e2-c4b7-efb75cb034f9"
   },
   "outputs": [
    {
     "data": {
      "text/plain": [
       "dict"
      ]
     },
     "execution_count": 97,
     "metadata": {},
     "output_type": "execute_result"
    }
   ],
   "source": [
    "# What is the type of this?\n",
    "\n",
    "s = {}\n",
    "\n",
    "type(s)"
   ]
  },
  {
   "cell_type": "markdown",
   "metadata": {
    "colab_type": "text",
    "id": "giYWOYuU9sYa"
   },
   "source": [
    "<font color=orange>### IMPORTANT NOTE </font>\n",
    "<br>Empty curly braces denote an empty dictionary and not a set"
   ]
  },
  {
   "cell_type": "code",
   "execution_count": 98,
   "metadata": {
    "colab": {},
    "colab_type": "code",
    "id": "oc5bZVXp9sYd"
   },
   "outputs": [],
   "source": [
    "# Create a list with repeated elements\n",
    "\n",
    "l = [1,1,2,2,3,4,4,5]"
   ]
  },
  {
   "cell_type": "code",
   "execution_count": 99,
   "metadata": {
    "colab": {},
    "colab_type": "code",
    "id": "-fsBluk89sYi",
    "outputId": "9a741db3-0d99-4623-a001-0c5567a9a6c4"
   },
   "outputs": [
    {
     "data": {
      "text/plain": [
       "{1, 2, 3, 4, 5}"
      ]
     },
     "execution_count": 99,
     "metadata": {},
     "output_type": "execute_result"
    }
   ],
   "source": [
    "# Convert list to set to get unique values\n",
    "\n",
    "set(l)"
   ]
  },
  {
   "cell_type": "markdown",
   "metadata": {
    "colab_type": "text",
    "id": "jSMHbzBG9sYn"
   },
   "source": [
    "Here you can see that all the duplicates from the list are eliminated."
   ]
  },
  {
   "cell_type": "markdown",
   "metadata": {
    "colab_type": "text",
    "id": "sABhQBnK9sYo"
   },
   "source": [
    "## Indexing and Slicing \n",
    "\n",
    "Indexing and Slicing is not supported in sets."
   ]
  },
  {
   "cell_type": "markdown",
   "metadata": {
    "colab_type": "text",
    "collapsed": true,
    "id": "uWvmsGul9sYp"
   },
   "source": [
    "## Set methods "
   ]
  },
  {
   "cell_type": "markdown",
   "metadata": {
    "colab_type": "text",
    "id": "Kc_MKVki9sYu"
   },
   "source": [
    "### add()\n",
    "\n",
    "As you have seen above add method is used to add single element to a set. "
   ]
  },
  {
   "cell_type": "code",
   "execution_count": 100,
   "metadata": {
    "colab": {},
    "colab_type": "code",
    "id": "X8TA7Puu9sYv"
   },
   "outputs": [],
   "source": [
    "x = set()"
   ]
  },
  {
   "cell_type": "markdown",
   "metadata": {
    "colab_type": "text",
    "id": "Aa2oBSVO9sYx"
   },
   "source": [
    "Adding elements to a set"
   ]
  },
  {
   "cell_type": "code",
   "execution_count": 101,
   "metadata": {
    "colab": {},
    "colab_type": "code",
    "id": "4OUSkKEr9sYx"
   },
   "outputs": [],
   "source": [
    "# Adding 1\n",
    "\n",
    "x.add(1)"
   ]
  },
  {
   "cell_type": "code",
   "execution_count": 102,
   "metadata": {
    "colab": {},
    "colab_type": "code",
    "id": "8loT7EdU9sY2"
   },
   "outputs": [],
   "source": [
    "# Adding 2\n",
    "\n",
    "x.add(2)"
   ]
  },
  {
   "cell_type": "code",
   "execution_count": 103,
   "metadata": {
    "colab": {},
    "colab_type": "code",
    "id": "dbS_05Yz9sY3",
    "outputId": "ac706d6c-9ba6-4d3a-9caf-93f7b693a1f6"
   },
   "outputs": [
    {
     "data": {
      "text/plain": [
       "{1, 2}"
      ]
     },
     "execution_count": 103,
     "metadata": {},
     "output_type": "execute_result"
    }
   ],
   "source": [
    "#Show\n",
    "\n",
    "x"
   ]
  },
  {
   "cell_type": "code",
   "execution_count": 104,
   "metadata": {
    "colab": {},
    "colab_type": "code",
    "id": "3JwLWK9o9sY5"
   },
   "outputs": [],
   "source": [
    "# Try to add 1 again\n",
    "\n",
    "x.add(1)"
   ]
  },
  {
   "cell_type": "code",
   "execution_count": 105,
   "metadata": {
    "colab": {},
    "colab_type": "code",
    "id": "zHMG4IhP9sY7",
    "outputId": "8920300d-895b-438f-9e27-f7cf76e8009b"
   },
   "outputs": [
    {
     "data": {
      "text/plain": [
       "{1, 2}"
      ]
     },
     "execution_count": 105,
     "metadata": {},
     "output_type": "execute_result"
    }
   ],
   "source": [
    "#Show\n",
    "\n",
    "x"
   ]
  },
  {
   "cell_type": "markdown",
   "metadata": {
    "colab_type": "text",
    "id": "6EUJNb8Y9sY9"
   },
   "source": [
    "We can see that there is no effect on the set when 1 was added again."
   ]
  },
  {
   "cell_type": "markdown",
   "metadata": {
    "colab_type": "text",
    "id": "qBYNcAVD9sY-"
   },
   "source": [
    "### update()"
   ]
  },
  {
   "cell_type": "markdown",
   "metadata": {
    "colab_type": "text",
    "id": "_tE3GKr79sY-"
   },
   "source": [
    "Update method can be used to add to add multiple elements to a set."
   ]
  },
  {
   "cell_type": "code",
   "execution_count": 106,
   "metadata": {
    "colab": {},
    "colab_type": "code",
    "id": "fFf-opVD9sY-"
   },
   "outputs": [],
   "source": [
    "# Passing list as a parameter\n",
    "\n",
    "x.update([4,5,6])\n",
    "x.update([4,5,6])"
   ]
  },
  {
   "cell_type": "code",
   "execution_count": 107,
   "metadata": {
    "colab": {},
    "colab_type": "code",
    "id": "lVz0OV6D9sZA",
    "outputId": "b25b869f-f737-471c-b31b-e717b20f2cbd"
   },
   "outputs": [
    {
     "data": {
      "text/plain": [
       "{1, 2, 4, 5, 6}"
      ]
     },
     "execution_count": 107,
     "metadata": {},
     "output_type": "execute_result"
    }
   ],
   "source": [
    "#Show\n",
    "\n",
    "x"
   ]
  },
  {
   "cell_type": "code",
   "execution_count": 108,
   "metadata": {
    "colab": {},
    "colab_type": "code",
    "id": "aZk5bIZB9sZD"
   },
   "outputs": [],
   "source": [
    "# Passing tuple as a parameter\n",
    "\n",
    "x.update((7,8,9))"
   ]
  },
  {
   "cell_type": "code",
   "execution_count": 109,
   "metadata": {
    "colab": {},
    "colab_type": "code",
    "id": "L_kDJYYF9sZG",
    "outputId": "e94b61f2-3005-412a-c64d-22c2a600f2b5"
   },
   "outputs": [
    {
     "data": {
      "text/plain": [
       "{1, 2, 4, 5, 6, 7, 8, 9}"
      ]
     },
     "execution_count": 109,
     "metadata": {},
     "output_type": "execute_result"
    }
   ],
   "source": [
    "#Show\n",
    "\n",
    "x"
   ]
  },
  {
   "cell_type": "code",
   "execution_count": 111,
   "metadata": {
    "colab": {},
    "colab_type": "code",
    "id": "DjEP5bsO9sZJ"
   },
   "outputs": [],
   "source": [
    "# Passing set as a parameter\n",
    "\n",
    "x.update({10,11})"
   ]
  },
  {
   "cell_type": "code",
   "execution_count": 112,
   "metadata": {
    "colab": {},
    "colab_type": "code",
    "id": "hXX-sbx_9sZK",
    "outputId": "4232d854-e673-442f-defa-70a9ea45a140"
   },
   "outputs": [
    {
     "data": {
      "text/plain": [
       "{1, 2, 4, 5, 6, 7, 8, 9, 10, 11}"
      ]
     },
     "execution_count": 112,
     "metadata": {},
     "output_type": "execute_result"
    }
   ],
   "source": [
    "#Show\n",
    "\n",
    "x"
   ]
  },
  {
   "cell_type": "code",
   "execution_count": 113,
   "metadata": {
    "colab": {},
    "colab_type": "code",
    "id": "esMPZI5_9sZM"
   },
   "outputs": [],
   "source": [
    "# Passing parameters from multiple datatypes \n",
    "\n",
    "x.update([\"list\"],{\"set\"},(20,21), {\"key\" : \"value\"})"
   ]
  },
  {
   "cell_type": "code",
   "execution_count": 114,
   "metadata": {
    "colab": {},
    "colab_type": "code",
    "id": "Iolw0gl-9sZN",
    "outputId": "4ae0f060-09f6-47bc-8767-5c06b0ac257d"
   },
   "outputs": [
    {
     "data": {
      "text/plain": [
       "{1, 10, 11, 2, 20, 21, 4, 5, 6, 7, 8, 9, 'key', 'list', 'set'}"
      ]
     },
     "execution_count": 114,
     "metadata": {},
     "output_type": "execute_result"
    }
   ],
   "source": [
    "#Show\n",
    "\n",
    "x"
   ]
  },
  {
   "cell_type": "markdown",
   "metadata": {
    "colab_type": "text",
    "id": "yf5ntktp9sZP"
   },
   "source": [
    "What is happening here is the update method breaks each iterable element by element and then each element is added to the set?"
   ]
  },
  {
   "cell_type": "markdown",
   "metadata": {
    "colab_type": "text",
    "id": "fZcqi5Vr9sZQ"
   },
   "source": [
    "Lets see what happens with strings."
   ]
  },
  {
   "cell_type": "code",
   "execution_count": 115,
   "metadata": {
    "colab": {},
    "colab_type": "code",
    "id": "4Sp4WpR79sZQ"
   },
   "outputs": [],
   "source": [
    "s = set()"
   ]
  },
  {
   "cell_type": "code",
   "execution_count": 116,
   "metadata": {
    "colab": {},
    "colab_type": "code",
    "id": "S5obc6-B9sZS"
   },
   "outputs": [],
   "source": [
    "# Passing string as a parameter\n",
    "\n",
    "s.update(\"string\")"
   ]
  },
  {
   "cell_type": "code",
   "execution_count": 117,
   "metadata": {
    "colab": {},
    "colab_type": "code",
    "id": "Obzk_RYp9sZX",
    "outputId": "e1cc1b7c-53a2-45ed-c51e-24a02fbb13ad",
    "scrolled": true
   },
   "outputs": [
    {
     "data": {
      "text/plain": [
       "{'g', 'i', 'n', 'r', 's', 't'}"
      ]
     },
     "execution_count": 117,
     "metadata": {},
     "output_type": "execute_result"
    }
   ],
   "source": [
    "#Show\n",
    "\n",
    "s"
   ]
  },
  {
   "cell_type": "markdown",
   "metadata": {
    "colab_type": "text",
    "id": "dIkJFRrr9sZc"
   },
   "source": [
    "String is broken into characters and arranged in alphabetical order."
   ]
  },
  {
   "cell_type": "markdown",
   "metadata": {
    "colab_type": "text",
    "id": "f4UVpb2P9sZd"
   },
   "source": [
    "### discard()\n",
    "\n",
    "This method will discard an element from a set and it will not raise an exception if the element is not present in the set, the set will remain unchanged.\n",
    "\n",
    "Lets see how this works."
   ]
  },
  {
   "cell_type": "code",
   "execution_count": 118,
   "metadata": {
    "colab": {},
    "colab_type": "code",
    "id": "_jkRI82R9sZf"
   },
   "outputs": [],
   "source": [
    "s = {\"Welcome\", 2 ,\"this chapter\", \"my friend\"}"
   ]
  },
  {
   "cell_type": "code",
   "execution_count": 119,
   "metadata": {
    "colab": {},
    "colab_type": "code",
    "id": "XIvH4RpU9sZi"
   },
   "outputs": [],
   "source": [
    "s.discard(\"my friend\")"
   ]
  },
  {
   "cell_type": "code",
   "execution_count": 120,
   "metadata": {
    "colab": {},
    "colab_type": "code",
    "id": "8h6HMKjj9sZt",
    "outputId": "d7c83895-34b3-4775-e71b-569f06f14e71"
   },
   "outputs": [
    {
     "data": {
      "text/plain": [
       "{2, 'Welcome', 'this chapter'}"
      ]
     },
     "execution_count": 120,
     "metadata": {},
     "output_type": "execute_result"
    }
   ],
   "source": [
    "# Show\n",
    "\n",
    "s"
   ]
  },
  {
   "cell_type": "code",
   "execution_count": 121,
   "metadata": {
    "colab": {},
    "colab_type": "code",
    "id": "s7EZ7mwp9sZy"
   },
   "outputs": [],
   "source": [
    "s.discard(\"enemy\")"
   ]
  },
  {
   "cell_type": "code",
   "execution_count": 122,
   "metadata": {
    "colab": {},
    "colab_type": "code",
    "id": "44U_XLG19sZ0",
    "outputId": "e31db190-fa28-4499-e35b-51e493d00adb"
   },
   "outputs": [
    {
     "data": {
      "text/plain": [
       "{2, 'Welcome', 'this chapter'}"
      ]
     },
     "execution_count": 122,
     "metadata": {},
     "output_type": "execute_result"
    }
   ],
   "source": [
    "# Show\n",
    "\n",
    "s"
   ]
  },
  {
   "cell_type": "markdown",
   "metadata": {
    "colab_type": "text",
    "id": "R2mQ88IX9sZ5"
   },
   "source": [
    "As you can see there was no exception raised even though the given string was not present in the set."
   ]
  },
  {
   "cell_type": "markdown",
   "metadata": {
    "colab_type": "text",
    "id": "SPqY8p2V9sZ5"
   },
   "source": [
    "### remove()\n",
    "\n",
    "This method will remove an element from the set and it will raise an exception if the element is not present in the set, the set will remain unchanged.\n",
    "\n",
    "Lets see how this works."
   ]
  },
  {
   "cell_type": "code",
   "execution_count": 123,
   "metadata": {
    "colab": {},
    "colab_type": "code",
    "id": "VTmmcBiF9sZ5"
   },
   "outputs": [],
   "source": [
    "s = {\"Welcome\", 2 ,\"this chapter\", \"my friend\"}"
   ]
  },
  {
   "cell_type": "code",
   "execution_count": 124,
   "metadata": {
    "colab": {},
    "colab_type": "code",
    "id": "oiTWn09j9sZ7"
   },
   "outputs": [],
   "source": [
    "s.remove(\"my friend\")"
   ]
  },
  {
   "cell_type": "code",
   "execution_count": 125,
   "metadata": {
    "colab": {},
    "colab_type": "code",
    "id": "2OheeNLQ9sZ9",
    "outputId": "aff60b1c-62df-44b5-fd11-358a79fff806"
   },
   "outputs": [
    {
     "data": {
      "text/plain": [
       "{2, 'Welcome', 'this chapter'}"
      ]
     },
     "execution_count": 125,
     "metadata": {},
     "output_type": "execute_result"
    }
   ],
   "source": [
    "# Show\n",
    "\n",
    "s"
   ]
  },
  {
   "cell_type": "code",
   "execution_count": 126,
   "metadata": {
    "colab": {},
    "colab_type": "code",
    "id": "fmtl4GgR9sZ_",
    "outputId": "b87cd270-20e7-474c-8016-658c705d658c"
   },
   "outputs": [
    {
     "ename": "KeyError",
     "evalue": "'enemy'",
     "output_type": "error",
     "traceback": [
      "\u001b[1;31m---------------------------------------------------------------------------\u001b[0m",
      "\u001b[1;31mKeyError\u001b[0m                                  Traceback (most recent call last)",
      "\u001b[1;32m<ipython-input-126-e9662fb0e276>\u001b[0m in \u001b[0;36m<module>\u001b[1;34m\u001b[0m\n\u001b[1;32m----> 1\u001b[1;33m \u001b[0ms\u001b[0m\u001b[1;33m.\u001b[0m\u001b[0mremove\u001b[0m\u001b[1;33m(\u001b[0m\u001b[1;34m\"enemy\"\u001b[0m\u001b[1;33m)\u001b[0m\u001b[1;33m\u001b[0m\u001b[1;33m\u001b[0m\u001b[0m\n\u001b[0m",
      "\u001b[1;31mKeyError\u001b[0m: 'enemy'"
     ]
    }
   ],
   "source": [
    "s.remove(\"enemy\")"
   ]
  },
  {
   "cell_type": "markdown",
   "metadata": {
    "colab_type": "text",
    "id": "XH2pJGRh9saI"
   },
   "source": [
    "As you can see there was an exception raised because given string was not present in the set."
   ]
  },
  {
   "cell_type": "markdown",
   "metadata": {
    "colab_type": "text",
    "id": "8zGzlm5x9saK"
   },
   "source": [
    "## Set operations\n",
    "\n",
    "Sets support various mathematical operations such as union, intersection, difference and symmetric difference. We can do this with operators or methods.\n"
   ]
  },
  {
   "cell_type": "code",
   "execution_count": 127,
   "metadata": {
    "colab": {},
    "colab_type": "code",
    "id": "TEy3MupS9saL"
   },
   "outputs": [],
   "source": [
    "student_names_groupA  = {\"John\" ,\"Jane\", \"Amita\", \"Amit\", \"Ram\",\"Gautam\"}\n",
    "student_roll_nos_groupA  = {11,22,32,44,77,14}\n",
    "student_marks_groupA  = {20,19,11,15,16,18}\n",
    "\n",
    "student_names_groupB = {'Jaya','Sagar','Simran','Aditya','Gautam'}\n",
    "student_roll_nos_groupB = {1,4,7,8,9,14}\n",
    "student_marks_groupB = {20,11,14,17,18}"
   ]
  },
  {
   "cell_type": "markdown",
   "metadata": {
    "colab_type": "text",
    "id": "UkG294tj9saQ"
   },
   "source": [
    "### Union\n",
    "\n",
    "When a union of two sets is performed, all the elements of both sets are brought in a single set.\n",
    "<br>Union can be performed with the help of pipe(|)(This symbol is present above your Enter key on the keyboard) or the union() method. "
   ]
  },
  {
   "cell_type": "code",
   "execution_count": 128,
   "metadata": {
    "colab": {},
    "colab_type": "code",
    "id": "FD0reVS89saR",
    "outputId": "08631705-7eb0-45cd-9341-a31f84ab61ab"
   },
   "outputs": [
    {
     "data": {
      "text/plain": [
       "{'Aditya',\n",
       " 'Amit',\n",
       " 'Amita',\n",
       " 'Gautam',\n",
       " 'Jane',\n",
       " 'Jaya',\n",
       " 'John',\n",
       " 'Ram',\n",
       " 'Sagar',\n",
       " 'Simran'}"
      ]
     },
     "execution_count": 128,
     "metadata": {},
     "output_type": "execute_result"
    }
   ],
   "source": [
    "student_names_groupA | student_names_groupB\n"
   ]
  },
  {
   "cell_type": "code",
   "execution_count": 129,
   "metadata": {
    "colab": {},
    "colab_type": "code",
    "id": "2ZDQRzHp9saV",
    "outputId": "4986f10b-44a8-4de7-fc9c-cdba2782a74a"
   },
   "outputs": [
    {
     "data": {
      "text/plain": [
       "{'Aditya',\n",
       " 'Amit',\n",
       " 'Amita',\n",
       " 'Gautam',\n",
       " 'Jane',\n",
       " 'Jaya',\n",
       " 'John',\n",
       " 'Ram',\n",
       " 'Sagar',\n",
       " 'Simran'}"
      ]
     },
     "execution_count": 129,
     "metadata": {},
     "output_type": "execute_result"
    }
   ],
   "source": [
    "student_names_groupA.union(student_names_groupB)"
   ]
  },
  {
   "cell_type": "markdown",
   "metadata": {
    "colab_type": "text",
    "id": "QYAq0T_E9saa"
   },
   "source": [
    "### Intersection\n",
    "\n",
    "When an intersection of two sets is performed, the elements that are common in both sets are brought in a single set.\n",
    "<br>Intersection can be performed with the help of ampersand(&) or the intersection() method. "
   ]
  },
  {
   "cell_type": "code",
   "execution_count": null,
   "metadata": {
    "colab": {},
    "colab_type": "code",
    "id": "YpeFPJnA9sab",
    "outputId": "2b6f1cf8-1fa2-4bb3-ddcd-ff96dd8f39ba"
   },
   "outputs": [
    {
     "data": {
      "text/plain": [
       "{'Gautam'}"
      ]
     },
     "execution_count": 115,
     "metadata": {
      "tags": []
     },
     "output_type": "execute_result"
    }
   ],
   "source": [
    "student_names_groupA & student_names_groupB"
   ]
  },
  {
   "cell_type": "code",
   "execution_count": null,
   "metadata": {
    "colab": {},
    "colab_type": "code",
    "id": "Lim433ww9sae",
    "outputId": "a2bca470-4737-492b-c0a3-b544c1b94ad8"
   },
   "outputs": [
    {
     "data": {
      "text/plain": [
       "{'Gautam'}"
      ]
     },
     "execution_count": 116,
     "metadata": {
      "tags": []
     },
     "output_type": "execute_result"
    }
   ],
   "source": [
    "student_names_groupA.intersection(student_names_groupB)"
   ]
  },
  {
   "cell_type": "markdown",
   "metadata": {
    "colab_type": "text",
    "id": "IylDeCmG9sah"
   },
   "source": [
    "### Set difference\n",
    "\n",
    "When a set is subtracted from another set, the elements that are present in first set but are not present in second set are returned in a set.\n",
    "<br>Set difference can be performed with the help of minus(-) or the difference() method. "
   ]
  },
  {
   "cell_type": "code",
   "execution_count": null,
   "metadata": {
    "colab": {},
    "colab_type": "code",
    "id": "qnNrQF6T9sai",
    "outputId": "f8cd162f-f50e-4144-ed0a-af182c4fe081"
   },
   "outputs": [
    {
     "data": {
      "text/plain": [
       "{'Amit', 'Amita', 'Jane', 'John', 'Ram'}"
      ]
     },
     "execution_count": 117,
     "metadata": {
      "tags": []
     },
     "output_type": "execute_result"
    }
   ],
   "source": [
    "student_names_groupA - student_names_groupB"
   ]
  },
  {
   "cell_type": "code",
   "execution_count": null,
   "metadata": {
    "colab": {},
    "colab_type": "code",
    "id": "2O8BwPLh9saj",
    "outputId": "2e4a01d7-9c6c-4134-8c86-d0183c3ef208"
   },
   "outputs": [
    {
     "data": {
      "text/plain": [
       "{'Amit', 'Amita', 'Jane', 'John', 'Ram'}"
      ]
     },
     "execution_count": 118,
     "metadata": {
      "tags": []
     },
     "output_type": "execute_result"
    }
   ],
   "source": [
    "student_names_groupA.difference(student_names_groupB)"
   ]
  },
  {
   "cell_type": "markdown",
   "metadata": {
    "colab_type": "text",
    "id": "Pzu7yspa9sal"
   },
   "source": [
    "### Set symmetric difference\n",
    "\n",
    "This method returns all the elements in both sets except the ones that are common in both.\n",
    "<br>Set symmetric difference can be performed with the help of caret(^) or the symmetric_difference() method. "
   ]
  },
  {
   "cell_type": "code",
   "execution_count": null,
   "metadata": {
    "colab": {},
    "colab_type": "code",
    "id": "Gg2--6lz9sal",
    "outputId": "cdb50377-b2b6-4e69-e50c-8c248395574b"
   },
   "outputs": [
    {
     "data": {
      "text/plain": [
       "{'Aditya', 'Amit', 'Amita', 'Jane', 'Jaya', 'John', 'Ram', 'Sagar', 'Simran'}"
      ]
     },
     "execution_count": 119,
     "metadata": {
      "tags": []
     },
     "output_type": "execute_result"
    }
   ],
   "source": [
    "student_names_groupA ^ student_names_groupB"
   ]
  },
  {
   "cell_type": "code",
   "execution_count": null,
   "metadata": {
    "colab": {},
    "colab_type": "code",
    "id": "o3UlONtv9sau",
    "outputId": "421b958a-58d8-4d2e-98ce-4f05eb7340cb"
   },
   "outputs": [
    {
     "data": {
      "text/plain": [
       "{'Aditya', 'Amit', 'Amita', 'Jane', 'Jaya', 'John', 'Ram', 'Sagar', 'Simran'}"
      ]
     },
     "execution_count": 120,
     "metadata": {
      "tags": []
     },
     "output_type": "execute_result"
    }
   ],
   "source": [
    "student_names_groupA.symmetric_difference(student_names_groupB)"
   ]
  },
  {
   "cell_type": "markdown",
   "metadata": {
    "colab_type": "text",
    "id": "Muq42Yau9sa0"
   },
   "source": [
    "<font color=red>### INSTRUCTION TO DO</font>\n",
    "\n",
    "There are other methods too.\n",
    "<br> Using the above sets, try different set methods.\n",
    "<br> To get you started there are difference_update and intersection_update methods. See what they do differently.\n",
    "<br> Add new cells if required and practice"
   ]
  },
  {
   "cell_type": "code",
   "execution_count": null,
   "metadata": {
    "colab": {},
    "colab_type": "code",
    "collapsed": true,
    "id": "WpsDS85I9sa0"
   },
   "outputs": [],
   "source": []
  },
  {
   "cell_type": "markdown",
   "metadata": {
    "colab_type": "text",
    "id": "ShZ4rXt39sa2"
   },
   "source": [
    "## Membership operator\n",
    "\n",
    "<br> Membership operator in programming terms is **in**.\n",
    "<br>As the name suggests this operator can be used to check whether a particular element is present in an iterable.\n",
    "<br> Strings, lists, tuples and dictionaries all are iterables and thus this operator is applicable to all of them. "
   ]
  },
  {
   "cell_type": "markdown",
   "metadata": {
    "colab_type": "text",
    "collapsed": true,
    "id": "2XuTKJML9sa2"
   },
   "source": [
    "### For strings"
   ]
  },
  {
   "cell_type": "code",
   "execution_count": 130,
   "metadata": {
    "colab": {},
    "colab_type": "code",
    "id": "uTr0i4In9sa3"
   },
   "outputs": [],
   "source": [
    "s = 'My name is Anthony Gonsalves'"
   ]
  },
  {
   "cell_type": "markdown",
   "metadata": {
    "colab_type": "text",
    "id": "GklaBvC99sbB"
   },
   "source": [
    "Let's find out whether character 'A' is present in the above string."
   ]
  },
  {
   "cell_type": "code",
   "execution_count": 131,
   "metadata": {
    "colab": {},
    "colab_type": "code",
    "id": "GOhf4eQq9sbB",
    "outputId": "4817cb3b-0b2e-45a8-e1a0-2d339edcdcaf"
   },
   "outputs": [
    {
     "data": {
      "text/plain": [
       "True"
      ]
     },
     "execution_count": 131,
     "metadata": {},
     "output_type": "execute_result"
    }
   ],
   "source": [
    "'A' in s"
   ]
  },
  {
   "cell_type": "markdown",
   "metadata": {
    "colab_type": "text",
    "id": "Ffgzxjlq9sbD"
   },
   "source": [
    "**in** operator is used to check whether 'A' is a member of string s "
   ]
  },
  {
   "cell_type": "markdown",
   "metadata": {
    "colab_type": "text",
    "id": "trxpjmyJ9sbD"
   },
   "source": [
    "### For lists"
   ]
  },
  {
   "cell_type": "code",
   "execution_count": 132,
   "metadata": {
    "colab": {},
    "colab_type": "code",
    "id": "npmj4ODp9sbD"
   },
   "outputs": [],
   "source": [
    "l = [\"Welcome to chapter\" ,3, \"David\" ]"
   ]
  },
  {
   "cell_type": "markdown",
   "metadata": {
    "colab_type": "text",
    "id": "UXJHhciE9sbF"
   },
   "source": [
    "Let's find out whether \"David\" is present in the above list."
   ]
  },
  {
   "cell_type": "code",
   "execution_count": 133,
   "metadata": {
    "colab": {},
    "colab_type": "code",
    "id": "S5lQDR3u9sbG",
    "outputId": "09a4923a-92f4-4692-9d81-bf5fb8c0060f"
   },
   "outputs": [
    {
     "data": {
      "text/plain": [
       "True"
      ]
     },
     "execution_count": 133,
     "metadata": {},
     "output_type": "execute_result"
    }
   ],
   "source": [
    "\"David\" in l"
   ]
  },
  {
   "cell_type": "markdown",
   "metadata": {
    "colab_type": "text",
    "id": "EKKSoopN9sbL"
   },
   "source": [
    "### For tuples"
   ]
  },
  {
   "cell_type": "code",
   "execution_count": 134,
   "metadata": {
    "colab": {},
    "colab_type": "code",
    "id": "bES1qggK9sbL"
   },
   "outputs": [],
   "source": [
    "t = (\"Is the time\", 4, \"AM now?\")"
   ]
  },
  {
   "cell_type": "markdown",
   "metadata": {
    "colab_type": "text",
    "id": "pV9DD6bU9sbP"
   },
   "source": [
    "Let's find out whether 3 is present in the above tuple."
   ]
  },
  {
   "cell_type": "code",
   "execution_count": 135,
   "metadata": {
    "colab": {},
    "colab_type": "code",
    "id": "BmzMROpd9sbP",
    "outputId": "b2897c74-5d46-40ac-c15a-651e8ac50e14"
   },
   "outputs": [
    {
     "data": {
      "text/plain": [
       "False"
      ]
     },
     "execution_count": 135,
     "metadata": {},
     "output_type": "execute_result"
    }
   ],
   "source": [
    "3 in t"
   ]
  },
  {
   "cell_type": "markdown",
   "metadata": {
    "colab_type": "text",
    "id": "sn7o1t4S9sbR"
   },
   "source": [
    "### For dictionary"
   ]
  },
  {
   "cell_type": "code",
   "execution_count": 136,
   "metadata": {
    "colab": {},
    "colab_type": "code",
    "id": "N59YMN6g9sbS"
   },
   "outputs": [],
   "source": [
    "student = {'name':'John','roll no':22,'marks':[25,26,27]}"
   ]
  },
  {
   "cell_type": "markdown",
   "metadata": {
    "colab_type": "text",
    "id": "_jD-VPOj9sbT"
   },
   "source": [
    "In dictionaries **in** operator only checks the keys and not the values."
   ]
  },
  {
   "cell_type": "code",
   "execution_count": 137,
   "metadata": {
    "colab": {},
    "colab_type": "code",
    "id": "PUht_YT89sbU",
    "outputId": "7050624c-5dd7-49e8-9ed2-d52804eb87f9"
   },
   "outputs": [
    {
     "data": {
      "text/plain": [
       "False"
      ]
     },
     "execution_count": 137,
     "metadata": {},
     "output_type": "execute_result"
    }
   ],
   "source": [
    "'John' in student"
   ]
  },
  {
   "cell_type": "code",
   "execution_count": 138,
   "metadata": {
    "colab": {},
    "colab_type": "code",
    "id": "Vu5NMJ-T9sbV",
    "outputId": "c35b965f-b4f9-4f7d-e0e5-f09fccdb33f8"
   },
   "outputs": [
    {
     "data": {
      "text/plain": [
       "True"
      ]
     },
     "execution_count": 138,
     "metadata": {},
     "output_type": "execute_result"
    }
   ],
   "source": [
    "'name' in student"
   ]
  },
  {
   "cell_type": "markdown",
   "metadata": {
    "colab_type": "text",
    "id": "5h_LXL_F9sbY"
   },
   "source": [
    "How to find in values?\n",
    "\n",
    "Simple! Use the values() method."
   ]
  },
  {
   "cell_type": "code",
   "execution_count": 139,
   "metadata": {
    "colab": {},
    "colab_type": "code",
    "id": "4d8-2HcW9sbY",
    "outputId": "bf0fb7be-d20b-4609-898e-94c06a1567af"
   },
   "outputs": [
    {
     "data": {
      "text/plain": [
       "True"
      ]
     },
     "execution_count": 139,
     "metadata": {},
     "output_type": "execute_result"
    }
   ],
   "source": [
    "'John' in student.values()"
   ]
  },
  {
   "cell_type": "markdown",
   "metadata": {
    "colab_type": "text",
    "id": "OTI6Qdus9sbf"
   },
   "source": [
    "### For Set"
   ]
  },
  {
   "cell_type": "code",
   "execution_count": 140,
   "metadata": {
    "colab": {},
    "colab_type": "code",
    "id": "7GBtpEGT9sbf"
   },
   "outputs": [],
   "source": [
    "s = {\"That place is \" , 5 , \"miles away.\"}"
   ]
  },
  {
   "cell_type": "markdown",
   "metadata": {
    "colab_type": "text",
    "id": "JfsDHEjf9sbi"
   },
   "source": [
    "Let's find out whether 5 is present in the above set."
   ]
  },
  {
   "cell_type": "code",
   "execution_count": 141,
   "metadata": {
    "colab": {},
    "colab_type": "code",
    "id": "AOUFxu-P9sbi",
    "outputId": "f6f35ef5-ea4f-4572-f617-6e46fc49df67"
   },
   "outputs": [
    {
     "data": {
      "text/plain": [
       "True"
      ]
     },
     "execution_count": 141,
     "metadata": {},
     "output_type": "execute_result"
    }
   ],
   "source": [
    "5 in s"
   ]
  },
  {
   "cell_type": "markdown",
   "metadata": {
    "colab_type": "text",
    "id": "Yw6n2zkE9sbk"
   },
   "source": [
    "<h2>Comparison between data structures</h2>\n",
    "\n",
    "<table>\n",
    "  <tr >\n",
    "    <th width=\"20%\" style=\"text-align:left;\">Property</th>\n",
    "    <th width=\"20%\" style=\"text-align:left;\">List</th>\n",
    "    <th width=\"20%\" style=\"text-align:left;\">Tuple</th>\n",
    "    <th width=\"20%\" style=\"text-align:left;\">Dictionary</th>\n",
    "    <th width=\"20%\" style=\"text-align:left;\">Set</th>\n",
    "  </tr>\n",
    "  <tr>\n",
    "    <td style=\"text-align:left;\">**Mutability**</td>\n",
    "    <td style=\"text-align:left;\">Mutable</td>\n",
    "    <td style=\"text-align:left;\">Immutable</td>\n",
    "    <td style=\"text-align:left;\">Mutable</td>\n",
    "    <td style=\"text-align:left;\">Mutable</td>\n",
    "  </tr>\n",
    "  <tr>\n",
    "    <td style=\"text-align:left;\">**Indexing and Slicing**</td>\n",
    "    <td style=\"text-align:left;\">Supported</td>\n",
    "    <td style=\"text-align:left;\">Supported</td>\n",
    "    <td style=\"text-align:left;\">Supported</td>\n",
    "    <td style=\"text-align:left;\">Not Supported</td>\n",
    "  </tr>\n",
    "  <tr>\n",
    "    <td  style=\"text-align:left;\">**Looping**</td>\n",
    "    <td style=\"text-align:left;\">Looping through list indices is possible</td>\n",
    "    <td style=\"text-align:left;\">Looping through tuple indices is possible</td>\n",
    "    <td style=\"text-align:left;\">Looping is possible in 3 ways either by keys or values or both.</td>\n",
    "    <td style=\"text-align:left;\">Looping through set indices is possible</td>\n",
    "  </tr>\n",
    "   <tr>\n",
    "    <td style=\"text-align:left;\">**Repetition of elements**</td>\n",
    "    <td style=\"text-align:left;\">Duplicate elements can be stored in a list.</td>\n",
    "    <td style=\"text-align:left;\">Duplicate elements can be stored in a tuple.</td>\n",
    "    <td style=\"text-align:left;\">There can be two items in a dictionary with the same key, but the second one will be kept, the first one will be discarded.</td>\n",
    "    <td style=\"text-align:left;\">In a set duplicate elements cannot exist, if the same element is added again the set remains unchanged.</td>\n",
    "  </tr>\n",
    "</table>\n",
    "\n",
    "</body>"
   ]
  },
  {
   "cell_type": "markdown",
   "metadata": {
    "colab_type": "text",
    "collapsed": true,
    "id": "47NrpKTh9sbk"
   },
   "source": [
    "# Summary\n",
    "\n",
    "Now that you have learnt about list, tuples, dictionaries and sets you are getting good at Python.\n",
    "<br> This chapter is very crucial as these data structures are used everywhere in Python programming.\n",
    "<br> Please solve your assignment very well and invest as much time as possible to master these topics.\n",
    "<br>Lets get to hands on practice by solving the assignment.\n",
    "\n",
    "**All the best!!**<t>"
   ]
  }
 ],
 "metadata": {
  "colab": {
   "name": "Chapter 3 - Compound Data Types - Content.ipynb",
   "provenance": []
  },
  "kernelspec": {
   "display_name": "Python 3",
   "language": "python",
   "name": "python3"
  },
  "language_info": {
   "codemirror_mode": {
    "name": "ipython",
    "version": 3
   },
   "file_extension": ".py",
   "mimetype": "text/x-python",
   "name": "python",
   "nbconvert_exporter": "python",
   "pygments_lexer": "ipython3",
   "version": "3.8.3"
  }
 },
 "nbformat": 4,
 "nbformat_minor": 1
}
