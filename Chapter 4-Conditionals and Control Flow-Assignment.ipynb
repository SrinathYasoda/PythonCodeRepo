{
 "cells": [
  {
   "cell_type": "markdown",
   "metadata": {
    "colab_type": "text",
    "collapsed": true,
    "id": "JhEMWrLwBfZD"
   },
   "source": [
    "Since you have done rigourous practice in the content part of this chapter.\n",
    "<br> Lets solve some tougher problems in this assignment"
   ]
  },
  {
   "cell_type": "markdown",
   "metadata": {
    "colab_type": "text",
    "id": "VkGDNVpZBfZF"
   },
   "source": [
    "**Q.1 Check if a given string is palindrome.**\n",
    "    <br> A string is palindrome if the reverse of the string is same as itself.\n",
    "    <br> For eg. madam\n",
    "    <br> Print \"`<string>` is palindrome\" if it is palindrome \n",
    "    <br> else \"`<string>` is not a palindrome\" if it is not a palindrome.\n",
    "    <br> Hint : Use slicing to get reverse of the string."
   ]
  },
  {
   "cell_type": "code",
   "execution_count": null,
   "metadata": {
    "colab": {},
    "colab_type": "code",
    "id": "1ePUC4DqBfZH"
   },
   "outputs": [],
   "source": [
    "given_string = 'madam'\n",
    "## START CODE HERE\n",
    "reverse_string=given_string[::-1]\n",
    "if given_string==reverse_string:\n",
    "    print (given_string+\" is palindrome\")\n",
    "else:\n",
    "    print (given_string+\" is not a palindrome\")\n",
    "\n",
    "## END CODE HERE"
   ]
  },
  {
   "cell_type": "markdown",
   "metadata": {
    "colab_type": "text",
    "id": "EPYKgFhwBfZS"
   },
   "source": [
    "<table>\n",
    "  <tr>\n",
    "  <td>**Expected Output:**<td>\n",
    "    <td>madam is a palindrome</td>\n",
    "  </tr>\n",
    "</table>"
   ]
  },
  {
   "cell_type": "markdown",
   "metadata": {
    "colab_type": "text",
    "id": "PcKUrrJoBfZU"
   },
   "source": [
    "**\n",
    "Q.2 Given two numbers, print** \n",
    "\n",
    "     1. \"Result: n1 = n2\" if they are equal\n",
    "     2. \"Result: n1 > n2\" if the first one is greater than second one\n",
    "     3. \"Result: n1 < n2\" if the first one is less than second one   \n",
    "    \n",
    "**\n",
    "Replace n1 and n2 with their actual values\n",
    "**"
   ]
  },
  {
   "cell_type": "code",
   "execution_count": null,
   "metadata": {
    "colab": {},
    "colab_type": "code",
    "id": "ZMYFMfz9BfZW",
    "outputId": "4c692bcb-fc7a-4d37-d825-896197e2777a"
   },
   "outputs": [],
   "source": [
    "# Print by substituting example.\n",
    "\n",
    "num1 = 3\n",
    "num2 = 2 \n",
    "\n",
    "print(\"Result: %d > %d\" % (num1,num2));"
   ]
  },
  {
   "cell_type": "code",
   "execution_count": null,
   "metadata": {
    "colab": {},
    "colab_type": "code",
    "id": "jySM-4heBfZi"
   },
   "outputs": [],
   "source": [
    "num1 = 3\n",
    "num2 = 2 \n",
    "\n",
    "## START CODE HERE\n",
    "if num1>num2:\n",
    "    print(\"Result: %d > %d\" %(num1,num2))\n",
    "elif num1<num2:\n",
    "    print(\"REsult: %d < %d\" %(num1,num2))\n",
    "else:\n",
    "    print(\"Result: %d = %d\" %(num1,num2))\n",
    "## END CODE HERE"
   ]
  },
  {
   "cell_type": "markdown",
   "metadata": {
    "colab_type": "text",
    "id": "59YPG-TuBfZs"
   },
   "source": [
    "<table>\n",
    "  <tr>\n",
    "  <td>**Expected Output:**<td>\n",
    "    <td>Result: 3 > 2</td>\n",
    "  </tr>\n",
    "</table>"
   ]
  },
  {
   "cell_type": "markdown",
   "metadata": {
    "colab_type": "text",
    "id": "K0XdwE3qBfZv"
   },
   "source": [
    "**Q.3 This is a challenging problem.\n",
    "<br> Check whether a year is leap year or not.**\n",
    "<br> To determine whether a year is a leap year, follow these steps: \n",
    ">If the year is evenly divisible by 4, go to step 2. Otherwise, go to step 5.\n",
    "><br>If the year is evenly divisible by 100, go to step 3. Otherwise, go to step 4.\n",
    "><br>If the year is evenly divisible by 400, go to step 4. Otherwise, go to step 5.\n",
    "><br>The year is a leap year (it has 366 days).\n",
    "><br>The year is not a leap year (it has 365 days).\n",
    "\n",
    "<br> Print \"n is a leap year\" if the given year is leap year.\n",
    "<br> Print \"n is not a leap year\" if the given year is not leap year.\n",
    "<br> Replace n with given year.\n",
    "<br> Hint : Use nested if-else"
   ]
  },
  {
   "cell_type": "code",
   "execution_count": null,
   "metadata": {
    "colab": {},
    "colab_type": "code",
    "id": "8HTGWZOMBfZy"
   },
   "outputs": [],
   "source": [
    "number = 2012\n",
    "## START CODE HERE\n",
    "if (number%4)==0:\n",
    "    if (number%100)==0:\n",
    "        if(number%400)==0:\n",
    "            print(\"%d is a leap year\" %number)\n",
    "        else:\n",
    "            print(\"%d is not a leap year\" %number)\n",
    "    else:\n",
    "        print(\"%d is a leap year\" %number)\n",
    "else:\n",
    "    print(\"%d is not a leap year\" %number)\n",
    "\n",
    "## END CODE HERE"
   ]
  },
  {
   "cell_type": "markdown",
   "metadata": {
    "colab_type": "text",
    "id": "t-wojP7NBfaA"
   },
   "source": [
    "<table>\n",
    "  <tr>\n",
    "  <td>**Expected Output:**<td>\n",
    "    <td>2012 is a leap year</td>\n",
    "  </tr>\n",
    "</table>"
   ]
  },
  {
   "cell_type": "markdown",
   "metadata": {
    "colab_type": "text",
    "id": "5lzceXEqBfaC"
   },
   "source": [
    "**Q.4 Find the largest among three numbers**\n",
    "\n",
    "eg. Consider a,b,c as the three numbers.\n",
    "\n",
    "`\n",
    "if a>b\n",
    "   if a>c\n",
    "      Display a is the largest number.\n",
    "   else\n",
    "      Display c is the largest number.\n",
    "else\n",
    "   if b>c\n",
    "      Display b is the largest number.\n",
    "   else\n",
    "      Display c is the greatest number.  \n",
    "`\n",
    "\n",
    "Now, you just have to convert it into a program in Python."
   ]
  },
  {
   "cell_type": "code",
   "execution_count": null,
   "metadata": {
    "colab": {},
    "colab_type": "code",
    "id": "9NjEZ5vkBfaE"
   },
   "outputs": [],
   "source": [
    "a = 3\n",
    "b = 5 \n",
    "c = 4\n",
    "\n",
    "## START CODE HERE\n",
    "if a>b & a>c:\n",
    "    print('%d is the largest number' %a)\n",
    "elif b>c:\n",
    "    print('%d is the largest number' %b)\n",
    "else:\n",
    "    print('%d is the largest number' %c)\n",
    "        \n",
    "## END CODE HERE"
   ]
  },
  {
   "cell_type": "markdown",
   "metadata": {
    "colab_type": "text",
    "id": "Ti2dQ6G3BfaM"
   },
   "source": [
    "<table>\n",
    "  <tr>\n",
    "  <td>**Expected Output:**<td>\n",
    "    <td> 5 is the largest number</td>\n",
    "  </tr>\n",
    "</table>"
   ]
  },
  {
   "cell_type": "markdown",
   "metadata": {
    "colab_type": "text",
    "id": "7S1-uJKSBfaN"
   },
   "source": [
    "**Q.5 Display all the factors of a number**\n",
    "\n",
    "Factors of a number are the numbers which perfectly divide that number.\n",
    "<br> \n",
    "eg. Factors of 12 are 1,2,3,4,6,12.\n",
    ">1 × 12 = 12\n",
    "><br> 2  × 6  = 12\n",
    "><br> 3  × 4  = 12\n",
    "><br> 4  × 3  = 12\n",
    "><br> 6  × 2  = 12\n",
    "><br> 12 × 1  = 12"
   ]
  },
  {
   "cell_type": "code",
   "execution_count": null,
   "metadata": {
    "colab": {},
    "colab_type": "code",
    "id": "04wKrX-HBfaO"
   },
   "outputs": [],
   "source": [
    "given_number = 12\n",
    "## START CODE HERE\n",
    "b=[]\n",
    "for i in range(given_number+1):\n",
    "    a=i+1\n",
    "    if (given_number%a==0):\n",
    "        b.append(a)\n",
    "print('Factors of %d are: %s'%(given_number,b))\n",
    "## END CODE HERE"
   ]
  },
  {
   "cell_type": "markdown",
   "metadata": {
    "colab_type": "text",
    "id": "JJy5cRFuBfaV"
   },
   "source": [
    "<table>\n",
    "  <tr>\n",
    "  <td>**Expected Output:**<td>\n",
    "    <td style=\"text-align:left\">Factors of 12 are :\n",
    "        <br>1 2 3 4 6 12 </td>\n",
    "  </tr>\n",
    "</table>"
   ]
  },
  {
   "cell_type": "markdown",
   "metadata": {
    "colab_type": "text",
    "id": "gg2b7pN3BfaW"
   },
   "source": [
    "**Q.6 Given a list containing tuples find the sum of elements in each tuple and print the resulting list.**\n",
    "<br> Create new list.\n",
    "<br> Use appropriate list method to add elements to the list."
   ]
  },
  {
   "cell_type": "code",
   "execution_count": 54,
   "metadata": {
    "colab": {},
    "colab_type": "code",
    "id": "oksomRfABfaX"
   },
   "outputs": [
    {
     "name": "stdout",
     "output_type": "stream",
     "text": [
      "[3, 7, 11]\n"
     ]
    }
   ],
   "source": [
    "given_list = [(1,2),(3,4),(5,6)]\n",
    "## START CODE HERE\n",
    "a=[]\n",
    "sum1=0\n",
    "for i in given_list:\n",
    "    #print(i)\n",
    "    for j in range(len(i)):\n",
    "        #print(i[j])\n",
    "        sum1=sum1+i[j]\n",
    "    a.append(sum1)\n",
    "    sum1=0\n",
    "print(a)\n",
    "\n",
    "## END CODE HERE\n"
   ]
  },
  {
   "cell_type": "markdown",
   "metadata": {
    "colab_type": "text",
    "id": "F1vNbmfKBfae"
   },
   "source": [
    "<table>\n",
    "  <tr>\n",
    "  <td>**Expected Output:**<td>\n",
    "    <td style=\"text-align:left\">[3, 7, 11]</td>\n",
    "  </tr>\n",
    "</table>"
   ]
  },
  {
   "cell_type": "markdown",
   "metadata": {
    "colab_type": "text",
    "id": "-7mSkYK3Bfaf"
   },
   "source": [
    "**Q.7 Given the stocks of companies in the form a dictionary display the sum of the their stocks.**"
   ]
  },
  {
   "cell_type": "code",
   "execution_count": 88,
   "metadata": {
    "colab": {},
    "colab_type": "code",
    "id": "xETtFeMmBfag"
   },
   "outputs": [
    {
     "name": "stdout",
     "output_type": "stream",
     "text": [
      "The sum of stocks is 277.880000\n"
     ]
    }
   ],
   "source": [
    "stocks = {\n",
    "        'IBM': 213.23,\n",
    "        'MSFT':43.11,\n",
    "        'AMZN':21.54\n",
    "}\n",
    "\n",
    "## START CODE HERE\n",
    "summ=0\n",
    "for values in stocks.values():\n",
    "    summ=float(summ)\n",
    "    summ=summ+float(values)\n",
    "print('The sum of stocks is %f' %summ)\n",
    "## END CODE HERE"
   ]
  },
  {
   "cell_type": "markdown",
   "metadata": {
    "colab_type": "text",
    "id": "7ndRyXQhBfam"
   },
   "source": [
    "<table>\n",
    "  <tr>\n",
    "  <td>**Expected Output:**<td>\n",
    "    <td style=\"text-align:left\">The sum of stocks is 277.880000 </td>\n",
    "  </tr>\n",
    "</table>"
   ]
  },
  {
   "cell_type": "markdown",
   "metadata": {
    "colab_type": "text",
    "id": "usqz4riPBfan"
   },
   "source": [
    "**Q.8 Given an integer find the number of digits in that integer.**\n",
    "<br>eg. 342 has 3 digits, thus output has to be 3.\n",
    "<br> Hint: \n",
    "        1. 342//10 = 34\n",
    "        2. 34//10  = 3\n",
    "        3. 3//10   = 0\n",
    "        \n",
    "Catch the hint, find out the terminating condition, your problem is solved."
   ]
  },
  {
   "cell_type": "code",
   "execution_count": 80,
   "metadata": {
    "colab": {},
    "colab_type": "code",
    "id": "uNVIpLYRBfao"
   },
   "outputs": [
    {
     "name": "stdout",
     "output_type": "stream",
     "text": [
      "Number of digits in 3421 is 4\n"
     ]
    }
   ],
   "source": [
    "given_number = 3421\n",
    "## START CODE HERE\n",
    "count=0\n",
    "inn=int(given_number)\n",
    "while inn>0:\n",
    "    count=count+1\n",
    "    inn=inn//10\n",
    "print('Number of digits in %d is %d'%(given_number,count))\n",
    "## END CODE HERE"
   ]
  },
  {
   "cell_type": "code",
   "execution_count": null,
   "metadata": {},
   "outputs": [],
   "source": []
  },
  {
   "cell_type": "markdown",
   "metadata": {
    "colab_type": "text",
    "id": "Lsxf5FOrBfaz"
   },
   "source": [
    "<table>\n",
    "  <tr>\n",
    "  <td>**Expected Output:**<td>\n",
    "    <td style=\"text-align:left\">Number of digits in 3421 is 4</td>\n",
    "  </tr>\n",
    "</table>"
   ]
  },
  {
   "cell_type": "markdown",
   "metadata": {
    "colab_type": "text",
    "id": "x9g8LC87Bfa1"
   },
   "source": [
    "**Q.9 Write a program to find reverse of a number entered by the user (Use short-hand operators and don't use any built-in functions)** <br>\n",
    "\n",
    "Algorithm:\n",
    "\n",
    "Input:  num<br>\n",
    "(1) Initialize rev_num = 0<br>\n",
    "(2) Loop while num > 0 <br>\n",
    "     <span style=\"display:inline-block; width: 45px;\"></span>(a) Multiply rev_num by 10 and add remainder of num<br>\n",
    "     <span style=\"display:inline-block; width: 45px;\"></span>divide by 10 to rev_num<br>\n",
    "     <span style=\"display:inline-block; width: 45px;\"></span><span style=\"display:inline-block; width: 45px;\"></span>          rev_num = rev_num*10 + num%10;<br>\n",
    "     <span style=\"display:inline-block; width: 45px;\"></span>(b) Divide num by 10<br>\n",
    "(3) Return rev_num"
   ]
  },
  {
   "cell_type": "code",
   "execution_count": 109,
   "metadata": {
    "colab": {},
    "colab_type": "code",
    "id": "UPJhziF_Bfa3"
   },
   "outputs": [
    {
     "name": "stdout",
     "output_type": "stream",
     "text": [
      "Reverse of entered number is 2134\n"
     ]
    }
   ],
   "source": [
    "given_number = 4312\n",
    "## START CODE HERE\n",
    "intt=0\n",
    "while given_number>0:\n",
    "    intt=intt*10+(given_number%10)\n",
    "    #print(intt)\n",
    "    given_number=given_number//10\n",
    "print('Reverse of entered number is %d'%intt)\n",
    "## END CODE HERE"
   ]
  },
  {
   "cell_type": "markdown",
   "metadata": {
    "colab_type": "text",
    "id": "kQ5yJeIJBfa9"
   },
   "source": [
    "<table>\n",
    "  <tr>\n",
    "  <td>**Expected Output:**<td>\n",
    "    <td style=\"text-align:left\">Reverse of entered number is 2134</td>\n",
    "  </tr>\n",
    "</table>"
   ]
  },
  {
   "cell_type": "markdown",
   "metadata": {
    "colab_type": "text",
    "id": "dLCkonIvBfa_"
   },
   "source": [
    "**Q.10 Check if a given number is prime or not.**\n",
    "<br> From 2 to that given number/2 if any number divided given number, the given number is not prime.\n",
    "<br> Make use of flag. Before the loop set flag = 0 and just before breaking the loop set flag = 1 that's how you will know that the loop was terminated by break statement. \n",
    "<br> Always remember that a number will always be divisible by 1 and itself."
   ]
  },
  {
   "cell_type": "code",
   "execution_count": 101,
   "metadata": {
    "colab": {},
    "colab_type": "code",
    "id": "SelYyED2BfbB"
   },
   "outputs": [
    {
     "name": "stdout",
     "output_type": "stream",
     "text": [
      "23 is prime number\n"
     ]
    }
   ],
   "source": [
    "given_number = 23\n",
    "## START CODE HERE\n",
    "a=[1]\n",
    "a.append(given_number)\n",
    "#print(a)\n",
    "b=[]\n",
    "for i in range(given_number+1):\n",
    "    if (given_number%(i+1))==0:\n",
    "        b.append(i+1)\n",
    "if a==b:\n",
    "    print('%d is prime number'%given_number)\n",
    "else:\n",
    "    print('%d is not prime number'%given_number)\n",
    "    \n",
    "## END CODE HERE"
   ]
  },
  {
   "cell_type": "markdown",
   "metadata": {
    "colab_type": "text",
    "id": "Jq5QaWexBfbI"
   },
   "source": [
    "<table>\n",
    "  <tr>\n",
    "  <td>**Expected Output:**<td>\n",
    "    <td style=\"text-align:left\">23 is prime number</td>\n",
    "  </tr>\n",
    "</table>"
   ]
  },
  {
   "cell_type": "markdown",
   "metadata": {
    "colab_type": "text",
    "id": "Zj-olz7jBfbJ"
   },
   "source": [
    "**Q.11 Find the average of the elements in a given list and then print only those elements in the list whose value is greater than average**"
   ]
  },
  {
   "cell_type": "code",
   "execution_count": 89,
   "metadata": {
    "colab": {},
    "colab_type": "code",
    "id": "TEPIvhwhBfbK"
   },
   "outputs": [
    {
     "name": "stdout",
     "output_type": "stream",
     "text": [
      "Average is 4.550000\n",
      "Numbers greater than average are :\n",
      "[5, 6, 9]\n"
     ]
    }
   ],
   "source": [
    "given_list = [ 2.3,5,6,1,4,9]\n",
    "\n",
    "## START CODE HERE\n",
    "count1=len(given_list)\n",
    "#print(count1)\n",
    "summ=0\n",
    "for val in given_list:\n",
    "    summ+=val\n",
    "#print(summ)\n",
    "avg=summ/count1\n",
    "print('Average is %f' %avg)\n",
    "a=[]\n",
    "print('Numbers greater than average are :')\n",
    "for i in given_list:\n",
    "    if i>avg:\n",
    "        a.append(i)\n",
    "print(a)\n",
    "        \n",
    "## END CODE HERE"
   ]
  },
  {
   "cell_type": "markdown",
   "metadata": {
    "colab_type": "text",
    "id": "M-p1OeRuBfbR"
   },
   "source": [
    "<table>\n",
    "  <tr>\n",
    "  <td>**Expected Output:**<td>\n",
    "    <td style=\"text-align:left\">Average is 4.550000\n",
    "<br>Numbers greater than average are : \n",
    "<br>5 6 9 </td>\n",
    "  </tr>\n",
    "</table>"
   ]
  },
  {
   "cell_type": "markdown",
   "metadata": {
    "colab_type": "text",
    "id": "WZ2W7UdcBfbS"
   },
   "source": [
    "# Congratulations\n",
    "\n",
    "You are through the fourth assignment of the Basic Python Programming Course.\n",
    "<br> We know that this was a tough one. But this will definitely benefit you in future. \n",
    "<br> Good understanding of conditionals and control flow will help you in improving your data structures and algorithms concepts which is extremely important for cracking job interviews as it is given utmost importance by top IT companies.\n",
    "<br>Further in the course you will be using control statements in advanced libraries such as pandas, numpy, etc.\n",
    "<br> But for now, this is an achievement worth celebrating.\n",
    "<br>Buckle up!\n",
    "<br>You are doing very well.\n",
    "<br>See you in the next chapter."
   ]
  },
  {
   "cell_type": "code",
   "execution_count": null,
   "metadata": {},
   "outputs": [],
   "source": []
  },
  {
   "cell_type": "code",
   "execution_count": 3,
   "metadata": {},
   "outputs": [],
   "source": [
    "import requests\n",
    "from bs4 import BeautifulSoup\n",
    "import matplotlib\n"
   ]
  },
  {
   "cell_type": "code",
   "execution_count": 4,
   "metadata": {},
   "outputs": [
    {
     "name": "stdout",
     "output_type": "stream",
     "text": [
      "200\n"
     ]
    }
   ],
   "source": [
    "fkurl=requests.get('https://www.flipkart.com/search?q=mobile%20phones%20under%2015%2C000&otracker=search&otracker1=search&marketplace=FLIPKART&as-show=on&as=off')\n",
    "print(fkurl.status_code)"
   ]
  },
  {
   "cell_type": "code",
   "execution_count": 62,
   "metadata": {},
   "outputs": [],
   "source": [
    "\n",
    "fksoup=BeautifulSoup(fkurl.text,'html.parser')\n",
    "fksoup.title\n",
    "#print(fksoup.title.text)\n",
    "fksoup.find('body').string\n"
   ]
  },
  {
   "cell_type": "code",
   "execution_count": null,
   "metadata": {},
   "outputs": [],
   "source": [
    "readall=fksoup.findAll('div',{'class':'bhgxx2 col-12-12'})\n",
    "\n",
    "for ele in readall:\n",
    "    subele=ele.descendants\n",
    "    for d in subele:\n",
    "        #rint(d.name)\n",
    "        if d.name=='div' and d.get('il class','')==['tVe95H']:\n",
    "            print(d.get('il class','')==['tVe95H'])"
   ]
  },
  {
   "cell_type": "code",
   "execution_count": null,
   "metadata": {},
   "outputs": [],
   "source": [
    "\n"
   ]
  },
  {
   "cell_type": "code",
   "execution_count": null,
   "metadata": {},
   "outputs": [],
   "source": []
  },
  {
   "cell_type": "code",
   "execution_count": null,
   "metadata": {},
   "outputs": [],
   "source": []
  },
  {
   "cell_type": "code",
   "execution_count": null,
   "metadata": {},
   "outputs": [],
   "source": []
  }
 ],
 "metadata": {
  "colab": {
   "name": "Chapter 4-Conditionals and Control Flow-Assignment.ipynb",
   "provenance": []
  },
  "kernelspec": {
   "display_name": "Python 3",
   "language": "python",
   "name": "python3"
  },
  "language_info": {
   "codemirror_mode": {
    "name": "ipython",
    "version": 3
   },
   "file_extension": ".py",
   "mimetype": "text/x-python",
   "name": "python",
   "nbconvert_exporter": "python",
   "pygments_lexer": "ipython3",
   "version": "3.8.3"
  }
 },
 "nbformat": 4,
 "nbformat_minor": 1
}
