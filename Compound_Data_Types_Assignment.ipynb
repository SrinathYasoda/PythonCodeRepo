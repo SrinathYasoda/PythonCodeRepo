{
 "cells": [
  {
   "cell_type": "markdown",
   "metadata": {
    "colab_type": "text",
    "id": "hQHPHbRM-Xln"
   },
   "source": [
    "As discussed in the content part of the chapter. These compound datatypes form a very strong foundation of Python Programming. \n",
    "<br> Thus, it is very important that you give utmost importance and time to this exercise as it will benefit you a lot in future.\n",
    "<br> Lets move on the exercise.\n",
    "<br> **All the best** and most importantly **Have Fun**"
   ]
  },
  {
   "cell_type": "markdown",
   "metadata": {
    "colab_type": "text",
    "id": "E7kw9FMG-Xlr"
   },
   "source": [
    "# Lists"
   ]
  },
  {
   "cell_type": "markdown",
   "metadata": {
    "colab_type": "text",
    "id": "iCM_NiWv-Xlu"
   },
   "source": [
    "**Q1 Create a list with vowels.\n",
    "<br> Name it as 'vowels'\n",
    "<br> Display vowels**"
   ]
  },
  {
   "cell_type": "code",
   "execution_count": 11,
   "metadata": {
    "colab": {},
    "colab_type": "code",
    "id": "emIi7j_C-Xlx"
   },
   "outputs": [
    {
     "data": {
      "text/plain": [
       "['a', 'e', 'i', 'o', 'u']"
      ]
     },
     "execution_count": 11,
     "metadata": {},
     "output_type": "execute_result"
    }
   ],
   "source": [
    "## START CODE HERE\n",
    "vowels=['a','e','i','o','u']\n",
    "vowels\n",
    "## END CODE HERE"
   ]
  },
  {
   "cell_type": "markdown",
   "metadata": {
    "colab_type": "text",
    "id": "s9mezu7n-XmD"
   },
   "source": [
    "<table>\n",
    "  <tr>\n",
    "  <td>**Expected Output:**<td>\n",
    "    <td>['a', 'e', 'i', 'o', 'u']</td>\n",
    "  </tr>\n",
    "</table>\n",
    "    "
   ]
  },
  {
   "cell_type": "markdown",
   "metadata": {
    "colab_type": "text",
    "id": "6RTnEmJi-XmG"
   },
   "source": [
    "**Q2 Print first element in vowels. \n",
    "<br>Just to be clear first corresponds to 0th element.**"
   ]
  },
  {
   "cell_type": "code",
   "execution_count": 12,
   "metadata": {
    "colab": {},
    "colab_type": "code",
    "id": "C07mIsro-XmJ"
   },
   "outputs": [
    {
     "data": {
      "text/plain": [
       "'a'"
      ]
     },
     "execution_count": 12,
     "metadata": {},
     "output_type": "execute_result"
    }
   ],
   "source": [
    "## START CODE HERE\n",
    "vowels[0]\n",
    "## END CODE HERE"
   ]
  },
  {
   "cell_type": "markdown",
   "metadata": {
    "colab_type": "text",
    "id": "ELD1SupV-Xma"
   },
   "source": [
    "<table>\n",
    "  <tr>\n",
    "  <td>**Expected Output:**<td>\n",
    "    <td>a</td>\n",
    "  </tr>\n",
    "</table>"
   ]
  },
  {
   "cell_type": "markdown",
   "metadata": {
    "colab_type": "text",
    "id": "3WxZ-juF-Xmc"
   },
   "source": [
    "**Q3 Print last element in vowels.**"
   ]
  },
  {
   "cell_type": "code",
   "execution_count": 13,
   "metadata": {
    "colab": {},
    "colab_type": "code",
    "id": "Mn3knTXG-Xmg"
   },
   "outputs": [
    {
     "data": {
      "text/plain": [
       "'u'"
      ]
     },
     "execution_count": 13,
     "metadata": {},
     "output_type": "execute_result"
    }
   ],
   "source": [
    "## START CODE HERE\n",
    "vowels[-1]\n",
    "## END CODE HERE"
   ]
  },
  {
   "cell_type": "markdown",
   "metadata": {
    "colab_type": "text",
    "id": "8nlSyWJj-Xmu"
   },
   "source": [
    "<table>\n",
    "  <tr>\n",
    "  <td>**Expected Output:**<td>\n",
    "    <td>u</td>\n",
    "  </tr>\n",
    "</table>"
   ]
  },
  {
   "cell_type": "markdown",
   "metadata": {
    "colab_type": "text",
    "id": "5b2sxWj6-Xmx"
   },
   "source": [
    "**Q4 Print all elements in 'vowels' starting from the second element.**"
   ]
  },
  {
   "cell_type": "code",
   "execution_count": 14,
   "metadata": {
    "colab": {},
    "colab_type": "code",
    "id": "so73J9yz-Xm0"
   },
   "outputs": [
    {
     "data": {
      "text/plain": [
       "['e', 'i', 'o', 'u']"
      ]
     },
     "execution_count": 14,
     "metadata": {},
     "output_type": "execute_result"
    }
   ],
   "source": [
    "## START CODE HERE\n",
    "vowels[1:]\n",
    "## END CODE HERE"
   ]
  },
  {
   "cell_type": "markdown",
   "metadata": {
    "colab_type": "text",
    "id": "7xZ-jVJJ-XnD"
   },
   "source": [
    "<table>\n",
    "  <tr>\n",
    "  <td>**Expected Output:**<td>\n",
    "    <td>['e', 'i', 'o', 'u']</td>\n",
    "  </tr>\n",
    "</table>"
   ]
  },
  {
   "cell_type": "markdown",
   "metadata": {
    "colab_type": "text",
    "id": "P6Ge1zLg-XnF"
   },
   "source": [
    "**Q5 Print alternate elements in the list starting from second element.**"
   ]
  },
  {
   "cell_type": "code",
   "execution_count": 15,
   "metadata": {
    "colab": {},
    "colab_type": "code",
    "id": "xtIkfzPu-XnI"
   },
   "outputs": [
    {
     "data": {
      "text/plain": [
       "['a', 'i', 'u']"
      ]
     },
     "execution_count": 15,
     "metadata": {},
     "output_type": "execute_result"
    }
   ],
   "source": [
    "## START CODE HERE\n",
    "vowels[::2]\n",
    "## END CODE HERE"
   ]
  },
  {
   "cell_type": "markdown",
   "metadata": {
    "colab_type": "text",
    "id": "yxm9vEGo-XnX"
   },
   "source": [
    "<table>\n",
    "  <tr>\n",
    "  <td>**Expected Output:**<td>\n",
    "    <td>['e', 'o']</td>\n",
    "  </tr>\n",
    "</table>"
   ]
  },
  {
   "cell_type": "markdown",
   "metadata": {
    "colab_type": "text",
    "id": "jJlZ_GHA-XnZ"
   },
   "source": [
    "**Q6 Print all elements in 'vowels' in reverse order.**"
   ]
  },
  {
   "cell_type": "code",
   "execution_count": 17,
   "metadata": {
    "colab": {},
    "colab_type": "code",
    "id": "x-R1IrQK-Xnc"
   },
   "outputs": [
    {
     "data": {
      "text/plain": [
       "['a', 'e', 'i', 'o', 'u']"
      ]
     },
     "execution_count": 17,
     "metadata": {},
     "output_type": "execute_result"
    }
   ],
   "source": [
    "## START CODE HERE\n",
    "vowels[::-1]\n",
    "vowels\n",
    "## END CODE HERE"
   ]
  },
  {
   "cell_type": "markdown",
   "metadata": {
    "colab_type": "text",
    "id": "wpmQMaix-Xnn"
   },
   "source": [
    "<table>\n",
    "  <tr>\n",
    "  <td>**Expected Output:**<td>\n",
    "    <td>['u', 'o', 'i', 'e', 'a']</td>\n",
    "  </tr>\n",
    "</table>"
   ]
  },
  {
   "cell_type": "markdown",
   "metadata": {
    "colab_type": "text",
    "id": "iVSNfSwl-Xnp"
   },
   "source": [
    "**Q7 Add all capital vowels to 'vowels' and print the result.\n",
    "<br> Don't change vowels.**"
   ]
  },
  {
   "cell_type": "code",
   "execution_count": 18,
   "metadata": {
    "colab": {},
    "colab_type": "code",
    "id": "baEe0xtU-Xns",
    "scrolled": true
   },
   "outputs": [
    {
     "data": {
      "text/plain": [
       "['a', 'e', 'i', 'o', 'u', 'A', 'E', 'I', 'O', 'U']"
      ]
     },
     "execution_count": 18,
     "metadata": {},
     "output_type": "execute_result"
    }
   ],
   "source": [
    "## START CODE HERE\n",
    "vowels=vowels+['A','E','I','O','U']\n",
    "vowels\n",
    "## END CODE HERE"
   ]
  },
  {
   "cell_type": "markdown",
   "metadata": {
    "colab_type": "text",
    "id": "xNzLyqcK-Xn4"
   },
   "source": [
    "<table>\n",
    "  <tr>\n",
    "  <td>**Expected Output:**<td>\n",
    "    <td>['a', 'e', 'i', 'o', 'u', 'A','E','I','O','U']</td>\n",
    "  </tr>\n",
    "</table>"
   ]
  },
  {
   "cell_type": "code",
   "execution_count": 102,
   "metadata": {
    "colab": {},
    "colab_type": "code",
    "id": "1qGR6v8w-Xn6"
   },
   "outputs": [
    {
     "data": {
      "text/plain": [
       "[[1, 'Australia', 80],\n",
       " [2, 'England', 45],\n",
       " [3, 'India', 26],\n",
       " [5, 'New Zealand', 15],\n",
       " [7, 'Wales', 10],\n",
       " [8, 'Scotland', 9]]"
      ]
     },
     "execution_count": 102,
     "metadata": {},
     "output_type": "execute_result"
    }
   ],
   "source": [
    "# Rank, Country name, Number of gold \n",
    "\n",
    "common_wealth_2018 = [[1,\"Australia\",80],[2,\"England\", 45],[3,\"India\" , 26],[5,\"New Zealand\" , 15],[7,\"Wales\" , 10],[8,\"Scotland\" , 9]]\n",
    "common_wealth_2018"
   ]
  },
  {
   "cell_type": "markdown",
   "metadata": {
    "colab_type": "text",
    "id": "Hjw7aWIH-XoJ"
   },
   "source": [
    "**Q8 Append a new entry to common_wealth_2018 [4,\"Canada\",15]\n",
    "<br>Print modified 'common_wealth_2018'**"
   ]
  },
  {
   "cell_type": "code",
   "execution_count": 103,
   "metadata": {
    "colab": {},
    "colab_type": "code",
    "id": "gX9DEs7u-XoK"
   },
   "outputs": [
    {
     "data": {
      "text/plain": [
       "[[1, 'Australia', 80],\n",
       " [2, 'England', 45],\n",
       " [3, 'India', 26],\n",
       " [5, 'New Zealand', 15],\n",
       " [7, 'Wales', 10],\n",
       " [8, 'Scotland', 9],\n",
       " [4, 'Canada', 15]]"
      ]
     },
     "execution_count": 103,
     "metadata": {},
     "output_type": "execute_result"
    }
   ],
   "source": [
    "## START CODE HERE\n",
    "common_wealth_2018=common_wealth_2018+[[4,\"Canada\",15]]\n",
    "common_wealth_2018\n",
    "## END CODE HERE"
   ]
  },
  {
   "cell_type": "markdown",
   "metadata": {
    "colab_type": "text",
    "id": "IyvuCJeB-XoQ"
   },
   "source": [
    "<table>\n",
    "  <tr>\n",
    "  <td>**Expected Output:**<td>\n",
    "    <td>[[1, 'Australia', 80],\n",
    " [2, 'England', 45],\n",
    " [3, 'India', 26],\n",
    " [5, 'New Zealand', 15],\n",
    " [7, 'Wales', 10],\n",
    " [8, 'Scotland', 9],\n",
    " [4, 'Canada', 15]]</td>\n",
    "  </tr>\n",
    "</table>"
   ]
  },
  {
   "cell_type": "markdown",
   "metadata": {
    "colab_type": "text",
    "id": "4y_PTIaV-XoR"
   },
   "source": [
    "**Q9 Pop the entry at index 6 from common_wealth_2018.\n",
    "<br> Print the popped item.\n",
    "<br> Print the modified 'common_wealth_2018'**"
   ]
  },
  {
   "cell_type": "code",
   "execution_count": 104,
   "metadata": {
    "colab": {},
    "colab_type": "code",
    "id": "Lcj_WnFA-XoS"
   },
   "outputs": [
    {
     "name": "stdout",
     "output_type": "stream",
     "text": [
      "[4, 'Canada', 15]\n"
     ]
    },
    {
     "data": {
      "text/plain": [
       "[[1, 'Australia', 80],\n",
       " [2, 'England', 45],\n",
       " [3, 'India', 26],\n",
       " [5, 'New Zealand', 15],\n",
       " [7, 'Wales', 10],\n",
       " [8, 'Scotland', 9]]"
      ]
     },
     "execution_count": 104,
     "metadata": {},
     "output_type": "execute_result"
    }
   ],
   "source": [
    "## START CODE HERE\n",
    "print(common_wealth_2018.pop(6))\n",
    "\n",
    "common_wealth_2018\n",
    "## END CODE HERE"
   ]
  },
  {
   "cell_type": "markdown",
   "metadata": {
    "colab_type": "text",
    "id": "5YF9TgyK-XoZ"
   },
   "source": [
    "<table>\n",
    "  <tr>\n",
    "  <td>**Expected Output:**<td>\n",
    "    <td style=\"text-align:left;\">\n",
    "[4, 'Canada', 15]\n",
    "<br>\n",
    "[4, 'Canada', 15]\n",
    "[[1, 'Australia', 80], [2, 'England', 45], [3, 'India', 26], [5, 'New Zealand', 15], [7, 'Wales', 10], [8, 'Scotland', 9]]</td>\n",
    "  </tr>\n",
    "</table>"
   ]
  },
  {
   "cell_type": "markdown",
   "metadata": {
    "colab_type": "text",
    "id": "16necN_M-Xob"
   },
   "source": [
    "**Q10 Reverse common_wealth_2018 using appropriate list method\n",
    "<br> Print the new 'common_wealth_2018'**"
   ]
  },
  {
   "cell_type": "code",
   "execution_count": 105,
   "metadata": {
    "colab": {},
    "colab_type": "code",
    "id": "ckfe4SDo-Xod"
   },
   "outputs": [],
   "source": [
    "## START CODE HERE\n",
    "bb=common_wealth_2018.reverse\n",
    "## END CODE HERE"
   ]
  },
  {
   "cell_type": "markdown",
   "metadata": {
    "colab_type": "text",
    "id": "XemWexXi-Xok"
   },
   "source": [
    "<table>\n",
    "  <tr>\n",
    "  <td>**Expected Output:**<td>\n",
    "    <td>[[8, 'Scotland', 9], [7, 'Wales', 10], [5, 'New Zealand', 15], [3, 'India', 26], [2, 'England', 45], [1, 'Australia', 80]]\n",
    "</td>\n",
    "  </tr>\n",
    "</table>"
   ]
  },
  {
   "cell_type": "markdown",
   "metadata": {
    "colab_type": "text",
    "id": "OqTemjwZ-Xol"
   },
   "source": [
    "**Q11 Sort common_wealth_2018 using appropriate list method\n",
    "<br> Print the new 'common_wealth_2018'**"
   ]
  },
  {
   "cell_type": "code",
   "execution_count": 106,
   "metadata": {
    "colab": {},
    "colab_type": "code",
    "id": "fHsPxonU-Xoo"
   },
   "outputs": [
    {
     "data": {
      "text/plain": [
       "[[1, 'Australia', 80],\n",
       " [2, 'England', 45],\n",
       " [3, 'India', 26],\n",
       " [5, 'New Zealand', 15],\n",
       " [7, 'Wales', 10],\n",
       " [8, 'Scotland', 9]]"
      ]
     },
     "execution_count": 106,
     "metadata": {},
     "output_type": "execute_result"
    }
   ],
   "source": [
    "## START CODE HERE\n",
    "sorted(common_wealth_2018)\n",
    "## END CODE HERE"
   ]
  },
  {
   "cell_type": "markdown",
   "metadata": {
    "colab_type": "text",
    "id": "I0DqKp38-Xo1"
   },
   "source": [
    "<table>\n",
    "  <tr>\n",
    "  <td>**Expected Output:**<td>\n",
    "    <td>[[1, 'Australia', 80], [2, 'England', 45], [3, 'India', 26], [5, 'New Zealand', 15], [7, 'Wales', 10], [8, 'Scotland', 9]]\n",
    "</td>\n",
    "  </tr>\n",
    "</table>"
   ]
  },
  {
   "cell_type": "markdown",
   "metadata": {
    "colab_type": "text",
    "id": "MFi4vKrw-Xo3"
   },
   "source": [
    "**Q12 Fetch the details about India from common_wealth_2018 using indexing**"
   ]
  },
  {
   "cell_type": "code",
   "execution_count": 107,
   "metadata": {
    "colab": {},
    "colab_type": "code",
    "id": "y1u1rjt_-Xo7"
   },
   "outputs": [
    {
     "data": {
      "text/plain": [
       "[3, 'India', 26]"
      ]
     },
     "execution_count": 107,
     "metadata": {},
     "output_type": "execute_result"
    }
   ],
   "source": [
    "## START CODE HERE\n",
    "common_wealth_2018[2]\n",
    "## END CODE HERE"
   ]
  },
  {
   "cell_type": "markdown",
   "metadata": {
    "colab_type": "text",
    "id": "a_CZVGVp-XpJ"
   },
   "source": [
    "<table>\n",
    "  <tr>\n",
    "  <td>**Expected Output:**<td>\n",
    "    <td>[3, 'India', 26]</td>\n",
    "  </tr>\n",
    "</table>"
   ]
  },
  {
   "cell_type": "markdown",
   "metadata": {
    "colab_type": "text",
    "id": "Om3cap5p-XpL"
   },
   "source": [
    "**Q13 Create a new list with the number of gold medals won by each country in common_wealth_2018 using list comprehension.\n",
    "<br> Name the new list as gold_medals and print gold_medals.\n",
    "**"
   ]
  },
  {
   "cell_type": "code",
   "execution_count": 108,
   "metadata": {
    "colab": {},
    "colab_type": "code",
    "id": "hxyq8dVF-XpM"
   },
   "outputs": [
    {
     "data": {
      "text/plain": [
       "[80, 45, 26, 15, 10, 9]"
      ]
     },
     "execution_count": 108,
     "metadata": {},
     "output_type": "execute_result"
    }
   ],
   "source": [
    "## START CODE HERE\n",
    "b=[]\n",
    "for i in range(len(common_wealth_2018)):\n",
    "    b1=common_wealth_2018[i][2]\n",
    "    b.append(b1)\n",
    "b\n",
    "## END CODE HERE"
   ]
  },
  {
   "cell_type": "markdown",
   "metadata": {
    "colab_type": "text",
    "id": "PwsiiaMo-XpU"
   },
   "source": [
    "<table>\n",
    "  <tr>\n",
    "  <td>**Expected Output:**<td>\n",
    "    <td>[80, 45, 26, 15, 10, 9]</td>\n",
    "  </tr>\n",
    "</table>"
   ]
  },
  {
   "cell_type": "markdown",
   "metadata": {
    "colab_type": "text",
    "id": "QjXYA3Uc-XpV"
   },
   "source": [
    "# Tuples"
   ]
  },
  {
   "cell_type": "markdown",
   "metadata": {
    "colab_type": "text",
    "id": "dOJl38OD-XpY"
   },
   "source": [
    "Since we have done a lot of practice on lists, we won't put a lot of time on tuples."
   ]
  },
  {
   "cell_type": "markdown",
   "metadata": {
    "colab_type": "text",
    "id": "Mx6WguQv-XpZ"
   },
   "source": [
    "**Q14 common_wealth_2018 is a nested list.\n",
    "<br> Convert it to a list containing tuples instead of lists.\n",
    "<br> Remember that common_wealth_2018 contains lists of 3 elements each, it needs to be unpacked using i,j,k.\n",
    "<br> Reassign it to 'common_wealth_2018'\n",
    "<br> Display common_wealth_2018**"
   ]
  },
  {
   "cell_type": "code",
   "execution_count": 111,
   "metadata": {
    "colab": {},
    "colab_type": "code",
    "id": "zR4uhjmF-Xpa"
   },
   "outputs": [],
   "source": [
    "## START CODE HERE\n",
    "common_wealth_2018=[tuple(i) for i in common_wealth_2018]\n",
    "## END CODE HERE"
   ]
  },
  {
   "cell_type": "code",
   "execution_count": 112,
   "metadata": {},
   "outputs": [
    {
     "data": {
      "text/plain": [
       "[(1, 'Australia', 80),\n",
       " (2, 'England', 45),\n",
       " (3, 'India', 26),\n",
       " (5, 'New Zealand', 15),\n",
       " (7, 'Wales', 10),\n",
       " (8, 'Scotland', 9)]"
      ]
     },
     "execution_count": 112,
     "metadata": {},
     "output_type": "execute_result"
    }
   ],
   "source": [
    "common_wealth_2018"
   ]
  },
  {
   "cell_type": "markdown",
   "metadata": {
    "colab_type": "text",
    "id": "-eylwa_Q-Xpg"
   },
   "source": [
    "<table>\n",
    "  <tr>\n",
    "  <td>**Expected Output:**<td>\n",
    "    <td>[(1, 'Australia', 80),\n",
    " <br>(2, 'England', 45),\n",
    " <br>(3, 'India', 26),\n",
    " <br>(5, 'New Zealand', 15),\n",
    " <br>(7, 'Wales', 10),\n",
    " <br>(8, 'Scotland', 9)]</td>\n",
    "  </tr>\n",
    "</table>\n",
    "    "
   ]
  },
  {
   "cell_type": "markdown",
   "metadata": {
    "colab_type": "text",
    "id": "Thb6BX4s-Xph"
   },
   "source": [
    "**Q15 Print the details of Australia in common_wealth_2018.**"
   ]
  },
  {
   "cell_type": "code",
   "execution_count": 113,
   "metadata": {
    "colab": {},
    "colab_type": "code",
    "id": "Qg36Xdrt-Xpi"
   },
   "outputs": [
    {
     "data": {
      "text/plain": [
       "(1, 'Australia', 80)"
      ]
     },
     "execution_count": 113,
     "metadata": {},
     "output_type": "execute_result"
    }
   ],
   "source": [
    "## START CODE HERE\n",
    "tuple(common_wealth_2018[0])\n",
    "## END CODE HERE"
   ]
  },
  {
   "cell_type": "markdown",
   "metadata": {
    "colab_type": "text",
    "id": "4opwZ-P_-Xpn"
   },
   "source": [
    "<table>\n",
    "  <tr>\n",
    "  <td>**Expected Output:**<td>\n",
    "    <td>(1, 'Australia', 80)</td>\n",
    "  </tr>\n",
    "</table>"
   ]
  },
  {
   "cell_type": "markdown",
   "metadata": {
    "colab_type": "text",
    "id": "mbSCuRST-Xpn"
   },
   "source": [
    "**Q16 Print details of the last ranked country in common_wealth_2018.**"
   ]
  },
  {
   "cell_type": "code",
   "execution_count": 115,
   "metadata": {
    "colab": {},
    "colab_type": "code",
    "id": "ABdsZmLA-Xpp"
   },
   "outputs": [
    {
     "data": {
      "text/plain": [
       "(8, 'Scotland', 9)"
      ]
     },
     "execution_count": 115,
     "metadata": {},
     "output_type": "execute_result"
    }
   ],
   "source": [
    "## START CODE HERE\n",
    "tuple(common_wealth_2018[-1])\n",
    "## END CODE HERE"
   ]
  },
  {
   "cell_type": "markdown",
   "metadata": {
    "colab_type": "text",
    "id": "5vCOnaUL-Xpv"
   },
   "source": [
    "<table>\n",
    "  <tr>\n",
    "  <td>**Expected Output:**<td>\n",
    "    <td>(8, 'Scotland', 9)</td>\n",
    "  </tr>\n",
    "</table>"
   ]
  },
  {
   "cell_type": "markdown",
   "metadata": {
    "colab_type": "text",
    "id": "QT26DU3u-Xpw"
   },
   "source": [
    "**Q17 Print details of all countries in common_wealth_2018 starting from the second one.**"
   ]
  },
  {
   "cell_type": "code",
   "execution_count": 116,
   "metadata": {
    "colab": {},
    "colab_type": "code",
    "id": "JMzsHC1g-Xpx"
   },
   "outputs": [
    {
     "data": {
      "text/plain": [
       "[(2, 'England', 45),\n",
       " (3, 'India', 26),\n",
       " (5, 'New Zealand', 15),\n",
       " (7, 'Wales', 10),\n",
       " (8, 'Scotland', 9)]"
      ]
     },
     "execution_count": 116,
     "metadata": {},
     "output_type": "execute_result"
    }
   ],
   "source": [
    "## START CODE HERE\n",
    "common_wealth_2018[1:]\n",
    "## END CODE HERE"
   ]
  },
  {
   "cell_type": "markdown",
   "metadata": {
    "colab_type": "text",
    "id": "4duapCXx-Xp1"
   },
   "source": [
    "<table>\n",
    "  <tr>\n",
    "  <td>**Expected Output:**<td>\n",
    "    <td>[(2, 'England', 45), (3, 'India', 26), (5, 'New Zealand', 15), (7, 'Wales', 10), (8, 'Scotland', 9)]</td>\n",
    "  </tr>\n",
    "</table>"
   ]
  },
  {
   "cell_type": "markdown",
   "metadata": {
    "colab_type": "text",
    "id": "7B31i3hO-Xp2"
   },
   "source": [
    "**Q18 Print alternate elements in the list starting from second element.**"
   ]
  },
  {
   "cell_type": "code",
   "execution_count": 117,
   "metadata": {
    "colab": {},
    "colab_type": "code",
    "id": "TfAFwsVB-Xp3"
   },
   "outputs": [
    {
     "data": {
      "text/plain": [
       "[(1, 'Australia', 80), (3, 'India', 26), (7, 'Wales', 10)]"
      ]
     },
     "execution_count": 117,
     "metadata": {},
     "output_type": "execute_result"
    }
   ],
   "source": [
    "## START CODE HERE\n",
    "common_wealth_2018[::2]\n",
    "## END CODE HERE"
   ]
  },
  {
   "cell_type": "markdown",
   "metadata": {
    "colab_type": "text",
    "id": "TP8poy-i-Xp7"
   },
   "source": [
    "<table>\n",
    "  <tr>\n",
    "  <td>**Expected Output:**<td>\n",
    "    <td>[(2, 'England', 45), (5, 'New Zealand', 15), (8, 'Scotland', 9)]</td>\n",
    "  </tr>\n",
    "</table>"
   ]
  },
  {
   "cell_type": "markdown",
   "metadata": {
    "colab_type": "text",
    "id": "XLkNBRVr-Xp8"
   },
   "source": [
    "**Q19 Print all elements in common_wealth_2018 in reverse order.**"
   ]
  },
  {
   "cell_type": "code",
   "execution_count": 118,
   "metadata": {
    "colab": {},
    "colab_type": "code",
    "id": "mj5Z8yzk-Xp9"
   },
   "outputs": [
    {
     "data": {
      "text/plain": [
       "[(8, 'Scotland', 9),\n",
       " (7, 'Wales', 10),\n",
       " (5, 'New Zealand', 15),\n",
       " (3, 'India', 26),\n",
       " (2, 'England', 45),\n",
       " (1, 'Australia', 80)]"
      ]
     },
     "execution_count": 118,
     "metadata": {},
     "output_type": "execute_result"
    }
   ],
   "source": [
    "## START CODE HERE\n",
    "common_wealth_2018[::-1]\n",
    "\n",
    "## END CODE HERE"
   ]
  },
  {
   "cell_type": "markdown",
   "metadata": {
    "colab_type": "text",
    "id": "U9gfonWb-XqD"
   },
   "source": [
    "<table>\n",
    "  <tr>\n",
    "  <td>**Expected Output:**<td>\n",
    "    <td>[(8, 'Scotland', 9), (7, 'Wales', 10), (5, 'New Zealand', 15), (3, 'India', 26), (2, 'England', 45), (1, 'Australia', 80)]</td>\n",
    "  </tr>\n",
    "</table>"
   ]
  },
  {
   "cell_type": "markdown",
   "metadata": {
    "colab_type": "text",
    "id": "tOweRf2L-XqD"
   },
   "source": [
    "**Q20 Sort common_wealth_2018 using appropriate list method\n",
    "<br> Print the new 'common_wealth_2018'**"
   ]
  },
  {
   "cell_type": "code",
   "execution_count": 119,
   "metadata": {
    "colab": {},
    "colab_type": "code",
    "id": "kb6pbJF--XqE"
   },
   "outputs": [
    {
     "data": {
      "text/plain": [
       "[(1, 'Australia', 80),\n",
       " (2, 'England', 45),\n",
       " (3, 'India', 26),\n",
       " (5, 'New Zealand', 15),\n",
       " (7, 'Wales', 10),\n",
       " (8, 'Scotland', 9)]"
      ]
     },
     "execution_count": 119,
     "metadata": {},
     "output_type": "execute_result"
    }
   ],
   "source": [
    "## START CODE HERE\n",
    "sorted(common_wealth_2018)\n",
    "\n",
    "## END CODE HERE"
   ]
  },
  {
   "cell_type": "markdown",
   "metadata": {
    "colab_type": "text",
    "id": "BRRoC4t--XqI"
   },
   "source": [
    "<table>\n",
    "  <tr>\n",
    "  <td>**Expected Output:**<td>\n",
    "    <td>[(1, 'Australia', 80), (2, 'England', 45), (3, 'India', 26), (5, 'New Zealand', 15), (7, 'Wales', 10), (8, 'Scotland', 9)]</td>\n",
    "  </tr>\n",
    "</table>"
   ]
  },
  {
   "cell_type": "markdown",
   "metadata": {
    "colab_type": "text",
    "collapsed": true,
    "id": "is1s3Uu2-XqJ"
   },
   "source": [
    "# Dictionaries"
   ]
  },
  {
   "cell_type": "markdown",
   "metadata": {
    "colab_type": "text",
    "id": "yPG3OHi8-XqK"
   },
   "source": [
    "We are converting common_wealth_2018 to a dictionary.\n",
    "<br> Lets see how its done."
   ]
  },
  {
   "cell_type": "code",
   "execution_count": 120,
   "metadata": {
    "colab": {},
    "colab_type": "code",
    "id": "ECwnsIFY-XqL"
   },
   "outputs": [],
   "source": [
    "common_wealth_2018_dict = {}\n",
    "\n",
    "for i in common_wealth_2018:\n",
    "    common_wealth_2018_dict[i[0]] = {\"name\" : i[1], \"gold medals\" : i[2]}\n"
   ]
  },
  {
   "cell_type": "code",
   "execution_count": 121,
   "metadata": {
    "colab": {},
    "colab_type": "code",
    "id": "uNozPh9w-XqP",
    "outputId": "a8169543-7676-4724-d678-21a973edb47e"
   },
   "outputs": [
    {
     "data": {
      "text/plain": [
       "{1: {'name': 'Australia', 'gold medals': 80},\n",
       " 2: {'name': 'England', 'gold medals': 45},\n",
       " 3: {'name': 'India', 'gold medals': 26},\n",
       " 5: {'name': 'New Zealand', 'gold medals': 15},\n",
       " 7: {'name': 'Wales', 'gold medals': 10},\n",
       " 8: {'name': 'Scotland', 'gold medals': 9}}"
      ]
     },
     "execution_count": 121,
     "metadata": {},
     "output_type": "execute_result"
    }
   ],
   "source": [
    "common_wealth_2018_dict"
   ]
  },
  {
   "cell_type": "markdown",
   "metadata": {
    "colab_type": "text",
    "id": "K5jr3Akk-XqU"
   },
   "source": [
    "**Q21 Now that common_wealth_2018_dict is ready, print the name of the country which is ranked 5th. **"
   ]
  },
  {
   "cell_type": "code",
   "execution_count": 124,
   "metadata": {
    "colab": {},
    "colab_type": "code",
    "id": "UMknG023-XqU"
   },
   "outputs": [
    {
     "data": {
      "text/plain": [
       "'New Zealand'"
      ]
     },
     "execution_count": 124,
     "metadata": {},
     "output_type": "execute_result"
    }
   ],
   "source": [
    "## START CODE HERE\n",
    "common_wealth_2018_dict[5]['name']\n",
    "\n",
    "## END CODE HERE"
   ]
  },
  {
   "cell_type": "markdown",
   "metadata": {
    "colab_type": "text",
    "id": "eg8OuYIA-XqY"
   },
   "source": [
    "<table>\n",
    "  <tr>\n",
    "  <td>**Expected Output:**<td>\n",
    "    <td>New Zealand</td>\n",
    "  </tr>\n",
    "</table>"
   ]
  },
  {
   "cell_type": "markdown",
   "metadata": {
    "colab_type": "text",
    "id": "f2w2xygM-XqZ"
   },
   "source": [
    "**Q22 Print the number of gold medals won by India.**"
   ]
  },
  {
   "cell_type": "code",
   "execution_count": 125,
   "metadata": {
    "colab": {},
    "colab_type": "code",
    "id": "GDtACHLY-XqZ"
   },
   "outputs": [
    {
     "data": {
      "text/plain": [
       "26"
      ]
     },
     "execution_count": 125,
     "metadata": {},
     "output_type": "execute_result"
    }
   ],
   "source": [
    "## START CODE HERE\n",
    "common_wealth_2018_dict[3]['gold medals']\n",
    "## END CODE HERE"
   ]
  },
  {
   "cell_type": "markdown",
   "metadata": {
    "colab_type": "text",
    "id": "QMI1bf0c-Xqd"
   },
   "source": [
    "<table>\n",
    "  <tr>\n",
    "  <td>**Expected Output:**<td>\n",
    "    <td>26</td>\n",
    "  </tr>\n",
    "</table>"
   ]
  },
  {
   "cell_type": "markdown",
   "metadata": {
    "colab_type": "text",
    "id": "IXpHM-vk-Xqe"
   },
   "source": [
    "**Q23 Print the details of the country ranked 7th.**"
   ]
  },
  {
   "cell_type": "code",
   "execution_count": 132,
   "metadata": {
    "colab": {},
    "colab_type": "code",
    "id": "NPBIYfrZ-Xqe"
   },
   "outputs": [
    {
     "data": {
      "text/plain": [
       "dict_values(['Wales', 10])"
      ]
     },
     "execution_count": 132,
     "metadata": {},
     "output_type": "execute_result"
    }
   ],
   "source": [
    "## START CODE HERE\n",
    "common_wealth_2018_dict[7].values()\n",
    "## END CODE HERE"
   ]
  },
  {
   "cell_type": "markdown",
   "metadata": {
    "colab_type": "text",
    "id": "YqLZAOME-Xqi"
   },
   "source": [
    "<table>\n",
    "  <tr>\n",
    "  <td>**Expected Output:**<td>\n",
    "    <td style=\"text-align:left;\">Wales\n",
    "<br>10</td>\n",
    "  </tr>\n",
    "</table>"
   ]
  },
  {
   "cell_type": "markdown",
   "metadata": {
    "colab_type": "text",
    "id": "ALpRmsSw-Xqj"
   },
   "source": [
    "# Sets"
   ]
  },
  {
   "cell_type": "markdown",
   "metadata": {
    "colab_type": "text",
    "id": "J37qaTYg-Xqj"
   },
   "source": [
    "We have provided you with 3 sets Python, R , SAS which contains the names of students who have taken the course for those subjects."
   ]
  },
  {
   "cell_type": "code",
   "execution_count": 135,
   "metadata": {
    "colab": {},
    "colab_type": "code",
    "id": "wc3T_ZZK-Xqk"
   },
   "outputs": [],
   "source": [
    "Python = {\"Ashok\", \"Amit\", \"Ankit\", \"Rajesh\", \"David\", \"Zakir\", \"Naina\", \"Saina\"}\n",
    "R = {\"Akanksha\", \"Ankit\", \"Aarti\", \"Manish\", \"Naina\", \"Amit\"}\n",
    "SAS = {\"Naresh\", \"Ankit\", \"Ravi\", \"David\", \"Zakir\", \"Lokesh\", \"Manish\"}"
   ]
  },
  {
   "cell_type": "markdown",
   "metadata": {
    "colab_type": "text",
    "id": "w1Ocmwq6-Xqo"
   },
   "source": [
    "**Q24 A new student \"Nandini\" has decided to enroll for Python and SAS courses.\n",
    "<br> Add her name to both the sets and print the sets.**"
   ]
  },
  {
   "cell_type": "code",
   "execution_count": 147,
   "metadata": {
    "colab": {},
    "colab_type": "code",
    "id": "lv07rj2e-Xqp"
   },
   "outputs": [
    {
     "name": "stdout",
     "output_type": "stream",
     "text": [
      "{'Zakir', 'Ashok', 'Nandini', 'Ankit', 'David', 'Amit', 'Naina', 'Rajesh', 'Saina'}\n",
      "{'Naresh', 'Zakir', 'Ravi', 'Nandini', 'David', 'Lokesh', 'Manish', 'Ankit'}\n"
     ]
    }
   ],
   "source": [
    "## START CODE HERE\n",
    "Python.add('Nandini')\n",
    "SAS.add('Nandini')\n",
    "print(Python)\n",
    "print(SAS)\n",
    "## END CODE HERE"
   ]
  },
  {
   "cell_type": "markdown",
   "metadata": {
    "colab_type": "text",
    "id": "74oRrLsZ-Xqv"
   },
   "source": [
    "<table>\n",
    "  <tr>\n",
    "  <td>**Expected Output:**<td>\n",
    "    <td style=\"text-align:left;\">{'Amit', 'Naina', 'Ankit', 'Zakir', 'Rajesh', 'Nandini', 'Ashok', 'David', 'Saina'}\n",
    "<br>{'Ankit', 'Zakir', 'Ravi', 'Nandini', 'Naresh', 'David', 'Manish', 'Lokesh'}</td>\n",
    "  </tr>\n",
    "</table>"
   ]
  },
  {
   "cell_type": "markdown",
   "metadata": {
    "colab_type": "text",
    "id": "FLLcZs-j-Xqw"
   },
   "source": [
    "**Q25 Lokesh has decided to leave the SAS course.\n",
    "<br> Remove his name from the set and then print it.**"
   ]
  },
  {
   "cell_type": "code",
   "execution_count": 153,
   "metadata": {
    "colab": {},
    "colab_type": "code",
    "id": "NgnM2nta-Xqw"
   },
   "outputs": [
    {
     "data": {
      "text/plain": [
       "{'Ankit', 'David', 'Manish', 'Nandini', 'Naresh', 'Ravi', 'Zakir'}"
      ]
     },
     "execution_count": 153,
     "metadata": {},
     "output_type": "execute_result"
    }
   ],
   "source": [
    "## START CODE HERE\n",
    "#SAS.remove('Lokesh')\n",
    "SAS\n",
    "## END CODE HERE"
   ]
  },
  {
   "cell_type": "markdown",
   "metadata": {
    "colab_type": "text",
    "id": "2eHol--0-Xq6"
   },
   "source": [
    "<table>\n",
    "  <tr>\n",
    "  <td>**Expected Output:**<td>\n",
    "    <td>{'Ankit', 'Zakir', 'Ravi', 'Nandini', 'Naresh', 'David', 'Manish'}</td>\n",
    "  </tr>\n",
    "</table>"
   ]
  },
  {
   "cell_type": "markdown",
   "metadata": {
    "colab_type": "text",
    "id": "QOfpB6dV-Xq7"
   },
   "source": [
    "All the questions from now, have one line solution"
   ]
  },
  {
   "cell_type": "markdown",
   "metadata": {
    "colab_type": "text",
    "id": "JroHE455-Xq8"
   },
   "source": [
    "**Q26 Print the names of all students from all courses.\n",
    "<br>TIP: Try to do it in one line code using '|' operator**"
   ]
  },
  {
   "cell_type": "code",
   "execution_count": 154,
   "metadata": {
    "colab": {},
    "colab_type": "code",
    "id": "eQmpU1Gp-Xq9"
   },
   "outputs": [
    {
     "data": {
      "text/plain": [
       "{'Amit',\n",
       " 'Ankit',\n",
       " 'Ashok',\n",
       " 'David',\n",
       " 'Manish',\n",
       " 'Naina',\n",
       " 'Nandini',\n",
       " 'Naresh',\n",
       " 'Rajesh',\n",
       " 'Ravi',\n",
       " 'Saina',\n",
       " 'Zakir'}"
      ]
     },
     "execution_count": 154,
     "metadata": {},
     "output_type": "execute_result"
    }
   ],
   "source": [
    "## START CODE HERE\n",
    "Python | SAS\n",
    "## END CODE HERE"
   ]
  },
  {
   "cell_type": "markdown",
   "metadata": {
    "colab_type": "text",
    "id": "DRpKZQiC-XrC"
   },
   "source": [
    "<table>\n",
    "  <tr>\n",
    "  <td>**Expected Output:**<td>\n",
    "    <td>{'Amit', 'Naina', 'Ankit', 'Rajesh', 'Ashok', 'Aarti', 'Saina', 'Manish', 'Akanksha', 'Zakir', 'Ravi', 'Nandini', 'Naresh', 'David'}</td>\n",
    "  </tr>\n",
    "</table>"
   ]
  },
  {
   "cell_type": "markdown",
   "metadata": {
    "colab_type": "text",
    "id": "AV7NOyFf-XrD"
   },
   "source": [
    "**Q27 Print the names of students who are taking all three courses together. (In simple words, the names which are common in all three sets)**"
   ]
  },
  {
   "cell_type": "code",
   "execution_count": 155,
   "metadata": {
    "colab": {},
    "colab_type": "code",
    "id": "RwBpE2L3-XrE"
   },
   "outputs": [
    {
     "data": {
      "text/plain": [
       "{'Ankit'}"
      ]
     },
     "execution_count": 155,
     "metadata": {},
     "output_type": "execute_result"
    }
   ],
   "source": [
    "## START CODE HERE\n",
    "Python & R & SAS\n",
    "\n",
    "## END CODE HERE"
   ]
  },
  {
   "cell_type": "markdown",
   "metadata": {
    "colab_type": "text",
    "id": "aPrGAk59-XrI"
   },
   "source": [
    "<table>\n",
    "  <tr>\n",
    "  <td>**Expected Output:**<td>\n",
    "    <td>{'Ankit'}</td>\n",
    "  </tr>\n",
    "</table>"
   ]
  },
  {
   "cell_type": "markdown",
   "metadata": {
    "colab_type": "text",
    "id": "WTz_Cd5G-XrJ"
   },
   "source": [
    "**Q28 Print the names of students who are taking Python course but not the R and SAS courses. (In simple words, the names which are present in Python set but not in R and SAS sets) **"
   ]
  },
  {
   "cell_type": "code",
   "execution_count": 156,
   "metadata": {
    "colab": {},
    "colab_type": "code",
    "id": "DMAaXNy3-XrK"
   },
   "outputs": [
    {
     "data": {
      "text/plain": [
       "{'Ashok', 'Rajesh', 'Saina'}"
      ]
     },
     "execution_count": 156,
     "metadata": {},
     "output_type": "execute_result"
    }
   ],
   "source": [
    "## START CODE HERE\n",
    "Python-(R|SAS)\n",
    "\n",
    "## END CODE HERE"
   ]
  },
  {
   "cell_type": "markdown",
   "metadata": {
    "colab_type": "text",
    "id": "NDweftcr-XrP"
   },
   "source": [
    "<table>\n",
    "  <tr>\n",
    "  <td>**Expected Output:**<td>\n",
    "    <td>{'Saina', 'Rajesh', 'Ashok'}</td>\n",
    "  </tr>\n",
    "</table>"
   ]
  },
  {
   "cell_type": "markdown",
   "metadata": {
    "colab_type": "text",
    "id": "_-IEVJ3t-XrQ"
   },
   "source": [
    "**Q29 Print the names of students who are taking only Python course or only R course or only course. (In simple words, the names which are not common to any combination of given sets) \n",
    "<br> For eg. Saina is taking only the Python course and no other course.**"
   ]
  },
  {
   "cell_type": "code",
   "execution_count": 157,
   "metadata": {
    "colab": {},
    "colab_type": "code",
    "id": "9jx2Y7dI-XrR"
   },
   "outputs": [
    {
     "data": {
      "text/plain": [
       "{'Aarti', 'Akanksha', 'Ankit', 'Ashok', 'Naresh', 'Rajesh', 'Ravi', 'Saina'}"
      ]
     },
     "execution_count": 157,
     "metadata": {},
     "output_type": "execute_result"
    }
   ],
   "source": [
    "## START CODE HERE\n",
    "Python ^ R ^ SAS\n",
    "\n",
    "## END CODE HERE"
   ]
  },
  {
   "cell_type": "markdown",
   "metadata": {
    "colab_type": "text",
    "id": "2O7QVeoJ-XrY"
   },
   "source": [
    "<table>\n",
    "  <tr>\n",
    "  <td>**Expected Output:**<td>\n",
    "    <td>{'Ankit', 'Ravi', 'Rajesh', 'Naresh', 'Ashok', 'Aarti', 'Saina', 'Akanksha'}</td>\n",
    "  </tr>\n",
    "</table>"
   ]
  },
  {
   "cell_type": "markdown",
   "metadata": {
    "colab_type": "text",
    "id": "h_ahLKjD-XrY"
   },
   "source": [
    "# Congratulations\n",
    "\n",
    "You are through the third assignment of the Basic Python Programming Course.\n",
    "<br> This chapter was the most important part of the course, this will help you a lot in your data science career.  \n",
    "Further in the course we'll try to enhance your knowledge and understanding of compound datatypes and also learn various access techniques. \n",
    "<br>Buckle up!\n",
    "<br>You are doing very well.\n",
    "<br>See you in the next chapter."
   ]
  }
 ],
 "metadata": {
  "colab": {
   "collapsed_sections": [
    "E7kw9FMG-Xlr",
    "QjXYA3Uc-XpV",
    "is1s3Uu2-XqJ",
    "ALpRmsSw-Xqj",
    "h_ahLKjD-XrY"
   ],
   "name": "Compound_Data_Types_Assignment.ipynb",
   "provenance": []
  },
  "kernelspec": {
   "display_name": "Python 3",
   "language": "python",
   "name": "python3"
  },
  "language_info": {
   "codemirror_mode": {
    "name": "ipython",
    "version": 3
   },
   "file_extension": ".py",
   "mimetype": "text/x-python",
   "name": "python",
   "nbconvert_exporter": "python",
   "pygments_lexer": "ipython3",
   "version": "3.8.3"
  }
 },
 "nbformat": 4,
 "nbformat_minor": 1
}
